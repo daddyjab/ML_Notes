{
 "cells": [
  {
   "cell_type": "markdown",
   "metadata": {},
   "source": [
    "# Cross-Validation using Decision Trees and Logistic Regression (with Scaling)"
   ]
  },
  {
   "cell_type": "markdown",
   "metadata": {},
   "source": [
    "This Jupyter Notebook uses cross-validation for evaluation of model performing, using 2 Machine Learning Classification Models: Decision Tree and Logistic Regression (with scaling applied to the input data).\n",
    "\n",
    "## Approach\n",
    "* Evaluations of classification performed were performed using 2 sample datasets:\n",
    "    * sklearn's Iris sample dataset, consisting of 150 sample data points for 3 varieties of iris flowers\n",
    "    * voice dataset, containing 3168 sample data points of male and female speakers\n",
    "\n",
    "* Performance was evaluated based upon:\n",
    "    * Classification model score for the test data\n",
    "    * Time required to fit the model with training data\n",
    "    \n",
    "* For each Classification model, evaluations were performed with tuning of key parameters:\n",
    "    * Decision Tree: Maximum Tree Depth\n",
    "    * Logistic Regression: Solver algorithm\n",
    "    \n",
    "## Results\n",
    "* Refer to the Figure and Table of Evaluation results provided below\n",
    "* Both Decision Tree and Logistic Regression models performed well for both the Iris and Voice datasets, with Decision Tree show a significant decrease in performance only when Maximum Tree Depth was severely restricted.\n",
    "* For these datasets, the Decision Tree classifier model fit the data more quickly than the Logistic Regression classifier for comparable performance levels.\n",
    "* The Decision Tree classifier showed significant degradation in performance when Maximum Tree Depth was restricted when using the Iris dataset (4 features, 1 output with 3 classes), but showed almost no degradation in performance with Max Tree Depth restricted when using the Voice dataset (20 features, 1 output with 2 classes).  This classifier required much more fit time with the Voice dataset vs. the Iris dataset.  An examination of decision trees generated for each dataset might provide insight on these observations.\n",
    "* The Logistic Regression classifier required more fit time than all but the slowest tests with the Decision Tree classifier.  The fastest Fit Time was obtained using lbfgs solver for the Iris dataset and liblinear solver for the Voice dataset.  Investigating the algorithmic differences in these solvers may provide some explanation of both the fit time differences."
   ]
  },
  {
   "cell_type": "markdown",
   "metadata": {},
   "source": [
    "\n",
    "| Figure: Cross-Validation Scoring for Decision Tree and Logistic Regression |\n",
    "| :----------: |\n",
    "| ![Figure: Cross-Validation Scoring for Decision Tree and Logistic Regression is Loading...](docs/Figure-Cross_Validation_Comparison_DecisionTree_and_LogisticRegression.png \"Figure: Cross-Validation Scoring for Decision Tree and Logistic Regression\") |\n",
    "\n",
    "| Table: Cross-Validation Scoring for Decision Tree and Logistic Regression |\n",
    "| :----------: |\n",
    "| ![Table: Cross-Validation Model Performance for Decision Tree and Logistic Regression is Loading...](docs/Table-Cross_Validation_Comparison_DecisionTree_and_LogisticRegression.png \"Table: Cross-Validation Scoring for Decision Tree and Logistic Regression\") |\n"
   ]
  },
  {
   "cell_type": "markdown",
   "metadata": {},
   "source": [
    "# Dependencies"
   ]
  },
  {
   "cell_type": "code",
   "execution_count": 1,
   "metadata": {
    "nbpresent": {
     "id": "828c2e12-b1c6-4994-8f55-ce86373b6c97"
    },
    "scrolled": true,
    "slideshow": {
     "slide_type": "fragment"
    }
   },
   "outputs": [
    {
     "name": "stderr",
     "output_type": "stream",
     "text": [
      "C:\\Users\\Jeff\\AppData\\Local\\conda\\conda\\envs\\PythonData\\lib\\site-packages\\sklearn\\ensemble\\weight_boosting.py:29: DeprecationWarning: numpy.core.umath_tests is an internal NumPy module and should not be imported. It will be removed in a future NumPy release.\n",
      "  from numpy.core.umath_tests import inner1d\n"
     ]
    }
   ],
   "source": [
    "%matplotlib inline\n",
    "# %matplotlib notebook\n",
    "import matplotlib.pyplot as plt\n",
    "from mpl_toolkits.mplot3d import Axes3D    # Support 3D graphing\n",
    "\n",
    "import numpy as np\n",
    "import pandas as pd\n",
    "import math\n",
    "\n",
    "from pprint import pprint\n",
    "\n",
    "# Visualization\n",
    "import graphviz\n",
    "import pydotplus\n",
    "\n",
    "# Machine Learning - Linear Models - Regression\n",
    "from sklearn.linear_model import LinearRegression  # TBD\n",
    "from sklearn.linear_model import Lasso             # TBD\n",
    "from sklearn.linear_model import Ridge             # TBD\n",
    "from sklearn.linear_model import ElasticNet        # TBD\n",
    "\n",
    "# Machine Learning - Linear Models - Classification\n",
    "from sklearn.linear_model import LogisticRegression   # Linear model for classification\n",
    "\n",
    "# Machine Learning - Decision Trees and Random Forests - Classification\n",
    "from sklearn import tree                             # Decision Tree Classifer\n",
    "from sklearn.ensemble import RandomForestClassifier  # Random Forest Classifer\n",
    "\n",
    "# Machine Learning - Data Preparation and Pre-Processing\n",
    "from sklearn.model_selection import train_test_split # Split data into training and testing samples\n",
    "from sklearn.model_selection import cross_val_score  # Score a model using k-fold or other cross validation\n",
    "\n",
    "from sklearn.preprocessing import OneHotEncoder   # Convert categorical integer features (X) to One-Hot encoded values\n",
    "from sklearn.preprocessing import LabelEncoder    # Convert categorical labeled values to categorical integer values\n",
    "from sklearn.preprocessing import LabelBinarizer  # Convert categorical labeled values to Binary encoded values\n",
    "\n",
    "from sklearn.preprocessing import StandardScaler  # Scale numerical features to standard normal distribution\n",
    "from sklearn.preprocessing import MinMaxScaler    # Scale numerical values based upon mix/max values\n",
    "\n",
    "# Machine Learning - Quantify Model Performance\n",
    "from sklearn.metrics import mean_squared_error   # Mean Squared Error (MSE) metric\n",
    "from sklearn.metrics import r2_score             # R-squared (Coefficient of Determination) metric\n",
    "from sklearn.metrics import confusion_matrix     # Generate a confusion matrix (actual vs. predicted counts)\n",
    "\n",
    "# Machine Learning - Dataset Generation\n",
    "from sklearn.datasets import make_regression     # Generate linear data\n",
    "from sklearn.datasets import make_s_curve        # Generate nonlinear data\n",
    "from sklearn.datasets import make_blobs          # Generate blobs for classification\n",
    "from sklearn.datasets import make_circles        # Generate circles for classification\n",
    "from sklearn.datasets import load_iris           # Sample multi-class dataset for classification"
   ]
  },
  {
   "cell_type": "code",
   "execution_count": null,
   "metadata": {},
   "outputs": [],
   "source": []
  },
  {
   "cell_type": "markdown",
   "metadata": {},
   "source": [
    "# Cross-Validation using Decision Trees and Logistic Regression (with Scaling)"
   ]
  },
  {
   "cell_type": "code",
   "execution_count": null,
   "metadata": {},
   "outputs": [],
   "source": []
  },
  {
   "cell_type": "markdown",
   "metadata": {},
   "source": [
    "# Iris Dataset"
   ]
  },
  {
   "cell_type": "code",
   "execution_count": 2,
   "metadata": {},
   "outputs": [
    {
     "name": "stdout",
     "output_type": "stream",
     "text": [
      "Iris dict_keys(['data', 'target', 'target_names', 'DESCR', 'feature_names'])\n",
      "Feature Names: ['sepal length (cm)', 'sepal width (cm)', 'petal length (cm)', 'petal width (cm)']\n",
      "Target Names: ['setosa' 'versicolor' 'virginica']\n"
     ]
    }
   ],
   "source": [
    "# Import the Iris sample dataset as a dictionary\n",
    "iris = load_iris()\n",
    "\n",
    "print( f\"Iris {iris.keys()}\" )\n",
    "print( f\"Feature Names: {iris.feature_names}\" )\n",
    "print( f\"Target Names: {iris.target_names}\" )"
   ]
  },
  {
   "cell_type": "code",
   "execution_count": 3,
   "metadata": {},
   "outputs": [
    {
     "name": "stdout",
     "output_type": "stream",
     "text": [
      "(150, 4) (150,)\n"
     ]
    }
   ],
   "source": [
    "# Assign data and target variables\n",
    "X = iris.data\n",
    "y = iris.target\n",
    "print( X.shape, y.shape )"
   ]
  },
  {
   "cell_type": "code",
   "execution_count": 4,
   "metadata": {},
   "outputs": [],
   "source": [
    "# Split the data using train_test_split\n",
    "X_train, X_test, y_train, y_test = train_test_split(X, y, random_state=1, stratify=y)"
   ]
  },
  {
   "cell_type": "code",
   "execution_count": 5,
   "metadata": {},
   "outputs": [
    {
     "name": "stdout",
     "output_type": "stream",
     "text": [
      "(112, 1) (38, 1)\n"
     ]
    }
   ],
   "source": [
    "# Reshape the outputs to provide a N by 1 vector (vs. array of size N)\n",
    "y_train = y_train.reshape(-1,1)\n",
    "y_test = y_test.reshape(-1,1)\n",
    "print(y_train.shape, y_test.shape)"
   ]
  },
  {
   "cell_type": "code",
   "execution_count": 6,
   "metadata": {},
   "outputs": [
    {
     "name": "stderr",
     "output_type": "stream",
     "text": [
      "C:\\Users\\Jeff\\AppData\\Local\\conda\\conda\\envs\\PythonData\\lib\\site-packages\\sklearn\\utils\\validation.py:475: DataConversionWarning: Data with input dtype int32 was converted to float64 by StandardScaler.\n",
      "  warnings.warn(msg, DataConversionWarning)\n"
     ]
    }
   ],
   "source": [
    "# Use the training data to create a scaler to standard normal distributions for each numerical feature and output\n",
    "X_scaler = StandardScaler().fit(X_train)\n",
    "y_scaler = StandardScaler().fit(y_train)"
   ]
  },
  {
   "cell_type": "code",
   "execution_count": 7,
   "metadata": {},
   "outputs": [
    {
     "name": "stderr",
     "output_type": "stream",
     "text": [
      "C:\\Users\\Jeff\\AppData\\Local\\conda\\conda\\envs\\PythonData\\lib\\site-packages\\sklearn\\utils\\validation.py:475: DataConversionWarning: Data with input dtype int32 was converted to float64 by StandardScaler.\n",
      "  warnings.warn(msg, DataConversionWarning)\n"
     ]
    }
   ],
   "source": [
    "# Scale the training and test data\n",
    "X_train_scaled = X_scaler.transform(X_train)\n",
    "X_test_scaled = X_scaler.transform(X_test)\n",
    "\n",
    "y_train_scaled = y_scaler.transform(y_train)\n",
    "y_test_scaled = y_scaler.transform(y_test)"
   ]
  },
  {
   "cell_type": "markdown",
   "metadata": {},
   "source": [
    "### Function to Fit Model, Evaluate Performance - Iris Dataset"
   ]
  },
  {
   "cell_type": "code",
   "execution_count": 8,
   "metadata": {},
   "outputs": [],
   "source": [
    "# Function to fit a model to training data, calculate predictions, and create a residuals chart\n",
    "def eval_classifier(a_model):\n",
    "    # Get the model information\n",
    "    m_info = str(a_model)\n",
    "    \n",
    "    # Get the name of this model\n",
    "    m_name = m_info.split(\"(\",1)[0]\n",
    "    \n",
    "    # Get the solver -- if this is supported with this model (e.g., LinearRegression)\n",
    "    m_solver = None\n",
    "    if m_info.find(\"solver=\") > 0:\n",
    "\n",
    "        # Get the maximum tree depth used with this model\n",
    "        m_solver = m_info.split(\"solver=\")[1].split(\",\")[0].replace(\"'\",\"\").replace('\"','')\n",
    "\n",
    "    # Get max_depth -- if this is supported with this model (e.g., DecisionTree)\n",
    "    m_max_depth = None\n",
    "    if m_info.find(\"max_depth=\") > 0:\n",
    "\n",
    "        # Get the maximum tree depth used with this model\n",
    "        m_max_depth = m_info.split(\"max_depth=\")[1].split(\",\")[0].replace(\"'\",\"\").replace('\"','')\n",
    "    \n",
    "    # Print a separator\n",
    "    print(\"*\"*80)\n",
    "\n",
    "    # Print the model attributes\n",
    "    print(a_model)\n",
    "    \n",
    "    # Fit the data to the scaled data\n",
    "    m_fit_time = %timeit -n1 -r1 -o a_model.fit(X_train_scaled, y_train.reshape(-1))\n",
    "\n",
    "    # Calculate Model performance: MSE and R2\n",
    "    m_score_test = a_model.score(X_test_scaled, y_test)\n",
    "    m_score_train = a_model.score(X_train_scaled, y_train)\n",
    "\n",
    "    # Post-Fit Info: # of Iterations required to fit the model - if it is supported by this model\n",
    "    try:\n",
    "        m_n_iter = a_model.n_iter_\n",
    "        \n",
    "    except:\n",
    "        m_n_iter = None\n",
    "\n",
    "    try:\n",
    "        m_tot_n_iter = sum(m_n_iter)\n",
    "        \n",
    "    except:\n",
    "        m_tot_n_iter = None\n",
    "                  \n",
    "    # Post-Fit Info: Linear coefficients and y-intercept - if it is supported by this model\n",
    "    try:\n",
    "        m_coef = a_model.ceof_\n",
    "        m_intercept = a_model.intercept_\n",
    "        \n",
    "    except:\n",
    "        m_coef = None\n",
    "        m_intercept = None\n",
    "\n",
    "    print(f\"\\nModel: {m_name}, Solver: {m_solver}, Iterations: {m_tot_n_iter} [{m_n_iter}], Max Depth: {m_max_depth}\")\n",
    "    print(f\"Score - Test Data: {m_score_test}, Training Data: {m_score_train}\")\n",
    "    print(f\"Fit Attributes - coef_: {m_coef}, intercept_: {m_intercept}\")\n",
    "    \n",
    "    # Make predictions using both test and training data\n",
    "    y_predicted_test = a_model.predict(X_test_scaled)\n",
    "    y_predicted_train = a_model.predict(X_train_scaled)\n",
    "    \n",
    "    # Generate a confusion matrix of the results for both test and training data\n",
    "    cm_test = confusion_matrix(y_test, a_model.predict(X_test_scaled))\n",
    "    print(\"\\nConfusion Matrix - Testing Data\")\n",
    "    print(cm_test)\n",
    "\n",
    "    cm_train = confusion_matrix(y_train, a_model.predict(X_train_scaled))\n",
    "    print(\"\\nConfusion Matrix - Training Data\")\n",
    "    print(cm_train)\n",
    "    \n",
    "    # Feature Importances\n",
    "    try:\n",
    "        f_impt_df = pd.DataFrame(\n",
    "                    { 'factor': iris.feature_names, 'importance': classifier.feature_importances_ }) \\\n",
    "                    .sort_values(by='importance', ascending=False)\n",
    "            \n",
    "        print(\"\\nFeature Importances\")\n",
    "        print(f_impt_df[['factor', 'importance']])\n",
    "        \n",
    "    except:\n",
    "        pass\n",
    "    \n",
    "    # Return the -results\n",
    "    a_result = {\n",
    "        'model': m_name,\n",
    "        'score_test': m_score_test,\n",
    "        'score_train': m_score_train,\n",
    "        'solver': m_solver,\n",
    "        'n_iter': m_n_iter,\n",
    "        'tot_n_iter': m_tot_n_iter,\n",
    "        'max_depth': m_max_depth,\n",
    "        'coef': m_coef,\n",
    "        'intercept': m_intercept,\n",
    "        'fit_time': m_fit_time.average,\n",
    "        'fit_time_TimeitResult': m_fit_time\n",
    "    }\n",
    "    \n",
    "    return a_result"
   ]
  },
  {
   "cell_type": "markdown",
   "metadata": {},
   "source": [
    "## Classification Model: Logistic Regression - Iris Dataset"
   ]
  },
  {
   "cell_type": "markdown",
   "metadata": {},
   "source": [
    "### Logistic Regression: Iterate Model Parameter - Solver - Iris Dataset"
   ]
  },
  {
   "cell_type": "code",
   "execution_count": 9,
   "metadata": {
    "scrolled": true
   },
   "outputs": [
    {
     "name": "stdout",
     "output_type": "stream",
     "text": [
      "********************************************************************************\n",
      "LogisticRegression(C=1.0, class_weight=None, dual=False, fit_intercept=True,\n",
      "          intercept_scaling=1, max_iter=1000, multi_class='ovr', n_jobs=1,\n",
      "          penalty='l2', random_state=None, solver='liblinear', tol=0.0001,\n",
      "          verbose=0, warm_start=False)\n",
      "25.3 ms ± 0 ns per loop (mean ± std. dev. of 1 run, 1 loop each)\n",
      "\n",
      "Model: LogisticRegression, Solver: liblinear, Iterations: 6 [[6]], Max Depth: None\n",
      "Score - Test Data: 0.8947368421052632, Training Data: 0.9017857142857143\n",
      "Fit Attributes - coef_: None, intercept_: None\n",
      "\n",
      "Confusion Matrix - Testing Data\n",
      "[[12  0  0]\n",
      " [ 0 10  3]\n",
      " [ 0  1 12]]\n",
      "\n",
      "Confusion Matrix - Training Data\n",
      "[[37  1  0]\n",
      " [ 0 30  7]\n",
      " [ 0  3 34]]\n",
      "\n",
      "********************************************************************************\n",
      "LogisticRegression(C=1.0, class_weight=None, dual=False, fit_intercept=True,\n",
      "          intercept_scaling=1, max_iter=1000, multi_class='ovr', n_jobs=1,\n",
      "          penalty='l2', random_state=None, solver='newton-cg', tol=0.0001,\n",
      "          verbose=0, warm_start=False)\n",
      "14.6 ms ± 0 ns per loop (mean ± std. dev. of 1 run, 1 loop each)\n",
      "\n",
      "Model: LogisticRegression, Solver: newton-cg, Iterations: 25 [[10  7  8]], Max Depth: None\n",
      "Score - Test Data: 0.9473684210526315, Training Data: 0.9107142857142857\n",
      "Fit Attributes - coef_: None, intercept_: None\n",
      "\n",
      "Confusion Matrix - Testing Data\n",
      "[[12  0  0]\n",
      " [ 0 12  1]\n",
      " [ 0  1 12]]\n",
      "\n",
      "Confusion Matrix - Training Data\n",
      "[[38  0  0]\n",
      " [ 0 30  7]\n",
      " [ 0  3 34]]\n",
      "\n",
      "********************************************************************************\n",
      "LogisticRegression(C=1.0, class_weight=None, dual=False, fit_intercept=True,\n",
      "          intercept_scaling=1, max_iter=1000, multi_class='ovr', n_jobs=1,\n",
      "          penalty='l2', random_state=None, solver='lbfgs', tol=0.0001,\n",
      "          verbose=0, warm_start=False)\n",
      "7.68 ms ± 0 ns per loop (mean ± std. dev. of 1 run, 1 loop each)\n",
      "\n",
      "Model: LogisticRegression, Solver: lbfgs, Iterations: 42 [[13 14 15]], Max Depth: None\n",
      "Score - Test Data: 0.9473684210526315, Training Data: 0.9107142857142857\n",
      "Fit Attributes - coef_: None, intercept_: None\n",
      "\n",
      "Confusion Matrix - Testing Data\n",
      "[[12  0  0]\n",
      " [ 0 12  1]\n",
      " [ 0  1 12]]\n",
      "\n",
      "Confusion Matrix - Training Data\n",
      "[[38  0  0]\n",
      " [ 0 30  7]\n",
      " [ 0  3 34]]\n",
      "\n",
      "********************************************************************************\n",
      "LogisticRegression(C=1.0, class_weight=None, dual=False, fit_intercept=True,\n",
      "          intercept_scaling=1, max_iter=1000, multi_class='ovr', n_jobs=1,\n",
      "          penalty='l2', random_state=None, solver='sag', tol=0.0001,\n",
      "          verbose=0, warm_start=False)\n",
      "4.88 ms ± 0 ns per loop (mean ± std. dev. of 1 run, 1 loop each)\n",
      "\n",
      "Model: LogisticRegression, Solver: sag, Iterations: 64 [[22 24 18]], Max Depth: None\n",
      "Score - Test Data: 0.9473684210526315, Training Data: 0.9107142857142857\n",
      "Fit Attributes - coef_: None, intercept_: None\n",
      "\n",
      "Confusion Matrix - Testing Data\n",
      "[[12  0  0]\n",
      " [ 0 12  1]\n",
      " [ 0  1 12]]\n",
      "\n",
      "Confusion Matrix - Training Data\n",
      "[[38  0  0]\n",
      " [ 0 30  7]\n",
      " [ 0  3 34]]\n",
      "\n",
      "********************************************************************************\n",
      "LogisticRegression(C=1.0, class_weight=None, dual=False, fit_intercept=True,\n",
      "          intercept_scaling=1, max_iter=1000, multi_class='ovr', n_jobs=1,\n",
      "          penalty='l2', random_state=None, solver='saga', tol=0.0001,\n",
      "          verbose=0, warm_start=False)\n",
      "8.68 ms ± 0 ns per loop (mean ± std. dev. of 1 run, 1 loop each)\n",
      "\n",
      "Model: LogisticRegression, Solver: saga, Iterations: 141 [[45 42 54]], Max Depth: None\n",
      "Score - Test Data: 0.9473684210526315, Training Data: 0.9107142857142857\n",
      "Fit Attributes - coef_: None, intercept_: None\n",
      "\n",
      "Confusion Matrix - Testing Data\n",
      "[[12  0  0]\n",
      " [ 0 12  1]\n",
      " [ 0  1 12]]\n",
      "\n",
      "Confusion Matrix - Training Data\n",
      "[[38  0  0]\n",
      " [ 0 30  7]\n",
      " [ 0  3 34]]\n",
      "\n"
     ]
    }
   ],
   "source": [
    "# Initialize list of dictionary of results for summary in a dataframe later\n",
    "model_results = []\n",
    "\n",
    "# List of Solvers to use with LogisticRegression model\n",
    "solver_list = \"liblinear\", \"newton-cg\", \"lbfgs\", \"sag\", \"saga\"\n",
    "\n",
    "# Generate classifer and an associated performance report for each\n",
    "for s in solver_list:\n",
    "    # Create a classifier model\n",
    "    classifier = LogisticRegression(solver=s, n_jobs=1, max_iter=1000)\n",
    "    \n",
    "    # Evaluate the classifer performance, create a plot\n",
    "\n",
    "#     r = eval_logisticregression_iris_scaled(classifier)\n",
    "\n",
    "#     model_results.append( {\n",
    "#         'Dataset': 'Iris',\n",
    "#         'Classifier': r['model'],\n",
    "#         'Solver': r['solver'],\n",
    "#         'Fit Time (ms)': 1000.0*r['fit_time'],\n",
    "#         'Iterations': r['n_iter'],\n",
    "#         'Total Iterations': sum(r['n_iter']),\n",
    "#         'Score-Testing Data': r['score_test'],\n",
    "#         'Score-Training Data': r['score_train']\n",
    "#         } )\n",
    "    \n",
    "    r = eval_classifier(classifier)\n",
    "    \n",
    "    model_results.append( {\n",
    "        'Dataset': 'Iris',\n",
    "        'Classifier': r['model'],\n",
    "        'Solver': r['solver'],\n",
    "        'Iterations': r['n_iter'],\n",
    "        'Total Iterations': r['tot_n_iter'],\n",
    "        'Max Tree Depth': r['max_depth'],\n",
    "        'Score-Testing Data': r['score_test'],\n",
    "        'Score-Training Data': r['score_train'],\n",
    "        'Fit Time (ms)': 1000.0*r['fit_time'],\n",
    "        'Coefficients': r['coef'],\n",
    "        'Intercept': r['intercept']\n",
    "        } )\n",
    "    \n",
    "    print(\"\")"
   ]
  },
  {
   "cell_type": "markdown",
   "metadata": {},
   "source": [
    "### Logistic Regression: Summary - Iris Dataset"
   ]
  },
  {
   "cell_type": "code",
   "execution_count": 10,
   "metadata": {},
   "outputs": [
    {
     "data": {
      "text/html": [
       "<div>\n",
       "<style scoped>\n",
       "    .dataframe tbody tr th:only-of-type {\n",
       "        vertical-align: middle;\n",
       "    }\n",
       "\n",
       "    .dataframe tbody tr th {\n",
       "        vertical-align: top;\n",
       "    }\n",
       "\n",
       "    .dataframe thead th {\n",
       "        text-align: right;\n",
       "    }\n",
       "</style>\n",
       "<table border=\"1\" class=\"dataframe\">\n",
       "  <thead>\n",
       "    <tr style=\"text-align: right;\">\n",
       "      <th></th>\n",
       "      <th>Dataset</th>\n",
       "      <th>Classifier</th>\n",
       "      <th>Solver</th>\n",
       "      <th>Iterations</th>\n",
       "      <th>Total Iterations</th>\n",
       "      <th>Max Tree Depth</th>\n",
       "      <th>Fit Time (ms)</th>\n",
       "      <th>Score-Testing Data</th>\n",
       "      <th>Score-Training Data</th>\n",
       "    </tr>\n",
       "  </thead>\n",
       "  <tbody>\n",
       "    <tr>\n",
       "      <th>0</th>\n",
       "      <td>Iris</td>\n",
       "      <td>LogisticRegression</td>\n",
       "      <td>liblinear</td>\n",
       "      <td>[6]</td>\n",
       "      <td>6</td>\n",
       "      <td>None</td>\n",
       "      <td>25.3302</td>\n",
       "      <td>0.894737</td>\n",
       "      <td>0.901786</td>\n",
       "    </tr>\n",
       "    <tr>\n",
       "      <th>1</th>\n",
       "      <td>Iris</td>\n",
       "      <td>LogisticRegression</td>\n",
       "      <td>newton-cg</td>\n",
       "      <td>[10, 7, 8]</td>\n",
       "      <td>25</td>\n",
       "      <td>None</td>\n",
       "      <td>14.6039</td>\n",
       "      <td>0.947368</td>\n",
       "      <td>0.910714</td>\n",
       "    </tr>\n",
       "    <tr>\n",
       "      <th>2</th>\n",
       "      <td>Iris</td>\n",
       "      <td>LogisticRegression</td>\n",
       "      <td>lbfgs</td>\n",
       "      <td>[13, 14, 15]</td>\n",
       "      <td>42</td>\n",
       "      <td>None</td>\n",
       "      <td>7.6848</td>\n",
       "      <td>0.947368</td>\n",
       "      <td>0.910714</td>\n",
       "    </tr>\n",
       "    <tr>\n",
       "      <th>3</th>\n",
       "      <td>Iris</td>\n",
       "      <td>LogisticRegression</td>\n",
       "      <td>sag</td>\n",
       "      <td>[22, 24, 18]</td>\n",
       "      <td>64</td>\n",
       "      <td>None</td>\n",
       "      <td>4.8775</td>\n",
       "      <td>0.947368</td>\n",
       "      <td>0.910714</td>\n",
       "    </tr>\n",
       "    <tr>\n",
       "      <th>4</th>\n",
       "      <td>Iris</td>\n",
       "      <td>LogisticRegression</td>\n",
       "      <td>saga</td>\n",
       "      <td>[45, 42, 54]</td>\n",
       "      <td>141</td>\n",
       "      <td>None</td>\n",
       "      <td>8.6780</td>\n",
       "      <td>0.947368</td>\n",
       "      <td>0.910714</td>\n",
       "    </tr>\n",
       "  </tbody>\n",
       "</table>\n",
       "</div>"
      ],
      "text/plain": [
       "  Dataset          Classifier     Solver    Iterations  Total Iterations  \\\n",
       "0    Iris  LogisticRegression  liblinear           [6]                 6   \n",
       "1    Iris  LogisticRegression  newton-cg    [10, 7, 8]                25   \n",
       "2    Iris  LogisticRegression      lbfgs  [13, 14, 15]                42   \n",
       "3    Iris  LogisticRegression        sag  [22, 24, 18]                64   \n",
       "4    Iris  LogisticRegression       saga  [45, 42, 54]               141   \n",
       "\n",
       "  Max Tree Depth  Fit Time (ms)  Score-Testing Data  Score-Training Data  \n",
       "0           None        25.3302            0.894737             0.901786  \n",
       "1           None        14.6039            0.947368             0.910714  \n",
       "2           None         7.6848            0.947368             0.910714  \n",
       "3           None         4.8775            0.947368             0.910714  \n",
       "4           None         8.6780            0.947368             0.910714  "
      ]
     },
     "execution_count": 10,
     "metadata": {},
     "output_type": "execute_result"
    }
   ],
   "source": [
    "summary_lr_iris_df = pd.DataFrame( model_results,\n",
    "          columns=['Dataset', 'Classifier', 'Solver', 'Iterations', 'Total Iterations', 'Max Tree Depth', 'Fit Time (ms)', 'Score-Testing Data', 'Score-Training Data'])\n",
    "\n",
    "summary_lr_iris_df"
   ]
  },
  {
   "cell_type": "code",
   "execution_count": 11,
   "metadata": {},
   "outputs": [
    {
     "data": {
      "text/plain": [
       "Total Iterations       55.600000\n",
       "Fit Time (ms)          12.234880\n",
       "Score-Testing Data      0.936842\n",
       "Score-Training Data     0.908929\n",
       "dtype: float64"
      ]
     },
     "execution_count": 11,
     "metadata": {},
     "output_type": "execute_result"
    }
   ],
   "source": [
    "summary_lr_iris_df.mean()"
   ]
  },
  {
   "cell_type": "code",
   "execution_count": null,
   "metadata": {},
   "outputs": [],
   "source": []
  },
  {
   "cell_type": "markdown",
   "metadata": {},
   "source": [
    "## Classification Model: Decision Tree - Iris Dataset"
   ]
  },
  {
   "cell_type": "markdown",
   "metadata": {},
   "source": [
    "### Decision Tree: Iterate Models Parameter - Max Tree Depth - Iris Dataset"
   ]
  },
  {
   "cell_type": "code",
   "execution_count": null,
   "metadata": {},
   "outputs": [],
   "source": []
  },
  {
   "cell_type": "code",
   "execution_count": 12,
   "metadata": {
    "scrolled": true
   },
   "outputs": [
    {
     "name": "stdout",
     "output_type": "stream",
     "text": [
      "********************************************************************************\n",
      "DecisionTreeClassifier(class_weight=None, criterion='gini', max_depth=None,\n",
      "            max_features=None, max_leaf_nodes=None,\n",
      "            min_impurity_decrease=0.0, min_impurity_split=None,\n",
      "            min_samples_leaf=1, min_samples_split=2,\n",
      "            min_weight_fraction_leaf=0.0, presort=False, random_state=None,\n",
      "            splitter='best')\n",
      "763 µs ± 0 ns per loop (mean ± std. dev. of 1 run, 1 loop each)\n",
      "\n",
      "Model: DecisionTreeClassifier, Solver: None, Iterations: None [None], Max Depth: None\n",
      "Score - Test Data: 0.9473684210526315, Training Data: 1.0\n",
      "Fit Attributes - coef_: None, intercept_: None\n",
      "\n",
      "Confusion Matrix - Testing Data\n",
      "[[12  0  0]\n",
      " [ 0 13  0]\n",
      " [ 0  2 11]]\n",
      "\n",
      "Confusion Matrix - Training Data\n",
      "[[38  0  0]\n",
      " [ 0 37  0]\n",
      " [ 0  0 37]]\n",
      "\n",
      "Feature Importances\n",
      "              factor  importance\n",
      "3   petal width (cm)    0.578560\n",
      "2  petal length (cm)    0.413298\n",
      "0  sepal length (cm)    0.008141\n",
      "1   sepal width (cm)    0.000000\n",
      "\n",
      "********************************************************************************\n",
      "DecisionTreeClassifier(class_weight=None, criterion='gini', max_depth=16,\n",
      "            max_features=None, max_leaf_nodes=None,\n",
      "            min_impurity_decrease=0.0, min_impurity_split=None,\n",
      "            min_samples_leaf=1, min_samples_split=2,\n",
      "            min_weight_fraction_leaf=0.0, presort=False, random_state=None,\n",
      "            splitter='best')\n",
      "554 µs ± 0 ns per loop (mean ± std. dev. of 1 run, 1 loop each)\n",
      "\n",
      "Model: DecisionTreeClassifier, Solver: None, Iterations: None [None], Max Depth: 16\n",
      "Score - Test Data: 0.9473684210526315, Training Data: 1.0\n",
      "Fit Attributes - coef_: None, intercept_: None\n",
      "\n",
      "Confusion Matrix - Testing Data\n",
      "[[12  0  0]\n",
      " [ 0 13  0]\n",
      " [ 0  2 11]]\n",
      "\n",
      "Confusion Matrix - Training Data\n",
      "[[38  0  0]\n",
      " [ 0 37  0]\n",
      " [ 0  0 37]]\n",
      "\n",
      "Feature Importances\n",
      "              factor  importance\n",
      "2  petal length (cm)    0.899864\n",
      "3   petal width (cm)    0.074136\n",
      "0  sepal length (cm)    0.026000\n",
      "1   sepal width (cm)    0.000000\n",
      "\n",
      "********************************************************************************\n",
      "DecisionTreeClassifier(class_weight=None, criterion='gini', max_depth=8,\n",
      "            max_features=None, max_leaf_nodes=None,\n",
      "            min_impurity_decrease=0.0, min_impurity_split=None,\n",
      "            min_samples_leaf=1, min_samples_split=2,\n",
      "            min_weight_fraction_leaf=0.0, presort=False, random_state=None,\n",
      "            splitter='best')\n",
      "495 µs ± 0 ns per loop (mean ± std. dev. of 1 run, 1 loop each)\n",
      "\n",
      "Model: DecisionTreeClassifier, Solver: None, Iterations: None [None], Max Depth: 8\n",
      "Score - Test Data: 0.9473684210526315, Training Data: 1.0\n",
      "Fit Attributes - coef_: None, intercept_: None\n",
      "\n",
      "Confusion Matrix - Testing Data\n",
      "[[12  0  0]\n",
      " [ 0 13  0]\n",
      " [ 0  2 11]]\n",
      "\n",
      "Confusion Matrix - Training Data\n",
      "[[38  0  0]\n",
      " [ 0 37  0]\n",
      " [ 0  0 37]]\n",
      "\n",
      "Feature Importances\n",
      "              factor  importance\n",
      "2  petal length (cm)    0.899864\n",
      "3   petal width (cm)    0.074136\n",
      "0  sepal length (cm)    0.026000\n",
      "1   sepal width (cm)    0.000000\n",
      "\n",
      "********************************************************************************\n",
      "DecisionTreeClassifier(class_weight=None, criterion='gini', max_depth=4,\n",
      "            max_features=None, max_leaf_nodes=None,\n",
      "            min_impurity_decrease=0.0, min_impurity_split=None,\n",
      "            min_samples_leaf=1, min_samples_split=2,\n",
      "            min_weight_fraction_leaf=0.0, presort=False, random_state=None,\n",
      "            splitter='best')\n",
      "638 µs ± 0 ns per loop (mean ± std. dev. of 1 run, 1 loop each)\n",
      "\n",
      "Model: DecisionTreeClassifier, Solver: None, Iterations: None [None], Max Depth: 4\n",
      "Score - Test Data: 0.9736842105263158, Training Data: 0.9732142857142857\n",
      "Fit Attributes - coef_: None, intercept_: None\n",
      "\n",
      "Confusion Matrix - Testing Data\n",
      "[[12  0  0]\n",
      " [ 0 13  0]\n",
      " [ 0  1 12]]\n",
      "\n",
      "Confusion Matrix - Training Data\n",
      "[[38  0  0]\n",
      " [ 0 34  3]\n",
      " [ 0  0 37]]\n",
      "\n",
      "Feature Importances\n",
      "              factor  importance\n",
      "2  petal length (cm)    0.950804\n",
      "3   petal width (cm)    0.040593\n",
      "0  sepal length (cm)    0.008602\n",
      "1   sepal width (cm)    0.000000\n",
      "\n",
      "********************************************************************************\n",
      "DecisionTreeClassifier(class_weight=None, criterion='gini', max_depth=2,\n",
      "            max_features=None, max_leaf_nodes=None,\n",
      "            min_impurity_decrease=0.0, min_impurity_split=None,\n",
      "            min_samples_leaf=1, min_samples_split=2,\n",
      "            min_weight_fraction_leaf=0.0, presort=False, random_state=None,\n",
      "            splitter='best')\n",
      "490 µs ± 0 ns per loop (mean ± std. dev. of 1 run, 1 loop each)\n",
      "\n",
      "Model: DecisionTreeClassifier, Solver: None, Iterations: None [None], Max Depth: 2\n",
      "Score - Test Data: 0.9473684210526315, Training Data: 0.9553571428571429\n",
      "Fit Attributes - coef_: None, intercept_: None\n",
      "\n",
      "Confusion Matrix - Testing Data\n",
      "[[12  0  0]\n",
      " [ 0 12  1]\n",
      " [ 0  1 12]]\n",
      "\n",
      "Confusion Matrix - Training Data\n",
      "[[38  0  0]\n",
      " [ 0 32  5]\n",
      " [ 0  0 37]]\n",
      "\n",
      "Feature Importances\n",
      "              factor  importance\n",
      "3   petal width (cm)    0.571906\n",
      "2  petal length (cm)    0.428094\n",
      "0  sepal length (cm)    0.000000\n",
      "1   sepal width (cm)    0.000000\n",
      "\n",
      "********************************************************************************\n",
      "DecisionTreeClassifier(class_weight=None, criterion='gini', max_depth=1,\n",
      "            max_features=None, max_leaf_nodes=None,\n",
      "            min_impurity_decrease=0.0, min_impurity_split=None,\n",
      "            min_samples_leaf=1, min_samples_split=2,\n",
      "            min_weight_fraction_leaf=0.0, presort=False, random_state=None,\n",
      "            splitter='best')\n",
      "400 µs ± 0 ns per loop (mean ± std. dev. of 1 run, 1 loop each)\n",
      "\n",
      "Model: DecisionTreeClassifier, Solver: None, Iterations: None [None], Max Depth: 1\n",
      "Score - Test Data: 0.6578947368421053, Training Data: 0.6696428571428571\n",
      "Fit Attributes - coef_: None, intercept_: None\n",
      "\n",
      "Confusion Matrix - Testing Data\n",
      "[[12  0  0]\n",
      " [ 0 13  0]\n",
      " [ 0 13  0]]\n",
      "\n",
      "Confusion Matrix - Training Data\n",
      "[[38  0  0]\n",
      " [ 0 37  0]\n",
      " [ 0 37  0]]\n",
      "\n",
      "Feature Importances\n",
      "              factor  importance\n",
      "3   petal width (cm)         1.0\n",
      "0  sepal length (cm)         0.0\n",
      "1   sepal width (cm)         0.0\n",
      "2  petal length (cm)         0.0\n",
      "\n"
     ]
    }
   ],
   "source": [
    "# Initialize list of dictionary of results for summary in a dataframe later\n",
    "model_results = []\n",
    "\n",
    "# List of tree max depth values over which to iterate\n",
    "max_depth_list = [ None, 16, 8, 4, 2, 1 ]\n",
    "\n",
    "# Generate classifer and an associated performance report for each\n",
    "for md in max_depth_list:\n",
    "    # Create a classifier model\n",
    "    classifier = tree.DecisionTreeClassifier(max_depth=md)\n",
    "    \n",
    "    # Evaluate the classifer performance, create a plot of \n",
    "    r = eval_classifier(classifier)\n",
    "    \n",
    "    model_results.append( {\n",
    "        'Dataset': 'Iris',\n",
    "        'Classifier': r['model'],\n",
    "        'Solver': r['solver'],\n",
    "        'Iterations': r['n_iter'],\n",
    "        'Total Iterations': r['tot_n_iter'],\n",
    "        'Max Tree Depth': r['max_depth'],\n",
    "        'Score-Testing Data': r['score_test'],\n",
    "        'Score-Training Data': r['score_train'],\n",
    "        'Fit Time (ms)': 1000.0*r['fit_time'],\n",
    "        'Coefficients': r['coef'],\n",
    "        'Intercept': r['intercept']\n",
    "        } )\n",
    "    \n",
    "    print(\"\")"
   ]
  },
  {
   "cell_type": "markdown",
   "metadata": {},
   "source": [
    "### Decision Tree - Scaled: Summary - Iris Dataset"
   ]
  },
  {
   "cell_type": "code",
   "execution_count": 13,
   "metadata": {},
   "outputs": [
    {
     "data": {
      "text/html": [
       "<div>\n",
       "<style scoped>\n",
       "    .dataframe tbody tr th:only-of-type {\n",
       "        vertical-align: middle;\n",
       "    }\n",
       "\n",
       "    .dataframe tbody tr th {\n",
       "        vertical-align: top;\n",
       "    }\n",
       "\n",
       "    .dataframe thead th {\n",
       "        text-align: right;\n",
       "    }\n",
       "</style>\n",
       "<table border=\"1\" class=\"dataframe\">\n",
       "  <thead>\n",
       "    <tr style=\"text-align: right;\">\n",
       "      <th></th>\n",
       "      <th>Dataset</th>\n",
       "      <th>Classifier</th>\n",
       "      <th>Solver</th>\n",
       "      <th>Iterations</th>\n",
       "      <th>Total Iterations</th>\n",
       "      <th>Max Tree Depth</th>\n",
       "      <th>Fit Time (ms)</th>\n",
       "      <th>Score-Testing Data</th>\n",
       "      <th>Score-Training Data</th>\n",
       "    </tr>\n",
       "  </thead>\n",
       "  <tbody>\n",
       "    <tr>\n",
       "      <th>0</th>\n",
       "      <td>Iris</td>\n",
       "      <td>DecisionTreeClassifier</td>\n",
       "      <td>None</td>\n",
       "      <td>None</td>\n",
       "      <td>None</td>\n",
       "      <td>None</td>\n",
       "      <td>0.7630</td>\n",
       "      <td>0.947368</td>\n",
       "      <td>1.000000</td>\n",
       "    </tr>\n",
       "    <tr>\n",
       "      <th>1</th>\n",
       "      <td>Iris</td>\n",
       "      <td>DecisionTreeClassifier</td>\n",
       "      <td>None</td>\n",
       "      <td>None</td>\n",
       "      <td>None</td>\n",
       "      <td>16</td>\n",
       "      <td>0.5538</td>\n",
       "      <td>0.947368</td>\n",
       "      <td>1.000000</td>\n",
       "    </tr>\n",
       "    <tr>\n",
       "      <th>2</th>\n",
       "      <td>Iris</td>\n",
       "      <td>DecisionTreeClassifier</td>\n",
       "      <td>None</td>\n",
       "      <td>None</td>\n",
       "      <td>None</td>\n",
       "      <td>8</td>\n",
       "      <td>0.4953</td>\n",
       "      <td>0.947368</td>\n",
       "      <td>1.000000</td>\n",
       "    </tr>\n",
       "    <tr>\n",
       "      <th>3</th>\n",
       "      <td>Iris</td>\n",
       "      <td>DecisionTreeClassifier</td>\n",
       "      <td>None</td>\n",
       "      <td>None</td>\n",
       "      <td>None</td>\n",
       "      <td>4</td>\n",
       "      <td>0.6385</td>\n",
       "      <td>0.973684</td>\n",
       "      <td>0.973214</td>\n",
       "    </tr>\n",
       "    <tr>\n",
       "      <th>4</th>\n",
       "      <td>Iris</td>\n",
       "      <td>DecisionTreeClassifier</td>\n",
       "      <td>None</td>\n",
       "      <td>None</td>\n",
       "      <td>None</td>\n",
       "      <td>2</td>\n",
       "      <td>0.4899</td>\n",
       "      <td>0.947368</td>\n",
       "      <td>0.955357</td>\n",
       "    </tr>\n",
       "    <tr>\n",
       "      <th>5</th>\n",
       "      <td>Iris</td>\n",
       "      <td>DecisionTreeClassifier</td>\n",
       "      <td>None</td>\n",
       "      <td>None</td>\n",
       "      <td>None</td>\n",
       "      <td>1</td>\n",
       "      <td>0.4002</td>\n",
       "      <td>0.657895</td>\n",
       "      <td>0.669643</td>\n",
       "    </tr>\n",
       "  </tbody>\n",
       "</table>\n",
       "</div>"
      ],
      "text/plain": [
       "  Dataset              Classifier Solver Iterations Total Iterations  \\\n",
       "0    Iris  DecisionTreeClassifier   None       None             None   \n",
       "1    Iris  DecisionTreeClassifier   None       None             None   \n",
       "2    Iris  DecisionTreeClassifier   None       None             None   \n",
       "3    Iris  DecisionTreeClassifier   None       None             None   \n",
       "4    Iris  DecisionTreeClassifier   None       None             None   \n",
       "5    Iris  DecisionTreeClassifier   None       None             None   \n",
       "\n",
       "  Max Tree Depth  Fit Time (ms)  Score-Testing Data  Score-Training Data  \n",
       "0           None         0.7630            0.947368             1.000000  \n",
       "1             16         0.5538            0.947368             1.000000  \n",
       "2              8         0.4953            0.947368             1.000000  \n",
       "3              4         0.6385            0.973684             0.973214  \n",
       "4              2         0.4899            0.947368             0.955357  \n",
       "5              1         0.4002            0.657895             0.669643  "
      ]
     },
     "execution_count": 13,
     "metadata": {},
     "output_type": "execute_result"
    }
   ],
   "source": [
    "summary_dt_iris_df = pd.DataFrame( model_results,\n",
    "          columns=['Dataset', 'Classifier', 'Solver', 'Iterations', 'Total Iterations', 'Max Tree Depth', 'Fit Time (ms)', 'Score-Testing Data', 'Score-Training Data'])\n",
    "summary_dt_iris_df"
   ]
  },
  {
   "cell_type": "code",
   "execution_count": 14,
   "metadata": {},
   "outputs": [
    {
     "data": {
      "text/plain": [
       "Fit Time (ms)          0.556783\n",
       "Score-Testing Data     0.903509\n",
       "Score-Training Data    0.933036\n",
       "dtype: float64"
      ]
     },
     "execution_count": 14,
     "metadata": {},
     "output_type": "execute_result"
    }
   ],
   "source": [
    "summary_dt_iris_df.mean()"
   ]
  },
  {
   "cell_type": "code",
   "execution_count": null,
   "metadata": {},
   "outputs": [],
   "source": []
  },
  {
   "cell_type": "markdown",
   "metadata": {},
   "source": [
    "# Voice Dataset"
   ]
  },
  {
   "cell_type": "code",
   "execution_count": 15,
   "metadata": {},
   "outputs": [
    {
     "data": {
      "text/html": [
       "<div>\n",
       "<style scoped>\n",
       "    .dataframe tbody tr th:only-of-type {\n",
       "        vertical-align: middle;\n",
       "    }\n",
       "\n",
       "    .dataframe tbody tr th {\n",
       "        vertical-align: top;\n",
       "    }\n",
       "\n",
       "    .dataframe thead th {\n",
       "        text-align: right;\n",
       "    }\n",
       "</style>\n",
       "<table border=\"1\" class=\"dataframe\">\n",
       "  <thead>\n",
       "    <tr style=\"text-align: right;\">\n",
       "      <th></th>\n",
       "      <th>meanfreq</th>\n",
       "      <th>sd</th>\n",
       "      <th>median</th>\n",
       "      <th>Q25</th>\n",
       "      <th>Q75</th>\n",
       "      <th>IQR</th>\n",
       "      <th>skew</th>\n",
       "      <th>kurt</th>\n",
       "      <th>sp.ent</th>\n",
       "      <th>sfm</th>\n",
       "      <th>...</th>\n",
       "      <th>centroid</th>\n",
       "      <th>meanfun</th>\n",
       "      <th>minfun</th>\n",
       "      <th>maxfun</th>\n",
       "      <th>meandom</th>\n",
       "      <th>mindom</th>\n",
       "      <th>maxdom</th>\n",
       "      <th>dfrange</th>\n",
       "      <th>modindx</th>\n",
       "      <th>label</th>\n",
       "    </tr>\n",
       "  </thead>\n",
       "  <tbody>\n",
       "    <tr>\n",
       "      <th>0</th>\n",
       "      <td>0.059781</td>\n",
       "      <td>0.064241</td>\n",
       "      <td>0.032027</td>\n",
       "      <td>0.015071</td>\n",
       "      <td>0.090193</td>\n",
       "      <td>0.075122</td>\n",
       "      <td>12.863462</td>\n",
       "      <td>274.402906</td>\n",
       "      <td>0.893369</td>\n",
       "      <td>0.491918</td>\n",
       "      <td>...</td>\n",
       "      <td>0.059781</td>\n",
       "      <td>0.084279</td>\n",
       "      <td>0.015702</td>\n",
       "      <td>0.275862</td>\n",
       "      <td>0.007812</td>\n",
       "      <td>0.007812</td>\n",
       "      <td>0.007812</td>\n",
       "      <td>0.000000</td>\n",
       "      <td>0.000000</td>\n",
       "      <td>male</td>\n",
       "    </tr>\n",
       "    <tr>\n",
       "      <th>1</th>\n",
       "      <td>0.066009</td>\n",
       "      <td>0.067310</td>\n",
       "      <td>0.040229</td>\n",
       "      <td>0.019414</td>\n",
       "      <td>0.092666</td>\n",
       "      <td>0.073252</td>\n",
       "      <td>22.423285</td>\n",
       "      <td>634.613855</td>\n",
       "      <td>0.892193</td>\n",
       "      <td>0.513724</td>\n",
       "      <td>...</td>\n",
       "      <td>0.066009</td>\n",
       "      <td>0.107937</td>\n",
       "      <td>0.015826</td>\n",
       "      <td>0.250000</td>\n",
       "      <td>0.009014</td>\n",
       "      <td>0.007812</td>\n",
       "      <td>0.054688</td>\n",
       "      <td>0.046875</td>\n",
       "      <td>0.052632</td>\n",
       "      <td>male</td>\n",
       "    </tr>\n",
       "    <tr>\n",
       "      <th>2</th>\n",
       "      <td>0.077316</td>\n",
       "      <td>0.083829</td>\n",
       "      <td>0.036718</td>\n",
       "      <td>0.008701</td>\n",
       "      <td>0.131908</td>\n",
       "      <td>0.123207</td>\n",
       "      <td>30.757155</td>\n",
       "      <td>1024.927705</td>\n",
       "      <td>0.846389</td>\n",
       "      <td>0.478905</td>\n",
       "      <td>...</td>\n",
       "      <td>0.077316</td>\n",
       "      <td>0.098706</td>\n",
       "      <td>0.015656</td>\n",
       "      <td>0.271186</td>\n",
       "      <td>0.007990</td>\n",
       "      <td>0.007812</td>\n",
       "      <td>0.015625</td>\n",
       "      <td>0.007812</td>\n",
       "      <td>0.046512</td>\n",
       "      <td>male</td>\n",
       "    </tr>\n",
       "    <tr>\n",
       "      <th>3</th>\n",
       "      <td>0.151228</td>\n",
       "      <td>0.072111</td>\n",
       "      <td>0.158011</td>\n",
       "      <td>0.096582</td>\n",
       "      <td>0.207955</td>\n",
       "      <td>0.111374</td>\n",
       "      <td>1.232831</td>\n",
       "      <td>4.177296</td>\n",
       "      <td>0.963322</td>\n",
       "      <td>0.727232</td>\n",
       "      <td>...</td>\n",
       "      <td>0.151228</td>\n",
       "      <td>0.088965</td>\n",
       "      <td>0.017798</td>\n",
       "      <td>0.250000</td>\n",
       "      <td>0.201497</td>\n",
       "      <td>0.007812</td>\n",
       "      <td>0.562500</td>\n",
       "      <td>0.554688</td>\n",
       "      <td>0.247119</td>\n",
       "      <td>male</td>\n",
       "    </tr>\n",
       "    <tr>\n",
       "      <th>4</th>\n",
       "      <td>0.135120</td>\n",
       "      <td>0.079146</td>\n",
       "      <td>0.124656</td>\n",
       "      <td>0.078720</td>\n",
       "      <td>0.206045</td>\n",
       "      <td>0.127325</td>\n",
       "      <td>1.101174</td>\n",
       "      <td>4.333713</td>\n",
       "      <td>0.971955</td>\n",
       "      <td>0.783568</td>\n",
       "      <td>...</td>\n",
       "      <td>0.135120</td>\n",
       "      <td>0.106398</td>\n",
       "      <td>0.016931</td>\n",
       "      <td>0.266667</td>\n",
       "      <td>0.712812</td>\n",
       "      <td>0.007812</td>\n",
       "      <td>5.484375</td>\n",
       "      <td>5.476562</td>\n",
       "      <td>0.208274</td>\n",
       "      <td>male</td>\n",
       "    </tr>\n",
       "  </tbody>\n",
       "</table>\n",
       "<p>5 rows × 21 columns</p>\n",
       "</div>"
      ],
      "text/plain": [
       "   meanfreq        sd    median       Q25       Q75       IQR       skew  \\\n",
       "0  0.059781  0.064241  0.032027  0.015071  0.090193  0.075122  12.863462   \n",
       "1  0.066009  0.067310  0.040229  0.019414  0.092666  0.073252  22.423285   \n",
       "2  0.077316  0.083829  0.036718  0.008701  0.131908  0.123207  30.757155   \n",
       "3  0.151228  0.072111  0.158011  0.096582  0.207955  0.111374   1.232831   \n",
       "4  0.135120  0.079146  0.124656  0.078720  0.206045  0.127325   1.101174   \n",
       "\n",
       "          kurt    sp.ent       sfm  ...  centroid   meanfun    minfun  \\\n",
       "0   274.402906  0.893369  0.491918  ...  0.059781  0.084279  0.015702   \n",
       "1   634.613855  0.892193  0.513724  ...  0.066009  0.107937  0.015826   \n",
       "2  1024.927705  0.846389  0.478905  ...  0.077316  0.098706  0.015656   \n",
       "3     4.177296  0.963322  0.727232  ...  0.151228  0.088965  0.017798   \n",
       "4     4.333713  0.971955  0.783568  ...  0.135120  0.106398  0.016931   \n",
       "\n",
       "     maxfun   meandom    mindom    maxdom   dfrange   modindx  label  \n",
       "0  0.275862  0.007812  0.007812  0.007812  0.000000  0.000000   male  \n",
       "1  0.250000  0.009014  0.007812  0.054688  0.046875  0.052632   male  \n",
       "2  0.271186  0.007990  0.007812  0.015625  0.007812  0.046512   male  \n",
       "3  0.250000  0.201497  0.007812  0.562500  0.554688  0.247119   male  \n",
       "4  0.266667  0.712812  0.007812  5.484375  5.476562  0.208274   male  \n",
       "\n",
       "[5 rows x 21 columns]"
      ]
     },
     "execution_count": 15,
     "metadata": {},
     "output_type": "execute_result"
    }
   ],
   "source": [
    "## Import Data and Pre-Process: Voice Dataset\n",
    "voice = pd.read_csv('resources/voice.csv')\n",
    "voice.head()"
   ]
  },
  {
   "cell_type": "code",
   "execution_count": 16,
   "metadata": {},
   "outputs": [],
   "source": [
    "# Check datatypes to ensure numerical values are floats vs. objects -- CONFIRMED\n",
    "# voice.dtypes"
   ]
  },
  {
   "cell_type": "code",
   "execution_count": 17,
   "metadata": {},
   "outputs": [
    {
     "name": "stdout",
     "output_type": "stream",
     "text": [
      "(3168, 20) (3168,)\n"
     ]
    }
   ],
   "source": [
    "# Assign X (data) and y (target)\n",
    "X = voice.drop(\"label\", axis=1)\n",
    "y = voice[\"label\"]\n",
    "print(X.shape, y.shape)"
   ]
  },
  {
   "cell_type": "code",
   "execution_count": null,
   "metadata": {},
   "outputs": [],
   "source": []
  },
  {
   "cell_type": "code",
   "execution_count": 18,
   "metadata": {},
   "outputs": [],
   "source": [
    "# Encode the output strings using a Categorical Binarizer\n",
    "label_encoder = LabelBinarizer()\n",
    "y_encoded = label_encoder.fit_transform(y)"
   ]
  },
  {
   "cell_type": "code",
   "execution_count": 19,
   "metadata": {},
   "outputs": [],
   "source": [
    "# Split the data using train_test_split\n",
    "X_train, X_test, y_train, y_test = train_test_split(X, y_encoded, random_state=1, stratify=y_encoded)"
   ]
  },
  {
   "cell_type": "code",
   "execution_count": 20,
   "metadata": {},
   "outputs": [],
   "source": [
    "# Reshape the outputs to provide a N by 1 vector (vs. array of size N)\n",
    "# y_train = y_train.reshape(-1,1)\n",
    "# y_test = y_test.reshape(-1,1)\n",
    "# print(y_train.shape, y_test.shape)"
   ]
  },
  {
   "cell_type": "code",
   "execution_count": 21,
   "metadata": {},
   "outputs": [
    {
     "name": "stderr",
     "output_type": "stream",
     "text": [
      "C:\\Users\\Jeff\\AppData\\Local\\conda\\conda\\envs\\PythonData\\lib\\site-packages\\sklearn\\utils\\validation.py:475: DataConversionWarning: Data with input dtype int32 was converted to float64 by StandardScaler.\n",
      "  warnings.warn(msg, DataConversionWarning)\n"
     ]
    }
   ],
   "source": [
    "# Use the training data to create a scaler to standard normal distributions for each numerical feature and output\n",
    "X_scaler = StandardScaler().fit(X_train)\n",
    "y_scaler = StandardScaler().fit(y_train)"
   ]
  },
  {
   "cell_type": "code",
   "execution_count": 22,
   "metadata": {},
   "outputs": [
    {
     "name": "stderr",
     "output_type": "stream",
     "text": [
      "C:\\Users\\Jeff\\AppData\\Local\\conda\\conda\\envs\\PythonData\\lib\\site-packages\\sklearn\\utils\\validation.py:475: DataConversionWarning: Data with input dtype int32 was converted to float64 by StandardScaler.\n",
      "  warnings.warn(msg, DataConversionWarning)\n"
     ]
    }
   ],
   "source": [
    "# Scale the training and test data\n",
    "X_train_scaled = X_scaler.transform(X_train)\n",
    "X_test_scaled = X_scaler.transform(X_test)\n",
    "\n",
    "y_train_scaled = y_scaler.transform(y_train)\n",
    "y_test_scaled = y_scaler.transform(y_test)"
   ]
  },
  {
   "cell_type": "code",
   "execution_count": null,
   "metadata": {},
   "outputs": [],
   "source": []
  },
  {
   "cell_type": "code",
   "execution_count": null,
   "metadata": {},
   "outputs": [],
   "source": []
  },
  {
   "cell_type": "code",
   "execution_count": null,
   "metadata": {},
   "outputs": [],
   "source": []
  },
  {
   "cell_type": "markdown",
   "metadata": {},
   "source": [
    "## Classification Model: Logistic Regression - Voice Dataset"
   ]
  },
  {
   "cell_type": "markdown",
   "metadata": {},
   "source": [
    "### Logistic Regression: Function to Fit Model, Evaluate Performance - Voice Dataset"
   ]
  },
  {
   "cell_type": "code",
   "execution_count": 23,
   "metadata": {},
   "outputs": [],
   "source": [
    "# Function to fit a model to training data and evaluate classification performance\n",
    "def eval_logisticregression_voice_scaled(a_model):\n",
    "    # Get the name of this model\n",
    "    m_name = str(a_model).split(\"(\",1)[0]\n",
    "    \n",
    "    # Get the solver used with this model\n",
    "    m_solver = str(a_model).split(\"solver=\")[1].split(\",\")[0].replace(\"'\",\"\").replace('\"','')\n",
    "    \n",
    "    # Print a separator\n",
    "    print(\"*\"*80)\n",
    "    \n",
    "    # Print the model attributes\n",
    "    print(a_model)\n",
    "    \n",
    "    # Fit the data to the scaled data\n",
    "    m_fit_time = %timeit -n1 -r1 -o a_model.fit(X_train_scaled, y_train)\n",
    "\n",
    "#     # Flag points that were classified incorrectly\n",
    "#     y_predicted_test_errors = y_test - y_predicted_test\n",
    "#     y_predicted_train_errors = y_train - y_predicted_train\n",
    "\n",
    "    # Calculate Model performance: MSE and R2\n",
    "    m_score_test = a_model.score(X_test_scaled, y_test)\n",
    "    m_score_train = a_model.score(X_train_scaled, y_train)\n",
    "\n",
    "    print(f\"Performance - Model: {m_name}\\nScore - Test Data: {m_score_test}, Training Data: {m_score_train}\")\n",
    "    print(f\"coef_: {a_model.coef_}, intercept_: {a_model.intercept_}, n_iter_: {a_model.n_iter_}, \")\n",
    "\n",
    "    # Make predictions using both test and training data\n",
    "    y_predicted_test = a_model.predict(X_test_scaled)\n",
    "    y_predicted_train = a_model.predict(X_train_scaled)\n",
    "    \n",
    "    # Generate a confusion matrix of the results for both test and training data\n",
    "    cm_test = confusion_matrix(y_test, y_predicted_test)\n",
    "    cm_test_df = pd.DataFrame(cm_test, columns = [\"Female (Predicted)\", \"Male (Predicted)\"], index = [\"Female (Actual)\", \"Male (Actual)\"] )\n",
    "    print(\"Confusion Matrix - Testing Data\")\n",
    "    print(cm_test_df)\n",
    "\n",
    "    print(\"\")\n",
    "\n",
    "    cm_train = confusion_matrix(y_train, y_predicted_train)\n",
    "    cm_train_df = pd.DataFrame(cm_train, columns = [\"Female (Predicted)\", \"Male (Predicted)\"], index = [\"Female (Actual)\", \"Male (Actual)\"] )\n",
    "    print(\"Confusion Matrix - Training Data\")\n",
    "    print(cm_train_df)\n",
    "    \n",
    "#     # Plot the training and test data, with prediction errors highlighted in different color\n",
    "\n",
    "#     # Generate a plot\n",
    "#     plt.scatter(X_test[:,0], X_test[:,1], c=y_predicted_test_errors)\n",
    "#     plt.scatter(X_train[:,0], X_train[:,1], c=y_predicted_train_errors)\n",
    "    \n",
    "#     # plt.legend()\n",
    "\n",
    "#     plt.title(f\"Classification Results - Model: {m_name} / {m_solver}\")\n",
    "#     plt.show()\n",
    "\n",
    "    a_result = {\n",
    "        'model': m_name,\n",
    "        'solver': m_solver,\n",
    "        'fit_time': m_fit_time.average,\n",
    "        'n_iter': a_model.n_iter_,\n",
    "        'score_test': m_score_test,\n",
    "        'score_train': m_score_train\n",
    "    }\n",
    "    \n",
    "    return a_result"
   ]
  },
  {
   "cell_type": "markdown",
   "metadata": {},
   "source": [
    "### Logistic Regression: Iterate Model Parameter - Solver - Voice"
   ]
  },
  {
   "cell_type": "code",
   "execution_count": 24,
   "metadata": {
    "scrolled": false
   },
   "outputs": [
    {
     "name": "stdout",
     "output_type": "stream",
     "text": [
      "********************************************************************************\n",
      "LogisticRegression(C=1.0, class_weight=None, dual=False, fit_intercept=True,\n",
      "          intercept_scaling=1, max_iter=1000, multi_class='ovr', n_jobs=1,\n",
      "          penalty='l2', random_state=None, solver='liblinear', tol=0.0001,\n",
      "          verbose=0, warm_start=False)\n",
      "9.65 ms ± 0 ns per loop (mean ± std. dev. of 1 run, 1 loop each)\n",
      "Performance - Model: LogisticRegression\n",
      "Score - Test Data: 0.9772727272727273, Training Data: 0.9730639730639731\n",
      "coef_: [[-0.08280713  0.10015707 -0.11984642 -0.82508816  0.59495458  1.27232309\n",
      "  -0.06696374 -0.38796226  1.35233418 -1.44620189  0.18825553 -0.08280713\n",
      "  -4.69788893  0.57718602  0.03316222 -0.03341152 -0.06294669  0.03191723\n",
      "   0.03305506 -0.25128625]], intercept_: [-0.79833416], n_iter_: [7], \n",
      "Confusion Matrix - Testing Data\n",
      "                 Female (Predicted)  Male (Predicted)\n",
      "Female (Actual)                 387                 9\n",
      "Male (Actual)                     9               387\n",
      "\n",
      "Confusion Matrix - Training Data\n",
      "                 Female (Predicted)  Male (Predicted)\n",
      "Female (Actual)                1149                39\n",
      "Male (Actual)                    25              1163\n",
      "\n",
      "********************************************************************************\n",
      "LogisticRegression(C=1.0, class_weight=None, dual=False, fit_intercept=True,\n",
      "          intercept_scaling=1, max_iter=1000, multi_class='ovr', n_jobs=1,\n",
      "          penalty='l2', random_state=None, solver='newton-cg', tol=0.0001,\n",
      "          verbose=0, warm_start=False)\n"
     ]
    },
    {
     "name": "stderr",
     "output_type": "stream",
     "text": [
      "C:\\Users\\Jeff\\AppData\\Local\\conda\\conda\\envs\\PythonData\\lib\\site-packages\\sklearn\\utils\\validation.py:578: DataConversionWarning: A column-vector y was passed when a 1d array was expected. Please change the shape of y to (n_samples, ), for example using ravel().\n",
      "  y = column_or_1d(y, warn=True)\n",
      "C:\\Users\\Jeff\\AppData\\Local\\conda\\conda\\envs\\PythonData\\lib\\site-packages\\sklearn\\utils\\validation.py:578: DataConversionWarning: A column-vector y was passed when a 1d array was expected. Please change the shape of y to (n_samples, ), for example using ravel().\n",
      "  y = column_or_1d(y, warn=True)\n",
      "C:\\Users\\Jeff\\AppData\\Local\\conda\\conda\\envs\\PythonData\\lib\\site-packages\\sklearn\\utils\\validation.py:578: DataConversionWarning: A column-vector y was passed when a 1d array was expected. Please change the shape of y to (n_samples, ), for example using ravel().\n",
      "  y = column_or_1d(y, warn=True)\n",
      "C:\\Users\\Jeff\\AppData\\Local\\conda\\conda\\envs\\PythonData\\lib\\site-packages\\sklearn\\utils\\validation.py:578: DataConversionWarning: A column-vector y was passed when a 1d array was expected. Please change the shape of y to (n_samples, ), for example using ravel().\n",
      "  y = column_or_1d(y, warn=True)\n"
     ]
    },
    {
     "name": "stdout",
     "output_type": "stream",
     "text": [
      "38.3 ms ± 0 ns per loop (mean ± std. dev. of 1 run, 1 loop each)\n",
      "Performance - Model: LogisticRegression\n",
      "Score - Test Data: 0.9772727272727273, Training Data: 0.9722222222222222\n",
      "coef_: [[-0.08327234  0.11763806 -0.12261208 -0.82369322  0.59460349  1.27053351\n",
      "  -0.06613437 -0.38593905  1.37795427 -1.46940673  0.1899751  -0.08327234\n",
      "  -4.70607677  0.57679073  0.03907995 -0.02821909 -0.06326534  0.03086727\n",
      "   0.03201042 -0.25215631]], intercept_: [-0.82108017], n_iter_: [14], \n",
      "Confusion Matrix - Testing Data\n",
      "                 Female (Predicted)  Male (Predicted)\n",
      "Female (Actual)                 387                 9\n",
      "Male (Actual)                     9               387\n",
      "\n",
      "Confusion Matrix - Training Data\n",
      "                 Female (Predicted)  Male (Predicted)\n",
      "Female (Actual)                1149                39\n",
      "Male (Actual)                    27              1161\n",
      "\n",
      "********************************************************************************\n",
      "LogisticRegression(C=1.0, class_weight=None, dual=False, fit_intercept=True,\n",
      "          intercept_scaling=1, max_iter=1000, multi_class='ovr', n_jobs=1,\n",
      "          penalty='l2', random_state=None, solver='lbfgs', tol=0.0001,\n",
      "          verbose=0, warm_start=False)\n",
      "25.9 ms ± 0 ns per loop (mean ± std. dev. of 1 run, 1 loop each)\n",
      "Performance - Model: LogisticRegression\n",
      "Score - Test Data: 0.9772727272727273, Training Data: 0.9722222222222222\n",
      "coef_: [[-0.08293582  0.1175984  -0.12277413 -0.82392095  0.59436471  1.27066221\n",
      "  -0.06610554 -0.38590918  1.37815391 -1.4695002   0.18994281 -0.08293582\n",
      "  -4.70589758  0.57676871  0.03901082 -0.02832371 -0.06324287  0.03090301\n",
      "   0.03204577 -0.25217618]], intercept_: [-0.82105256], n_iter_: [49], \n",
      "Confusion Matrix - Testing Data\n",
      "                 Female (Predicted)  Male (Predicted)\n",
      "Female (Actual)                 387                 9\n",
      "Male (Actual)                     9               387\n",
      "\n",
      "Confusion Matrix - Training Data\n",
      "                 Female (Predicted)  Male (Predicted)\n",
      "Female (Actual)                1149                39\n",
      "Male (Actual)                    27              1161\n",
      "\n",
      "********************************************************************************\n",
      "LogisticRegression(C=1.0, class_weight=None, dual=False, fit_intercept=True,\n",
      "          intercept_scaling=1, max_iter=1000, multi_class='ovr', n_jobs=1,\n",
      "          penalty='l2', random_state=None, solver='sag', tol=0.0001,\n",
      "          verbose=0, warm_start=False)\n",
      "128 ms ± 0 ns per loop (mean ± std. dev. of 1 run, 1 loop each)"
     ]
    },
    {
     "name": "stderr",
     "output_type": "stream",
     "text": [
      "C:\\Users\\Jeff\\AppData\\Local\\conda\\conda\\envs\\PythonData\\lib\\site-packages\\sklearn\\utils\\validation.py:578: DataConversionWarning: A column-vector y was passed when a 1d array was expected. Please change the shape of y to (n_samples, ), for example using ravel().\n",
      "  y = column_or_1d(y, warn=True)\n"
     ]
    },
    {
     "name": "stdout",
     "output_type": "stream",
     "text": [
      "\n",
      "Performance - Model: LogisticRegression\n",
      "Score - Test Data: 0.9772727272727273, Training Data: 0.9722222222222222\n",
      "coef_: [[-0.08250263  0.11834959 -0.12282681 -0.82377971  0.59410068  1.27035487\n",
      "  -0.0773141  -0.37662873  1.37374151 -1.46673372  0.18928923 -0.08250263\n",
      "  -4.70604994  0.5764539   0.03926479 -0.02853946 -0.06297937  0.03084911\n",
      "   0.03198715 -0.2520933 ]], intercept_: [-0.82066511], n_iter_: [90], \n",
      "Confusion Matrix - Testing Data\n",
      "                 Female (Predicted)  Male (Predicted)\n",
      "Female (Actual)                 387                 9\n",
      "Male (Actual)                     9               387\n",
      "\n",
      "Confusion Matrix - Training Data\n",
      "                 Female (Predicted)  Male (Predicted)\n",
      "Female (Actual)                1149                39\n",
      "Male (Actual)                    27              1161\n",
      "\n",
      "********************************************************************************\n",
      "LogisticRegression(C=1.0, class_weight=None, dual=False, fit_intercept=True,\n",
      "          intercept_scaling=1, max_iter=1000, multi_class='ovr', n_jobs=1,\n",
      "          penalty='l2', random_state=None, solver='saga', tol=0.0001,\n",
      "          verbose=0, warm_start=False)\n",
      "254 ms ± 0 ns per loop (mean ± std. dev. of 1 run, 1 loop each)\n",
      "Performance - Model: LogisticRegression\n",
      "Score - Test Data: 0.9772727272727273, Training Data: 0.9722222222222222\n",
      "coef_: [[-0.08023976  0.11808205 -0.12385098 -0.82482457  0.59284807  1.27085862\n",
      "  -0.09053287 -0.36582388  1.3673003  -1.46166001  0.18834143 -0.08023976\n",
      "  -4.70604839  0.5759264   0.03938598 -0.02900793 -0.0626421   0.03078599\n",
      "   0.03191797 -0.25216463]], intercept_: [-0.81977665], n_iter_: [150], \n",
      "Confusion Matrix - Testing Data\n",
      "                 Female (Predicted)  Male (Predicted)\n",
      "Female (Actual)                 387                 9\n",
      "Male (Actual)                     9               387\n",
      "\n",
      "Confusion Matrix - Training Data\n",
      "                 Female (Predicted)  Male (Predicted)\n",
      "Female (Actual)                1149                39\n",
      "Male (Actual)                    27              1161\n",
      "\n"
     ]
    }
   ],
   "source": [
    "# Initialize list of dictionary of results for summary in a dataframe later\n",
    "model_results = []\n",
    "\n",
    "# List of Solvers to use with LogisticRegression model\n",
    "solver_list = \"liblinear\", \"newton-cg\", \"lbfgs\", \"sag\", \"saga\"\n",
    "\n",
    "# Generate classifer and an associated performance report for each\n",
    "for s in solver_list:\n",
    "    # Create a classifier model\n",
    "    classifier = LogisticRegression(solver=s, n_jobs=1, max_iter=1000)\n",
    "    \n",
    "    # Evaluate the classifer performance, create a plot\n",
    "    r = eval_logisticregression_voice_scaled(classifier)\n",
    "    \n",
    "    model_results.append( {\n",
    "        'Dataset': 'Voice',\n",
    "        'Classifier': r['model'],\n",
    "        'Solver': r['solver'],\n",
    "        'Fit Time (ms)': 1000.0*r['fit_time'],\n",
    "        'Iterations': r['n_iter'],\n",
    "        'Total Iterations': sum(r['n_iter']),\n",
    "        'Score-Testing Data': r['score_test'],\n",
    "        'Score-Training Data': r['score_train'] } )\n",
    "    print(\"\")"
   ]
  },
  {
   "cell_type": "markdown",
   "metadata": {},
   "source": [
    "### Logistic Regression - Scaled: Summary - Voice Dataset"
   ]
  },
  {
   "cell_type": "code",
   "execution_count": 25,
   "metadata": {},
   "outputs": [
    {
     "data": {
      "text/html": [
       "<div>\n",
       "<style scoped>\n",
       "    .dataframe tbody tr th:only-of-type {\n",
       "        vertical-align: middle;\n",
       "    }\n",
       "\n",
       "    .dataframe tbody tr th {\n",
       "        vertical-align: top;\n",
       "    }\n",
       "\n",
       "    .dataframe thead th {\n",
       "        text-align: right;\n",
       "    }\n",
       "</style>\n",
       "<table border=\"1\" class=\"dataframe\">\n",
       "  <thead>\n",
       "    <tr style=\"text-align: right;\">\n",
       "      <th></th>\n",
       "      <th>Dataset</th>\n",
       "      <th>Classifier</th>\n",
       "      <th>Solver</th>\n",
       "      <th>Fit Time (ms)</th>\n",
       "      <th>Iterations</th>\n",
       "      <th>Total Iterations</th>\n",
       "      <th>Score-Testing Data</th>\n",
       "      <th>Score-Training Data</th>\n",
       "    </tr>\n",
       "  </thead>\n",
       "  <tbody>\n",
       "    <tr>\n",
       "      <th>0</th>\n",
       "      <td>Voice</td>\n",
       "      <td>LogisticRegression</td>\n",
       "      <td>liblinear</td>\n",
       "      <td>9.6461</td>\n",
       "      <td>[7]</td>\n",
       "      <td>7</td>\n",
       "      <td>0.977273</td>\n",
       "      <td>0.973064</td>\n",
       "    </tr>\n",
       "    <tr>\n",
       "      <th>1</th>\n",
       "      <td>Voice</td>\n",
       "      <td>LogisticRegression</td>\n",
       "      <td>newton-cg</td>\n",
       "      <td>38.3476</td>\n",
       "      <td>[14]</td>\n",
       "      <td>14</td>\n",
       "      <td>0.977273</td>\n",
       "      <td>0.972222</td>\n",
       "    </tr>\n",
       "    <tr>\n",
       "      <th>2</th>\n",
       "      <td>Voice</td>\n",
       "      <td>LogisticRegression</td>\n",
       "      <td>lbfgs</td>\n",
       "      <td>25.9133</td>\n",
       "      <td>[49]</td>\n",
       "      <td>49</td>\n",
       "      <td>0.977273</td>\n",
       "      <td>0.972222</td>\n",
       "    </tr>\n",
       "    <tr>\n",
       "      <th>3</th>\n",
       "      <td>Voice</td>\n",
       "      <td>LogisticRegression</td>\n",
       "      <td>sag</td>\n",
       "      <td>128.0891</td>\n",
       "      <td>[90]</td>\n",
       "      <td>90</td>\n",
       "      <td>0.977273</td>\n",
       "      <td>0.972222</td>\n",
       "    </tr>\n",
       "    <tr>\n",
       "      <th>4</th>\n",
       "      <td>Voice</td>\n",
       "      <td>LogisticRegression</td>\n",
       "      <td>saga</td>\n",
       "      <td>254.0271</td>\n",
       "      <td>[150]</td>\n",
       "      <td>150</td>\n",
       "      <td>0.977273</td>\n",
       "      <td>0.972222</td>\n",
       "    </tr>\n",
       "  </tbody>\n",
       "</table>\n",
       "</div>"
      ],
      "text/plain": [
       "  Dataset          Classifier     Solver  Fit Time (ms) Iterations  \\\n",
       "0   Voice  LogisticRegression  liblinear         9.6461        [7]   \n",
       "1   Voice  LogisticRegression  newton-cg        38.3476       [14]   \n",
       "2   Voice  LogisticRegression      lbfgs        25.9133       [49]   \n",
       "3   Voice  LogisticRegression        sag       128.0891       [90]   \n",
       "4   Voice  LogisticRegression       saga       254.0271      [150]   \n",
       "\n",
       "   Total Iterations  Score-Testing Data  Score-Training Data  \n",
       "0                 7            0.977273             0.973064  \n",
       "1                14            0.977273             0.972222  \n",
       "2                49            0.977273             0.972222  \n",
       "3                90            0.977273             0.972222  \n",
       "4               150            0.977273             0.972222  "
      ]
     },
     "execution_count": 25,
     "metadata": {},
     "output_type": "execute_result"
    }
   ],
   "source": [
    "summary_lr_voice_df = pd.DataFrame( model_results,\n",
    "          columns=['Dataset', 'Classifier', 'Solver', 'Fit Time (ms)', 'Iterations', 'Total Iterations', 'Score-Testing Data', 'Score-Training Data'])\n",
    "summary_lr_voice_df"
   ]
  },
  {
   "cell_type": "code",
   "execution_count": 26,
   "metadata": {
    "scrolled": true
   },
   "outputs": [
    {
     "data": {
      "text/plain": [
       "Fit Time (ms)          91.204640\n",
       "Total Iterations       62.000000\n",
       "Score-Testing Data      0.977273\n",
       "Score-Training Data     0.972391\n",
       "dtype: float64"
      ]
     },
     "execution_count": 26,
     "metadata": {},
     "output_type": "execute_result"
    }
   ],
   "source": [
    "summary_lr_voice_df.mean()"
   ]
  },
  {
   "cell_type": "code",
   "execution_count": null,
   "metadata": {},
   "outputs": [],
   "source": []
  },
  {
   "cell_type": "markdown",
   "metadata": {},
   "source": [
    "## Classification Model: Decision Tree - Voice Dataset"
   ]
  },
  {
   "cell_type": "markdown",
   "metadata": {},
   "source": [
    "### Decision Tree: Function to Fit Model, Evaluate Performance - Voice Dataset"
   ]
  },
  {
   "cell_type": "code",
   "execution_count": 27,
   "metadata": {},
   "outputs": [],
   "source": [
    "# Function to fit a model to training data, calculate predictions, and create a residuals chart\n",
    "def eval_decisiontree_voice_scaled(a_model):\n",
    "    # Get the name of this model\n",
    "    m_name = str(a_model).split(\"(\",1)[0]\n",
    "    \n",
    "    # Get the maximum tree depth used with this model\n",
    "    m_max_tree_depth = str(a_model).split(\"max_depth=\")[1].split(\",\")[0].replace(\"'\",\"\").replace('\"','')\n",
    "\n",
    "    # Print a separator\n",
    "    print(\"*\"*80)\n",
    "    \n",
    "    # Print the model attributes\n",
    "    print(a_model)\n",
    "    \n",
    "    # Fit the data to the scaled data\n",
    "    m_fit_time = %timeit -n1 -r1 -o a_model.fit(X_train_scaled, y_train)\n",
    "\n",
    "    # Calculate Model performance: MSE and R2\n",
    "    m_score_test = a_model.score(X_test_scaled, y_test)\n",
    "    m_score_train = a_model.score(X_train_scaled, y_train)\n",
    "\n",
    "    print(f\"Performance - Model: {m_name}\\nScore - Test Data: {m_score_test}, Training Data: {m_score_train}\")\n",
    "#     print(f\"coef_: {a_model.coef_}, intercept_: {a_model.intercept_}, n_iter_: {a_model.n_iter_}, \")\n",
    "\n",
    "#     # Generate a confusion matrix of the results for both test and training data\n",
    "#     cm_test = confusion_matrix(y_test, a_model.predict(X_test))\n",
    "#     print(\"\\nConfusion Matrix - Testing Data\")\n",
    "#     print(cm_test)\n",
    "\n",
    "#     cm_train = confusion_matrix(y_train, a_model.predict(X_train))\n",
    "#     print(\"\\nConfusion Matrix - Training Data\")\n",
    "#     print(cm_train)\n",
    "    \n",
    "    # Make predictions using both test and training data\n",
    "    y_predicted_test = a_model.predict(X_test_scaled)\n",
    "    y_predicted_train = a_model.predict(X_train_scaled)\n",
    "    \n",
    "    # Generate a confusion matrix of the results for both test and training data\n",
    "    cm_test = confusion_matrix(y_test, y_predicted_test)\n",
    "    cm_test_df = pd.DataFrame(cm_test, columns = [\"Female (Predicted)\", \"Male (Predicted)\"], index = [\"Female (Actual)\", \"Male (Actual)\"] )\n",
    "    print(\"Confusion Matrix - Testing Data\")\n",
    "    print(cm_test_df)\n",
    "\n",
    "    print(\"\")\n",
    "\n",
    "    cm_train = confusion_matrix(y_train, y_predicted_train)\n",
    "    cm_train_df = pd.DataFrame(cm_train, columns = [\"Female (Predicted)\", \"Male (Predicted)\"], index = [\"Female (Actual)\", \"Male (Actual)\"] )\n",
    "    print(\"Confusion Matrix - Training Data\")\n",
    "    print(cm_train_df)\n",
    "\n",
    "    # Feature Importances\n",
    "    print(\"\\nFeature Importances\")\n",
    "    f_impt = [ { 'factor': iris.feature_names[x], 'importance': classifier.feature_importances_[x] } for x in np.arange(len(iris.feature_names)) ]\n",
    "    f_impt_df = pd.DataFrame(f_impt).sort_values(by='importance', ascending=False)\n",
    "    print(f_impt_df[['factor', 'importance']])\n",
    "    \n",
    "    # Display the Decision Tree using Graphviz\n",
    "#     dot_data = tree.export_graphviz(\n",
    "#                             a_model, out_file=None, \n",
    "#                             feature_names=iris.feature_names,  \n",
    "#                             class_names=iris.target_names,  \n",
    "#                             filled=True, rounded=True, special_characters=True)  \n",
    "\n",
    "#     graph = graphviz.Source(dot_data)  \n",
    "#     graph\n",
    "    \n",
    "    a_result = {\n",
    "        'model': m_name,\n",
    "        'max_depth': m_max_tree_depth,\n",
    "        'fit_time': m_fit_time.average,\n",
    "        'score_test': m_score_test,\n",
    "        'score_train': m_score_train\n",
    "    }\n",
    "    \n",
    "    return a_result"
   ]
  },
  {
   "cell_type": "markdown",
   "metadata": {},
   "source": [
    "### Decision Tree: Iterate Models Parameter - Max Tree Depth - Voice Dataset"
   ]
  },
  {
   "cell_type": "code",
   "execution_count": 28,
   "metadata": {
    "scrolled": true
   },
   "outputs": [
    {
     "name": "stdout",
     "output_type": "stream",
     "text": [
      "********************************************************************************\n",
      "DecisionTreeClassifier(class_weight=None, criterion='gini', max_depth=None,\n",
      "            max_features=None, max_leaf_nodes=None,\n",
      "            min_impurity_decrease=0.0, min_impurity_split=None,\n",
      "            min_samples_leaf=1, min_samples_split=2,\n",
      "            min_weight_fraction_leaf=0.0, presort=False, random_state=None,\n",
      "            splitter='best')\n",
      "32.5 ms ± 0 ns per loop (mean ± std. dev. of 1 run, 1 loop each)\n",
      "Performance - Model: DecisionTreeClassifier\n",
      "Score - Test Data: 0.9722222222222222, Training Data: 1.0\n",
      "Confusion Matrix - Testing Data\n",
      "                 Female (Predicted)  Male (Predicted)\n",
      "Female (Actual)                 387                 9\n",
      "Male (Actual)                    13               383\n",
      "\n",
      "Confusion Matrix - Training Data\n",
      "                 Female (Predicted)  Male (Predicted)\n",
      "Female (Actual)                1188                 0\n",
      "Male (Actual)                     0              1188\n",
      "\n",
      "Feature Importances\n",
      "              factor  importance\n",
      "0  sepal length (cm)    0.005914\n",
      "1   sepal width (cm)    0.004716\n",
      "3   petal width (cm)    0.002899\n",
      "2  petal length (cm)    0.002148\n",
      "\n",
      "********************************************************************************\n",
      "DecisionTreeClassifier(class_weight=None, criterion='gini', max_depth=16,\n",
      "            max_features=None, max_leaf_nodes=None,\n",
      "            min_impurity_decrease=0.0, min_impurity_split=None,\n",
      "            min_samples_leaf=1, min_samples_split=2,\n",
      "            min_weight_fraction_leaf=0.0, presort=False, random_state=None,\n",
      "            splitter='best')\n",
      "32 ms ± 0 ns per loop (mean ± std. dev. of 1 run, 1 loop each)\n",
      "Performance - Model: DecisionTreeClassifier\n",
      "Score - Test Data: 0.976010101010101, Training Data: 1.0\n",
      "Confusion Matrix - Testing Data\n",
      "                 Female (Predicted)  Male (Predicted)\n",
      "Female (Actual)                 388                 8\n",
      "Male (Actual)                    11               385\n",
      "\n",
      "Confusion Matrix - Training Data\n",
      "                 Female (Predicted)  Male (Predicted)\n",
      "Female (Actual)                1188                 0\n",
      "Male (Actual)                     0              1188\n",
      "\n",
      "Feature Importances\n",
      "              factor  importance\n",
      "1   sepal width (cm)    0.004716\n",
      "3   petal width (cm)    0.003688\n",
      "0  sepal length (cm)    0.001629\n",
      "2  petal length (cm)    0.000000\n",
      "\n",
      "********************************************************************************\n",
      "DecisionTreeClassifier(class_weight=None, criterion='gini', max_depth=8,\n",
      "            max_features=None, max_leaf_nodes=None,\n",
      "            min_impurity_decrease=0.0, min_impurity_split=None,\n",
      "            min_samples_leaf=1, min_samples_split=2,\n",
      "            min_weight_fraction_leaf=0.0, presort=False, random_state=None,\n",
      "            splitter='best')\n",
      "32.2 ms ± 0 ns per loop (mean ± std. dev. of 1 run, 1 loop each)\n",
      "Performance - Model: DecisionTreeClassifier\n",
      "Score - Test Data: 0.9709595959595959, Training Data: 0.9983164983164983\n",
      "Confusion Matrix - Testing Data\n",
      "                 Female (Predicted)  Male (Predicted)\n",
      "Female (Actual)                 387                 9\n",
      "Male (Actual)                    14               382\n",
      "\n",
      "Confusion Matrix - Training Data\n",
      "                 Female (Predicted)  Male (Predicted)\n",
      "Female (Actual)                1186                 2\n",
      "Male (Actual)                     2              1186\n",
      "\n",
      "Feature Importances\n",
      "              factor  importance\n",
      "1   sepal width (cm)    0.004742\n",
      "0  sepal length (cm)    0.001638\n",
      "2  petal length (cm)    0.000000\n",
      "3   petal width (cm)    0.000000\n",
      "\n",
      "********************************************************************************\n",
      "DecisionTreeClassifier(class_weight=None, criterion='gini', max_depth=4,\n",
      "            max_features=None, max_leaf_nodes=None,\n",
      "            min_impurity_decrease=0.0, min_impurity_split=None,\n",
      "            min_samples_leaf=1, min_samples_split=2,\n",
      "            min_weight_fraction_leaf=0.0, presort=False, random_state=None,\n",
      "            splitter='best')\n",
      "21.8 ms ± 0 ns per loop (mean ± std. dev. of 1 run, 1 loop each)\n",
      "Performance - Model: DecisionTreeClassifier\n",
      "Score - Test Data: 0.976010101010101, Training Data: 0.9810606060606061\n",
      "Confusion Matrix - Testing Data\n",
      "                 Female (Predicted)  Male (Predicted)\n",
      "Female (Actual)                 390                 6\n",
      "Male (Actual)                    13               383\n",
      "\n",
      "Confusion Matrix - Training Data\n",
      "                 Female (Predicted)  Male (Predicted)\n",
      "Female (Actual)                1176                12\n",
      "Male (Actual)                    33              1155\n",
      "\n",
      "Feature Importances\n",
      "              factor  importance\n",
      "0  sepal length (cm)    0.001741\n",
      "1   sepal width (cm)    0.000000\n",
      "2  petal length (cm)    0.000000\n",
      "3   petal width (cm)    0.000000\n",
      "\n",
      "********************************************************************************\n",
      "DecisionTreeClassifier(class_weight=None, criterion='gini', max_depth=2,\n",
      "            max_features=None, max_leaf_nodes=None,\n",
      "            min_impurity_decrease=0.0, min_impurity_split=None,\n",
      "            min_samples_leaf=1, min_samples_split=2,\n",
      "            min_weight_fraction_leaf=0.0, presort=False, random_state=None,\n",
      "            splitter='best')\n",
      "11.6 ms ± 0 ns per loop (mean ± std. dev. of 1 run, 1 loop each)\n",
      "Performance - Model: DecisionTreeClassifier\n",
      "Score - Test Data: 0.9633838383838383, Training Data: 0.9625420875420876\n",
      "Confusion Matrix - Testing Data\n",
      "                 Female (Predicted)  Male (Predicted)\n",
      "Female (Actual)                 388                 8\n",
      "Male (Actual)                    21               375\n",
      "\n",
      "Confusion Matrix - Training Data\n",
      "                 Female (Predicted)  Male (Predicted)\n",
      "Female (Actual)                1160                28\n",
      "Male (Actual)                    61              1127\n",
      "\n",
      "Feature Importances\n",
      "              factor  importance\n",
      "0  sepal length (cm)         0.0\n",
      "1   sepal width (cm)         0.0\n",
      "2  petal length (cm)         0.0\n",
      "3   petal width (cm)         0.0\n",
      "\n",
      "********************************************************************************\n",
      "DecisionTreeClassifier(class_weight=None, criterion='gini', max_depth=1,\n",
      "            max_features=None, max_leaf_nodes=None,\n",
      "            min_impurity_decrease=0.0, min_impurity_split=None,\n",
      "            min_samples_leaf=1, min_samples_split=2,\n",
      "            min_weight_fraction_leaf=0.0, presort=False, random_state=None,\n",
      "            splitter='best')\n",
      "6.37 ms ± 0 ns per loop (mean ± std. dev. of 1 run, 1 loop each)\n",
      "Performance - Model: DecisionTreeClassifier\n",
      "Score - Test Data: 0.9558080808080808, Training Data: 0.9532828282828283\n",
      "Confusion Matrix - Testing Data\n",
      "                 Female (Predicted)  Male (Predicted)\n",
      "Female (Actual)                 374                22\n",
      "Male (Actual)                    13               383\n",
      "\n",
      "Confusion Matrix - Training Data\n",
      "                 Female (Predicted)  Male (Predicted)\n",
      "Female (Actual)                1118                70\n",
      "Male (Actual)                    41              1147\n",
      "\n",
      "Feature Importances\n",
      "              factor  importance\n",
      "0  sepal length (cm)         0.0\n",
      "1   sepal width (cm)         0.0\n",
      "2  petal length (cm)         0.0\n",
      "3   petal width (cm)         0.0\n",
      "\n"
     ]
    }
   ],
   "source": [
    "# Initialize list of dictionary of results for summary in a dataframe later\n",
    "model_results = []\n",
    "\n",
    "# List of tree max depth values over which to iterate\n",
    "max_depth_list = [ None, 16, 8, 4, 2, 1 ]\n",
    "\n",
    "# Generate classifer and an associated performance report for each\n",
    "for md in max_depth_list:\n",
    "    # Create a classifier model\n",
    "    classifier = tree.DecisionTreeClassifier(max_depth=md)\n",
    "    \n",
    "    # Evaluate the classifer performance, create a plot of \n",
    "#     r = eval_decisiontree(classifier)\n",
    "    r = eval_decisiontree_voice_scaled(classifier)\n",
    "    model_results.append( {\n",
    "        'Dataset': 'Voice',\n",
    "        'Classifier': r['model'],\n",
    "        'Max Tree Depth': r['max_depth'],\n",
    "        'Fit Time (ms)': 1000.0*r['fit_time'],\n",
    "        'Score-Testing Data': r['score_test'],\n",
    "        'Score-Training Data': r['score_train'] } )\n",
    "    print(\"\")"
   ]
  },
  {
   "cell_type": "markdown",
   "metadata": {},
   "source": [
    "### Decision Tree - Scaled: Summary - Voice Dataset"
   ]
  },
  {
   "cell_type": "code",
   "execution_count": 29,
   "metadata": {},
   "outputs": [
    {
     "data": {
      "text/html": [
       "<div>\n",
       "<style scoped>\n",
       "    .dataframe tbody tr th:only-of-type {\n",
       "        vertical-align: middle;\n",
       "    }\n",
       "\n",
       "    .dataframe tbody tr th {\n",
       "        vertical-align: top;\n",
       "    }\n",
       "\n",
       "    .dataframe thead th {\n",
       "        text-align: right;\n",
       "    }\n",
       "</style>\n",
       "<table border=\"1\" class=\"dataframe\">\n",
       "  <thead>\n",
       "    <tr style=\"text-align: right;\">\n",
       "      <th></th>\n",
       "      <th>Dataset</th>\n",
       "      <th>Classifier</th>\n",
       "      <th>Max Tree Depth</th>\n",
       "      <th>Fit Time (ms)</th>\n",
       "      <th>Score-Testing Data</th>\n",
       "      <th>Score-Training Data</th>\n",
       "    </tr>\n",
       "  </thead>\n",
       "  <tbody>\n",
       "    <tr>\n",
       "      <th>0</th>\n",
       "      <td>Voice</td>\n",
       "      <td>DecisionTreeClassifier</td>\n",
       "      <td>None</td>\n",
       "      <td>32.5455</td>\n",
       "      <td>0.972222</td>\n",
       "      <td>1.000000</td>\n",
       "    </tr>\n",
       "    <tr>\n",
       "      <th>1</th>\n",
       "      <td>Voice</td>\n",
       "      <td>DecisionTreeClassifier</td>\n",
       "      <td>16</td>\n",
       "      <td>32.0025</td>\n",
       "      <td>0.976010</td>\n",
       "      <td>1.000000</td>\n",
       "    </tr>\n",
       "    <tr>\n",
       "      <th>2</th>\n",
       "      <td>Voice</td>\n",
       "      <td>DecisionTreeClassifier</td>\n",
       "      <td>8</td>\n",
       "      <td>32.1797</td>\n",
       "      <td>0.970960</td>\n",
       "      <td>0.998316</td>\n",
       "    </tr>\n",
       "    <tr>\n",
       "      <th>3</th>\n",
       "      <td>Voice</td>\n",
       "      <td>DecisionTreeClassifier</td>\n",
       "      <td>4</td>\n",
       "      <td>21.7759</td>\n",
       "      <td>0.976010</td>\n",
       "      <td>0.981061</td>\n",
       "    </tr>\n",
       "    <tr>\n",
       "      <th>4</th>\n",
       "      <td>Voice</td>\n",
       "      <td>DecisionTreeClassifier</td>\n",
       "      <td>2</td>\n",
       "      <td>11.5980</td>\n",
       "      <td>0.963384</td>\n",
       "      <td>0.962542</td>\n",
       "    </tr>\n",
       "    <tr>\n",
       "      <th>5</th>\n",
       "      <td>Voice</td>\n",
       "      <td>DecisionTreeClassifier</td>\n",
       "      <td>1</td>\n",
       "      <td>6.3665</td>\n",
       "      <td>0.955808</td>\n",
       "      <td>0.953283</td>\n",
       "    </tr>\n",
       "  </tbody>\n",
       "</table>\n",
       "</div>"
      ],
      "text/plain": [
       "  Dataset              Classifier Max Tree Depth  Fit Time (ms)  \\\n",
       "0   Voice  DecisionTreeClassifier           None        32.5455   \n",
       "1   Voice  DecisionTreeClassifier             16        32.0025   \n",
       "2   Voice  DecisionTreeClassifier              8        32.1797   \n",
       "3   Voice  DecisionTreeClassifier              4        21.7759   \n",
       "4   Voice  DecisionTreeClassifier              2        11.5980   \n",
       "5   Voice  DecisionTreeClassifier              1         6.3665   \n",
       "\n",
       "   Score-Testing Data  Score-Training Data  \n",
       "0            0.972222             1.000000  \n",
       "1            0.976010             1.000000  \n",
       "2            0.970960             0.998316  \n",
       "3            0.976010             0.981061  \n",
       "4            0.963384             0.962542  \n",
       "5            0.955808             0.953283  "
      ]
     },
     "execution_count": 29,
     "metadata": {},
     "output_type": "execute_result"
    }
   ],
   "source": [
    "summary_dt_voice_df = pd.DataFrame( model_results,\n",
    "          columns=['Dataset', 'Classifier', 'Max Tree Depth', 'Fit Time (ms)', 'Score-Testing Data', 'Score-Training Data'])\n",
    "summary_dt_voice_df"
   ]
  },
  {
   "cell_type": "code",
   "execution_count": 30,
   "metadata": {},
   "outputs": [
    {
     "data": {
      "text/plain": [
       "Fit Time (ms)          22.744683\n",
       "Score-Testing Data      0.969066\n",
       "Score-Training Data     0.982534\n",
       "dtype: float64"
      ]
     },
     "execution_count": 30,
     "metadata": {},
     "output_type": "execute_result"
    }
   ],
   "source": [
    "summary_dt_voice_df.mean()"
   ]
  },
  {
   "cell_type": "code",
   "execution_count": null,
   "metadata": {},
   "outputs": [],
   "source": []
  },
  {
   "cell_type": "markdown",
   "metadata": {},
   "source": [
    "## Overall Results"
   ]
  },
  {
   "cell_type": "code",
   "execution_count": 31,
   "metadata": {},
   "outputs": [],
   "source": [
    "# Get the summary results for each set of classification runs\n",
    "dt_iris_subset_df = summary_dt_iris_df[\n",
    "    ['Dataset', 'Classifier', 'Max Tree Depth',\n",
    "     'Fit Time (ms)', 'Score-Testing Data', 'Score-Training Data']]\n",
    "\n",
    "lr_iris_subset_df = summary_lr_iris_df[\n",
    "    ['Dataset', 'Classifier', 'Solver', 'Iterations', 'Total Iterations',\n",
    "     'Fit Time (ms)', 'Score-Testing Data', 'Score-Training Data']]\n",
    "\n",
    "dt_voice_subset_df = summary_dt_voice_df[\n",
    "    ['Dataset', 'Classifier', 'Max Tree Depth',\n",
    "     'Fit Time (ms)', 'Score-Testing Data', 'Score-Training Data']]\n",
    "\n",
    "lr_voice_subset_df = summary_lr_voice_df[\n",
    "    ['Dataset', 'Classifier', 'Solver', 'Iterations', 'Total Iterations',\n",
    "     'Fit Time (ms)', 'Score-Testing Data', 'Score-Training Data']]"
   ]
  },
  {
   "cell_type": "code",
   "execution_count": 32,
   "metadata": {},
   "outputs": [
    {
     "data": {
      "text/html": [
       "<div>\n",
       "<style scoped>\n",
       "    .dataframe tbody tr th:only-of-type {\n",
       "        vertical-align: middle;\n",
       "    }\n",
       "\n",
       "    .dataframe tbody tr th {\n",
       "        vertical-align: top;\n",
       "    }\n",
       "\n",
       "    .dataframe thead th {\n",
       "        text-align: right;\n",
       "    }\n",
       "</style>\n",
       "<table border=\"1\" class=\"dataframe\">\n",
       "  <thead>\n",
       "    <tr style=\"text-align: right;\">\n",
       "      <th></th>\n",
       "      <th>Dataset</th>\n",
       "      <th>Classifier</th>\n",
       "      <th>Solver</th>\n",
       "      <th>Iterations</th>\n",
       "      <th>Total Iterations</th>\n",
       "      <th>Max Tree Depth</th>\n",
       "      <th>Fit Time (ms)</th>\n",
       "      <th>Score-Testing Data</th>\n",
       "      <th>Score-Training Data</th>\n",
       "    </tr>\n",
       "  </thead>\n",
       "  <tbody>\n",
       "    <tr>\n",
       "      <th>0</th>\n",
       "      <td>Iris</td>\n",
       "      <td>DecisionTreeClassifier</td>\n",
       "      <td>NaN</td>\n",
       "      <td>NaN</td>\n",
       "      <td>NaN</td>\n",
       "      <td>None</td>\n",
       "      <td>0.7630</td>\n",
       "      <td>0.947368</td>\n",
       "      <td>1.000000</td>\n",
       "    </tr>\n",
       "    <tr>\n",
       "      <th>1</th>\n",
       "      <td>Iris</td>\n",
       "      <td>DecisionTreeClassifier</td>\n",
       "      <td>NaN</td>\n",
       "      <td>NaN</td>\n",
       "      <td>NaN</td>\n",
       "      <td>16</td>\n",
       "      <td>0.5538</td>\n",
       "      <td>0.947368</td>\n",
       "      <td>1.000000</td>\n",
       "    </tr>\n",
       "    <tr>\n",
       "      <th>2</th>\n",
       "      <td>Iris</td>\n",
       "      <td>DecisionTreeClassifier</td>\n",
       "      <td>NaN</td>\n",
       "      <td>NaN</td>\n",
       "      <td>NaN</td>\n",
       "      <td>8</td>\n",
       "      <td>0.4953</td>\n",
       "      <td>0.947368</td>\n",
       "      <td>1.000000</td>\n",
       "    </tr>\n",
       "    <tr>\n",
       "      <th>3</th>\n",
       "      <td>Iris</td>\n",
       "      <td>DecisionTreeClassifier</td>\n",
       "      <td>NaN</td>\n",
       "      <td>NaN</td>\n",
       "      <td>NaN</td>\n",
       "      <td>4</td>\n",
       "      <td>0.6385</td>\n",
       "      <td>0.973684</td>\n",
       "      <td>0.973214</td>\n",
       "    </tr>\n",
       "    <tr>\n",
       "      <th>4</th>\n",
       "      <td>Iris</td>\n",
       "      <td>DecisionTreeClassifier</td>\n",
       "      <td>NaN</td>\n",
       "      <td>NaN</td>\n",
       "      <td>NaN</td>\n",
       "      <td>2</td>\n",
       "      <td>0.4899</td>\n",
       "      <td>0.947368</td>\n",
       "      <td>0.955357</td>\n",
       "    </tr>\n",
       "    <tr>\n",
       "      <th>5</th>\n",
       "      <td>Iris</td>\n",
       "      <td>DecisionTreeClassifier</td>\n",
       "      <td>NaN</td>\n",
       "      <td>NaN</td>\n",
       "      <td>NaN</td>\n",
       "      <td>1</td>\n",
       "      <td>0.4002</td>\n",
       "      <td>0.657895</td>\n",
       "      <td>0.669643</td>\n",
       "    </tr>\n",
       "    <tr>\n",
       "      <th>6</th>\n",
       "      <td>Iris</td>\n",
       "      <td>LogisticRegression</td>\n",
       "      <td>liblinear</td>\n",
       "      <td>[6]</td>\n",
       "      <td>6.0</td>\n",
       "      <td>NaN</td>\n",
       "      <td>25.3302</td>\n",
       "      <td>0.894737</td>\n",
       "      <td>0.901786</td>\n",
       "    </tr>\n",
       "    <tr>\n",
       "      <th>7</th>\n",
       "      <td>Iris</td>\n",
       "      <td>LogisticRegression</td>\n",
       "      <td>newton-cg</td>\n",
       "      <td>[10, 7, 8]</td>\n",
       "      <td>25.0</td>\n",
       "      <td>NaN</td>\n",
       "      <td>14.6039</td>\n",
       "      <td>0.947368</td>\n",
       "      <td>0.910714</td>\n",
       "    </tr>\n",
       "    <tr>\n",
       "      <th>8</th>\n",
       "      <td>Iris</td>\n",
       "      <td>LogisticRegression</td>\n",
       "      <td>lbfgs</td>\n",
       "      <td>[13, 14, 15]</td>\n",
       "      <td>42.0</td>\n",
       "      <td>NaN</td>\n",
       "      <td>7.6848</td>\n",
       "      <td>0.947368</td>\n",
       "      <td>0.910714</td>\n",
       "    </tr>\n",
       "    <tr>\n",
       "      <th>9</th>\n",
       "      <td>Iris</td>\n",
       "      <td>LogisticRegression</td>\n",
       "      <td>sag</td>\n",
       "      <td>[22, 24, 18]</td>\n",
       "      <td>64.0</td>\n",
       "      <td>NaN</td>\n",
       "      <td>4.8775</td>\n",
       "      <td>0.947368</td>\n",
       "      <td>0.910714</td>\n",
       "    </tr>\n",
       "    <tr>\n",
       "      <th>10</th>\n",
       "      <td>Iris</td>\n",
       "      <td>LogisticRegression</td>\n",
       "      <td>saga</td>\n",
       "      <td>[45, 42, 54]</td>\n",
       "      <td>141.0</td>\n",
       "      <td>NaN</td>\n",
       "      <td>8.6780</td>\n",
       "      <td>0.947368</td>\n",
       "      <td>0.910714</td>\n",
       "    </tr>\n",
       "    <tr>\n",
       "      <th>11</th>\n",
       "      <td>Voice</td>\n",
       "      <td>DecisionTreeClassifier</td>\n",
       "      <td>NaN</td>\n",
       "      <td>NaN</td>\n",
       "      <td>NaN</td>\n",
       "      <td>None</td>\n",
       "      <td>32.5455</td>\n",
       "      <td>0.972222</td>\n",
       "      <td>1.000000</td>\n",
       "    </tr>\n",
       "    <tr>\n",
       "      <th>12</th>\n",
       "      <td>Voice</td>\n",
       "      <td>DecisionTreeClassifier</td>\n",
       "      <td>NaN</td>\n",
       "      <td>NaN</td>\n",
       "      <td>NaN</td>\n",
       "      <td>16</td>\n",
       "      <td>32.0025</td>\n",
       "      <td>0.976010</td>\n",
       "      <td>1.000000</td>\n",
       "    </tr>\n",
       "    <tr>\n",
       "      <th>13</th>\n",
       "      <td>Voice</td>\n",
       "      <td>DecisionTreeClassifier</td>\n",
       "      <td>NaN</td>\n",
       "      <td>NaN</td>\n",
       "      <td>NaN</td>\n",
       "      <td>8</td>\n",
       "      <td>32.1797</td>\n",
       "      <td>0.970960</td>\n",
       "      <td>0.998316</td>\n",
       "    </tr>\n",
       "    <tr>\n",
       "      <th>14</th>\n",
       "      <td>Voice</td>\n",
       "      <td>DecisionTreeClassifier</td>\n",
       "      <td>NaN</td>\n",
       "      <td>NaN</td>\n",
       "      <td>NaN</td>\n",
       "      <td>4</td>\n",
       "      <td>21.7759</td>\n",
       "      <td>0.976010</td>\n",
       "      <td>0.981061</td>\n",
       "    </tr>\n",
       "    <tr>\n",
       "      <th>15</th>\n",
       "      <td>Voice</td>\n",
       "      <td>DecisionTreeClassifier</td>\n",
       "      <td>NaN</td>\n",
       "      <td>NaN</td>\n",
       "      <td>NaN</td>\n",
       "      <td>2</td>\n",
       "      <td>11.5980</td>\n",
       "      <td>0.963384</td>\n",
       "      <td>0.962542</td>\n",
       "    </tr>\n",
       "    <tr>\n",
       "      <th>16</th>\n",
       "      <td>Voice</td>\n",
       "      <td>DecisionTreeClassifier</td>\n",
       "      <td>NaN</td>\n",
       "      <td>NaN</td>\n",
       "      <td>NaN</td>\n",
       "      <td>1</td>\n",
       "      <td>6.3665</td>\n",
       "      <td>0.955808</td>\n",
       "      <td>0.953283</td>\n",
       "    </tr>\n",
       "    <tr>\n",
       "      <th>17</th>\n",
       "      <td>Voice</td>\n",
       "      <td>LogisticRegression</td>\n",
       "      <td>liblinear</td>\n",
       "      <td>[7]</td>\n",
       "      <td>7.0</td>\n",
       "      <td>NaN</td>\n",
       "      <td>9.6461</td>\n",
       "      <td>0.977273</td>\n",
       "      <td>0.973064</td>\n",
       "    </tr>\n",
       "    <tr>\n",
       "      <th>18</th>\n",
       "      <td>Voice</td>\n",
       "      <td>LogisticRegression</td>\n",
       "      <td>newton-cg</td>\n",
       "      <td>[14]</td>\n",
       "      <td>14.0</td>\n",
       "      <td>NaN</td>\n",
       "      <td>38.3476</td>\n",
       "      <td>0.977273</td>\n",
       "      <td>0.972222</td>\n",
       "    </tr>\n",
       "    <tr>\n",
       "      <th>19</th>\n",
       "      <td>Voice</td>\n",
       "      <td>LogisticRegression</td>\n",
       "      <td>lbfgs</td>\n",
       "      <td>[49]</td>\n",
       "      <td>49.0</td>\n",
       "      <td>NaN</td>\n",
       "      <td>25.9133</td>\n",
       "      <td>0.977273</td>\n",
       "      <td>0.972222</td>\n",
       "    </tr>\n",
       "    <tr>\n",
       "      <th>20</th>\n",
       "      <td>Voice</td>\n",
       "      <td>LogisticRegression</td>\n",
       "      <td>sag</td>\n",
       "      <td>[90]</td>\n",
       "      <td>90.0</td>\n",
       "      <td>NaN</td>\n",
       "      <td>128.0891</td>\n",
       "      <td>0.977273</td>\n",
       "      <td>0.972222</td>\n",
       "    </tr>\n",
       "    <tr>\n",
       "      <th>21</th>\n",
       "      <td>Voice</td>\n",
       "      <td>LogisticRegression</td>\n",
       "      <td>saga</td>\n",
       "      <td>[150]</td>\n",
       "      <td>150.0</td>\n",
       "      <td>NaN</td>\n",
       "      <td>254.0271</td>\n",
       "      <td>0.977273</td>\n",
       "      <td>0.972222</td>\n",
       "    </tr>\n",
       "  </tbody>\n",
       "</table>\n",
       "</div>"
      ],
      "text/plain": [
       "   Dataset              Classifier     Solver    Iterations  Total Iterations  \\\n",
       "0     Iris  DecisionTreeClassifier        NaN           NaN               NaN   \n",
       "1     Iris  DecisionTreeClassifier        NaN           NaN               NaN   \n",
       "2     Iris  DecisionTreeClassifier        NaN           NaN               NaN   \n",
       "3     Iris  DecisionTreeClassifier        NaN           NaN               NaN   \n",
       "4     Iris  DecisionTreeClassifier        NaN           NaN               NaN   \n",
       "5     Iris  DecisionTreeClassifier        NaN           NaN               NaN   \n",
       "6     Iris      LogisticRegression  liblinear           [6]               6.0   \n",
       "7     Iris      LogisticRegression  newton-cg    [10, 7, 8]              25.0   \n",
       "8     Iris      LogisticRegression      lbfgs  [13, 14, 15]              42.0   \n",
       "9     Iris      LogisticRegression        sag  [22, 24, 18]              64.0   \n",
       "10    Iris      LogisticRegression       saga  [45, 42, 54]             141.0   \n",
       "11   Voice  DecisionTreeClassifier        NaN           NaN               NaN   \n",
       "12   Voice  DecisionTreeClassifier        NaN           NaN               NaN   \n",
       "13   Voice  DecisionTreeClassifier        NaN           NaN               NaN   \n",
       "14   Voice  DecisionTreeClassifier        NaN           NaN               NaN   \n",
       "15   Voice  DecisionTreeClassifier        NaN           NaN               NaN   \n",
       "16   Voice  DecisionTreeClassifier        NaN           NaN               NaN   \n",
       "17   Voice      LogisticRegression  liblinear           [7]               7.0   \n",
       "18   Voice      LogisticRegression  newton-cg          [14]              14.0   \n",
       "19   Voice      LogisticRegression      lbfgs          [49]              49.0   \n",
       "20   Voice      LogisticRegression        sag          [90]              90.0   \n",
       "21   Voice      LogisticRegression       saga         [150]             150.0   \n",
       "\n",
       "   Max Tree Depth  Fit Time (ms)  Score-Testing Data  Score-Training Data  \n",
       "0            None         0.7630            0.947368             1.000000  \n",
       "1              16         0.5538            0.947368             1.000000  \n",
       "2               8         0.4953            0.947368             1.000000  \n",
       "3               4         0.6385            0.973684             0.973214  \n",
       "4               2         0.4899            0.947368             0.955357  \n",
       "5               1         0.4002            0.657895             0.669643  \n",
       "6             NaN        25.3302            0.894737             0.901786  \n",
       "7             NaN        14.6039            0.947368             0.910714  \n",
       "8             NaN         7.6848            0.947368             0.910714  \n",
       "9             NaN         4.8775            0.947368             0.910714  \n",
       "10            NaN         8.6780            0.947368             0.910714  \n",
       "11           None        32.5455            0.972222             1.000000  \n",
       "12             16        32.0025            0.976010             1.000000  \n",
       "13              8        32.1797            0.970960             0.998316  \n",
       "14              4        21.7759            0.976010             0.981061  \n",
       "15              2        11.5980            0.963384             0.962542  \n",
       "16              1         6.3665            0.955808             0.953283  \n",
       "17            NaN         9.6461            0.977273             0.973064  \n",
       "18            NaN        38.3476            0.977273             0.972222  \n",
       "19            NaN        25.9133            0.977273             0.972222  \n",
       "20            NaN       128.0891            0.977273             0.972222  \n",
       "21            NaN       254.0271            0.977273             0.972222  "
      ]
     },
     "execution_count": 32,
     "metadata": {},
     "output_type": "execute_result"
    }
   ],
   "source": [
    "# Combine the results into an overall summary dataframe\n",
    "overall_df = pd.concat([dt_iris_subset_df, lr_iris_subset_df,\n",
    "                        dt_voice_subset_df, lr_voice_subset_df], sort=True).reset_index(drop=True)\n",
    "overall_df = overall_df[['Dataset', 'Classifier',\n",
    "                         'Solver', 'Iterations', 'Total Iterations',\n",
    "                         'Max Tree Depth', \n",
    "                         'Fit Time (ms)', 'Score-Testing Data', 'Score-Training Data' ]]\n",
    "overall_df"
   ]
  },
  {
   "cell_type": "code",
   "execution_count": 33,
   "metadata": {},
   "outputs": [],
   "source": [
    "# Function: Gather data needed for plots for each Dataset and Classifier\n",
    "def get_plot_data(a_x_col, a_y_col):\n",
    "    \n",
    "    # Sort the dataframe in ascending order by the column a_x_col\n",
    "    sorted_df = overall_df.sort_values(by=a_x_col, ascending=True)\n",
    "    \n",
    "    plt_list = []\n",
    "    plt_i = 0\n",
    "    for ds in sorted_df['Dataset'].unique():\n",
    "        for cls in sorted_df['Classifier'].unique():\n",
    "            \n",
    "            \n",
    "\n",
    "            x_val = list(sorted_df[a_x_col]\n",
    "                             [ (sorted_df['Dataset']==ds) & (sorted_df['Classifier']==cls) ])\n",
    "\n",
    "            y_val = list(sorted_df[a_y_col]\n",
    "                             [ (sorted_df['Dataset']==ds) & (sorted_df['Classifier']==cls) ])\n",
    "            \n",
    "            solver_val = list(sorted_df['Solver']\n",
    "                             [ (sorted_df['Dataset']==ds) & (sorted_df['Classifier']==cls) \n",
    "                                & sorted_df['Solver'].notnull() ])\n",
    "\n",
    "            tot_iter_val = list(sorted_df['Total Iterations']\n",
    "                             [ (sorted_df['Dataset']==ds) & (sorted_df['Classifier']==cls) \n",
    "                                & sorted_df['Total Iterations'].notnull() ])\n",
    "\n",
    "            max_depth_val = list(sorted_df['Max Tree Depth']\n",
    "                             [ (sorted_df['Dataset']==ds) & (sorted_df['Classifier']==cls) \n",
    "                                & sorted_df['Max Tree Depth'].notnull() ])\n",
    "\n",
    "            plt_info = {\n",
    "                'title': f\"Dataset {ds}/Classifer {cls}\",\n",
    "                'x_column': a_x_col,\n",
    "                'x': x_val,\n",
    "                'y_column': a_y_col,\n",
    "                'y': y_val,\n",
    "                'solver': solver_val,\n",
    "                'tot_iter': tot_iter_val,\n",
    "                'max_depth': max_depth_val\n",
    "            }\n",
    "\n",
    "            plt_list.append(plt_info)\n",
    "            plt_i += 1\n",
    "    return plt_list\n",
    "        \n",
    "# Columns to plot\n",
    "x_column = 'Fit Time (ms)'\n",
    "y_column = 'Score-Testing Data'\n",
    "\n",
    "p_info_list = get_plot_data(x_column, y_column)\n",
    "# pprint(p_info_list)"
   ]
  },
  {
   "cell_type": "code",
   "execution_count": 34,
   "metadata": {},
   "outputs": [],
   "source": [
    "# Function: Setup the axes and plots\n",
    "def create_plot(a_ax, a_plt_info):\n",
    "    \n",
    "    # Set the title\n",
    "    a_ax.set_title(a_plt_info['title'])\n",
    "    \n",
    "    # Set the y-axis range to (0,1), normal range for model scores\n",
    "    a_ax.set_ylabel(a_plt_info['y_column'])\n",
    "    a_ax.set_ylim(0,1.1)\n",
    "    \n",
    "    # Set the x-axis minimum to 0 and maximum to the max Fit Time overall\n",
    "    a_ax.set_xlabel(a_plt_info['x_column'])\n",
    "    a_ax.set_xlim(0, 1.1*max(a_plt_info['x']))\n",
    "    \n",
    "    # Plot the data\n",
    "    a_ax.scatter( a_plt_info['x'], a_plt_info['y'], c=\"b\" )\n",
    "    \n",
    "    # Plot a linear trend line\n",
    "    z = np.polyfit(a_plt_info['x'], a_plt_info['y'], 1)\n",
    "    p = np.poly1d(z)\n",
    "    a_ax.plot( a_plt_info['x'], p(a_plt_info['x']), c=\"r\", linestyle='-', linewidth=0.5 )\n",
    "    \n",
    "    # Add grid lines\n",
    "    a_ax.grid(c='k', linestyle='-', linewidth=0.2)\n",
    "    \n",
    "    # Add text to the first datapoint\n",
    "    first_point_text = f\"({a_plt_info['x'][0]:0.2f}, {a_plt_info['y'][0]:0.2f})\"\n",
    "    \n",
    "    try:\n",
    "        first_point_text += f\"\\nSolver: {a_plt_info['solver'][0]}\"\n",
    "        first_point_text += f\"\\nTotal Iterations: {a_plt_info['tot_iter'][0]}\"\n",
    "\n",
    "    except:\n",
    "        pass\n",
    "    \n",
    "    try:\n",
    "        first_point_text += f\"\\nMax Depth: {a_plt_info['max_depth'][0]}\"\n",
    "    except:\n",
    "        pass\n",
    "    \n",
    "    a_ax.text( 0.85*a_plt_info['x'][0], 0.82*a_plt_info['y'][0], first_point_text )\n",
    "    \n",
    "    # Add text to the last datapoint\n",
    "    last_point_text = f\"({a_plt_info['x'][-1]:0.2f}, {a_plt_info['y'][-1]:0.2f})\"\n",
    "    \n",
    "    try:\n",
    "        last_point_text += f\"\\nSolver: {a_plt_info['solver'][-1]}\"\n",
    "        last_point_text += f\"\\nTotal Iterations: {a_plt_info['tot_iter'][-1]}\"\n",
    "\n",
    "    except:\n",
    "        pass\n",
    "    \n",
    "    try:\n",
    "        last_point_text += f\"\\nMax Depth: {a_plt_info['max_depth'][-1]}\"\n",
    "    except:\n",
    "        pass\n",
    "        \n",
    "    a_ax.text( 0.85*a_plt_info['x'][-1], 0.82*a_plt_info['y'][-1], last_point_text )\n",
    "\n",
    "        "
   ]
  },
  {
   "cell_type": "code",
   "execution_count": 35,
   "metadata": {},
   "outputs": [
    {
     "data": {
      "image/png": "[encoded data removed]",
      "text/plain": [
       "<Figure size 864x720 with 4 Axes>"
      ]
     },
     "metadata": {
      "needs_background": "light"
     },
     "output_type": "display_data"
    }
   ],
   "source": [
    "# Plot Classification Performance results\n",
    "fig1 = plt.figure(figsize=(12,10))\n",
    "ax_list = []\n",
    "p_i = 0\n",
    "\n",
    "for p_info in p_info_list:\n",
    "    ax_list.append( fig1.add_subplot(2, math.ceil(len(p_info_list)/2), p_i+1) )\n",
    "    create_plot(ax_list[p_i], p_info)\n",
    "    p_i += 1\n",
    "    \n",
    "    \n",
    "# Save the image - use it for Summary of Analysis at the top of the notebook\n",
    "plt.savefig('docs/Comparison_DecisionTree_vs_LogisticRegression.png', bbox_inches='tight')"
   ]
  },
  {
   "cell_type": "code",
   "execution_count": 36,
   "metadata": {
    "scrolled": false
   },
   "outputs": [
    {
     "data": {
      "text/html": [
       "<div>\n",
       "<style scoped>\n",
       "    .dataframe tbody tr th:only-of-type {\n",
       "        vertical-align: middle;\n",
       "    }\n",
       "\n",
       "    .dataframe tbody tr th {\n",
       "        vertical-align: top;\n",
       "    }\n",
       "\n",
       "    .dataframe thead th {\n",
       "        text-align: right;\n",
       "    }\n",
       "</style>\n",
       "<table border=\"1\" class=\"dataframe\">\n",
       "  <thead>\n",
       "    <tr style=\"text-align: right;\">\n",
       "      <th></th>\n",
       "      <th>Dataset</th>\n",
       "      <th>Classifier</th>\n",
       "      <th>Solver</th>\n",
       "      <th>Iterations</th>\n",
       "      <th>Total Iterations</th>\n",
       "      <th>Max Tree Depth</th>\n",
       "      <th>Fit Time (ms)</th>\n",
       "      <th>Score-Testing Data</th>\n",
       "      <th>Score-Training Data</th>\n",
       "    </tr>\n",
       "  </thead>\n",
       "  <tbody>\n",
       "    <tr>\n",
       "      <th>0</th>\n",
       "      <td>Iris</td>\n",
       "      <td>DecisionTreeClassifier</td>\n",
       "      <td>NaN</td>\n",
       "      <td>NaN</td>\n",
       "      <td>NaN</td>\n",
       "      <td>None</td>\n",
       "      <td>0.7630</td>\n",
       "      <td>0.947368</td>\n",
       "      <td>1.000000</td>\n",
       "    </tr>\n",
       "    <tr>\n",
       "      <th>1</th>\n",
       "      <td>Iris</td>\n",
       "      <td>DecisionTreeClassifier</td>\n",
       "      <td>NaN</td>\n",
       "      <td>NaN</td>\n",
       "      <td>NaN</td>\n",
       "      <td>16</td>\n",
       "      <td>0.5538</td>\n",
       "      <td>0.947368</td>\n",
       "      <td>1.000000</td>\n",
       "    </tr>\n",
       "    <tr>\n",
       "      <th>2</th>\n",
       "      <td>Iris</td>\n",
       "      <td>DecisionTreeClassifier</td>\n",
       "      <td>NaN</td>\n",
       "      <td>NaN</td>\n",
       "      <td>NaN</td>\n",
       "      <td>8</td>\n",
       "      <td>0.4953</td>\n",
       "      <td>0.947368</td>\n",
       "      <td>1.000000</td>\n",
       "    </tr>\n",
       "    <tr>\n",
       "      <th>3</th>\n",
       "      <td>Iris</td>\n",
       "      <td>DecisionTreeClassifier</td>\n",
       "      <td>NaN</td>\n",
       "      <td>NaN</td>\n",
       "      <td>NaN</td>\n",
       "      <td>4</td>\n",
       "      <td>0.6385</td>\n",
       "      <td>0.973684</td>\n",
       "      <td>0.973214</td>\n",
       "    </tr>\n",
       "    <tr>\n",
       "      <th>4</th>\n",
       "      <td>Iris</td>\n",
       "      <td>DecisionTreeClassifier</td>\n",
       "      <td>NaN</td>\n",
       "      <td>NaN</td>\n",
       "      <td>NaN</td>\n",
       "      <td>2</td>\n",
       "      <td>0.4899</td>\n",
       "      <td>0.947368</td>\n",
       "      <td>0.955357</td>\n",
       "    </tr>\n",
       "    <tr>\n",
       "      <th>5</th>\n",
       "      <td>Iris</td>\n",
       "      <td>DecisionTreeClassifier</td>\n",
       "      <td>NaN</td>\n",
       "      <td>NaN</td>\n",
       "      <td>NaN</td>\n",
       "      <td>1</td>\n",
       "      <td>0.4002</td>\n",
       "      <td>0.657895</td>\n",
       "      <td>0.669643</td>\n",
       "    </tr>\n",
       "    <tr>\n",
       "      <th>6</th>\n",
       "      <td>Iris</td>\n",
       "      <td>LogisticRegression</td>\n",
       "      <td>liblinear</td>\n",
       "      <td>[6]</td>\n",
       "      <td>6.0</td>\n",
       "      <td>NaN</td>\n",
       "      <td>25.3302</td>\n",
       "      <td>0.894737</td>\n",
       "      <td>0.901786</td>\n",
       "    </tr>\n",
       "    <tr>\n",
       "      <th>7</th>\n",
       "      <td>Iris</td>\n",
       "      <td>LogisticRegression</td>\n",
       "      <td>newton-cg</td>\n",
       "      <td>[10, 7, 8]</td>\n",
       "      <td>25.0</td>\n",
       "      <td>NaN</td>\n",
       "      <td>14.6039</td>\n",
       "      <td>0.947368</td>\n",
       "      <td>0.910714</td>\n",
       "    </tr>\n",
       "    <tr>\n",
       "      <th>8</th>\n",
       "      <td>Iris</td>\n",
       "      <td>LogisticRegression</td>\n",
       "      <td>lbfgs</td>\n",
       "      <td>[13, 14, 15]</td>\n",
       "      <td>42.0</td>\n",
       "      <td>NaN</td>\n",
       "      <td>7.6848</td>\n",
       "      <td>0.947368</td>\n",
       "      <td>0.910714</td>\n",
       "    </tr>\n",
       "    <tr>\n",
       "      <th>9</th>\n",
       "      <td>Iris</td>\n",
       "      <td>LogisticRegression</td>\n",
       "      <td>sag</td>\n",
       "      <td>[22, 24, 18]</td>\n",
       "      <td>64.0</td>\n",
       "      <td>NaN</td>\n",
       "      <td>4.8775</td>\n",
       "      <td>0.947368</td>\n",
       "      <td>0.910714</td>\n",
       "    </tr>\n",
       "    <tr>\n",
       "      <th>10</th>\n",
       "      <td>Iris</td>\n",
       "      <td>LogisticRegression</td>\n",
       "      <td>saga</td>\n",
       "      <td>[45, 42, 54]</td>\n",
       "      <td>141.0</td>\n",
       "      <td>NaN</td>\n",
       "      <td>8.6780</td>\n",
       "      <td>0.947368</td>\n",
       "      <td>0.910714</td>\n",
       "    </tr>\n",
       "    <tr>\n",
       "      <th>11</th>\n",
       "      <td>Voice</td>\n",
       "      <td>DecisionTreeClassifier</td>\n",
       "      <td>NaN</td>\n",
       "      <td>NaN</td>\n",
       "      <td>NaN</td>\n",
       "      <td>None</td>\n",
       "      <td>32.5455</td>\n",
       "      <td>0.972222</td>\n",
       "      <td>1.000000</td>\n",
       "    </tr>\n",
       "    <tr>\n",
       "      <th>12</th>\n",
       "      <td>Voice</td>\n",
       "      <td>DecisionTreeClassifier</td>\n",
       "      <td>NaN</td>\n",
       "      <td>NaN</td>\n",
       "      <td>NaN</td>\n",
       "      <td>16</td>\n",
       "      <td>32.0025</td>\n",
       "      <td>0.976010</td>\n",
       "      <td>1.000000</td>\n",
       "    </tr>\n",
       "    <tr>\n",
       "      <th>13</th>\n",
       "      <td>Voice</td>\n",
       "      <td>DecisionTreeClassifier</td>\n",
       "      <td>NaN</td>\n",
       "      <td>NaN</td>\n",
       "      <td>NaN</td>\n",
       "      <td>8</td>\n",
       "      <td>32.1797</td>\n",
       "      <td>0.970960</td>\n",
       "      <td>0.998316</td>\n",
       "    </tr>\n",
       "    <tr>\n",
       "      <th>14</th>\n",
       "      <td>Voice</td>\n",
       "      <td>DecisionTreeClassifier</td>\n",
       "      <td>NaN</td>\n",
       "      <td>NaN</td>\n",
       "      <td>NaN</td>\n",
       "      <td>4</td>\n",
       "      <td>21.7759</td>\n",
       "      <td>0.976010</td>\n",
       "      <td>0.981061</td>\n",
       "    </tr>\n",
       "    <tr>\n",
       "      <th>15</th>\n",
       "      <td>Voice</td>\n",
       "      <td>DecisionTreeClassifier</td>\n",
       "      <td>NaN</td>\n",
       "      <td>NaN</td>\n",
       "      <td>NaN</td>\n",
       "      <td>2</td>\n",
       "      <td>11.5980</td>\n",
       "      <td>0.963384</td>\n",
       "      <td>0.962542</td>\n",
       "    </tr>\n",
       "    <tr>\n",
       "      <th>16</th>\n",
       "      <td>Voice</td>\n",
       "      <td>DecisionTreeClassifier</td>\n",
       "      <td>NaN</td>\n",
       "      <td>NaN</td>\n",
       "      <td>NaN</td>\n",
       "      <td>1</td>\n",
       "      <td>6.3665</td>\n",
       "      <td>0.955808</td>\n",
       "      <td>0.953283</td>\n",
       "    </tr>\n",
       "    <tr>\n",
       "      <th>17</th>\n",
       "      <td>Voice</td>\n",
       "      <td>LogisticRegression</td>\n",
       "      <td>liblinear</td>\n",
       "      <td>[7]</td>\n",
       "      <td>7.0</td>\n",
       "      <td>NaN</td>\n",
       "      <td>9.6461</td>\n",
       "      <td>0.977273</td>\n",
       "      <td>0.973064</td>\n",
       "    </tr>\n",
       "    <tr>\n",
       "      <th>18</th>\n",
       "      <td>Voice</td>\n",
       "      <td>LogisticRegression</td>\n",
       "      <td>newton-cg</td>\n",
       "      <td>[14]</td>\n",
       "      <td>14.0</td>\n",
       "      <td>NaN</td>\n",
       "      <td>38.3476</td>\n",
       "      <td>0.977273</td>\n",
       "      <td>0.972222</td>\n",
       "    </tr>\n",
       "    <tr>\n",
       "      <th>19</th>\n",
       "      <td>Voice</td>\n",
       "      <td>LogisticRegression</td>\n",
       "      <td>lbfgs</td>\n",
       "      <td>[49]</td>\n",
       "      <td>49.0</td>\n",
       "      <td>NaN</td>\n",
       "      <td>25.9133</td>\n",
       "      <td>0.977273</td>\n",
       "      <td>0.972222</td>\n",
       "    </tr>\n",
       "    <tr>\n",
       "      <th>20</th>\n",
       "      <td>Voice</td>\n",
       "      <td>LogisticRegression</td>\n",
       "      <td>sag</td>\n",
       "      <td>[90]</td>\n",
       "      <td>90.0</td>\n",
       "      <td>NaN</td>\n",
       "      <td>128.0891</td>\n",
       "      <td>0.977273</td>\n",
       "      <td>0.972222</td>\n",
       "    </tr>\n",
       "    <tr>\n",
       "      <th>21</th>\n",
       "      <td>Voice</td>\n",
       "      <td>LogisticRegression</td>\n",
       "      <td>saga</td>\n",
       "      <td>[150]</td>\n",
       "      <td>150.0</td>\n",
       "      <td>NaN</td>\n",
       "      <td>254.0271</td>\n",
       "      <td>0.977273</td>\n",
       "      <td>0.972222</td>\n",
       "    </tr>\n",
       "  </tbody>\n",
       "</table>\n",
       "</div>"
      ],
      "text/plain": [
       "   Dataset              Classifier     Solver    Iterations  Total Iterations  \\\n",
       "0     Iris  DecisionTreeClassifier        NaN           NaN               NaN   \n",
       "1     Iris  DecisionTreeClassifier        NaN           NaN               NaN   \n",
       "2     Iris  DecisionTreeClassifier        NaN           NaN               NaN   \n",
       "3     Iris  DecisionTreeClassifier        NaN           NaN               NaN   \n",
       "4     Iris  DecisionTreeClassifier        NaN           NaN               NaN   \n",
       "5     Iris  DecisionTreeClassifier        NaN           NaN               NaN   \n",
       "6     Iris      LogisticRegression  liblinear           [6]               6.0   \n",
       "7     Iris      LogisticRegression  newton-cg    [10, 7, 8]              25.0   \n",
       "8     Iris      LogisticRegression      lbfgs  [13, 14, 15]              42.0   \n",
       "9     Iris      LogisticRegression        sag  [22, 24, 18]              64.0   \n",
       "10    Iris      LogisticRegression       saga  [45, 42, 54]             141.0   \n",
       "11   Voice  DecisionTreeClassifier        NaN           NaN               NaN   \n",
       "12   Voice  DecisionTreeClassifier        NaN           NaN               NaN   \n",
       "13   Voice  DecisionTreeClassifier        NaN           NaN               NaN   \n",
       "14   Voice  DecisionTreeClassifier        NaN           NaN               NaN   \n",
       "15   Voice  DecisionTreeClassifier        NaN           NaN               NaN   \n",
       "16   Voice  DecisionTreeClassifier        NaN           NaN               NaN   \n",
       "17   Voice      LogisticRegression  liblinear           [7]               7.0   \n",
       "18   Voice      LogisticRegression  newton-cg          [14]              14.0   \n",
       "19   Voice      LogisticRegression      lbfgs          [49]              49.0   \n",
       "20   Voice      LogisticRegression        sag          [90]              90.0   \n",
       "21   Voice      LogisticRegression       saga         [150]             150.0   \n",
       "\n",
       "   Max Tree Depth  Fit Time (ms)  Score-Testing Data  Score-Training Data  \n",
       "0            None         0.7630            0.947368             1.000000  \n",
       "1              16         0.5538            0.947368             1.000000  \n",
       "2               8         0.4953            0.947368             1.000000  \n",
       "3               4         0.6385            0.973684             0.973214  \n",
       "4               2         0.4899            0.947368             0.955357  \n",
       "5               1         0.4002            0.657895             0.669643  \n",
       "6             NaN        25.3302            0.894737             0.901786  \n",
       "7             NaN        14.6039            0.947368             0.910714  \n",
       "8             NaN         7.6848            0.947368             0.910714  \n",
       "9             NaN         4.8775            0.947368             0.910714  \n",
       "10            NaN         8.6780            0.947368             0.910714  \n",
       "11           None        32.5455            0.972222             1.000000  \n",
       "12             16        32.0025            0.976010             1.000000  \n",
       "13              8        32.1797            0.970960             0.998316  \n",
       "14              4        21.7759            0.976010             0.981061  \n",
       "15              2        11.5980            0.963384             0.962542  \n",
       "16              1         6.3665            0.955808             0.953283  \n",
       "17            NaN         9.6461            0.977273             0.973064  \n",
       "18            NaN        38.3476            0.977273             0.972222  \n",
       "19            NaN        25.9133            0.977273             0.972222  \n",
       "20            NaN       128.0891            0.977273             0.972222  \n",
       "21            NaN       254.0271            0.977273             0.972222  "
      ]
     },
     "execution_count": 36,
     "metadata": {},
     "output_type": "execute_result"
    }
   ],
   "source": [
    "overall_df"
   ]
  },
  {
   "cell_type": "code",
   "execution_count": null,
   "metadata": {},
   "outputs": [],
   "source": []
  }
 ],
 "metadata": {
  "anaconda-cloud": {},
  "kernelspec": {
   "display_name": "Python 3",
   "language": "python",
   "name": "python3"
  },
  "language_info": {
   "codemirror_mode": {
    "name": "ipython",
    "version": 3
   },
   "file_extension": ".py",
   "mimetype": "text/x-python",
   "name": "python",
   "nbconvert_exporter": "python",
   "pygments_lexer": "ipython3",
   "version": "3.6.6"
  },
  "nbpresent": {
   "slides": {
    "03210a56-863e-4749-b7ba-ed75bfceceee": {
     "id": "03210a56-863e-4749-b7ba-ed75bfceceee",
     "prev": "86b3b05f-6e9a-49dc-8a83-97f72c348c5f",
     "regions": {
      "2be9481c-cff7-4f32-b835-90f2a2cb989a": {
       "attrs": {
        "height": 0.8,
        "width": 0.8,
        "x": 0.1,
        "y": 0.1
       },
       "content": {
        "cell": "46550b81-7dd8-4efc-b710-0f10002c9f2b",
        "part": "whole"
       },
       "id": "2be9481c-cff7-4f32-b835-90f2a2cb989a"
      },
      "3f484569-30ec-4529-8d3c-ac88b8c6dbfb": {
       "attrs": {
        "height": 0.4,
        "width": 0.8,
        "x": 0.1,
        "y": 0.5
       },
       "content": {
        "cell": "2b83c32a-d7e2-4db6-b45f-afbbf028fe90",
        "part": "whole"
       },
       "id": "3f484569-30ec-4529-8d3c-ac88b8c6dbfb"
      }
     }
    },
    "22531930-3fc8-45ff-a4f1-32e94c1d1455": {
     "id": "22531930-3fc8-45ff-a4f1-32e94c1d1455",
     "prev": "8eb735f6-11af-4f77-a4ed-b637fb18ac08",
     "regions": {
      "1407c818-c9fd-470e-8260-6b6904d888de": {
       "attrs": {
        "height": 0.8,
        "width": 0.8,
        "x": 0.1,
        "y": 0.1
       },
       "content": {
        "cell": "664c64ef-5517-4725-95cb-874bbc7711c7",
        "part": "whole"
       },
       "id": "1407c818-c9fd-470e-8260-6b6904d888de"
      }
     }
    },
    "29c55765-6994-4dbf-b82f-117b4f1e0cee": {
     "id": "29c55765-6994-4dbf-b82f-117b4f1e0cee",
     "prev": "b7c25bc1-4dd7-421b-9951-0c0c403c176d",
     "regions": {
      "44583f15-ec4f-4aec-8e7c-f01652e954fc": {
       "attrs": {
        "height": 0.8,
        "width": 0.8,
        "x": 0.1,
        "y": 0.1
       },
       "content": {
        "cell": "7c23961d-86fe-4d07-bc58-6d61f03c3731",
        "part": "whole"
       },
       "id": "44583f15-ec4f-4aec-8e7c-f01652e954fc"
      }
     }
    },
    "39c5764b-ab2c-4aae-8500-dc39319e4d38": {
     "id": "39c5764b-ab2c-4aae-8500-dc39319e4d38",
     "prev": "22531930-3fc8-45ff-a4f1-32e94c1d1455",
     "regions": {
      "d0237596-8095-44dc-81c6-6d9c6b204684": {
       "attrs": {
        "height": 0.8,
        "width": 0.8,
        "x": 0.1,
        "y": 0.1
       },
       "content": {
        "cell": "348e164e-a000-4def-92c0-db93f9a617a1",
        "part": "whole"
       },
       "id": "d0237596-8095-44dc-81c6-6d9c6b204684"
      }
     }
    },
    "39e950f1-f2c4-422a-8f45-835c5c61e7e0": {
     "id": "39e950f1-f2c4-422a-8f45-835c5c61e7e0",
     "prev": "4b5f1824-db4a-4ef3-9515-a88d3f2276c1",
     "regions": {
      "0a72cc48-c38f-4e8c-94d3-3198eccde68a": {
       "attrs": {
        "height": 0.8,
        "width": 0.8,
        "x": 0.1,
        "y": 0.1
       },
       "content": {
        "cell": "c3820b22-bf55-4dca-ba8b-f08060567b6e",
        "part": "whole"
       },
       "id": "0a72cc48-c38f-4e8c-94d3-3198eccde68a"
      },
      "b49c6eca-318f-41b8-a7a5-a620d18f639c": {
       "attrs": {
        "height": 0.4,
        "width": 0.8,
        "x": 0.1,
        "y": 0.5
       },
       "content": {
        "cell": "aeeeb44d-7825-4050-b7ba-70813bd3396b",
        "part": "whole"
       },
       "id": "b49c6eca-318f-41b8-a7a5-a620d18f639c"
      }
     }
    },
    "4792c0cc-ccd4-48bf-9b0e-a3c1f0f3008d": {
     "id": "4792c0cc-ccd4-48bf-9b0e-a3c1f0f3008d",
     "prev": "39c5764b-ab2c-4aae-8500-dc39319e4d38",
     "regions": {
      "d4adae26-ff2f-4a81-ad91-fd3a9bfd965c": {
       "attrs": {
        "height": 0.4,
        "width": 0.8,
        "x": 0.1,
        "y": 0.5
       },
       "content": {
        "cell": "4d6b8af6-438e-4034-bda1-1f977cf12441",
        "part": "whole"
       },
       "id": "d4adae26-ff2f-4a81-ad91-fd3a9bfd965c"
      },
      "d75a8261-ee89-4f4d-b388-2f429e112f44": {
       "attrs": {
        "height": 0.8,
        "width": 0.8,
        "x": 0.1,
        "y": 0.1
       },
       "content": {
        "cell": "a3b6e99c-2c85-47da-b29b-3b53c3c309b8",
        "part": "whole"
       },
       "id": "d75a8261-ee89-4f4d-b388-2f429e112f44"
      }
     }
    },
    "4b5f1824-db4a-4ef3-9515-a88d3f2276c1": {
     "id": "4b5f1824-db4a-4ef3-9515-a88d3f2276c1",
     "prev": "e92a9020-6631-400a-aa50-46c1fa0a5f0c",
     "regions": {
      "2bd81133-11e3-48df-bf12-2d0a57949bca": {
       "attrs": {
        "height": 0.8,
        "width": 0.8,
        "x": 0.1,
        "y": 0.1
       },
       "content": {
        "cell": "69fab88f-0864-47cc-933b-eaffb638cbf3",
        "part": "whole"
       },
       "id": "2bd81133-11e3-48df-bf12-2d0a57949bca"
      },
      "d3322861-28ab-4f1e-8a1f-3a7f4d3da8c1": {
       "attrs": {
        "height": 0.4,
        "width": 0.8,
        "x": 0.1,
        "y": 0.5
       },
       "content": {
        "cell": "3810c2af-fdbe-4f01-bc9f-2bb1a8ae70c6",
        "part": "whole"
       },
       "id": "d3322861-28ab-4f1e-8a1f-3a7f4d3da8c1"
      }
     }
    },
    "57992fb9-2f74-4e8e-8772-7b9f04606a56": {
     "id": "57992fb9-2f74-4e8e-8772-7b9f04606a56",
     "prev": "595093b4-3f86-406c-abb5-aea78e1241b3",
     "regions": {
      "3b3c8191-9f7e-4ab2-afac-b2b47008484a": {
       "attrs": {
        "height": 0.8,
        "width": 0.8,
        "x": 0.1,
        "y": 0.1
       },
       "content": {
        "cell": "a6d0bdff-9bba-472e-b354-da47b8761dbe",
        "part": "whole"
       },
       "id": "3b3c8191-9f7e-4ab2-afac-b2b47008484a"
      }
     }
    },
    "5907f515-df93-4e86-82c6-b8721b6e6346": {
     "id": "5907f515-df93-4e86-82c6-b8721b6e6346",
     "prev": "39e950f1-f2c4-422a-8f45-835c5c61e7e0",
     "regions": {
      "22f9005a-ed7a-4399-b501-497565ada2da": {
       "attrs": {
        "height": 0.8,
        "width": 0.8,
        "x": 0.1,
        "y": 0.1
       },
       "content": {
        "cell": "2e255efc-6ae1-4554-b32f-9400b47007c9",
        "part": "whole"
       },
       "id": "22f9005a-ed7a-4399-b501-497565ada2da"
      },
      "82d64cef-48f7-413c-ad01-e7fa2921f7c0": {
       "attrs": {
        "height": 0.4,
        "width": 0.8,
        "x": 0.1,
        "y": 0.5
       },
       "content": {
        "cell": "711a40c8-c479-448b-a3bc-5c7ff8369838",
        "part": "whole"
       },
       "id": "82d64cef-48f7-413c-ad01-e7fa2921f7c0"
      },
      "d943d3ea-6cd3-4d4a-8914-7fea0231efda": {
       "attrs": {
        "height": 0.4,
        "width": 0.8,
        "x": 0.1,
        "y": 0.5
       },
       "content": {
        "cell": "9bfbb27b-cae0-4feb-809a-77718bb2e6a3",
        "part": "whole"
       },
       "id": "d943d3ea-6cd3-4d4a-8914-7fea0231efda"
      }
     }
    },
    "595093b4-3f86-406c-abb5-aea78e1241b3": {
     "id": "595093b4-3f86-406c-abb5-aea78e1241b3",
     "prev": "5907f515-df93-4e86-82c6-b8721b6e6346",
     "regions": {
      "3366a1dc-6c33-45f0-a97f-a2744ed0587f": {
       "attrs": {
        "height": 0.8,
        "width": 0.8,
        "x": 0.1,
        "y": 0.1
       },
       "content": {
        "cell": "e54b79a1-316d-4fd1-ad5f-6cd580b51f99",
        "part": "whole"
       },
       "id": "3366a1dc-6c33-45f0-a97f-a2744ed0587f"
      },
      "40b6dba8-5994-4fd0-9ce5-9d36f3bb9f93": {
       "attrs": {
        "height": 0.4,
        "width": 0.8,
        "x": 0.1,
        "y": 0.5
       },
       "content": {
        "cell": "3d860568-b048-40f2-a64d-f585211d6c1c",
        "part": "whole"
       },
       "id": "40b6dba8-5994-4fd0-9ce5-9d36f3bb9f93"
      }
     }
    },
    "76838eab-c2c3-4ff3-b09f-854a7c74c6d4": {
     "id": "76838eab-c2c3-4ff3-b09f-854a7c74c6d4",
     "prev": null,
     "regions": {
      "b0032c00-1d89-4c94-a7a0-488f243c381e": {
       "attrs": {
        "height": 0.8,
        "width": 0.8,
        "x": 0.1,
        "y": 0.1
       },
       "content": {
        "cell": "0dc0cdcb-d8df-4a29-a0d2-a3cf6cc889ce",
        "part": "whole"
       },
       "id": "b0032c00-1d89-4c94-a7a0-488f243c381e"
      }
     }
    },
    "7a25817a-e5bc-4021-9c6b-61bc74dbdb92": {
     "id": "7a25817a-e5bc-4021-9c6b-61bc74dbdb92",
     "prev": "b04719fc-934a-404b-a642-dc732a3d1589",
     "regions": {
      "38d56409-500a-45cf-8e79-722d68d8fc38": {
       "attrs": {
        "height": 0.8,
        "width": 0.8,
        "x": 0.1,
        "y": 0.1
       },
       "content": {
        "cell": "335f050d-99af-43b3-a5ec-69fe896e48e2",
        "part": "whole"
       },
       "id": "38d56409-500a-45cf-8e79-722d68d8fc38"
      },
      "c838cb6d-409c-4c17-a1eb-3d7dc6aab32b": {
       "attrs": {
        "height": 0.4,
        "width": 0.8,
        "x": 0.1,
        "y": 0.5
       },
       "content": {
        "cell": "19ca6a7e-4b5d-4b0f-88c5-e68634abb65d",
        "part": "whole"
       },
       "id": "c838cb6d-409c-4c17-a1eb-3d7dc6aab32b"
      }
     }
    },
    "86b3b05f-6e9a-49dc-8a83-97f72c348c5f": {
     "id": "86b3b05f-6e9a-49dc-8a83-97f72c348c5f",
     "prev": "57992fb9-2f74-4e8e-8772-7b9f04606a56",
     "regions": {
      "49a41ef6-224d-46c1-bb81-254b8a4cee88": {
       "attrs": {
        "height": 0.8,
        "width": 0.8,
        "x": 0.1,
        "y": 0.1
       },
       "content": {
        "cell": "d7df6fa0-ce96-4073-b95d-ce78b3f4fdf1",
        "part": "whole"
       },
       "id": "49a41ef6-224d-46c1-bb81-254b8a4cee88"
      },
      "7ce316ab-4799-4e15-b095-374da21bc1aa": {
       "attrs": {
        "height": 0.4,
        "width": 0.8,
        "x": 0.1,
        "y": 0.5
       },
       "content": {
        "cell": "4a5226b5-d431-4cbe-86a6-291952a45a37",
        "part": "whole"
       },
       "id": "7ce316ab-4799-4e15-b095-374da21bc1aa"
      },
      "a7d701c6-61e3-48e3-8e0d-a4b318aef7d8": {
       "attrs": {
        "height": 0.4,
        "width": 0.8,
        "x": 0.1,
        "y": 0.5
       },
       "content": {
        "cell": "5e425283-82de-4c48-b2ae-31a1d6983849",
        "part": "whole"
       },
       "id": "a7d701c6-61e3-48e3-8e0d-a4b318aef7d8"
      },
      "e180cf23-71a7-46a8-8598-86a079bd7d78": {
       "attrs": {
        "height": 0.4,
        "width": 0.8,
        "x": 0.1,
        "y": 0.5
       },
       "content": {
        "cell": "28aaab45-1e14-4db5-9d2c-63b239cafe13",
        "part": "whole"
       },
       "id": "e180cf23-71a7-46a8-8598-86a079bd7d78"
      }
     }
    },
    "8eb735f6-11af-4f77-a4ed-b637fb18ac08": {
     "id": "8eb735f6-11af-4f77-a4ed-b637fb18ac08",
     "prev": "7a25817a-e5bc-4021-9c6b-61bc74dbdb92",
     "regions": {
      "ca38ef02-01f9-42cb-9e35-d67f8d665597": {
       "attrs": {
        "height": 0.4,
        "width": 0.8,
        "x": 0.1,
        "y": 0.5
       },
       "content": {
        "cell": "69b638ed-ed32-4824-bb81-df958c215a33",
        "part": "whole"
       },
       "id": "ca38ef02-01f9-42cb-9e35-d67f8d665597"
      },
      "fc52547b-a8f8-40e2-9397-5b18ca2b71b3": {
       "attrs": {
        "height": 0.8,
        "width": 0.8,
        "x": 0.1,
        "y": 0.1
       },
       "content": {
        "cell": "7317e4f2-150e-4336-ac48-d82641441aa8",
        "part": "whole"
       },
       "id": "fc52547b-a8f8-40e2-9397-5b18ca2b71b3"
      }
     }
    },
    "af2f5933-b31d-4d30-b08a-e4c09432b9bb": {
     "id": "af2f5933-b31d-4d30-b08a-e4c09432b9bb",
     "prev": "29c55765-6994-4dbf-b82f-117b4f1e0cee",
     "regions": {
      "479b436f-50bb-4c3a-9a4e-748e85eacde6": {
       "attrs": {
        "height": 0.8,
        "width": 0.8,
        "x": 0.1,
        "y": 0.1
       },
       "content": {
        "cell": "6d53481c-69ff-41a0-937e-4e8a39e2b2b5",
        "part": "whole"
       },
       "id": "479b436f-50bb-4c3a-9a4e-748e85eacde6"
      },
      "a02a5bdc-cab5-4ddc-aa9d-8ee5e0db6bd4": {
       "attrs": {
        "height": 0.4,
        "width": 0.8,
        "x": 0.1,
        "y": 0.5
       },
       "content": {
        "cell": "b0f8400f-71e1-4892-9012-88e54c053a36",
        "part": "whole"
       },
       "id": "a02a5bdc-cab5-4ddc-aa9d-8ee5e0db6bd4"
      }
     }
    },
    "b04719fc-934a-404b-a642-dc732a3d1589": {
     "id": "b04719fc-934a-404b-a642-dc732a3d1589",
     "prev": "af2f5933-b31d-4d30-b08a-e4c09432b9bb",
     "regions": {
      "701cdc94-3399-40dc-8e45-10d6edbf0959": {
       "attrs": {
        "height": 0.4,
        "width": 0.8,
        "x": 0.1,
        "y": 0.5
       },
       "content": {
        "cell": "fa78fa75-54cf-40d3-b52c-4b51c5070d9a",
        "part": "whole"
       },
       "id": "701cdc94-3399-40dc-8e45-10d6edbf0959"
      },
      "81f01069-a0c6-4ab1-98d1-d465e96aac6d": {
       "attrs": {
        "height": 0.8,
        "width": 0.8,
        "x": 0.1,
        "y": 0.1
       },
       "content": {
        "cell": "fb58a52c-71e9-402d-af86-eab194cf8050",
        "part": "whole"
       },
       "id": "81f01069-a0c6-4ab1-98d1-d465e96aac6d"
      },
      "ae73fc9b-89cf-4405-ab54-34e6c8b73a19": {
       "attrs": {
        "height": 0.4,
        "width": 0.8,
        "x": 0.1,
        "y": 0.5
       },
       "content": {
        "cell": "241f356d-567a-421d-b27c-7ce2d146d1bb",
        "part": "whole"
       },
       "id": "ae73fc9b-89cf-4405-ab54-34e6c8b73a19"
      }
     }
    },
    "b7c25bc1-4dd7-421b-9951-0c0c403c176d": {
     "id": "b7c25bc1-4dd7-421b-9951-0c0c403c176d",
     "prev": "76838eab-c2c3-4ff3-b09f-854a7c74c6d4",
     "regions": {
      "47f524f5-68f8-49df-9a61-61eab6cab03c": {
       "attrs": {
        "height": 0.4,
        "width": 0.8,
        "x": 0.1,
        "y": 0.5
       },
       "content": {
        "cell": "966e050d-5739-4ef9-a2ae-9a4957e14f3e",
        "part": "whole"
       },
       "id": "47f524f5-68f8-49df-9a61-61eab6cab03c"
      },
      "4b3ba01a-29e7-4e67-ac78-988162f7dde9": {
       "attrs": {
        "height": 0.8,
        "width": 0.8,
        "x": 0.1,
        "y": 0.1
       },
       "content": {
        "cell": "91401f60-44eb-42b2-86ea-c82b5e955ace",
        "part": "whole"
       },
       "id": "4b3ba01a-29e7-4e67-ac78-988162f7dde9"
      },
      "a47d9662-0a49-4b84-aae0-908067552ebd": {
       "attrs": {
        "height": 0.4,
        "width": 0.8,
        "x": 0.1,
        "y": 0.5
       },
       "content": {
        "cell": "6de4dae8-c949-4927-89a3-9741aba83e8d",
        "part": "whole"
       },
       "id": "a47d9662-0a49-4b84-aae0-908067552ebd"
      },
      "e64668fe-aafe-4e24-a46d-6a6266eeee77": {
       "attrs": {
        "height": 0.4,
        "width": 0.8,
        "x": 0.1,
        "y": 0.5
       },
       "content": {
        "cell": "7068c96d-f8f0-42bb-bdfd-dcbf9335323c",
        "part": "whole"
       },
       "id": "e64668fe-aafe-4e24-a46d-6a6266eeee77"
      }
     }
    },
    "d3ecec0a-67fe-4558-a268-50695fd7fe1c": {
     "id": "d3ecec0a-67fe-4558-a268-50695fd7fe1c",
     "prev": "fcda7de6-cb93-4b63-9dea-d5f23fecd968",
     "regions": {
      "b268bb57-2543-4b91-b9c0-84aa3cf09d5c": {
       "attrs": {
        "height": 0.8,
        "width": 0.8,
        "x": 0.1,
        "y": 0.1
       },
       "content": {
        "cell": "67aab8fa-45cd-4ede-8285-e3dad22d8b16",
        "part": "whole"
       },
       "id": "b268bb57-2543-4b91-b9c0-84aa3cf09d5c"
      }
     }
    },
    "e92a9020-6631-400a-aa50-46c1fa0a5f0c": {
     "id": "e92a9020-6631-400a-aa50-46c1fa0a5f0c",
     "prev": "ee94ae9b-9e13-414c-a017-db1d8913aaa8",
     "regions": {
      "bb15b4ea-132f-4146-ab77-93a4969c2904": {
       "attrs": {
        "height": 0.8,
        "width": 0.8,
        "x": 0.1,
        "y": 0.1
       },
       "content": {
        "cell": "7d5d2002-5cae-4d5f-8e2e-d5eaf5cd17da",
        "part": "whole"
       },
       "id": "bb15b4ea-132f-4146-ab77-93a4969c2904"
      }
     }
    },
    "ee94ae9b-9e13-414c-a017-db1d8913aaa8": {
     "id": "ee94ae9b-9e13-414c-a017-db1d8913aaa8",
     "prev": "f8fce519-927e-4fd0-88d8-23ece4403794",
     "regions": {
      "0b578bb1-2cd1-480b-8d65-dde0861851cb": {
       "attrs": {
        "height": 0.8,
        "width": 0.8,
        "x": 0.1,
        "y": 0.1
       },
       "content": {
        "cell": "f1c699bc-6717-4eb9-8e6d-66d433ba4618",
        "part": "whole"
       },
       "id": "0b578bb1-2cd1-480b-8d65-dde0861851cb"
      }
     }
    },
    "f8fce519-927e-4fd0-88d8-23ece4403794": {
     "id": "f8fce519-927e-4fd0-88d8-23ece4403794",
     "prev": "4792c0cc-ccd4-48bf-9b0e-a3c1f0f3008d",
     "regions": {
      "7510ae01-fe22-48b0-92cb-29b880cc85fc": {
       "attrs": {
        "height": 0.8,
        "width": 0.8,
        "x": 0.1,
        "y": 0.1
       },
       "content": {
        "cell": "e61ba538-5828-4a5a-a2c5-4fcceac35889",
        "part": "whole"
       },
       "id": "7510ae01-fe22-48b0-92cb-29b880cc85fc"
      }
     }
    },
    "fcda7de6-cb93-4b63-9dea-d5f23fecd968": {
     "id": "fcda7de6-cb93-4b63-9dea-d5f23fecd968",
     "prev": "03210a56-863e-4749-b7ba-ed75bfceceee",
     "regions": {
      "43f5b3bd-9e0c-4a98-a18c-1b9f7beaa3b8": {
       "attrs": {
        "height": 0.8,
        "width": 0.8,
        "x": 0.1,
        "y": 0.1
       },
       "content": {
        "cell": "318099ba-93dd-4c2c-a3ee-fc6622c472c8",
        "part": "whole"
       },
       "id": "43f5b3bd-9e0c-4a98-a18c-1b9f7beaa3b8"
      },
      "dbab9920-f08a-457a-949d-2c8289707798": {
       "attrs": {
        "height": 0.4,
        "width": 0.8,
        "x": 0.1,
        "y": 0.5
       },
       "content": {
        "cell": "8bb35ef7-00cc-4ad9-9dd4-6fac480df38e",
        "part": "whole"
       },
       "id": "dbab9920-f08a-457a-949d-2c8289707798"
      }
     }
    }
   },
   "themes": {}
  },
  "varInspector": {
   "cols": {
    "lenName": 16,
    "lenType": 16,
    "lenVar": 40
   },
   "kernels_config": {
    "python": {
     "delete_cmd_postfix": "",
     "delete_cmd_prefix": "del ",
     "library": "var_list.py",
     "varRefreshCmd": "print(var_dic_list())"
    },
    "r": {
     "delete_cmd_postfix": ") ",
     "delete_cmd_prefix": "rm(",
     "library": "var_list.r",
     "varRefreshCmd": "cat(var_dic_list()) "
    }
   },
   "types_to_exclude": [
    "module",
    "function",
    "builtin_function_or_method",
    "instance",
    "_Feature"
   ],
   "window_display": false
  }
 },
 "nbformat": 4,
 "nbformat_minor": 2
}
