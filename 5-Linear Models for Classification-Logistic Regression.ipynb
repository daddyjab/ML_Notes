{
 "cells": [
  {
   "cell_type": "code",
   "execution_count": 1,
   "metadata": {
    "nbpresent": {
     "id": "828c2e12-b1c6-4994-8f55-ce86373b6c97"
    },
    "scrolled": true,
    "slideshow": {
     "slide_type": "fragment"
    }
   },
   "outputs": [],
   "source": [
    "%matplotlib inline\n",
    "# %matplotlib notebook\n",
    "import matplotlib.pyplot as plt\n",
    "from mpl_toolkits.mplot3d import Axes3D    # Support 3D graphing\n",
    "\n",
    "import numpy as np\n",
    "import pandas as pd\n",
    "\n",
    "from pprint import pprint\n",
    "\n",
    "# Machine Learning - Linear Models - Regression\n",
    "from sklearn.linear_model import LinearRegression  # TBD\n",
    "from sklearn.linear_model import Lasso             # TBD\n",
    "from sklearn.linear_model import Ridge             # TBD\n",
    "from sklearn.linear_model import ElasticNet        # TBD\n",
    "\n",
    "# Machine Learning - Linear Models - Classification\n",
    "from sklearn.linear_model import LogisticRegression   # Linear model for classification\n",
    "\n",
    "# Machine Learning - Data Preparation and Pre-Processing\n",
    "from sklearn.model_selection import train_test_split\n",
    "\n",
    "from sklearn.preprocessing import OneHotEncoder   # Convert categorical integer features (X) to One-Hot encoded values\n",
    "from sklearn.preprocessing import LabelEncoder    # Convert categorical labeled values to categorical integer values\n",
    "from sklearn.preprocessing import LabelBinarizer  # Convert categorical labeled values to Binary encoded values\n",
    "\n",
    "from sklearn.preprocessing import StandardScaler  # Scale numerical features to standard normal distribution\n",
    "from sklearn.preprocessing import MinMaxScaler    # Scale numerical values based upon mix/max values\n",
    "\n",
    "# Machine Learning - Quantify Model Performance\n",
    "from sklearn.metrics import mean_squared_error   # Mean Squared Error (MSE) metric\n",
    "from sklearn.metrics import r2_score             # R-squared (Coefficient of Determination) metric\n",
    "from sklearn.metrics import confusion_matrix     # Generate a confusion matrix (actual vs. predicted counts)\n",
    "\n",
    "# Machine Learning - Dataset Generation\n",
    "from sklearn.datasets import make_regression     # Generate linear data\n",
    "from sklearn.datasets import make_s_curve        # Generate nonlinear data\n",
    "from sklearn.datasets import make_blobs          # Generate blobs for classification\n",
    "from sklearn.datasets import make_circles        # Generate circles for classification"
   ]
  },
  {
   "cell_type": "code",
   "execution_count": null,
   "metadata": {},
   "outputs": [],
   "source": []
  },
  {
   "cell_type": "markdown",
   "metadata": {},
   "source": [
    "# Linear Models for Classification\n",
    "Uses a linear model with an activation function to return a discrete value, which can then be mapped to a class / set of labels"
   ]
  },
  {
   "cell_type": "markdown",
   "metadata": {},
   "source": [
    "## Create and Pre-Process Data: Generated Dataset"
   ]
  },
  {
   "cell_type": "code",
   "execution_count": 2,
   "metadata": {},
   "outputs": [
    {
     "name": "stdout",
     "output_type": "stream",
     "text": [
      "Labels: [0 1 0 1 1 0 1 1 0 0]\n",
      "Data: [[-3.94672034e+00  8.45730920e+00]\n",
      " [ 7.88903257e+00  5.13457584e+00]\n",
      " [-4.14234580e+00  9.34705390e+00]\n",
      " [ 7.10605932e+00  7.66354863e+00]\n",
      " [ 5.32225864e+00  5.89459795e+00]\n",
      " [-1.42501081e+00  1.36283958e+01]\n",
      " [ 5.46995123e+00  4.45471943e+00]\n",
      " [-1.21114570e-02  2.17885861e+00]\n",
      " [-3.68552208e+00  4.62374128e+00]\n",
      " [-5.02685019e+00  8.08664900e+00]]\n"
     ]
    }
   ],
   "source": [
    "# Generate a dataset with 2 clusters of points\n",
    "X, y = make_blobs(centers=2, cluster_std=3.0, random_state=42)\n",
    "print(f\"Labels: {y[:10]}\")\n",
    "print(f\"Data: {X[:10]}\")"
   ]
  },
  {
   "cell_type": "code",
   "execution_count": 3,
   "metadata": {},
   "outputs": [
    {
     "name": "stdout",
     "output_type": "stream",
     "text": [
      "X shape: (100, 2)\n",
      "y shape: (100,)\n"
     ]
    },
    {
     "data": {
      "image/png": "[encoded data removed]",
      "text/plain": [
       "<Figure size 432x288 with 1 Axes>"
      ]
     },
     "metadata": {
      "needs_background": "light"
     },
     "output_type": "display_data"
    }
   ],
   "source": [
    "plt.scatter(X[:,0], X[:,1], c=y)\n",
    "print (f\"X shape: {X.shape}\")\n",
    "print (f\"y shape: {y.shape}\")"
   ]
  },
  {
   "cell_type": "code",
   "execution_count": 4,
   "metadata": {},
   "outputs": [],
   "source": [
    "# Split the data into training and testing\n",
    "X_train, X_test, y_train, y_test = train_test_split(X, y, random_state=1, stratify=y)"
   ]
  },
  {
   "cell_type": "code",
   "execution_count": null,
   "metadata": {},
   "outputs": [],
   "source": []
  },
  {
   "cell_type": "markdown",
   "metadata": {},
   "source": [
    "## Function: Fit Model, Evaluate Performance, Plot Classification Results"
   ]
  },
  {
   "cell_type": "code",
   "execution_count": 5,
   "metadata": {},
   "outputs": [],
   "source": [
    "# Function to fit a model to training data, calculate predictions, and create a residuals chart\n",
    "def gen_classification(a_model):\n",
    "    # Get the name of this model\n",
    "    m_name = str(a_model).split(\"(\",1)[0]\n",
    "    \n",
    "    # Get the solver used with this model\n",
    "    m_solver = str(a_model).split(\"solver=\")[1].split(\",\")[0].replace(\"'\",\"\").replace('\"','')\n",
    "    \n",
    "    # Fit the data to the scaled data\n",
    "    m_fit_time = %timeit -n1 -r1 -o a_model.fit(X_train, y_train)\n",
    "\n",
    "    # Make predictions using both test and training data\n",
    "    y_predicted_test = a_model.predict(X_test)\n",
    "    y_predicted_train = a_model.predict(X_train)\n",
    "    \n",
    "    # Flag points that were classified incorrectly\n",
    "    y_predicted_test_errors = y_test - y_predicted_test\n",
    "    y_predicted_train_errors = y_train - y_predicted_train\n",
    "\n",
    "    # Plot the training and test data, with prediction errors highlighted in different color\n",
    "\n",
    "    # Generate a plot\n",
    "    plt.scatter(X_test[:,0], X_test[:,1], c=y_predicted_test_errors)\n",
    "    plt.scatter(X_train[:,0], X_train[:,1], c=y_predicted_train_errors)\n",
    "    \n",
    "    # plt.legend()\n",
    "\n",
    "    plt.title(f\"Classification Results - Model: {m_name} / {m_solver}\")\n",
    "\n",
    "    plt.show()\n",
    "\n",
    "    # Calculate Model performance: MSE and R2\n",
    "    m_score_test = a_model.score(X_test, y_test)\n",
    "    m_score_train = a_model.score(X_train, y_train)\n",
    "\n",
    "    print(f\"Performance - Model: {m_name}\\nScore - Test Data: {m_score_test}, Training Data: {m_score_train}\")\n",
    "    print(f\"coef_: {a_model.coef_}, intercept_: {a_model.intercept_}, n_iter_: {a_model.n_iter_}, \")\n",
    "    a_result = {\n",
    "        'model': m_name,\n",
    "        'solver': m_solver,\n",
    "        'fit_time': m_fit_time.average,\n",
    "        'n_iter': a_model.n_iter_,\n",
    "        'score_test': m_score_test,\n",
    "        'score_train': m_score_train\n",
    "    }\n",
    "    \n",
    "    return a_result"
   ]
  },
  {
   "cell_type": "code",
   "execution_count": null,
   "metadata": {},
   "outputs": [],
   "source": []
  },
  {
   "cell_type": "markdown",
   "metadata": {},
   "source": [
    "## Compare Model/Solver Performance: Generated Dataset"
   ]
  },
  {
   "cell_type": "code",
   "execution_count": 6,
   "metadata": {},
   "outputs": [],
   "source": [
    "# Initialize list of dictionary of results for summary in a dataframe later\n",
    "model_results = []\n",
    "\n",
    "# List of Solvers to use with LogisticRegression model\n",
    "solver_list = \"liblinear\", \"newton-cg\", \"lbfgs\", \"sag\", \"saga\""
   ]
  },
  {
   "cell_type": "code",
   "execution_count": 7,
   "metadata": {
    "scrolled": false
   },
   "outputs": [
    {
     "name": "stdout",
     "output_type": "stream",
     "text": [
      "11.2 ms ± 0 ns per loop (mean ± std. dev. of 1 run, 1 loop each)\n"
     ]
    },
    {
     "data": {
      "image/png": "[encoded data removed]",
      "text/plain": [
       "<Figure size 432x288 with 1 Axes>"
      ]
     },
     "metadata": {
      "needs_background": "light"
     },
     "output_type": "display_data"
    },
    {
     "name": "stdout",
     "output_type": "stream",
     "text": [
      "Performance - Model: LogisticRegression\n",
      "Score - Test Data: 1.0, Training Data: 0.9733333333333334\n",
      "coef_: [[ 1.12106444 -0.47513723]], intercept_: [1.29157877], n_iter_: [7], \n",
      "\n",
      "11.1 ms ± 0 ns per loop (mean ± std. dev. of 1 run, 1 loop each)\n"
     ]
    },
    {
     "data": {
      "image/png": "[encoded data removed]",
      "text/plain": [
       "<Figure size 432x288 with 1 Axes>"
      ]
     },
     "metadata": {
      "needs_background": "light"
     },
     "output_type": "display_data"
    },
    {
     "name": "stdout",
     "output_type": "stream",
     "text": [
      "Performance - Model: LogisticRegression\n",
      "Score - Test Data: 0.96, Training Data: 1.0\n",
      "coef_: [[ 1.40244996 -1.03085451]], intercept_: [4.48159787], n_iter_: [11], \n",
      "\n",
      "3.28 ms ± 0 ns per loop (mean ± std. dev. of 1 run, 1 loop each)\n"
     ]
    },
    {
     "data": {
      "image/png": "[encoded data removed]",
      "text/plain": [
       "<Figure size 432x288 with 1 Axes>"
      ]
     },
     "metadata": {
      "needs_background": "light"
     },
     "output_type": "display_data"
    },
    {
     "name": "stdout",
     "output_type": "stream",
     "text": [
      "Performance - Model: LogisticRegression\n",
      "Score - Test Data: 0.96, Training Data: 1.0\n",
      "coef_: [[ 1.40245029 -1.03085438]], intercept_: [4.48159716], n_iter_: [18], \n",
      "\n",
      "20.2 ms ± 0 ns per loop (mean ± std. dev. of 1 run, 1 loop each)\n"
     ]
    },
    {
     "data": {
      "image/png": "[encoded data removed]",
      "text/plain": [
       "<Figure size 432x288 with 1 Axes>"
      ]
     },
     "metadata": {
      "needs_background": "light"
     },
     "output_type": "display_data"
    },
    {
     "name": "stdout",
     "output_type": "stream",
     "text": [
      "Performance - Model: LogisticRegression\n",
      "Score - Test Data: 0.96, Training Data: 1.0\n",
      "coef_: [[ 1.3724154  -0.99207271]], intercept_: [4.27447365], n_iter_: [665], \n",
      "\n",
      "28 ms ± 0 ns per loop (mean ± std. dev. of 1 run, 1 loop each)\n"
     ]
    },
    {
     "name": "stderr",
     "output_type": "stream",
     "text": [
      "C:\\Users\\Jeff\\AppData\\Local\\conda\\conda\\envs\\PythonData\\lib\\site-packages\\sklearn\\linear_model\\sag.py:326: ConvergenceWarning: The max_iter was reached which means the coef_ did not converge\n",
      "  \"the coef_ did not converge\", ConvergenceWarning)\n"
     ]
    },
    {
     "data": {
      "image/png": "[encoded data removed]",
      "text/plain": [
       "<Figure size 432x288 with 1 Axes>"
      ]
     },
     "metadata": {
      "needs_background": "light"
     },
     "output_type": "display_data"
    },
    {
     "name": "stdout",
     "output_type": "stream",
     "text": [
      "Performance - Model: LogisticRegression\n",
      "Score - Test Data: 0.96, Training Data: 1.0\n",
      "coef_: [[ 1.34415949 -0.95483833]], intercept_: [4.07516876], n_iter_: [1000], \n",
      "\n"
     ]
    }
   ],
   "source": [
    "# Generate classifer and an associated performance report for each\n",
    "for s in solver_list:\n",
    "    # Create a classifier model\n",
    "    classifier = LogisticRegression(solver=s, max_iter=1000)\n",
    "    \n",
    "    # Evaluate the classifer performance, create a plot of \n",
    "    r = gen_classification(classifier)\n",
    "    model_results.append( {\n",
    "        'Classifier': r['model'],\n",
    "        'Solver': r['solver'],\n",
    "        'Fit Time (ms)': 1000.0*r['fit_time'],\n",
    "        'Iterations': int(r['n_iter']),\n",
    "        'Score-Testing Data': r['score_test'],\n",
    "        'Score-Training Data': r['score_train'] } )\n",
    "    print(\"\")"
   ]
  },
  {
   "cell_type": "markdown",
   "metadata": {},
   "source": [
    "## Summary: Generated Dataset"
   ]
  },
  {
   "cell_type": "code",
   "execution_count": 8,
   "metadata": {},
   "outputs": [
    {
     "data": {
      "text/html": [
       "<div>\n",
       "<style scoped>\n",
       "    .dataframe tbody tr th:only-of-type {\n",
       "        vertical-align: middle;\n",
       "    }\n",
       "\n",
       "    .dataframe tbody tr th {\n",
       "        vertical-align: top;\n",
       "    }\n",
       "\n",
       "    .dataframe thead th {\n",
       "        text-align: right;\n",
       "    }\n",
       "</style>\n",
       "<table border=\"1\" class=\"dataframe\">\n",
       "  <thead>\n",
       "    <tr style=\"text-align: right;\">\n",
       "      <th></th>\n",
       "      <th>Classifier</th>\n",
       "      <th>Solver</th>\n",
       "      <th>Fit Time (ms)</th>\n",
       "      <th>Iterations</th>\n",
       "      <th>Score-Testing Data</th>\n",
       "      <th>Score-Training Data</th>\n",
       "    </tr>\n",
       "  </thead>\n",
       "  <tbody>\n",
       "    <tr>\n",
       "      <th>0</th>\n",
       "      <td>LogisticRegression</td>\n",
       "      <td>liblinear</td>\n",
       "      <td>11.2411</td>\n",
       "      <td>7</td>\n",
       "      <td>1.00</td>\n",
       "      <td>0.973333</td>\n",
       "    </tr>\n",
       "    <tr>\n",
       "      <th>1</th>\n",
       "      <td>LogisticRegression</td>\n",
       "      <td>newton-cg</td>\n",
       "      <td>11.0509</td>\n",
       "      <td>11</td>\n",
       "      <td>0.96</td>\n",
       "      <td>1.000000</td>\n",
       "    </tr>\n",
       "    <tr>\n",
       "      <th>2</th>\n",
       "      <td>LogisticRegression</td>\n",
       "      <td>lbfgs</td>\n",
       "      <td>3.2761</td>\n",
       "      <td>18</td>\n",
       "      <td>0.96</td>\n",
       "      <td>1.000000</td>\n",
       "    </tr>\n",
       "    <tr>\n",
       "      <th>3</th>\n",
       "      <td>LogisticRegression</td>\n",
       "      <td>sag</td>\n",
       "      <td>20.1951</td>\n",
       "      <td>665</td>\n",
       "      <td>0.96</td>\n",
       "      <td>1.000000</td>\n",
       "    </tr>\n",
       "    <tr>\n",
       "      <th>4</th>\n",
       "      <td>LogisticRegression</td>\n",
       "      <td>saga</td>\n",
       "      <td>27.9660</td>\n",
       "      <td>1000</td>\n",
       "      <td>0.96</td>\n",
       "      <td>1.000000</td>\n",
       "    </tr>\n",
       "  </tbody>\n",
       "</table>\n",
       "</div>"
      ],
      "text/plain": [
       "           Classifier     Solver  Fit Time (ms)  Iterations  \\\n",
       "0  LogisticRegression  liblinear        11.2411           7   \n",
       "1  LogisticRegression  newton-cg        11.0509          11   \n",
       "2  LogisticRegression      lbfgs         3.2761          18   \n",
       "3  LogisticRegression        sag        20.1951         665   \n",
       "4  LogisticRegression       saga        27.9660        1000   \n",
       "\n",
       "   Score-Testing Data  Score-Training Data  \n",
       "0                1.00             0.973333  \n",
       "1                0.96             1.000000  \n",
       "2                0.96             1.000000  \n",
       "3                0.96             1.000000  \n",
       "4                0.96             1.000000  "
      ]
     },
     "execution_count": 8,
     "metadata": {},
     "output_type": "execute_result"
    }
   ],
   "source": [
    "summary_df = pd.DataFrame( model_results,\n",
    "          columns=['Classifier', 'Solver', 'Fit Time (ms)', 'Iterations', 'Score-Testing Data', 'Score-Training Data'])\n",
    "summary_df"
   ]
  },
  {
   "cell_type": "code",
   "execution_count": 9,
   "metadata": {},
   "outputs": [
    {
     "data": {
      "text/plain": [
       "Fit Time (ms)           14.745840\n",
       "Iterations             340.200000\n",
       "Score-Testing Data       0.968000\n",
       "Score-Training Data      0.994667\n",
       "dtype: float64"
      ]
     },
     "execution_count": 9,
     "metadata": {},
     "output_type": "execute_result"
    }
   ],
   "source": [
    "summary_df.mean()"
   ]
  },
  {
   "cell_type": "code",
   "execution_count": null,
   "metadata": {},
   "outputs": [],
   "source": []
  },
  {
   "cell_type": "code",
   "execution_count": null,
   "metadata": {},
   "outputs": [],
   "source": []
  },
  {
   "cell_type": "code",
   "execution_count": null,
   "metadata": {},
   "outputs": [],
   "source": []
  },
  {
   "cell_type": "markdown",
   "metadata": {},
   "source": [
    "## Compare Model/Solver Performance: Voice Dataset"
   ]
  },
  {
   "cell_type": "markdown",
   "metadata": {},
   "source": []
  },
  {
   "cell_type": "code",
   "execution_count": 10,
   "metadata": {},
   "outputs": [
    {
     "data": {
      "text/html": [
       "<div>\n",
       "<style scoped>\n",
       "    .dataframe tbody tr th:only-of-type {\n",
       "        vertical-align: middle;\n",
       "    }\n",
       "\n",
       "    .dataframe tbody tr th {\n",
       "        vertical-align: top;\n",
       "    }\n",
       "\n",
       "    .dataframe thead th {\n",
       "        text-align: right;\n",
       "    }\n",
       "</style>\n",
       "<table border=\"1\" class=\"dataframe\">\n",
       "  <thead>\n",
       "    <tr style=\"text-align: right;\">\n",
       "      <th></th>\n",
       "      <th>meanfreq</th>\n",
       "      <th>sd</th>\n",
       "      <th>median</th>\n",
       "      <th>Q25</th>\n",
       "      <th>Q75</th>\n",
       "      <th>IQR</th>\n",
       "      <th>skew</th>\n",
       "      <th>kurt</th>\n",
       "      <th>sp.ent</th>\n",
       "      <th>sfm</th>\n",
       "      <th>...</th>\n",
       "      <th>centroid</th>\n",
       "      <th>meanfun</th>\n",
       "      <th>minfun</th>\n",
       "      <th>maxfun</th>\n",
       "      <th>meandom</th>\n",
       "      <th>mindom</th>\n",
       "      <th>maxdom</th>\n",
       "      <th>dfrange</th>\n",
       "      <th>modindx</th>\n",
       "      <th>label</th>\n",
       "    </tr>\n",
       "  </thead>\n",
       "  <tbody>\n",
       "    <tr>\n",
       "      <th>0</th>\n",
       "      <td>0.059781</td>\n",
       "      <td>0.064241</td>\n",
       "      <td>0.032027</td>\n",
       "      <td>0.015071</td>\n",
       "      <td>0.090193</td>\n",
       "      <td>0.075122</td>\n",
       "      <td>12.863462</td>\n",
       "      <td>274.402906</td>\n",
       "      <td>0.893369</td>\n",
       "      <td>0.491918</td>\n",
       "      <td>...</td>\n",
       "      <td>0.059781</td>\n",
       "      <td>0.084279</td>\n",
       "      <td>0.015702</td>\n",
       "      <td>0.275862</td>\n",
       "      <td>0.007812</td>\n",
       "      <td>0.007812</td>\n",
       "      <td>0.007812</td>\n",
       "      <td>0.000000</td>\n",
       "      <td>0.000000</td>\n",
       "      <td>male</td>\n",
       "    </tr>\n",
       "    <tr>\n",
       "      <th>1</th>\n",
       "      <td>0.066009</td>\n",
       "      <td>0.067310</td>\n",
       "      <td>0.040229</td>\n",
       "      <td>0.019414</td>\n",
       "      <td>0.092666</td>\n",
       "      <td>0.073252</td>\n",
       "      <td>22.423285</td>\n",
       "      <td>634.613855</td>\n",
       "      <td>0.892193</td>\n",
       "      <td>0.513724</td>\n",
       "      <td>...</td>\n",
       "      <td>0.066009</td>\n",
       "      <td>0.107937</td>\n",
       "      <td>0.015826</td>\n",
       "      <td>0.250000</td>\n",
       "      <td>0.009014</td>\n",
       "      <td>0.007812</td>\n",
       "      <td>0.054688</td>\n",
       "      <td>0.046875</td>\n",
       "      <td>0.052632</td>\n",
       "      <td>male</td>\n",
       "    </tr>\n",
       "    <tr>\n",
       "      <th>2</th>\n",
       "      <td>0.077316</td>\n",
       "      <td>0.083829</td>\n",
       "      <td>0.036718</td>\n",
       "      <td>0.008701</td>\n",
       "      <td>0.131908</td>\n",
       "      <td>0.123207</td>\n",
       "      <td>30.757155</td>\n",
       "      <td>1024.927705</td>\n",
       "      <td>0.846389</td>\n",
       "      <td>0.478905</td>\n",
       "      <td>...</td>\n",
       "      <td>0.077316</td>\n",
       "      <td>0.098706</td>\n",
       "      <td>0.015656</td>\n",
       "      <td>0.271186</td>\n",
       "      <td>0.007990</td>\n",
       "      <td>0.007812</td>\n",
       "      <td>0.015625</td>\n",
       "      <td>0.007812</td>\n",
       "      <td>0.046512</td>\n",
       "      <td>male</td>\n",
       "    </tr>\n",
       "    <tr>\n",
       "      <th>3</th>\n",
       "      <td>0.151228</td>\n",
       "      <td>0.072111</td>\n",
       "      <td>0.158011</td>\n",
       "      <td>0.096582</td>\n",
       "      <td>0.207955</td>\n",
       "      <td>0.111374</td>\n",
       "      <td>1.232831</td>\n",
       "      <td>4.177296</td>\n",
       "      <td>0.963322</td>\n",
       "      <td>0.727232</td>\n",
       "      <td>...</td>\n",
       "      <td>0.151228</td>\n",
       "      <td>0.088965</td>\n",
       "      <td>0.017798</td>\n",
       "      <td>0.250000</td>\n",
       "      <td>0.201497</td>\n",
       "      <td>0.007812</td>\n",
       "      <td>0.562500</td>\n",
       "      <td>0.554688</td>\n",
       "      <td>0.247119</td>\n",
       "      <td>male</td>\n",
       "    </tr>\n",
       "    <tr>\n",
       "      <th>4</th>\n",
       "      <td>0.135120</td>\n",
       "      <td>0.079146</td>\n",
       "      <td>0.124656</td>\n",
       "      <td>0.078720</td>\n",
       "      <td>0.206045</td>\n",
       "      <td>0.127325</td>\n",
       "      <td>1.101174</td>\n",
       "      <td>4.333713</td>\n",
       "      <td>0.971955</td>\n",
       "      <td>0.783568</td>\n",
       "      <td>...</td>\n",
       "      <td>0.135120</td>\n",
       "      <td>0.106398</td>\n",
       "      <td>0.016931</td>\n",
       "      <td>0.266667</td>\n",
       "      <td>0.712812</td>\n",
       "      <td>0.007812</td>\n",
       "      <td>5.484375</td>\n",
       "      <td>5.476562</td>\n",
       "      <td>0.208274</td>\n",
       "      <td>male</td>\n",
       "    </tr>\n",
       "  </tbody>\n",
       "</table>\n",
       "<p>5 rows × 21 columns</p>\n",
       "</div>"
      ],
      "text/plain": [
       "   meanfreq        sd    median       Q25       Q75       IQR       skew  \\\n",
       "0  0.059781  0.064241  0.032027  0.015071  0.090193  0.075122  12.863462   \n",
       "1  0.066009  0.067310  0.040229  0.019414  0.092666  0.073252  22.423285   \n",
       "2  0.077316  0.083829  0.036718  0.008701  0.131908  0.123207  30.757155   \n",
       "3  0.151228  0.072111  0.158011  0.096582  0.207955  0.111374   1.232831   \n",
       "4  0.135120  0.079146  0.124656  0.078720  0.206045  0.127325   1.101174   \n",
       "\n",
       "          kurt    sp.ent       sfm  ...  centroid   meanfun    minfun  \\\n",
       "0   274.402906  0.893369  0.491918  ...  0.059781  0.084279  0.015702   \n",
       "1   634.613855  0.892193  0.513724  ...  0.066009  0.107937  0.015826   \n",
       "2  1024.927705  0.846389  0.478905  ...  0.077316  0.098706  0.015656   \n",
       "3     4.177296  0.963322  0.727232  ...  0.151228  0.088965  0.017798   \n",
       "4     4.333713  0.971955  0.783568  ...  0.135120  0.106398  0.016931   \n",
       "\n",
       "     maxfun   meandom    mindom    maxdom   dfrange   modindx  label  \n",
       "0  0.275862  0.007812  0.007812  0.007812  0.000000  0.000000   male  \n",
       "1  0.250000  0.009014  0.007812  0.054688  0.046875  0.052632   male  \n",
       "2  0.271186  0.007990  0.007812  0.015625  0.007812  0.046512   male  \n",
       "3  0.250000  0.201497  0.007812  0.562500  0.554688  0.247119   male  \n",
       "4  0.266667  0.712812  0.007812  5.484375  5.476562  0.208274   male  \n",
       "\n",
       "[5 rows x 21 columns]"
      ]
     },
     "execution_count": 10,
     "metadata": {},
     "output_type": "execute_result"
    }
   ],
   "source": [
    "## Import Data and Pre-Process: Voice Dataset\n",
    "voice = pd.read_csv('resources/voice.csv')\n",
    "voice.head()"
   ]
  },
  {
   "cell_type": "code",
   "execution_count": 11,
   "metadata": {},
   "outputs": [],
   "source": [
    "# Check datatypes to ensure numerical values are floats vs. objects -- CONFIRMED\n",
    "# voice.dtypes"
   ]
  },
  {
   "cell_type": "code",
   "execution_count": 12,
   "metadata": {},
   "outputs": [
    {
     "name": "stdout",
     "output_type": "stream",
     "text": [
      "(3168, 20) (3168,)\n"
     ]
    }
   ],
   "source": [
    "# Assign X (data) and y (target)\n",
    "X = voice.drop(\"label\", axis=1)\n",
    "y = voice[\"label\"]\n",
    "print(X.shape, y.shape)"
   ]
  },
  {
   "cell_type": "code",
   "execution_count": 13,
   "metadata": {},
   "outputs": [],
   "source": [
    "# Split the data using train_test_split\n",
    "X_train, X_test, y_train, y_test = train_test_split(X, y, random_state=1, stratify=y)"
   ]
  },
  {
   "cell_type": "code",
   "execution_count": null,
   "metadata": {},
   "outputs": [],
   "source": []
  },
  {
   "cell_type": "code",
   "execution_count": 14,
   "metadata": {},
   "outputs": [],
   "source": [
    "# Function to fit a model to training data, calculate predictions, and create a residuals chart\n",
    "def gen_classification2(a_model):\n",
    "    # Get the name of this model\n",
    "    m_name = str(a_model).split(\"(\",1)[0]\n",
    "    \n",
    "    # Get the solver used with this model\n",
    "    m_solver = str(a_model).split(\"solver=\")[1].split(\",\")[0].replace(\"'\",\"\").replace('\"','')\n",
    "    \n",
    "    # Print a separator\n",
    "    print(\"*\"*80)\n",
    "    \n",
    "    # Print the model attributes\n",
    "    print(a_model)\n",
    "    \n",
    "    # Fit the data to the scaled data\n",
    "    m_fit_time = %timeit -n1 -r1 -o a_model.fit(X_train, y_train)\n",
    "\n",
    "    # Make predictions using both test and training data\n",
    "    y_predicted_test = a_model.predict(X_test)\n",
    "    y_predicted_train = a_model.predict(X_train)\n",
    "    \n",
    "#     # Flag points that were classified incorrectly\n",
    "#     y_predicted_test_errors = y_test - y_predicted_test\n",
    "#     y_predicted_train_errors = y_train - y_predicted_train\n",
    "\n",
    "    # Calculate Model performance: MSE and R2\n",
    "    m_score_test = a_model.score(X_test, y_test)\n",
    "    m_score_train = a_model.score(X_train, y_train)\n",
    "\n",
    "    print(f\"Performance - Model: {m_name}\\nScore - Test Data: {m_score_test}, Training Data: {m_score_train}\")\n",
    "    print(f\"coef_: {a_model.coef_}, intercept_: {a_model.intercept_}, n_iter_: {a_model.n_iter_}, \")\n",
    "\n",
    "    # Generate a confusion matrix of the results for both test and training data\n",
    "\n",
    "    cm_test = confusion_matrix(y_test, a_model.predict(X_test))\n",
    "    cm_test_df = pd.DataFrame(cm_test, columns = [\"Female (Predicted)\", \"Male (Predicted)\"], index = [\"Female (Actual)\", \"Male (Actual)\"] )\n",
    "    print(\"Confusion Matrix - Testing Data\")\n",
    "    print(cm_test_df)\n",
    "\n",
    "    print(\"\")\n",
    "\n",
    "    cm_train = confusion_matrix(y_train, a_model.predict(X_train))\n",
    "    cm_train_df = pd.DataFrame(cm_train, columns = [\"Female (Predicted)\", \"Male (Predicted)\"], index = [\"Female (Actual)\", \"Male (Actual)\"] )\n",
    "    print(\"Confusion Matrix - Training Data\")\n",
    "    print(cm_train_df)\n",
    "    \n",
    "#     # Plot the training and test data, with prediction errors highlighted in different color\n",
    "\n",
    "#     # Generate a plot\n",
    "#     plt.scatter(X_test[:,0], X_test[:,1], c=y_predicted_test_errors)\n",
    "#     plt.scatter(X_train[:,0], X_train[:,1], c=y_predicted_train_errors)\n",
    "    \n",
    "#     # plt.legend()\n",
    "\n",
    "#     plt.title(f\"Classification Results - Model: {m_name} / {m_solver}\")\n",
    "#     plt.show()\n",
    "\n",
    "    a_result = {\n",
    "        'model': m_name,\n",
    "        'solver': m_solver,\n",
    "        'fit_time': m_fit_time.average,\n",
    "        'n_iter': a_model.n_iter_,\n",
    "        'score_test': m_score_test,\n",
    "        'score_train': m_score_train\n",
    "    }\n",
    "    \n",
    "    return a_result"
   ]
  },
  {
   "cell_type": "code",
   "execution_count": null,
   "metadata": {},
   "outputs": [],
   "source": []
  },
  {
   "cell_type": "markdown",
   "metadata": {},
   "source": [
    "## Classification Model: Logistic Regression"
   ]
  },
  {
   "cell_type": "code",
   "execution_count": 15,
   "metadata": {
    "scrolled": false
   },
   "outputs": [
    {
     "name": "stdout",
     "output_type": "stream",
     "text": [
      "********************************************************************************\n",
      "LogisticRegression(C=1.0, class_weight=None, dual=False, fit_intercept=True,\n",
      "          intercept_scaling=1, max_iter=10000, multi_class='ovr', n_jobs=1,\n",
      "          penalty='l2', random_state=None, solver='liblinear', tol=0.0001,\n",
      "          verbose=0, warm_start=False)\n",
      "26.9 ms ± 0 ns per loop (mean ± std. dev. of 1 run, 1 loop each)\n",
      "Performance - Model: LogisticRegression\n",
      "Score - Test Data: 0.9191919191919192, Training Data: 0.9078282828282829\n",
      "coef_: [[-5.89619492e-01  1.53399178e+00 -9.19553166e-01 -5.29598693e+00\n",
      "   2.84644857e+00  8.14243550e+00 -4.13412894e-01  1.21437995e-02\n",
      "   4.36354157e+00 -4.17828855e-01  7.38816728e-01 -5.89619492e-01\n",
      "  -1.60598156e+01  1.67748472e-01 -2.35239241e+00 -1.79488747e-01\n",
      "  -7.99818426e-01 -4.11461517e-01  3.88356909e-01 -3.80961048e-01]], intercept_: [-0.05908685], n_iter_: [24], \n",
      "Confusion Matrix - Testing Data\n",
      "                 Female (Predicted)  Male (Predicted)\n",
      "Female (Actual)                 342                54\n",
      "Male (Actual)                    10               386\n",
      "\n",
      "Confusion Matrix - Training Data\n",
      "                 Female (Predicted)  Male (Predicted)\n",
      "Female (Actual)                1005               183\n",
      "Male (Actual)                    36              1152\n",
      "\n",
      "********************************************************************************\n",
      "LogisticRegression(C=1.0, class_weight=None, dual=False, fit_intercept=True,\n",
      "          intercept_scaling=1, max_iter=10000, multi_class='ovr', n_jobs=1,\n",
      "          penalty='l2', random_state=None, solver='newton-cg', tol=0.0001,\n",
      "          verbose=0, warm_start=False)\n",
      "89.4 ms ± 0 ns per loop (mean ± std. dev. of 1 run, 1 loop each)\n",
      "Performance - Model: LogisticRegression\n",
      "Score - Test Data: 0.9191919191919192, Training Data: 0.9078282828282829\n",
      "coef_: [[-5.81978442e-01  1.53664890e+00 -9.14411965e-01 -5.29110633e+00\n",
      "   2.85631905e+00  8.14742538e+00 -4.11941877e-01  1.21051107e-02\n",
      "   4.40668939e+00 -4.17573382e-01  7.45658037e-01 -5.81978442e-01\n",
      "  -1.60567969e+01  1.74319241e-01 -2.34041952e+00 -1.79648120e-01\n",
      "  -7.93725462e-01 -4.08319173e-01  3.85406289e-01 -3.77894429e-01]], intercept_: [-0.11518679], n_iter_: [31], \n",
      "Confusion Matrix - Testing Data\n",
      "                 Female (Predicted)  Male (Predicted)\n",
      "Female (Actual)                 342                54\n",
      "Male (Actual)                    10               386\n",
      "\n",
      "Confusion Matrix - Training Data\n",
      "                 Female (Predicted)  Male (Predicted)\n",
      "Female (Actual)                1005               183\n",
      "Male (Actual)                    36              1152\n",
      "\n",
      "********************************************************************************\n",
      "LogisticRegression(C=1.0, class_weight=None, dual=False, fit_intercept=True,\n",
      "          intercept_scaling=1, max_iter=10000, multi_class='ovr', n_jobs=1,\n",
      "          penalty='l2', random_state=None, solver='lbfgs', tol=0.0001,\n",
      "          verbose=0, warm_start=False)\n",
      "248 ms ± 0 ns per loop (mean ± std. dev. of 1 run, 1 loop each)\n",
      "Performance - Model: LogisticRegression\n",
      "Score - Test Data: 0.9191919191919192, Training Data: 0.9074074074074074\n",
      "coef_: [[-6.02980893e-01  1.52987848e+00 -8.98643007e-01 -5.33014439e+00\n",
      "   2.82993273e+00  8.16007712e+00 -4.16729536e-01  1.22498782e-02\n",
      "   4.29053276e+00 -3.88404900e-01  7.76807058e-01 -6.02980893e-01\n",
      "  -1.60436335e+01  9.82301744e-02 -2.48020387e+00 -1.69476445e-01\n",
      "  -7.04996761e-01 -3.64596532e-01  3.40400229e-01 -4.06089704e-01]], intercept_: [0.03058675], n_iter_: [484], \n",
      "Confusion Matrix - Testing Data\n",
      "                 Female (Predicted)  Male (Predicted)\n",
      "Female (Actual)                 342                54\n",
      "Male (Actual)                    10               386\n",
      "\n",
      "Confusion Matrix - Training Data\n",
      "                 Female (Predicted)  Male (Predicted)\n",
      "Female (Actual)                1005               183\n",
      "Male (Actual)                    37              1151\n",
      "\n",
      "********************************************************************************\n",
      "LogisticRegression(C=1.0, class_weight=None, dual=False, fit_intercept=True,\n",
      "          intercept_scaling=1, max_iter=10000, multi_class='ovr', n_jobs=1,\n",
      "          penalty='l2', random_state=None, solver='sag', tol=0.0001,\n",
      "          verbose=0, warm_start=False)\n",
      "8.71 s ± 0 ns per loop (mean ± std. dev. of 1 run, 1 loop each)\n",
      "Performance - Model: LogisticRegression\n",
      "Score - Test Data: 0.7297979797979798, Training Data: 0.7087542087542088\n",
      "coef_: [[-0.00690631  0.1205047  -0.00979896 -0.21682019  0.15841618  0.37523638\n",
      "  -0.57054136  0.01922244  0.74783242  0.84962033 -0.00876288 -0.00690631\n",
      "  -0.31380338 -0.00170375  0.06860545 -0.14793537 -0.11093788 -0.09513882\n",
      "   0.01579906  0.11420488]], intercept_: [0.55033455], n_iter_: [6009], \n",
      "Confusion Matrix - Testing Data\n",
      "                 Female (Predicted)  Male (Predicted)\n",
      "Female (Actual)                 297                99\n",
      "Male (Actual)                   115               281\n",
      "\n",
      "Confusion Matrix - Training Data\n",
      "                 Female (Predicted)  Male (Predicted)\n",
      "Female (Actual)                 846               342\n",
      "Male (Actual)                   350               838\n",
      "\n",
      "********************************************************************************\n",
      "LogisticRegression(C=1.0, class_weight=None, dual=False, fit_intercept=True,\n",
      "          intercept_scaling=1, max_iter=10000, multi_class='ovr', n_jobs=1,\n",
      "          penalty='l2', random_state=None, solver='saga', tol=0.0001,\n",
      "          verbose=0, warm_start=False)\n",
      "11.9 s ± 0 ns per loop (mean ± std. dev. of 1 run, 1 loop each)\n",
      "Performance - Model: LogisticRegression\n",
      "Score - Test Data: 0.7159090909090909, Training Data: 0.6931818181818182\n",
      "coef_: [[ 0.00871342  0.0820753   0.00775204 -0.12683584  0.11733959  0.24417544\n",
      "  -0.43232511  0.01484866  0.55425561  0.60241779  0.00575602  0.00871342\n",
      "  -0.17758138  0.00127143  0.06656758 -0.07813792 -0.06973167 -0.07299845\n",
      "  -0.00326679  0.09198843]], intercept_: [0.43021661], n_iter_: [7126], \n",
      "Confusion Matrix - Testing Data\n",
      "                 Female (Predicted)  Male (Predicted)\n",
      "Female (Actual)                 304                92\n",
      "Male (Actual)                   133               263\n",
      "\n",
      "Confusion Matrix - Training Data\n",
      "                 Female (Predicted)  Male (Predicted)\n",
      "Female (Actual)                 851               337\n",
      "Male (Actual)                   392               796\n",
      "\n"
     ]
    }
   ],
   "source": [
    "# Initialize list of dictionary of results for summary in a dataframe later\n",
    "model_results = []\n",
    "\n",
    "# List of Solvers to use with LogisticRegression model\n",
    "solver_list = \"liblinear\", \"newton-cg\", \"lbfgs\", \"sag\", \"saga\"\n",
    "\n",
    "# Generate classifer and an associated performance report for each\n",
    "for s in solver_list:\n",
    "    # Create a classifier model\n",
    "    classifier = LogisticRegression(solver=s, n_jobs=1, max_iter=10000)\n",
    "    \n",
    "    # Evaluate the classifer performance, create a plot of \n",
    "    r = gen_classification2(classifier)\n",
    "    model_results.append( {\n",
    "        'Classifier': r['model'],\n",
    "        'Solver': r['solver'],\n",
    "        'Fit Time (ms)': 1000.0*r['fit_time'],\n",
    "        'Iterations': int(r['n_iter']),\n",
    "        'Score-Testing Data': r['score_test'],\n",
    "        'Score-Training Data': r['score_train'] } )\n",
    "    print(\"\")"
   ]
  },
  {
   "cell_type": "markdown",
   "metadata": {},
   "source": [
    "## Summary"
   ]
  },
  {
   "cell_type": "code",
   "execution_count": 16,
   "metadata": {},
   "outputs": [
    {
     "data": {
      "text/html": [
       "<div>\n",
       "<style scoped>\n",
       "    .dataframe tbody tr th:only-of-type {\n",
       "        vertical-align: middle;\n",
       "    }\n",
       "\n",
       "    .dataframe tbody tr th {\n",
       "        vertical-align: top;\n",
       "    }\n",
       "\n",
       "    .dataframe thead th {\n",
       "        text-align: right;\n",
       "    }\n",
       "</style>\n",
       "<table border=\"1\" class=\"dataframe\">\n",
       "  <thead>\n",
       "    <tr style=\"text-align: right;\">\n",
       "      <th></th>\n",
       "      <th>Classifier</th>\n",
       "      <th>Solver</th>\n",
       "      <th>Fit Time (ms)</th>\n",
       "      <th>Iterations</th>\n",
       "      <th>Score-Testing Data</th>\n",
       "      <th>Score-Training Data</th>\n",
       "    </tr>\n",
       "  </thead>\n",
       "  <tbody>\n",
       "    <tr>\n",
       "      <th>0</th>\n",
       "      <td>LogisticRegression</td>\n",
       "      <td>liblinear</td>\n",
       "      <td>26.8882</td>\n",
       "      <td>24</td>\n",
       "      <td>0.919192</td>\n",
       "      <td>0.907828</td>\n",
       "    </tr>\n",
       "    <tr>\n",
       "      <th>1</th>\n",
       "      <td>LogisticRegression</td>\n",
       "      <td>newton-cg</td>\n",
       "      <td>89.3713</td>\n",
       "      <td>31</td>\n",
       "      <td>0.919192</td>\n",
       "      <td>0.907828</td>\n",
       "    </tr>\n",
       "    <tr>\n",
       "      <th>2</th>\n",
       "      <td>LogisticRegression</td>\n",
       "      <td>lbfgs</td>\n",
       "      <td>248.4898</td>\n",
       "      <td>484</td>\n",
       "      <td>0.919192</td>\n",
       "      <td>0.907407</td>\n",
       "    </tr>\n",
       "    <tr>\n",
       "      <th>3</th>\n",
       "      <td>LogisticRegression</td>\n",
       "      <td>sag</td>\n",
       "      <td>8713.8545</td>\n",
       "      <td>6009</td>\n",
       "      <td>0.729798</td>\n",
       "      <td>0.708754</td>\n",
       "    </tr>\n",
       "    <tr>\n",
       "      <th>4</th>\n",
       "      <td>LogisticRegression</td>\n",
       "      <td>saga</td>\n",
       "      <td>11877.2128</td>\n",
       "      <td>7126</td>\n",
       "      <td>0.715909</td>\n",
       "      <td>0.693182</td>\n",
       "    </tr>\n",
       "  </tbody>\n",
       "</table>\n",
       "</div>"
      ],
      "text/plain": [
       "           Classifier     Solver  Fit Time (ms)  Iterations  \\\n",
       "0  LogisticRegression  liblinear        26.8882          24   \n",
       "1  LogisticRegression  newton-cg        89.3713          31   \n",
       "2  LogisticRegression      lbfgs       248.4898         484   \n",
       "3  LogisticRegression        sag      8713.8545        6009   \n",
       "4  LogisticRegression       saga     11877.2128        7126   \n",
       "\n",
       "   Score-Testing Data  Score-Training Data  \n",
       "0            0.919192             0.907828  \n",
       "1            0.919192             0.907828  \n",
       "2            0.919192             0.907407  \n",
       "3            0.729798             0.708754  \n",
       "4            0.715909             0.693182  "
      ]
     },
     "execution_count": 16,
     "metadata": {},
     "output_type": "execute_result"
    }
   ],
   "source": [
    "summary_df = pd.DataFrame( model_results,\n",
    "          columns=['Classifier', 'Solver', 'Fit Time (ms)', 'Iterations', 'Score-Testing Data', 'Score-Training Data'])\n",
    "summary_df"
   ]
  },
  {
   "cell_type": "code",
   "execution_count": 17,
   "metadata": {},
   "outputs": [
    {
     "data": {
      "text/plain": [
       "Fit Time (ms)          4191.163320\n",
       "Iterations             2734.800000\n",
       "Score-Testing Data        0.840657\n",
       "Score-Training Data       0.825000\n",
       "dtype: float64"
      ]
     },
     "execution_count": 17,
     "metadata": {},
     "output_type": "execute_result"
    }
   ],
   "source": [
    "summary_df.mean()"
   ]
  },
  {
   "cell_type": "code",
   "execution_count": null,
   "metadata": {},
   "outputs": [],
   "source": []
  },
  {
   "cell_type": "code",
   "execution_count": null,
   "metadata": {},
   "outputs": [],
   "source": []
  }
 ],
 "metadata": {
  "anaconda-cloud": {},
  "kernelspec": {
   "display_name": "Python 3",
   "language": "python",
   "name": "python3"
  },
  "language_info": {
   "codemirror_mode": {
    "name": "ipython",
    "version": 3
   },
   "file_extension": ".py",
   "mimetype": "text/x-python",
   "name": "python",
   "nbconvert_exporter": "python",
   "pygments_lexer": "ipython3",
   "version": "3.7.1"
  },
  "nbpresent": {
   "slides": {
    "03210a56-863e-4749-b7ba-ed75bfceceee": {
     "id": "03210a56-863e-4749-b7ba-ed75bfceceee",
     "prev": "86b3b05f-6e9a-49dc-8a83-97f72c348c5f",
     "regions": {
      "2be9481c-cff7-4f32-b835-90f2a2cb989a": {
       "attrs": {
        "height": 0.8,
        "width": 0.8,
        "x": 0.1,
        "y": 0.1
       },
       "content": {
        "cell": "46550b81-7dd8-4efc-b710-0f10002c9f2b",
        "part": "whole"
       },
       "id": "2be9481c-cff7-4f32-b835-90f2a2cb989a"
      },
      "3f484569-30ec-4529-8d3c-ac88b8c6dbfb": {
       "attrs": {
        "height": 0.4,
        "width": 0.8,
        "x": 0.1,
        "y": 0.5
       },
       "content": {
        "cell": "2b83c32a-d7e2-4db6-b45f-afbbf028fe90",
        "part": "whole"
       },
       "id": "3f484569-30ec-4529-8d3c-ac88b8c6dbfb"
      }
     }
    },
    "22531930-3fc8-45ff-a4f1-32e94c1d1455": {
     "id": "22531930-3fc8-45ff-a4f1-32e94c1d1455",
     "prev": "8eb735f6-11af-4f77-a4ed-b637fb18ac08",
     "regions": {
      "1407c818-c9fd-470e-8260-6b6904d888de": {
       "attrs": {
        "height": 0.8,
        "width": 0.8,
        "x": 0.1,
        "y": 0.1
       },
       "content": {
        "cell": "664c64ef-5517-4725-95cb-874bbc7711c7",
        "part": "whole"
       },
       "id": "1407c818-c9fd-470e-8260-6b6904d888de"
      }
     }
    },
    "29c55765-6994-4dbf-b82f-117b4f1e0cee": {
     "id": "29c55765-6994-4dbf-b82f-117b4f1e0cee",
     "prev": "b7c25bc1-4dd7-421b-9951-0c0c403c176d",
     "regions": {
      "44583f15-ec4f-4aec-8e7c-f01652e954fc": {
       "attrs": {
        "height": 0.8,
        "width": 0.8,
        "x": 0.1,
        "y": 0.1
       },
       "content": {
        "cell": "7c23961d-86fe-4d07-bc58-6d61f03c3731",
        "part": "whole"
       },
       "id": "44583f15-ec4f-4aec-8e7c-f01652e954fc"
      }
     }
    },
    "39c5764b-ab2c-4aae-8500-dc39319e4d38": {
     "id": "39c5764b-ab2c-4aae-8500-dc39319e4d38",
     "prev": "22531930-3fc8-45ff-a4f1-32e94c1d1455",
     "regions": {
      "d0237596-8095-44dc-81c6-6d9c6b204684": {
       "attrs": {
        "height": 0.8,
        "width": 0.8,
        "x": 0.1,
        "y": 0.1
       },
       "content": {
        "cell": "348e164e-a000-4def-92c0-db93f9a617a1",
        "part": "whole"
       },
       "id": "d0237596-8095-44dc-81c6-6d9c6b204684"
      }
     }
    },
    "39e950f1-f2c4-422a-8f45-835c5c61e7e0": {
     "id": "39e950f1-f2c4-422a-8f45-835c5c61e7e0",
     "prev": "4b5f1824-db4a-4ef3-9515-a88d3f2276c1",
     "regions": {
      "0a72cc48-c38f-4e8c-94d3-3198eccde68a": {
       "attrs": {
        "height": 0.8,
        "width": 0.8,
        "x": 0.1,
        "y": 0.1
       },
       "content": {
        "cell": "c3820b22-bf55-4dca-ba8b-f08060567b6e",
        "part": "whole"
       },
       "id": "0a72cc48-c38f-4e8c-94d3-3198eccde68a"
      },
      "b49c6eca-318f-41b8-a7a5-a620d18f639c": {
       "attrs": {
        "height": 0.4,
        "width": 0.8,
        "x": 0.1,
        "y": 0.5
       },
       "content": {
        "cell": "aeeeb44d-7825-4050-b7ba-70813bd3396b",
        "part": "whole"
       },
       "id": "b49c6eca-318f-41b8-a7a5-a620d18f639c"
      }
     }
    },
    "4792c0cc-ccd4-48bf-9b0e-a3c1f0f3008d": {
     "id": "4792c0cc-ccd4-48bf-9b0e-a3c1f0f3008d",
     "prev": "39c5764b-ab2c-4aae-8500-dc39319e4d38",
     "regions": {
      "d4adae26-ff2f-4a81-ad91-fd3a9bfd965c": {
       "attrs": {
        "height": 0.4,
        "width": 0.8,
        "x": 0.1,
        "y": 0.5
       },
       "content": {
        "cell": "4d6b8af6-438e-4034-bda1-1f977cf12441",
        "part": "whole"
       },
       "id": "d4adae26-ff2f-4a81-ad91-fd3a9bfd965c"
      },
      "d75a8261-ee89-4f4d-b388-2f429e112f44": {
       "attrs": {
        "height": 0.8,
        "width": 0.8,
        "x": 0.1,
        "y": 0.1
       },
       "content": {
        "cell": "a3b6e99c-2c85-47da-b29b-3b53c3c309b8",
        "part": "whole"
       },
       "id": "d75a8261-ee89-4f4d-b388-2f429e112f44"
      }
     }
    },
    "4b5f1824-db4a-4ef3-9515-a88d3f2276c1": {
     "id": "4b5f1824-db4a-4ef3-9515-a88d3f2276c1",
     "prev": "e92a9020-6631-400a-aa50-46c1fa0a5f0c",
     "regions": {
      "2bd81133-11e3-48df-bf12-2d0a57949bca": {
       "attrs": {
        "height": 0.8,
        "width": 0.8,
        "x": 0.1,
        "y": 0.1
       },
       "content": {
        "cell": "69fab88f-0864-47cc-933b-eaffb638cbf3",
        "part": "whole"
       },
       "id": "2bd81133-11e3-48df-bf12-2d0a57949bca"
      },
      "d3322861-28ab-4f1e-8a1f-3a7f4d3da8c1": {
       "attrs": {
        "height": 0.4,
        "width": 0.8,
        "x": 0.1,
        "y": 0.5
       },
       "content": {
        "cell": "3810c2af-fdbe-4f01-bc9f-2bb1a8ae70c6",
        "part": "whole"
       },
       "id": "d3322861-28ab-4f1e-8a1f-3a7f4d3da8c1"
      }
     }
    },
    "57992fb9-2f74-4e8e-8772-7b9f04606a56": {
     "id": "57992fb9-2f74-4e8e-8772-7b9f04606a56",
     "prev": "595093b4-3f86-406c-abb5-aea78e1241b3",
     "regions": {
      "3b3c8191-9f7e-4ab2-afac-b2b47008484a": {
       "attrs": {
        "height": 0.8,
        "width": 0.8,
        "x": 0.1,
        "y": 0.1
       },
       "content": {
        "cell": "a6d0bdff-9bba-472e-b354-da47b8761dbe",
        "part": "whole"
       },
       "id": "3b3c8191-9f7e-4ab2-afac-b2b47008484a"
      }
     }
    },
    "5907f515-df93-4e86-82c6-b8721b6e6346": {
     "id": "5907f515-df93-4e86-82c6-b8721b6e6346",
     "prev": "39e950f1-f2c4-422a-8f45-835c5c61e7e0",
     "regions": {
      "22f9005a-ed7a-4399-b501-497565ada2da": {
       "attrs": {
        "height": 0.8,
        "width": 0.8,
        "x": 0.1,
        "y": 0.1
       },
       "content": {
        "cell": "2e255efc-6ae1-4554-b32f-9400b47007c9",
        "part": "whole"
       },
       "id": "22f9005a-ed7a-4399-b501-497565ada2da"
      },
      "82d64cef-48f7-413c-ad01-e7fa2921f7c0": {
       "attrs": {
        "height": 0.4,
        "width": 0.8,
        "x": 0.1,
        "y": 0.5
       },
       "content": {
        "cell": "711a40c8-c479-448b-a3bc-5c7ff8369838",
        "part": "whole"
       },
       "id": "82d64cef-48f7-413c-ad01-e7fa2921f7c0"
      },
      "d943d3ea-6cd3-4d4a-8914-7fea0231efda": {
       "attrs": {
        "height": 0.4,
        "width": 0.8,
        "x": 0.1,
        "y": 0.5
       },
       "content": {
        "cell": "9bfbb27b-cae0-4feb-809a-77718bb2e6a3",
        "part": "whole"
       },
       "id": "d943d3ea-6cd3-4d4a-8914-7fea0231efda"
      }
     }
    },
    "595093b4-3f86-406c-abb5-aea78e1241b3": {
     "id": "595093b4-3f86-406c-abb5-aea78e1241b3",
     "prev": "5907f515-df93-4e86-82c6-b8721b6e6346",
     "regions": {
      "3366a1dc-6c33-45f0-a97f-a2744ed0587f": {
       "attrs": {
        "height": 0.8,
        "width": 0.8,
        "x": 0.1,
        "y": 0.1
       },
       "content": {
        "cell": "e54b79a1-316d-4fd1-ad5f-6cd580b51f99",
        "part": "whole"
       },
       "id": "3366a1dc-6c33-45f0-a97f-a2744ed0587f"
      },
      "40b6dba8-5994-4fd0-9ce5-9d36f3bb9f93": {
       "attrs": {
        "height": 0.4,
        "width": 0.8,
        "x": 0.1,
        "y": 0.5
       },
       "content": {
        "cell": "3d860568-b048-40f2-a64d-f585211d6c1c",
        "part": "whole"
       },
       "id": "40b6dba8-5994-4fd0-9ce5-9d36f3bb9f93"
      }
     }
    },
    "76838eab-c2c3-4ff3-b09f-854a7c74c6d4": {
     "id": "76838eab-c2c3-4ff3-b09f-854a7c74c6d4",
     "prev": null,
     "regions": {
      "b0032c00-1d89-4c94-a7a0-488f243c381e": {
       "attrs": {
        "height": 0.8,
        "width": 0.8,
        "x": 0.1,
        "y": 0.1
       },
       "content": {
        "cell": "0dc0cdcb-d8df-4a29-a0d2-a3cf6cc889ce",
        "part": "whole"
       },
       "id": "b0032c00-1d89-4c94-a7a0-488f243c381e"
      }
     }
    },
    "7a25817a-e5bc-4021-9c6b-61bc74dbdb92": {
     "id": "7a25817a-e5bc-4021-9c6b-61bc74dbdb92",
     "prev": "b04719fc-934a-404b-a642-dc732a3d1589",
     "regions": {
      "38d56409-500a-45cf-8e79-722d68d8fc38": {
       "attrs": {
        "height": 0.8,
        "width": 0.8,
        "x": 0.1,
        "y": 0.1
       },
       "content": {
        "cell": "335f050d-99af-43b3-a5ec-69fe896e48e2",
        "part": "whole"
       },
       "id": "38d56409-500a-45cf-8e79-722d68d8fc38"
      },
      "c838cb6d-409c-4c17-a1eb-3d7dc6aab32b": {
       "attrs": {
        "height": 0.4,
        "width": 0.8,
        "x": 0.1,
        "y": 0.5
       },
       "content": {
        "cell": "19ca6a7e-4b5d-4b0f-88c5-e68634abb65d",
        "part": "whole"
       },
       "id": "c838cb6d-409c-4c17-a1eb-3d7dc6aab32b"
      }
     }
    },
    "86b3b05f-6e9a-49dc-8a83-97f72c348c5f": {
     "id": "86b3b05f-6e9a-49dc-8a83-97f72c348c5f",
     "prev": "57992fb9-2f74-4e8e-8772-7b9f04606a56",
     "regions": {
      "49a41ef6-224d-46c1-bb81-254b8a4cee88": {
       "attrs": {
        "height": 0.8,
        "width": 0.8,
        "x": 0.1,
        "y": 0.1
       },
       "content": {
        "cell": "d7df6fa0-ce96-4073-b95d-ce78b3f4fdf1",
        "part": "whole"
       },
       "id": "49a41ef6-224d-46c1-bb81-254b8a4cee88"
      },
      "7ce316ab-4799-4e15-b095-374da21bc1aa": {
       "attrs": {
        "height": 0.4,
        "width": 0.8,
        "x": 0.1,
        "y": 0.5
       },
       "content": {
        "cell": "4a5226b5-d431-4cbe-86a6-291952a45a37",
        "part": "whole"
       },
       "id": "7ce316ab-4799-4e15-b095-374da21bc1aa"
      },
      "a7d701c6-61e3-48e3-8e0d-a4b318aef7d8": {
       "attrs": {
        "height": 0.4,
        "width": 0.8,
        "x": 0.1,
        "y": 0.5
       },
       "content": {
        "cell": "5e425283-82de-4c48-b2ae-31a1d6983849",
        "part": "whole"
       },
       "id": "a7d701c6-61e3-48e3-8e0d-a4b318aef7d8"
      },
      "e180cf23-71a7-46a8-8598-86a079bd7d78": {
       "attrs": {
        "height": 0.4,
        "width": 0.8,
        "x": 0.1,
        "y": 0.5
       },
       "content": {
        "cell": "28aaab45-1e14-4db5-9d2c-63b239cafe13",
        "part": "whole"
       },
       "id": "e180cf23-71a7-46a8-8598-86a079bd7d78"
      }
     }
    },
    "8eb735f6-11af-4f77-a4ed-b637fb18ac08": {
     "id": "8eb735f6-11af-4f77-a4ed-b637fb18ac08",
     "prev": "7a25817a-e5bc-4021-9c6b-61bc74dbdb92",
     "regions": {
      "ca38ef02-01f9-42cb-9e35-d67f8d665597": {
       "attrs": {
        "height": 0.4,
        "width": 0.8,
        "x": 0.1,
        "y": 0.5
       },
       "content": {
        "cell": "69b638ed-ed32-4824-bb81-df958c215a33",
        "part": "whole"
       },
       "id": "ca38ef02-01f9-42cb-9e35-d67f8d665597"
      },
      "fc52547b-a8f8-40e2-9397-5b18ca2b71b3": {
       "attrs": {
        "height": 0.8,
        "width": 0.8,
        "x": 0.1,
        "y": 0.1
       },
       "content": {
        "cell": "7317e4f2-150e-4336-ac48-d82641441aa8",
        "part": "whole"
       },
       "id": "fc52547b-a8f8-40e2-9397-5b18ca2b71b3"
      }
     }
    },
    "af2f5933-b31d-4d30-b08a-e4c09432b9bb": {
     "id": "af2f5933-b31d-4d30-b08a-e4c09432b9bb",
     "prev": "29c55765-6994-4dbf-b82f-117b4f1e0cee",
     "regions": {
      "479b436f-50bb-4c3a-9a4e-748e85eacde6": {
       "attrs": {
        "height": 0.8,
        "width": 0.8,
        "x": 0.1,
        "y": 0.1
       },
       "content": {
        "cell": "6d53481c-69ff-41a0-937e-4e8a39e2b2b5",
        "part": "whole"
       },
       "id": "479b436f-50bb-4c3a-9a4e-748e85eacde6"
      },
      "a02a5bdc-cab5-4ddc-aa9d-8ee5e0db6bd4": {
       "attrs": {
        "height": 0.4,
        "width": 0.8,
        "x": 0.1,
        "y": 0.5
       },
       "content": {
        "cell": "b0f8400f-71e1-4892-9012-88e54c053a36",
        "part": "whole"
       },
       "id": "a02a5bdc-cab5-4ddc-aa9d-8ee5e0db6bd4"
      }
     }
    },
    "b04719fc-934a-404b-a642-dc732a3d1589": {
     "id": "b04719fc-934a-404b-a642-dc732a3d1589",
     "prev": "af2f5933-b31d-4d30-b08a-e4c09432b9bb",
     "regions": {
      "701cdc94-3399-40dc-8e45-10d6edbf0959": {
       "attrs": {
        "height": 0.4,
        "width": 0.8,
        "x": 0.1,
        "y": 0.5
       },
       "content": {
        "cell": "fa78fa75-54cf-40d3-b52c-4b51c5070d9a",
        "part": "whole"
       },
       "id": "701cdc94-3399-40dc-8e45-10d6edbf0959"
      },
      "81f01069-a0c6-4ab1-98d1-d465e96aac6d": {
       "attrs": {
        "height": 0.8,
        "width": 0.8,
        "x": 0.1,
        "y": 0.1
       },
       "content": {
        "cell": "fb58a52c-71e9-402d-af86-eab194cf8050",
        "part": "whole"
       },
       "id": "81f01069-a0c6-4ab1-98d1-d465e96aac6d"
      },
      "ae73fc9b-89cf-4405-ab54-34e6c8b73a19": {
       "attrs": {
        "height": 0.4,
        "width": 0.8,
        "x": 0.1,
        "y": 0.5
       },
       "content": {
        "cell": "241f356d-567a-421d-b27c-7ce2d146d1bb",
        "part": "whole"
       },
       "id": "ae73fc9b-89cf-4405-ab54-34e6c8b73a19"
      }
     }
    },
    "b7c25bc1-4dd7-421b-9951-0c0c403c176d": {
     "id": "b7c25bc1-4dd7-421b-9951-0c0c403c176d",
     "prev": "76838eab-c2c3-4ff3-b09f-854a7c74c6d4",
     "regions": {
      "47f524f5-68f8-49df-9a61-61eab6cab03c": {
       "attrs": {
        "height": 0.4,
        "width": 0.8,
        "x": 0.1,
        "y": 0.5
       },
       "content": {
        "cell": "966e050d-5739-4ef9-a2ae-9a4957e14f3e",
        "part": "whole"
       },
       "id": "47f524f5-68f8-49df-9a61-61eab6cab03c"
      },
      "4b3ba01a-29e7-4e67-ac78-988162f7dde9": {
       "attrs": {
        "height": 0.8,
        "width": 0.8,
        "x": 0.1,
        "y": 0.1
       },
       "content": {
        "cell": "91401f60-44eb-42b2-86ea-c82b5e955ace",
        "part": "whole"
       },
       "id": "4b3ba01a-29e7-4e67-ac78-988162f7dde9"
      },
      "a47d9662-0a49-4b84-aae0-908067552ebd": {
       "attrs": {
        "height": 0.4,
        "width": 0.8,
        "x": 0.1,
        "y": 0.5
       },
       "content": {
        "cell": "6de4dae8-c949-4927-89a3-9741aba83e8d",
        "part": "whole"
       },
       "id": "a47d9662-0a49-4b84-aae0-908067552ebd"
      },
      "e64668fe-aafe-4e24-a46d-6a6266eeee77": {
       "attrs": {
        "height": 0.4,
        "width": 0.8,
        "x": 0.1,
        "y": 0.5
       },
       "content": {
        "cell": "7068c96d-f8f0-42bb-bdfd-dcbf9335323c",
        "part": "whole"
       },
       "id": "e64668fe-aafe-4e24-a46d-6a6266eeee77"
      }
     }
    },
    "d3ecec0a-67fe-4558-a268-50695fd7fe1c": {
     "id": "d3ecec0a-67fe-4558-a268-50695fd7fe1c",
     "prev": "fcda7de6-cb93-4b63-9dea-d5f23fecd968",
     "regions": {
      "b268bb57-2543-4b91-b9c0-84aa3cf09d5c": {
       "attrs": {
        "height": 0.8,
        "width": 0.8,
        "x": 0.1,
        "y": 0.1
       },
       "content": {
        "cell": "67aab8fa-45cd-4ede-8285-e3dad22d8b16",
        "part": "whole"
       },
       "id": "b268bb57-2543-4b91-b9c0-84aa3cf09d5c"
      }
     }
    },
    "e92a9020-6631-400a-aa50-46c1fa0a5f0c": {
     "id": "e92a9020-6631-400a-aa50-46c1fa0a5f0c",
     "prev": "ee94ae9b-9e13-414c-a017-db1d8913aaa8",
     "regions": {
      "bb15b4ea-132f-4146-ab77-93a4969c2904": {
       "attrs": {
        "height": 0.8,
        "width": 0.8,
        "x": 0.1,
        "y": 0.1
       },
       "content": {
        "cell": "7d5d2002-5cae-4d5f-8e2e-d5eaf5cd17da",
        "part": "whole"
       },
       "id": "bb15b4ea-132f-4146-ab77-93a4969c2904"
      }
     }
    },
    "ee94ae9b-9e13-414c-a017-db1d8913aaa8": {
     "id": "ee94ae9b-9e13-414c-a017-db1d8913aaa8",
     "prev": "f8fce519-927e-4fd0-88d8-23ece4403794",
     "regions": {
      "0b578bb1-2cd1-480b-8d65-dde0861851cb": {
       "attrs": {
        "height": 0.8,
        "width": 0.8,
        "x": 0.1,
        "y": 0.1
       },
       "content": {
        "cell": "f1c699bc-6717-4eb9-8e6d-66d433ba4618",
        "part": "whole"
       },
       "id": "0b578bb1-2cd1-480b-8d65-dde0861851cb"
      }
     }
    },
    "f8fce519-927e-4fd0-88d8-23ece4403794": {
     "id": "f8fce519-927e-4fd0-88d8-23ece4403794",
     "prev": "4792c0cc-ccd4-48bf-9b0e-a3c1f0f3008d",
     "regions": {
      "7510ae01-fe22-48b0-92cb-29b880cc85fc": {
       "attrs": {
        "height": 0.8,
        "width": 0.8,
        "x": 0.1,
        "y": 0.1
       },
       "content": {
        "cell": "e61ba538-5828-4a5a-a2c5-4fcceac35889",
        "part": "whole"
       },
       "id": "7510ae01-fe22-48b0-92cb-29b880cc85fc"
      }
     }
    },
    "fcda7de6-cb93-4b63-9dea-d5f23fecd968": {
     "id": "fcda7de6-cb93-4b63-9dea-d5f23fecd968",
     "prev": "03210a56-863e-4749-b7ba-ed75bfceceee",
     "regions": {
      "43f5b3bd-9e0c-4a98-a18c-1b9f7beaa3b8": {
       "attrs": {
        "height": 0.8,
        "width": 0.8,
        "x": 0.1,
        "y": 0.1
       },
       "content": {
        "cell": "318099ba-93dd-4c2c-a3ee-fc6622c472c8",
        "part": "whole"
       },
       "id": "43f5b3bd-9e0c-4a98-a18c-1b9f7beaa3b8"
      },
      "dbab9920-f08a-457a-949d-2c8289707798": {
       "attrs": {
        "height": 0.4,
        "width": 0.8,
        "x": 0.1,
        "y": 0.5
       },
       "content": {
        "cell": "8bb35ef7-00cc-4ad9-9dd4-6fac480df38e",
        "part": "whole"
       },
       "id": "dbab9920-f08a-457a-949d-2c8289707798"
      }
     }
    }
   },
   "themes": {}
  },
  "varInspector": {
   "cols": {
    "lenName": 16,
    "lenType": 16,
    "lenVar": 40
   },
   "kernels_config": {
    "python": {
     "delete_cmd_postfix": "",
     "delete_cmd_prefix": "del ",
     "library": "var_list.py",
     "varRefreshCmd": "print(var_dic_list())"
    },
    "r": {
     "delete_cmd_postfix": ") ",
     "delete_cmd_prefix": "rm(",
     "library": "var_list.r",
     "varRefreshCmd": "cat(var_dic_list()) "
    }
   },
   "types_to_exclude": [
    "module",
    "function",
    "builtin_function_or_method",
    "instance",
    "_Feature"
   ],
   "window_display": false
  }
 },
 "nbformat": 4,
 "nbformat_minor": 2
}
