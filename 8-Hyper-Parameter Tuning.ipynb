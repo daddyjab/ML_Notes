{
 "cells": [
  {
   "cell_type": "markdown",
   "metadata": {},
   "source": [
    "# Hyper-Parameter Tuning"
   ]
  },
  {
   "cell_type": "markdown",
   "metadata": {},
   "source": [
    "This Jupyter Notebook uses hyper-parameter tuning to optimize model performance, with Logistic Regression, Decision Tree, Random Forest, Support Vector Machine, and K-Nearest Neighbor models used for classification and performance evaluated using cross-validation scoring.  Parameters were tuned using a GridSearch estimator.\n",
    "\n",
    "## Approach\n",
    "* Evaluations of classification performed were performed using 2 sample datasets:\n",
    "    * sklearn's Iris sample dataset, consisting of 150 sample data points for 3 varieties of iris flowers\n",
    "    * voice dataset, containing 3168 sample data points of male and female speakers\n",
    "\n",
    "* Hyper-parameter tuning was performed using a GridSearch estimator for each classification model:\n",
    "    \n",
    "* Parameters providing the best scores and associated scores were plotted\n",
    "    \n",
    "## Results\n",
    "* Refer to the Figures and Table of results provided below\n",
    "* Hyperparameter tuning provided by sklearn GridSearchCV provided a convenient method of evaluating many classification model parameter sets in an efficient way.  The blue dots represent the optimal parameter sets selected for each Dataset/Classification Model, and the grey dots represent suboptimal parameter sets.\n",
    "* For the Iris dataset, the Support Vector Machine SVC model provided the  combination of best score of 0.964 and Mean Fit Time of 0.200 ms, with Random Forest and Decision Tree classifiers providing close performance.\n",
    "* For the Voice dataset, the SVC classifer also had the hightest Best Score at 0.980, which was slightly above the performance of the Random Forest classifier.  With SVC, the fit time was singificantly higher for the Voice dataset (40.6 ms) than for the Iris dataset (0.2 ms), which is expected given the larger number of features associated with the Voice dataset (20) vs. the Iris dataset (4)\n",
    "* It's interesting to note that the K-Nearest Neighbors classifier, while performing lower amongst these models, operated with fast Mean Fit Time (3.2 ms) for Voice, which might make using KNN a good choice vs. other more calculation-intensive options in cases where lower fit time is more important than optimum accuracy."
   ]
  },
  {
   "cell_type": "markdown",
   "metadata": {},
   "source": [
    "| Figure: Tuned Classifier Performance: Best Score vs. Mean Fit Time (ms) - All Datasets/Classifiers | Figure: Tuned Classifier Performance: Best Score vs. Mean Fit Time (ms) including Suboptimal Results - All Datasets/Classifiers |\n",
    "| :----------: | :----------: |\n",
    "| ![Figure: Tuned Classifier Performance: Best Score vs. Mean Fit Time (ms) - All Datasets/Classifiers is Loading...](docs/8-Figure-Hyper_Parameter_Tuning-Combined.png \"8-Figure: Tuned Classifier Performance: Best Score vs. Mean Fit Time (ms) - All Datasets/Classifiers\") | ![Figure: Tuned Classifier Performance: Best Score vs. Mean Fit Time (ms) including Suboptimal Results - All Datasets/Classifiers is Loading...](docs/8-Figure-Hyper_Parameter_Tuning-Including_Suboptimal-Combined.png \"8-Figure: Tuned Classifier Performance: Best Score vs. Mean Fit Time (ms) including Suboptimal Results - All Datasets/Classifiers\") |\n",
    "\n",
    "| Figure: Tuned Classifier Performance: Best Score vs. F1 Score - All Datasets/Classifiers | Figure: Tuned Classifier Performance: Precision vs. Recall - All Datasets/Classifiers |\n",
    "| :----------: | :----------: |\n",
    "| ![Figure: Tuned Classifier Performance: Best Score vs. F1 Score - All Datasets/Classifiers is Loading...](docs/8-Figure-Hyper_Parameter_Tuning-BestScore_vs_F1-Combined.png \"8-Figure: uned Classifier Performance: Best Score vs. F1 Score - All Datasets/Classifiers\") | ![Figure: Tuned Classifier Performance: Precision vs. Recall - All Datasets/Classifiers is Loading...](docs/8-Figure-Hyper_Parameter_Tuning-Precision_vs_Recall-Combined.png \"8-Figure: Tuned Classifier Performance: Precision vs. Recall - All Datasets/Classifiers\") |\n",
    "\n",
    "| Figure: Tuned Classifier Performance - Subplots |\n",
    "| :----------: |\n",
    "| ![Figure: Tuned Classifier Performance - Subplots is Loading...](docs/8-Figure-Hyper_Parameter_Tuning-Subplots.png \"8-Figure: Tuned Classifier Performance - Subplots\") |\n",
    "\n",
    "| Table: Tuned Classifier Performance |\n",
    "| :----------: |\n",
    "| ![Table: Tuned Classifier Performance is Loading...](docs/8-Table-Hyper_Parameter_Tuning.png \"8-Table: Tuned Classifier Performance\") |"
   ]
  },
  {
   "cell_type": "markdown",
   "metadata": {},
   "source": [
    "# Dependencies"
   ]
  },
  {
   "cell_type": "code",
   "execution_count": 1,
   "metadata": {
    "nbpresent": {
     "id": "828c2e12-b1c6-4994-8f55-ce86373b6c97"
    },
    "scrolled": true,
    "slideshow": {
     "slide_type": "fragment"
    }
   },
   "outputs": [],
   "source": [
    "%matplotlib inline\n",
    "# %matplotlib notebook\n",
    "import matplotlib.pyplot as plt\n",
    "from mpl_toolkits.mplot3d import Axes3D    # Support 3D graphing\n",
    "\n",
    "import numpy as np\n",
    "import pandas as pd\n",
    "from pandas.plotting import table\n",
    "import math\n",
    "\n",
    "from pprint import pprint\n",
    "\n",
    "# Visualization\n",
    "import graphviz\n",
    "import pydotplus\n",
    "from IPython.display import Image\n",
    "\n",
    "# Machine Learning - Linear Models - Regression\n",
    "from sklearn.linear_model import LinearRegression  # TBD\n",
    "from sklearn.linear_model import Lasso             # TBD\n",
    "from sklearn.linear_model import Ridge             # TBD\n",
    "from sklearn.linear_model import ElasticNet        # TBD\n",
    "\n",
    "# Machine Learning - Linear Models - Classification\n",
    "from sklearn.linear_model import LogisticRegression   # Logistic Regression Classifier\n",
    "\n",
    "# Machine Learning - Decision Trees and Random Forests - Classification\n",
    "from sklearn import tree                             # Decision Tree Classifier\n",
    "from sklearn.ensemble import RandomForestClassifier  # Random Forest Classifier\n",
    "\n",
    "# Machine Learning - Support Vector Machines - Classification\n",
    "from sklearn import svm                              # Support Vector Machine Classifier\n",
    "\n",
    "\n",
    "# Machine Leardning - K-Nearest Neighbors - Classification\n",
    "from sklearn.neighbors import KNeighborsClassifier   # K-Nearest Neighbors (KNN)\n",
    "\n",
    "# Machine Learning - GridSearch for hyper-parameter tuning\n",
    "from sklearn.model_selection import GridSearchCV\n",
    "\n",
    "\n",
    "# Machine Learning - Data Preparation and Pre-Processing\n",
    "from sklearn.model_selection import train_test_split # Split data into training and testing samples\n",
    "from sklearn.model_selection import cross_val_score  # Score a model using k-fold or other cross validation\n",
    "\n",
    "from sklearn.preprocessing import OneHotEncoder   # Convert categorical integer features (X) to One-Hot encoded values\n",
    "from sklearn.preprocessing import LabelEncoder    # Convert categorical labeled values to categorical integer values\n",
    "from sklearn.preprocessing import LabelBinarizer  # Convert categorical labeled values to Binary encoded values\n",
    "\n",
    "from sklearn.preprocessing import StandardScaler  # Scale numerical features to standard normal distribution\n",
    "from sklearn.preprocessing import MinMaxScaler    # Scale numerical values based upon mix/max values\n",
    "\n",
    "# Machine Learning - Quantify Model Performance\n",
    "from sklearn.metrics import mean_squared_error    # Mean Squared Error (MSE) metric\n",
    "from sklearn.metrics import r2_score              # R-squared (Coefficient of Determination) metric\n",
    "from sklearn.metrics import confusion_matrix      # Generate a confusion matrix (actual vs. predicted counts)\n",
    "from sklearn.metrics import classification_report # Calculate metrics for prediction performance\n",
    "from sklearn.metrics import precision_score       # Calculate the precision: Tp / (Tp + Fp) => Ability to avoid false negatives\n",
    "from sklearn.metrics import recall_score          # Calculate the recall: Tp / (Tp + Fn) => Ability to find all positive samples\n",
    "from sklearn.metrics import f1_score              # Calculate the F1 score: 2*(precision*recall)/(precision+recall)\n",
    "\n",
    "# Machine Learning - Dataset Generation\n",
    "from sklearn.datasets import make_regression     # Generate linear data\n",
    "from sklearn.datasets import make_s_curve        # Generate nonlinear data\n",
    "from sklearn.datasets import make_blobs          # Generate blobs for classification\n",
    "from sklearn.datasets import make_circles        # Generate circles for classification\n",
    "from sklearn.datasets import load_iris           # Sample multi-class dataset for classification"
   ]
  },
  {
   "cell_type": "code",
   "execution_count": null,
   "metadata": {},
   "outputs": [],
   "source": []
  },
  {
   "cell_type": "markdown",
   "metadata": {},
   "source": [
    "# Hyper-Parameter Tuning"
   ]
  },
  {
   "cell_type": "markdown",
   "metadata": {},
   "source": [
    "### Function to Fit Model, Evaluate Performance, and Tune"
   ]
  },
  {
   "cell_type": "code",
   "execution_count": 2,
   "metadata": {},
   "outputs": [],
   "source": [
    "# Function to tune and evaluate a model, calculate predictions, and create a residuals chart\n",
    "def tune_eval_classifier(a_ds_name, a_model, a_param_grid):\n",
    "    # Get the model information\n",
    "    m_info = str(a_model)\n",
    "    \n",
    "    # Get the name of this model\n",
    "    m_name = m_info.split(\"(\",1)[0]    \n",
    "    \n",
    "    # Get the GridSearch estimator using the specified classifier model\n",
    "    # and parameter grid and score the results uging using 5-fold cross-validation\n",
    "    tuning_classifier = GridSearchCV( a_model, param_grid=a_param_grid, cv=5, return_train_score=False, n_jobs=-1)\n",
    "    \n",
    "    # Find the parameters providing the best performance \n",
    "    # Note: Not using scaled y in this case\n",
    "    tuning_classifier.fit(X_train_scaled, y_train.reshape(-1) )\n",
    "    \n",
    "    # Calculate the Precision Score (https://scikit-learn.org/stable/modules/generated/sklearn.metrics.precision_score.html#sklearn.metrics.precision_score)\n",
    "    m_precision_score = precision_score( y_test, tuning_classifier.predict(X_test_scaled), average='micro' )\n",
    "\n",
    "    # Calculate the Recall Score (https://scikit-learn.org/stable/modules/generated/sklearn.metrics.recall_score.html#sklearn.metrics.recall_score)\n",
    "    m_recall_score = recall_score( y_test, tuning_classifier.predict(X_test_scaled), average='micro' )\n",
    "\n",
    "    # Calculate the F1 Score (https://scikit-learn.org/stable/modules/generated/sklearn.metrics.f1_score.html#sklearn.metrics.f1_score)\n",
    "    # Note: Could also have just used f1 = 2*(precision_score * recall_score) / (precision_score + recall_score)\n",
    "    m_f1_score = f1_score( y_test, tuning_classifier.predict(X_test_scaled), average='micro' )\n",
    "\n",
    "    # Print a separator\n",
    "    print(\"*\"*80)\n",
    "    \n",
    "    print(f\"\\nModel: {m_name}, Best Score: {tuning_classifier.best_score_}\")\n",
    "    print(f\"Best Parameters: {tuning_classifier.best_params_}\")\n",
    "    print(f\"F1: {m_f1_score}, Precision: {m_precision_score}, Recall: {m_recall_score}\")\n",
    "    \n",
    "    # Return the results\n",
    "    a_result = {\n",
    "        'Dataset': a_ds_name,\n",
    "        'Classifier': m_name,\n",
    "        'Best Score': tuning_classifier.best_score_,\n",
    "        'Best Parameters': tuning_classifier.best_params_,\n",
    "        'F1': m_f1_score,\n",
    "        'Precision': m_precision_score,\n",
    "        'Recall': m_recall_score,\n",
    "        'Mean Fit Time (ms)': 1000.0*tuning_classifier.cv_results_['mean_fit_time'][ tuning_classifier.best_index_ ],\n",
    "        'Std Dev Fit Time (ms)': 1000.0*tuning_classifier.cv_results_['std_fit_time'][ tuning_classifier.best_index_ ],\n",
    "\n",
    "        'Best Index': tuning_classifier.best_index_,\n",
    "        'CV Results': tuning_classifier.cv_results_,\n",
    "    }\n",
    "    \n",
    "    return a_result\n"
   ]
  },
  {
   "cell_type": "markdown",
   "metadata": {},
   "source": [
    "# Prepare to gather summary results"
   ]
  },
  {
   "cell_type": "code",
   "execution_count": 3,
   "metadata": {},
   "outputs": [],
   "source": [
    "# Initialize list of dictionary of results for summary in a dataframe later\n",
    "model_results = []"
   ]
  },
  {
   "cell_type": "markdown",
   "metadata": {},
   "source": [
    "# Iris Dataset"
   ]
  },
  {
   "cell_type": "code",
   "execution_count": 4,
   "metadata": {},
   "outputs": [
    {
     "name": "stdout",
     "output_type": "stream",
     "text": [
      "Iris dict_keys(['data', 'target', 'target_names', 'DESCR', 'feature_names', 'filename'])\n",
      "Feature Names: ['sepal length (cm)', 'sepal width (cm)', 'petal length (cm)', 'petal width (cm)']\n",
      "Target Names: ['setosa' 'versicolor' 'virginica']\n"
     ]
    }
   ],
   "source": [
    "# Import the Iris sample dataset as a dictionary\n",
    "iris = load_iris()\n",
    "\n",
    "print( f\"Iris {iris.keys()}\" )\n",
    "print( f\"Feature Names: {iris.feature_names}\" )\n",
    "print( f\"Target Names: {iris.target_names}\" )"
   ]
  },
  {
   "cell_type": "code",
   "execution_count": 5,
   "metadata": {},
   "outputs": [
    {
     "name": "stdout",
     "output_type": "stream",
     "text": [
      "(150, 4) (150,)\n"
     ]
    }
   ],
   "source": [
    "# Assign data and target variables\n",
    "X = iris.data\n",
    "y = iris.target\n",
    "print( X.shape, y.shape )"
   ]
  },
  {
   "cell_type": "code",
   "execution_count": 6,
   "metadata": {},
   "outputs": [],
   "source": [
    "# Split the data using train_test_split\n",
    "X_train, X_test, y_train, y_test = train_test_split(X, y, random_state=1, stratify=y)"
   ]
  },
  {
   "cell_type": "code",
   "execution_count": 7,
   "metadata": {},
   "outputs": [
    {
     "name": "stdout",
     "output_type": "stream",
     "text": [
      "(112, 1) (38, 1)\n"
     ]
    }
   ],
   "source": [
    "# Reshape the outputs to provide a N by 1 vector (vs. array of size N)\n",
    "y_train = y_train.reshape(-1,1)\n",
    "y_test = y_test.reshape(-1,1)\n",
    "print(y_train.shape, y_test.shape)"
   ]
  },
  {
   "cell_type": "code",
   "execution_count": 8,
   "metadata": {},
   "outputs": [],
   "source": [
    "# Use the training data to create a scaler to standard normal distributions for each numerical feature and output\n",
    "X_scaler = StandardScaler().fit(X_train)\n",
    "y_scaler = StandardScaler().fit(y_train)"
   ]
  },
  {
   "cell_type": "code",
   "execution_count": 9,
   "metadata": {},
   "outputs": [],
   "source": [
    "# Scale the training and test data\n",
    "X_train_scaled = X_scaler.transform(X_train)\n",
    "X_test_scaled = X_scaler.transform(X_test)\n",
    "\n",
    "y_train_scaled = y_scaler.transform(y_train)\n",
    "y_test_scaled = y_scaler.transform(y_test)"
   ]
  },
  {
   "cell_type": "markdown",
   "metadata": {},
   "source": [
    "### Evaluate classifiers - Iris Dataset"
   ]
  },
  {
   "cell_type": "code",
   "execution_count": 10,
   "metadata": {
    "scrolled": true
   },
   "outputs": [
    {
     "name": "stderr",
     "output_type": "stream",
     "text": [
      "C:\\Users\\Jeff\\AppData\\Local\\conda\\conda\\envs\\PythonData\\lib\\site-packages\\sklearn\\model_selection\\_search.py:814: DeprecationWarning: The default of the `iid` parameter will change from True to False in version 0.22 and will be removed in 0.24. This will change numeric results when test-set sizes are unequal.\n",
      "  DeprecationWarning)\n",
      "C:\\Users\\Jeff\\AppData\\Local\\conda\\conda\\envs\\PythonData\\lib\\site-packages\\sklearn\\linear_model\\logistic.py:469: FutureWarning: Default multi_class will be changed to 'auto' in 0.22. Specify the multi_class option to silence this warning.\n",
      "  \"this warning.\", FutureWarning)\n",
      "C:\\Users\\Jeff\\AppData\\Local\\conda\\conda\\envs\\PythonData\\lib\\site-packages\\sklearn\\model_selection\\_search.py:814: DeprecationWarning: The default of the `iid` parameter will change from True to False in version 0.22 and will be removed in 0.24. This will change numeric results when test-set sizes are unequal.\n",
      "  DeprecationWarning)\n"
     ]
    },
    {
     "name": "stdout",
     "output_type": "stream",
     "text": [
      "********************************************************************************\n",
      "\n",
      "Model: LogisticRegression, Best Score: 0.9196428571428571\n",
      "Best Parameters: {'C': 2.0, 'max_iter': 100, 'solver': 'newton-cg'}\n",
      "F1: 0.9473684210526315, Precision: 0.9473684210526315, Recall: 0.9473684210526315\n",
      "********************************************************************************\n",
      "\n",
      "Model: DecisionTreeClassifier, Best Score: 0.9464285714285714\n",
      "Best Parameters: {'max_depth': None, 'max_features': 'log2'}\n",
      "F1: 0.9473684210526315, Precision: 0.9473684210526315, Recall: 0.9473684210526315\n"
     ]
    },
    {
     "name": "stderr",
     "output_type": "stream",
     "text": [
      "C:\\Users\\Jeff\\AppData\\Local\\conda\\conda\\envs\\PythonData\\lib\\site-packages\\sklearn\\model_selection\\_search.py:814: DeprecationWarning: The default of the `iid` parameter will change from True to False in version 0.22 and will be removed in 0.24. This will change numeric results when test-set sizes are unequal.\n",
      "  DeprecationWarning)\n",
      "C:\\Users\\Jeff\\AppData\\Local\\conda\\conda\\envs\\PythonData\\lib\\site-packages\\sklearn\\ensemble\\forest.py:245: FutureWarning: The default value of n_estimators will change from 10 in version 0.20 to 100 in 0.22.\n",
      "  \"10 in version 0.20 to 100 in 0.22.\", FutureWarning)\n"
     ]
    },
    {
     "name": "stdout",
     "output_type": "stream",
     "text": [
      "********************************************************************************\n",
      "\n",
      "Model: RandomForestClassifier, Best Score: 0.9553571428571429\n",
      "Best Parameters: {'max_depth': 1, 'max_features': None}\n",
      "F1: 0.9736842105263158, Precision: 0.9736842105263158, Recall: 0.9736842105263158\n",
      "********************************************************************************\n",
      "\n",
      "Model: SVC, Best Score: 0.9642857142857143\n",
      "Best Parameters: {'C': 2.0, 'kernel': 'linear', 'max_iter': 100}\n",
      "F1: 0.9736842105263158, Precision: 0.9736842105263158, Recall: 0.9736842105263158\n",
      "********************************************************************************\n",
      "\n",
      "Model: KNeighborsClassifier, Best Score: 0.9464285714285714\n",
      "Best Parameters: {'algorithm': 'auto', 'n_neighbors': 5}\n",
      "F1: 0.9736842105263158, Precision: 0.9736842105263158, Recall: 0.9736842105263158\n",
      "4.98 s ± 0 ns per loop (mean ± std. dev. of 1 run, 1 loop each)\n"
     ]
    },
    {
     "name": "stderr",
     "output_type": "stream",
     "text": [
      "C:\\Users\\Jeff\\AppData\\Local\\conda\\conda\\envs\\PythonData\\lib\\site-packages\\sklearn\\model_selection\\_search.py:814: DeprecationWarning: The default of the `iid` parameter will change from True to False in version 0.22 and will be removed in 0.24. This will change numeric results when test-set sizes are unequal.\n",
      "  DeprecationWarning)\n",
      "C:\\Users\\Jeff\\AppData\\Local\\conda\\conda\\envs\\PythonData\\lib\\site-packages\\sklearn\\model_selection\\_search.py:814: DeprecationWarning: The default of the `iid` parameter will change from True to False in version 0.22 and will be removed in 0.24. This will change numeric results when test-set sizes are unequal.\n",
      "  DeprecationWarning)\n"
     ]
    },
    {
     "data": {
      "text/plain": [
       "<TimeitResult : 4.98 s ± 0 ns per loop (mean ± std. dev. of 1 run, 1 loop each)>"
      ]
     },
     "execution_count": 10,
     "metadata": {},
     "output_type": "execute_result"
    }
   ],
   "source": [
    "%%timeit -n1 -r1 -o  # Time the overall time required to evaluate all classifiers\n",
    "\n",
    "# Create a list of classifers and associated parameter grid for hyperparameter tuning\n",
    "classifier_dict = [\n",
    "    {\n",
    "        # LogisticRegression\n",
    "        'cls': LogisticRegression(),\n",
    "        'cls_param_grid': {'solver': [\"liblinear\", \"newton-cg\", \"lbfgs\", \"sag\", \"saga\"],\n",
    "                           'max_iter': [ 100, 500, 1000, 5000, 10000 ],\n",
    "                           'C': [1.0, 2.0, 5.0, 10.0, 20.0 ]}\n",
    "    },\n",
    "    {\n",
    "        # Decision Tree\n",
    "        'cls': tree.DecisionTreeClassifier(),\n",
    "        'cls_param_grid': {'max_depth': [ None, 16, 8, 4, 2, 1 ],\n",
    "                         'max_features': [ None, \"sqrt\", \"log2\" ]}\n",
    "    },\n",
    "    {\n",
    "        # Random Forest\n",
    "        'cls': RandomForestClassifier(),\n",
    "        'cls_param_grid': {'max_depth': [ None, 16, 8, 4, 2, 1 ],\n",
    "                         'max_features': [ None, \"sqrt\", \"log2\" ]}\n",
    "    },\n",
    "    {\n",
    "        # Support Vector Machine\n",
    "        'cls': svm.SVC(),\n",
    "        'cls_param_grid': {'kernel': [ \"linear\", \"poly\", \"rbf\", \"sigmoid\" ],\n",
    "                         'max_iter': [ 100, 500, 1000, 5000, 10000 ],\n",
    "                         'C': [1.0, 2.0, 5.0, 10.0, 20.0 ]}\n",
    "    },\n",
    "\n",
    "    {\n",
    "        # K-Nearest Neighbors\n",
    "        'cls': KNeighborsClassifier(),\n",
    "        'cls_param_grid': { 'n_neighbors': [ 1, 3, 5, 7, 9, 11, 13, 15, 17, 19, 21 ],\n",
    "                            'algorithm': [ 'auto', 'ball_tree', 'kd_tree', 'brute' ]\n",
    "                          }\n",
    "    }\n",
    "]\n",
    "\n",
    "\n",
    "# Evaluate each classifier with hyperparameter tuning\n",
    "for c in classifier_dict:\n",
    "    # Evaluate the classifer performance, create a plot    \n",
    "    model_result_item = tune_eval_classifier('Iris', c['cls'], c['cls_param_grid'])\n",
    "\n",
    "    # Add results for this dataset and model\n",
    "    model_results.append( model_result_item )\n"
   ]
  },
  {
   "cell_type": "code",
   "execution_count": null,
   "metadata": {},
   "outputs": [],
   "source": []
  },
  {
   "cell_type": "code",
   "execution_count": 11,
   "metadata": {
    "scrolled": true
   },
   "outputs": [
    {
     "data": {
      "text/html": [
       "<div>\n",
       "<style scoped>\n",
       "    .dataframe tbody tr th:only-of-type {\n",
       "        vertical-align: middle;\n",
       "    }\n",
       "\n",
       "    .dataframe tbody tr th {\n",
       "        vertical-align: top;\n",
       "    }\n",
       "\n",
       "    .dataframe thead th {\n",
       "        text-align: right;\n",
       "    }\n",
       "</style>\n",
       "<table border=\"1\" class=\"dataframe\">\n",
       "  <thead>\n",
       "    <tr style=\"text-align: right;\">\n",
       "      <th></th>\n",
       "      <th>Dataset</th>\n",
       "      <th>Classifier</th>\n",
       "      <th>Best Score</th>\n",
       "      <th>Best Parameters</th>\n",
       "      <th>F1</th>\n",
       "      <th>Precision</th>\n",
       "      <th>Recall</th>\n",
       "      <th>Mean Fit Time (ms)</th>\n",
       "      <th>Std Dev Fit Time (ms)</th>\n",
       "      <th>Best Index</th>\n",
       "      <th>CV Results</th>\n",
       "    </tr>\n",
       "  </thead>\n",
       "  <tbody>\n",
       "    <tr>\n",
       "      <td>0</td>\n",
       "      <td>Iris</td>\n",
       "      <td>LogisticRegression</td>\n",
       "      <td>0.919643</td>\n",
       "      <td>{'C': 2.0, 'max_iter': 100, 'solver': 'newton-...</td>\n",
       "      <td>0.947368</td>\n",
       "      <td>0.947368</td>\n",
       "      <td>0.947368</td>\n",
       "      <td>17.999935</td>\n",
       "      <td>0.632636</td>\n",
       "      <td>26</td>\n",
       "      <td>{'mean_fit_time': [0.0112060546875, 0.01900496...</td>\n",
       "    </tr>\n",
       "    <tr>\n",
       "      <td>1</td>\n",
       "      <td>Iris</td>\n",
       "      <td>DecisionTreeClassifier</td>\n",
       "      <td>0.946429</td>\n",
       "      <td>{'max_depth': None, 'max_features': 'log2'}</td>\n",
       "      <td>0.947368</td>\n",
       "      <td>0.947368</td>\n",
       "      <td>0.947368</td>\n",
       "      <td>0.400114</td>\n",
       "      <td>0.490038</td>\n",
       "      <td>2</td>\n",
       "      <td>{'mean_fit_time': [0.0010003089904785157, 0.00...</td>\n",
       "    </tr>\n",
       "    <tr>\n",
       "      <td>2</td>\n",
       "      <td>Iris</td>\n",
       "      <td>RandomForestClassifier</td>\n",
       "      <td>0.955357</td>\n",
       "      <td>{'max_depth': 1, 'max_features': None}</td>\n",
       "      <td>0.973684</td>\n",
       "      <td>0.973684</td>\n",
       "      <td>0.973684</td>\n",
       "      <td>18.800640</td>\n",
       "      <td>2.482848</td>\n",
       "      <td>15</td>\n",
       "      <td>{'mean_fit_time': [0.021199560165405272, 0.026...</td>\n",
       "    </tr>\n",
       "    <tr>\n",
       "      <td>3</td>\n",
       "      <td>Iris</td>\n",
       "      <td>SVC</td>\n",
       "      <td>0.964286</td>\n",
       "      <td>{'C': 2.0, 'kernel': 'linear', 'max_iter': 100}</td>\n",
       "      <td>0.973684</td>\n",
       "      <td>0.973684</td>\n",
       "      <td>0.973684</td>\n",
       "      <td>0.200272</td>\n",
       "      <td>0.400543</td>\n",
       "      <td>20</td>\n",
       "      <td>{'mean_fit_time': [0.0009999275207519531, 0.00...</td>\n",
       "    </tr>\n",
       "    <tr>\n",
       "      <td>4</td>\n",
       "      <td>Iris</td>\n",
       "      <td>KNeighborsClassifier</td>\n",
       "      <td>0.946429</td>\n",
       "      <td>{'algorithm': 'auto', 'n_neighbors': 5}</td>\n",
       "      <td>0.973684</td>\n",
       "      <td>0.973684</td>\n",
       "      <td>0.973684</td>\n",
       "      <td>1.000071</td>\n",
       "      <td>0.010132</td>\n",
       "      <td>2</td>\n",
       "      <td>{'mean_fit_time': [0.000800180435180664, 0.000...</td>\n",
       "    </tr>\n",
       "  </tbody>\n",
       "</table>\n",
       "</div>"
      ],
      "text/plain": [
       "  Dataset              Classifier  Best Score  \\\n",
       "0    Iris      LogisticRegression    0.919643   \n",
       "1    Iris  DecisionTreeClassifier    0.946429   \n",
       "2    Iris  RandomForestClassifier    0.955357   \n",
       "3    Iris                     SVC    0.964286   \n",
       "4    Iris    KNeighborsClassifier    0.946429   \n",
       "\n",
       "                                     Best Parameters        F1  Precision  \\\n",
       "0  {'C': 2.0, 'max_iter': 100, 'solver': 'newton-...  0.947368   0.947368   \n",
       "1        {'max_depth': None, 'max_features': 'log2'}  0.947368   0.947368   \n",
       "2             {'max_depth': 1, 'max_features': None}  0.973684   0.973684   \n",
       "3    {'C': 2.0, 'kernel': 'linear', 'max_iter': 100}  0.973684   0.973684   \n",
       "4            {'algorithm': 'auto', 'n_neighbors': 5}  0.973684   0.973684   \n",
       "\n",
       "     Recall  Mean Fit Time (ms)  Std Dev Fit Time (ms)  Best Index  \\\n",
       "0  0.947368           17.999935               0.632636          26   \n",
       "1  0.947368            0.400114               0.490038           2   \n",
       "2  0.973684           18.800640               2.482848          15   \n",
       "3  0.973684            0.200272               0.400543          20   \n",
       "4  0.973684            1.000071               0.010132           2   \n",
       "\n",
       "                                          CV Results  \n",
       "0  {'mean_fit_time': [0.0112060546875, 0.01900496...  \n",
       "1  {'mean_fit_time': [0.0010003089904785157, 0.00...  \n",
       "2  {'mean_fit_time': [0.021199560165405272, 0.026...  \n",
       "3  {'mean_fit_time': [0.0009999275207519531, 0.00...  \n",
       "4  {'mean_fit_time': [0.000800180435180664, 0.000...  "
      ]
     },
     "execution_count": 11,
     "metadata": {},
     "output_type": "execute_result"
    }
   ],
   "source": [
    "\n",
    "pd.DataFrame(model_results)"
   ]
  },
  {
   "cell_type": "markdown",
   "metadata": {},
   "source": [
    "# Voice Dataset"
   ]
  },
  {
   "cell_type": "code",
   "execution_count": 12,
   "metadata": {},
   "outputs": [
    {
     "data": {
      "text/html": [
       "<div>\n",
       "<style scoped>\n",
       "    .dataframe tbody tr th:only-of-type {\n",
       "        vertical-align: middle;\n",
       "    }\n",
       "\n",
       "    .dataframe tbody tr th {\n",
       "        vertical-align: top;\n",
       "    }\n",
       "\n",
       "    .dataframe thead th {\n",
       "        text-align: right;\n",
       "    }\n",
       "</style>\n",
       "<table border=\"1\" class=\"dataframe\">\n",
       "  <thead>\n",
       "    <tr style=\"text-align: right;\">\n",
       "      <th></th>\n",
       "      <th>meanfreq</th>\n",
       "      <th>sd</th>\n",
       "      <th>median</th>\n",
       "      <th>Q25</th>\n",
       "      <th>Q75</th>\n",
       "      <th>IQR</th>\n",
       "      <th>skew</th>\n",
       "      <th>kurt</th>\n",
       "      <th>sp.ent</th>\n",
       "      <th>sfm</th>\n",
       "      <th>...</th>\n",
       "      <th>centroid</th>\n",
       "      <th>meanfun</th>\n",
       "      <th>minfun</th>\n",
       "      <th>maxfun</th>\n",
       "      <th>meandom</th>\n",
       "      <th>mindom</th>\n",
       "      <th>maxdom</th>\n",
       "      <th>dfrange</th>\n",
       "      <th>modindx</th>\n",
       "      <th>label</th>\n",
       "    </tr>\n",
       "  </thead>\n",
       "  <tbody>\n",
       "    <tr>\n",
       "      <td>0</td>\n",
       "      <td>0.059781</td>\n",
       "      <td>0.064241</td>\n",
       "      <td>0.032027</td>\n",
       "      <td>0.015071</td>\n",
       "      <td>0.090193</td>\n",
       "      <td>0.075122</td>\n",
       "      <td>12.863462</td>\n",
       "      <td>274.402906</td>\n",
       "      <td>0.893369</td>\n",
       "      <td>0.491918</td>\n",
       "      <td>...</td>\n",
       "      <td>0.059781</td>\n",
       "      <td>0.084279</td>\n",
       "      <td>0.015702</td>\n",
       "      <td>0.275862</td>\n",
       "      <td>0.007812</td>\n",
       "      <td>0.007812</td>\n",
       "      <td>0.007812</td>\n",
       "      <td>0.000000</td>\n",
       "      <td>0.000000</td>\n",
       "      <td>male</td>\n",
       "    </tr>\n",
       "    <tr>\n",
       "      <td>1</td>\n",
       "      <td>0.066009</td>\n",
       "      <td>0.067310</td>\n",
       "      <td>0.040229</td>\n",
       "      <td>0.019414</td>\n",
       "      <td>0.092666</td>\n",
       "      <td>0.073252</td>\n",
       "      <td>22.423285</td>\n",
       "      <td>634.613855</td>\n",
       "      <td>0.892193</td>\n",
       "      <td>0.513724</td>\n",
       "      <td>...</td>\n",
       "      <td>0.066009</td>\n",
       "      <td>0.107937</td>\n",
       "      <td>0.015826</td>\n",
       "      <td>0.250000</td>\n",
       "      <td>0.009014</td>\n",
       "      <td>0.007812</td>\n",
       "      <td>0.054688</td>\n",
       "      <td>0.046875</td>\n",
       "      <td>0.052632</td>\n",
       "      <td>male</td>\n",
       "    </tr>\n",
       "    <tr>\n",
       "      <td>2</td>\n",
       "      <td>0.077316</td>\n",
       "      <td>0.083829</td>\n",
       "      <td>0.036718</td>\n",
       "      <td>0.008701</td>\n",
       "      <td>0.131908</td>\n",
       "      <td>0.123207</td>\n",
       "      <td>30.757155</td>\n",
       "      <td>1024.927705</td>\n",
       "      <td>0.846389</td>\n",
       "      <td>0.478905</td>\n",
       "      <td>...</td>\n",
       "      <td>0.077316</td>\n",
       "      <td>0.098706</td>\n",
       "      <td>0.015656</td>\n",
       "      <td>0.271186</td>\n",
       "      <td>0.007990</td>\n",
       "      <td>0.007812</td>\n",
       "      <td>0.015625</td>\n",
       "      <td>0.007812</td>\n",
       "      <td>0.046512</td>\n",
       "      <td>male</td>\n",
       "    </tr>\n",
       "    <tr>\n",
       "      <td>3</td>\n",
       "      <td>0.151228</td>\n",
       "      <td>0.072111</td>\n",
       "      <td>0.158011</td>\n",
       "      <td>0.096582</td>\n",
       "      <td>0.207955</td>\n",
       "      <td>0.111374</td>\n",
       "      <td>1.232831</td>\n",
       "      <td>4.177296</td>\n",
       "      <td>0.963322</td>\n",
       "      <td>0.727232</td>\n",
       "      <td>...</td>\n",
       "      <td>0.151228</td>\n",
       "      <td>0.088965</td>\n",
       "      <td>0.017798</td>\n",
       "      <td>0.250000</td>\n",
       "      <td>0.201497</td>\n",
       "      <td>0.007812</td>\n",
       "      <td>0.562500</td>\n",
       "      <td>0.554688</td>\n",
       "      <td>0.247119</td>\n",
       "      <td>male</td>\n",
       "    </tr>\n",
       "    <tr>\n",
       "      <td>4</td>\n",
       "      <td>0.135120</td>\n",
       "      <td>0.079146</td>\n",
       "      <td>0.124656</td>\n",
       "      <td>0.078720</td>\n",
       "      <td>0.206045</td>\n",
       "      <td>0.127325</td>\n",
       "      <td>1.101174</td>\n",
       "      <td>4.333713</td>\n",
       "      <td>0.971955</td>\n",
       "      <td>0.783568</td>\n",
       "      <td>...</td>\n",
       "      <td>0.135120</td>\n",
       "      <td>0.106398</td>\n",
       "      <td>0.016931</td>\n",
       "      <td>0.266667</td>\n",
       "      <td>0.712812</td>\n",
       "      <td>0.007812</td>\n",
       "      <td>5.484375</td>\n",
       "      <td>5.476562</td>\n",
       "      <td>0.208274</td>\n",
       "      <td>male</td>\n",
       "    </tr>\n",
       "  </tbody>\n",
       "</table>\n",
       "<p>5 rows × 21 columns</p>\n",
       "</div>"
      ],
      "text/plain": [
       "   meanfreq        sd    median       Q25       Q75       IQR       skew  \\\n",
       "0  0.059781  0.064241  0.032027  0.015071  0.090193  0.075122  12.863462   \n",
       "1  0.066009  0.067310  0.040229  0.019414  0.092666  0.073252  22.423285   \n",
       "2  0.077316  0.083829  0.036718  0.008701  0.131908  0.123207  30.757155   \n",
       "3  0.151228  0.072111  0.158011  0.096582  0.207955  0.111374   1.232831   \n",
       "4  0.135120  0.079146  0.124656  0.078720  0.206045  0.127325   1.101174   \n",
       "\n",
       "          kurt    sp.ent       sfm  ...  centroid   meanfun    minfun  \\\n",
       "0   274.402906  0.893369  0.491918  ...  0.059781  0.084279  0.015702   \n",
       "1   634.613855  0.892193  0.513724  ...  0.066009  0.107937  0.015826   \n",
       "2  1024.927705  0.846389  0.478905  ...  0.077316  0.098706  0.015656   \n",
       "3     4.177296  0.963322  0.727232  ...  0.151228  0.088965  0.017798   \n",
       "4     4.333713  0.971955  0.783568  ...  0.135120  0.106398  0.016931   \n",
       "\n",
       "     maxfun   meandom    mindom    maxdom   dfrange   modindx  label  \n",
       "0  0.275862  0.007812  0.007812  0.007812  0.000000  0.000000   male  \n",
       "1  0.250000  0.009014  0.007812  0.054688  0.046875  0.052632   male  \n",
       "2  0.271186  0.007990  0.007812  0.015625  0.007812  0.046512   male  \n",
       "3  0.250000  0.201497  0.007812  0.562500  0.554688  0.247119   male  \n",
       "4  0.266667  0.712812  0.007812  5.484375  5.476562  0.208274   male  \n",
       "\n",
       "[5 rows x 21 columns]"
      ]
     },
     "execution_count": 12,
     "metadata": {},
     "output_type": "execute_result"
    }
   ],
   "source": [
    "## Import Data and Pre-Process: Voice Dataset\n",
    "voice = pd.read_csv('resources/voice.csv')\n",
    "voice.head()"
   ]
  },
  {
   "cell_type": "code",
   "execution_count": 13,
   "metadata": {},
   "outputs": [],
   "source": [
    "# Check datatypes to ensure numerical values are floats vs. objects -- CONFIRMED\n",
    "# voice.dtypes"
   ]
  },
  {
   "cell_type": "code",
   "execution_count": 14,
   "metadata": {},
   "outputs": [
    {
     "name": "stdout",
     "output_type": "stream",
     "text": [
      "(3168, 20) (3168,)\n"
     ]
    }
   ],
   "source": [
    "# Assign X (data) and y (target)\n",
    "X = voice.drop(\"label\", axis=1)\n",
    "y = voice[\"label\"]\n",
    "print(X.shape, y.shape)"
   ]
  },
  {
   "cell_type": "code",
   "execution_count": null,
   "metadata": {},
   "outputs": [],
   "source": []
  },
  {
   "cell_type": "code",
   "execution_count": 15,
   "metadata": {},
   "outputs": [],
   "source": [
    "# Encode the output strings using a Categorical Binarizer\n",
    "label_encoder = LabelBinarizer()\n",
    "y_encoded = label_encoder.fit_transform(y)"
   ]
  },
  {
   "cell_type": "code",
   "execution_count": 16,
   "metadata": {},
   "outputs": [],
   "source": [
    "# Split the data using train_test_split\n",
    "X_train, X_test, y_train, y_test = train_test_split(X, y_encoded, random_state=1, stratify=y_encoded)"
   ]
  },
  {
   "cell_type": "code",
   "execution_count": 17,
   "metadata": {},
   "outputs": [],
   "source": [
    "# Reshape the outputs to provide a N by 1 vector (vs. array of size N)\n",
    "# y_train = y_train.reshape(-1,1)\n",
    "# y_test = y_test.reshape(-1,1)\n",
    "# print(y_train.shape, y_test.shape)"
   ]
  },
  {
   "cell_type": "code",
   "execution_count": 18,
   "metadata": {},
   "outputs": [],
   "source": [
    "# Use the training data to create a scaler to standard normal distributions for each numerical feature and output\n",
    "X_scaler = StandardScaler().fit(X_train)\n",
    "y_scaler = StandardScaler().fit(y_train)"
   ]
  },
  {
   "cell_type": "code",
   "execution_count": 19,
   "metadata": {},
   "outputs": [],
   "source": [
    "# Scale the training and test data\n",
    "X_train_scaled = X_scaler.transform(X_train)\n",
    "X_test_scaled = X_scaler.transform(X_test)\n",
    "\n",
    "y_train_scaled = y_scaler.transform(y_train)\n",
    "y_test_scaled = y_scaler.transform(y_test)"
   ]
  },
  {
   "cell_type": "markdown",
   "metadata": {},
   "source": [
    "### Evaluate classifiers - Voice Dataset"
   ]
  },
  {
   "cell_type": "code",
   "execution_count": 20,
   "metadata": {
    "scrolled": true
   },
   "outputs": [
    {
     "name": "stdout",
     "output_type": "stream",
     "text": [
      "********************************************************************************\n",
      "\n",
      "Model: LogisticRegression, Best Score: 0.9705387205387206\n",
      "Best Parameters: {'C': 1.0, 'max_iter': 100, 'solver': 'newton-cg'}\n",
      "F1: 0.9772727272727273, Precision: 0.9772727272727273, Recall: 0.9772727272727273\n",
      "********************************************************************************\n",
      "\n",
      "Model: DecisionTreeClassifier, Best Score: 0.9650673400673401\n",
      "Best Parameters: {'max_depth': 4, 'max_features': None}\n",
      "F1: 0.9734848484848485, Precision: 0.9734848484848485, Recall: 0.9734848484848485\n"
     ]
    },
    {
     "name": "stderr",
     "output_type": "stream",
     "text": [
      "C:\\Users\\Jeff\\AppData\\Local\\conda\\conda\\envs\\PythonData\\lib\\site-packages\\sklearn\\ensemble\\forest.py:245: FutureWarning: The default value of n_estimators will change from 10 in version 0.20 to 100 in 0.22.\n",
      "  \"10 in version 0.20 to 100 in 0.22.\", FutureWarning)\n"
     ]
    },
    {
     "name": "stdout",
     "output_type": "stream",
     "text": [
      "********************************************************************************\n",
      "\n",
      "Model: RandomForestClassifier, Best Score: 0.9776936026936027\n",
      "Best Parameters: {'max_depth': 8, 'max_features': 'sqrt'}\n",
      "F1: 0.9797979797979798, Precision: 0.9797979797979798, Recall: 0.9797979797979798\n"
     ]
    },
    {
     "name": "stderr",
     "output_type": "stream",
     "text": [
      "C:\\Users\\Jeff\\AppData\\Local\\conda\\conda\\envs\\PythonData\\lib\\site-packages\\sklearn\\svm\\base.py:241: ConvergenceWarning: Solver terminated early (max_iter=500).  Consider pre-processing your data with StandardScaler or MinMaxScaler.\n",
      "  % self.max_iter, ConvergenceWarning)\n"
     ]
    },
    {
     "name": "stdout",
     "output_type": "stream",
     "text": [
      "********************************************************************************\n",
      "\n",
      "Model: SVC, Best Score: 0.9797979797979798\n",
      "Best Parameters: {'C': 2.0, 'kernel': 'rbf', 'max_iter': 500}\n",
      "F1: 0.9873737373737373, Precision: 0.9873737373737373, Recall: 0.9873737373737373\n",
      "********************************************************************************\n",
      "\n",
      "Model: KNeighborsClassifier, Best Score: 0.9675925925925926\n",
      "Best Parameters: {'algorithm': 'auto', 'n_neighbors': 1}\n",
      "F1: 0.9823232323232324, Precision: 0.9823232323232324, Recall: 0.9823232323232324\n",
      "18.1 s ± 0 ns per loop (mean ± std. dev. of 1 run, 1 loop each)\n"
     ]
    },
    {
     "data": {
      "text/plain": [
       "<TimeitResult : 18.1 s ± 0 ns per loop (mean ± std. dev. of 1 run, 1 loop each)>"
      ]
     },
     "execution_count": 20,
     "metadata": {},
     "output_type": "execute_result"
    }
   ],
   "source": [
    "%%timeit -n1 -r1 -o  # Time the overall time required to evaluate all classifiers\n",
    "\n",
    "# Create a list of classifers and associated parameter grid for hyperparameter tuning\n",
    "classifier_dict = [\n",
    "    {\n",
    "        # LogisticRegression\n",
    "        'cls': LogisticRegression(),\n",
    "        'cls_param_grid': {'solver': [\"liblinear\", \"newton-cg\", \"lbfgs\", \"sag\", \"saga\"],\n",
    "                           'max_iter': [ 100, 500, 1000, 5000, 10000 ],\n",
    "                           'C': [1.0, 2.0, 5.0, 10.0, 20.0 ]}\n",
    "    },\n",
    "    {\n",
    "        # Decision Tree\n",
    "        'cls': tree.DecisionTreeClassifier(),\n",
    "        'cls_param_grid': {'max_depth': [ None, 16, 8, 4, 2, 1 ],\n",
    "                         'max_features': [ None, \"sqrt\", \"log2\" ]}\n",
    "    },\n",
    "    {\n",
    "        # Random Forest\n",
    "        'cls': RandomForestClassifier(),\n",
    "        'cls_param_grid': {'max_depth': [ None, 16, 8, 4, 2, 1 ],\n",
    "                         'max_features': [ None, \"sqrt\", \"log2\" ]}\n",
    "    },\n",
    "    {\n",
    "        # Support Vector Machine\n",
    "        'cls': svm.SVC(),\n",
    "        'cls_param_grid': {'kernel': [ \"linear\", \"poly\", \"rbf\", \"sigmoid\" ],\n",
    "                         'max_iter': [ 100, 500, 1000, 5000, 10000 ],\n",
    "                         'C': [1.0, 2.0, 5.0, 10.0, 20.0 ]}\n",
    "    },\n",
    "\n",
    "    {\n",
    "        # K-Nearest Neighbors\n",
    "        'cls': KNeighborsClassifier(),\n",
    "        'cls_param_grid': { 'n_neighbors': [ 1, 3, 5, 7, 9, 11, 13, 15, 17, 19, 21 ],\n",
    "                            'algorithm': [ 'auto', 'ball_tree', 'kd_tree', 'brute' ]\n",
    "                          }\n",
    "    }\n",
    "]\n",
    "\n",
    "\n",
    "# Evaluate each classifier with hyperparameter tuning\n",
    "for c in classifier_dict:\n",
    "    # Evaluate the classifer performance, create a plot    \n",
    "    model_result_item = tune_eval_classifier('Voice', c['cls'], c['cls_param_grid'])\n",
    "\n",
    "    # Add results for this dataset and model\n",
    "    model_results.append( model_result_item )\n"
   ]
  },
  {
   "cell_type": "code",
   "execution_count": 21,
   "metadata": {},
   "outputs": [
    {
     "data": {
      "text/html": [
       "<div>\n",
       "<style scoped>\n",
       "    .dataframe tbody tr th:only-of-type {\n",
       "        vertical-align: middle;\n",
       "    }\n",
       "\n",
       "    .dataframe tbody tr th {\n",
       "        vertical-align: top;\n",
       "    }\n",
       "\n",
       "    .dataframe thead th {\n",
       "        text-align: right;\n",
       "    }\n",
       "</style>\n",
       "<table border=\"1\" class=\"dataframe\">\n",
       "  <thead>\n",
       "    <tr style=\"text-align: right;\">\n",
       "      <th></th>\n",
       "      <th>Dataset</th>\n",
       "      <th>Classifier</th>\n",
       "      <th>Best Score</th>\n",
       "      <th>Best Parameters</th>\n",
       "      <th>F1</th>\n",
       "      <th>Precision</th>\n",
       "      <th>Recall</th>\n",
       "      <th>Mean Fit Time (ms)</th>\n",
       "      <th>Std Dev Fit Time (ms)</th>\n",
       "      <th>Best Index</th>\n",
       "      <th>CV Results</th>\n",
       "    </tr>\n",
       "  </thead>\n",
       "  <tbody>\n",
       "    <tr>\n",
       "      <td>0</td>\n",
       "      <td>Iris</td>\n",
       "      <td>LogisticRegression</td>\n",
       "      <td>0.919643</td>\n",
       "      <td>{'C': 2.0, 'max_iter': 100, 'solver': 'newton-...</td>\n",
       "      <td>0.947368</td>\n",
       "      <td>0.947368</td>\n",
       "      <td>0.947368</td>\n",
       "      <td>17.999935</td>\n",
       "      <td>0.632636</td>\n",
       "      <td>26</td>\n",
       "      <td>{'mean_fit_time': [0.0112060546875, 0.01900496...</td>\n",
       "    </tr>\n",
       "    <tr>\n",
       "      <td>1</td>\n",
       "      <td>Iris</td>\n",
       "      <td>DecisionTreeClassifier</td>\n",
       "      <td>0.946429</td>\n",
       "      <td>{'max_depth': None, 'max_features': 'log2'}</td>\n",
       "      <td>0.947368</td>\n",
       "      <td>0.947368</td>\n",
       "      <td>0.947368</td>\n",
       "      <td>0.400114</td>\n",
       "      <td>0.490038</td>\n",
       "      <td>2</td>\n",
       "      <td>{'mean_fit_time': [0.0010003089904785157, 0.00...</td>\n",
       "    </tr>\n",
       "    <tr>\n",
       "      <td>2</td>\n",
       "      <td>Iris</td>\n",
       "      <td>RandomForestClassifier</td>\n",
       "      <td>0.955357</td>\n",
       "      <td>{'max_depth': 1, 'max_features': None}</td>\n",
       "      <td>0.973684</td>\n",
       "      <td>0.973684</td>\n",
       "      <td>0.973684</td>\n",
       "      <td>18.800640</td>\n",
       "      <td>2.482848</td>\n",
       "      <td>15</td>\n",
       "      <td>{'mean_fit_time': [0.021199560165405272, 0.026...</td>\n",
       "    </tr>\n",
       "    <tr>\n",
       "      <td>3</td>\n",
       "      <td>Iris</td>\n",
       "      <td>SVC</td>\n",
       "      <td>0.964286</td>\n",
       "      <td>{'C': 2.0, 'kernel': 'linear', 'max_iter': 100}</td>\n",
       "      <td>0.973684</td>\n",
       "      <td>0.973684</td>\n",
       "      <td>0.973684</td>\n",
       "      <td>0.200272</td>\n",
       "      <td>0.400543</td>\n",
       "      <td>20</td>\n",
       "      <td>{'mean_fit_time': [0.0009999275207519531, 0.00...</td>\n",
       "    </tr>\n",
       "    <tr>\n",
       "      <td>4</td>\n",
       "      <td>Iris</td>\n",
       "      <td>KNeighborsClassifier</td>\n",
       "      <td>0.946429</td>\n",
       "      <td>{'algorithm': 'auto', 'n_neighbors': 5}</td>\n",
       "      <td>0.973684</td>\n",
       "      <td>0.973684</td>\n",
       "      <td>0.973684</td>\n",
       "      <td>1.000071</td>\n",
       "      <td>0.010132</td>\n",
       "      <td>2</td>\n",
       "      <td>{'mean_fit_time': [0.000800180435180664, 0.000...</td>\n",
       "    </tr>\n",
       "    <tr>\n",
       "      <td>5</td>\n",
       "      <td>Voice</td>\n",
       "      <td>LogisticRegression</td>\n",
       "      <td>0.970539</td>\n",
       "      <td>{'C': 1.0, 'max_iter': 100, 'solver': 'newton-...</td>\n",
       "      <td>0.977273</td>\n",
       "      <td>0.977273</td>\n",
       "      <td>0.977273</td>\n",
       "      <td>78.004026</td>\n",
       "      <td>4.939072</td>\n",
       "      <td>1</td>\n",
       "      <td>{'mean_fit_time': [0.008799409866333008, 0.078...</td>\n",
       "    </tr>\n",
       "    <tr>\n",
       "      <td>6</td>\n",
       "      <td>Voice</td>\n",
       "      <td>DecisionTreeClassifier</td>\n",
       "      <td>0.965067</td>\n",
       "      <td>{'max_depth': 4, 'max_features': None}</td>\n",
       "      <td>0.973485</td>\n",
       "      <td>0.973485</td>\n",
       "      <td>0.973485</td>\n",
       "      <td>19.804573</td>\n",
       "      <td>0.749373</td>\n",
       "      <td>9</td>\n",
       "      <td>{'mean_fit_time': [0.03040037155151367, 0.0083...</td>\n",
       "    </tr>\n",
       "    <tr>\n",
       "      <td>7</td>\n",
       "      <td>Voice</td>\n",
       "      <td>RandomForestClassifier</td>\n",
       "      <td>0.977694</td>\n",
       "      <td>{'max_depth': 8, 'max_features': 'sqrt'}</td>\n",
       "      <td>0.979798</td>\n",
       "      <td>0.979798</td>\n",
       "      <td>0.979798</td>\n",
       "      <td>66.199589</td>\n",
       "      <td>9.764994</td>\n",
       "      <td>7</td>\n",
       "      <td>{'mean_fit_time': [0.2124000072479248, 0.06420...</td>\n",
       "    </tr>\n",
       "    <tr>\n",
       "      <td>8</td>\n",
       "      <td>Voice</td>\n",
       "      <td>SVC</td>\n",
       "      <td>0.979798</td>\n",
       "      <td>{'C': 2.0, 'kernel': 'rbf', 'max_iter': 500}</td>\n",
       "      <td>0.987374</td>\n",
       "      <td>0.987374</td>\n",
       "      <td>0.987374</td>\n",
       "      <td>40.601683</td>\n",
       "      <td>1.354254</td>\n",
       "      <td>31</td>\n",
       "      <td>{'mean_fit_time': [0.010400342941284179, 0.031...</td>\n",
       "    </tr>\n",
       "    <tr>\n",
       "      <td>9</td>\n",
       "      <td>Voice</td>\n",
       "      <td>KNeighborsClassifier</td>\n",
       "      <td>0.967593</td>\n",
       "      <td>{'algorithm': 'auto', 'n_neighbors': 1}</td>\n",
       "      <td>0.982323</td>\n",
       "      <td>0.982323</td>\n",
       "      <td>0.982323</td>\n",
       "      <td>3.199911</td>\n",
       "      <td>0.400616</td>\n",
       "      <td>0</td>\n",
       "      <td>{'mean_fit_time': [0.003199911117553711, 0.003...</td>\n",
       "    </tr>\n",
       "  </tbody>\n",
       "</table>\n",
       "</div>"
      ],
      "text/plain": [
       "  Dataset              Classifier  Best Score  \\\n",
       "0    Iris      LogisticRegression    0.919643   \n",
       "1    Iris  DecisionTreeClassifier    0.946429   \n",
       "2    Iris  RandomForestClassifier    0.955357   \n",
       "3    Iris                     SVC    0.964286   \n",
       "4    Iris    KNeighborsClassifier    0.946429   \n",
       "5   Voice      LogisticRegression    0.970539   \n",
       "6   Voice  DecisionTreeClassifier    0.965067   \n",
       "7   Voice  RandomForestClassifier    0.977694   \n",
       "8   Voice                     SVC    0.979798   \n",
       "9   Voice    KNeighborsClassifier    0.967593   \n",
       "\n",
       "                                     Best Parameters        F1  Precision  \\\n",
       "0  {'C': 2.0, 'max_iter': 100, 'solver': 'newton-...  0.947368   0.947368   \n",
       "1        {'max_depth': None, 'max_features': 'log2'}  0.947368   0.947368   \n",
       "2             {'max_depth': 1, 'max_features': None}  0.973684   0.973684   \n",
       "3    {'C': 2.0, 'kernel': 'linear', 'max_iter': 100}  0.973684   0.973684   \n",
       "4            {'algorithm': 'auto', 'n_neighbors': 5}  0.973684   0.973684   \n",
       "5  {'C': 1.0, 'max_iter': 100, 'solver': 'newton-...  0.977273   0.977273   \n",
       "6             {'max_depth': 4, 'max_features': None}  0.973485   0.973485   \n",
       "7           {'max_depth': 8, 'max_features': 'sqrt'}  0.979798   0.979798   \n",
       "8       {'C': 2.0, 'kernel': 'rbf', 'max_iter': 500}  0.987374   0.987374   \n",
       "9            {'algorithm': 'auto', 'n_neighbors': 1}  0.982323   0.982323   \n",
       "\n",
       "     Recall  Mean Fit Time (ms)  Std Dev Fit Time (ms)  Best Index  \\\n",
       "0  0.947368           17.999935               0.632636          26   \n",
       "1  0.947368            0.400114               0.490038           2   \n",
       "2  0.973684           18.800640               2.482848          15   \n",
       "3  0.973684            0.200272               0.400543          20   \n",
       "4  0.973684            1.000071               0.010132           2   \n",
       "5  0.977273           78.004026               4.939072           1   \n",
       "6  0.973485           19.804573               0.749373           9   \n",
       "7  0.979798           66.199589               9.764994           7   \n",
       "8  0.987374           40.601683               1.354254          31   \n",
       "9  0.982323            3.199911               0.400616           0   \n",
       "\n",
       "                                          CV Results  \n",
       "0  {'mean_fit_time': [0.0112060546875, 0.01900496...  \n",
       "1  {'mean_fit_time': [0.0010003089904785157, 0.00...  \n",
       "2  {'mean_fit_time': [0.021199560165405272, 0.026...  \n",
       "3  {'mean_fit_time': [0.0009999275207519531, 0.00...  \n",
       "4  {'mean_fit_time': [0.000800180435180664, 0.000...  \n",
       "5  {'mean_fit_time': [0.008799409866333008, 0.078...  \n",
       "6  {'mean_fit_time': [0.03040037155151367, 0.0083...  \n",
       "7  {'mean_fit_time': [0.2124000072479248, 0.06420...  \n",
       "8  {'mean_fit_time': [0.010400342941284179, 0.031...  \n",
       "9  {'mean_fit_time': [0.003199911117553711, 0.003...  "
      ]
     },
     "execution_count": 21,
     "metadata": {},
     "output_type": "execute_result"
    }
   ],
   "source": [
    "pd.DataFrame(model_results)"
   ]
  },
  {
   "cell_type": "markdown",
   "metadata": {},
   "source": [
    "## Overall Results"
   ]
  },
  {
   "cell_type": "markdown",
   "metadata": {},
   "source": [
    "## Summary - Iris and Voice Datasets"
   ]
  },
  {
   "cell_type": "code",
   "execution_count": 22,
   "metadata": {},
   "outputs": [
    {
     "data": {
      "text/html": [
       "<div>\n",
       "<style scoped>\n",
       "    .dataframe tbody tr th:only-of-type {\n",
       "        vertical-align: middle;\n",
       "    }\n",
       "\n",
       "    .dataframe tbody tr th {\n",
       "        vertical-align: top;\n",
       "    }\n",
       "\n",
       "    .dataframe thead th {\n",
       "        text-align: right;\n",
       "    }\n",
       "</style>\n",
       "<table border=\"1\" class=\"dataframe\">\n",
       "  <thead>\n",
       "    <tr style=\"text-align: right;\">\n",
       "      <th></th>\n",
       "      <th>Dataset</th>\n",
       "      <th>Classifier</th>\n",
       "      <th>Best Score</th>\n",
       "      <th>F1</th>\n",
       "      <th>Precision</th>\n",
       "      <th>Recall</th>\n",
       "      <th>Mean Fit Time (ms)</th>\n",
       "      <th>Std Dev Fit Time (ms)</th>\n",
       "      <th>Best Parameters</th>\n",
       "      <th>Best Index</th>\n",
       "      <th>CV Results</th>\n",
       "    </tr>\n",
       "  </thead>\n",
       "  <tbody>\n",
       "    <tr>\n",
       "      <td>0</td>\n",
       "      <td>Iris</td>\n",
       "      <td>LogisticRegression</td>\n",
       "      <td>0.919643</td>\n",
       "      <td>0.947368</td>\n",
       "      <td>0.947368</td>\n",
       "      <td>0.947368</td>\n",
       "      <td>17.999935</td>\n",
       "      <td>0.632636</td>\n",
       "      <td>{'C': 2.0, 'max_iter': 100, 'solver': 'newton-...</td>\n",
       "      <td>26</td>\n",
       "      <td>{'mean_fit_time': [0.0112060546875, 0.01900496...</td>\n",
       "    </tr>\n",
       "    <tr>\n",
       "      <td>1</td>\n",
       "      <td>Iris</td>\n",
       "      <td>DecisionTreeClassifier</td>\n",
       "      <td>0.946429</td>\n",
       "      <td>0.947368</td>\n",
       "      <td>0.947368</td>\n",
       "      <td>0.947368</td>\n",
       "      <td>0.400114</td>\n",
       "      <td>0.490038</td>\n",
       "      <td>{'max_depth': None, 'max_features': 'log2'}</td>\n",
       "      <td>2</td>\n",
       "      <td>{'mean_fit_time': [0.0010003089904785157, 0.00...</td>\n",
       "    </tr>\n",
       "    <tr>\n",
       "      <td>2</td>\n",
       "      <td>Iris</td>\n",
       "      <td>RandomForestClassifier</td>\n",
       "      <td>0.955357</td>\n",
       "      <td>0.973684</td>\n",
       "      <td>0.973684</td>\n",
       "      <td>0.973684</td>\n",
       "      <td>18.800640</td>\n",
       "      <td>2.482848</td>\n",
       "      <td>{'max_depth': 1, 'max_features': None}</td>\n",
       "      <td>15</td>\n",
       "      <td>{'mean_fit_time': [0.021199560165405272, 0.026...</td>\n",
       "    </tr>\n",
       "    <tr>\n",
       "      <td>3</td>\n",
       "      <td>Iris</td>\n",
       "      <td>SVC</td>\n",
       "      <td>0.964286</td>\n",
       "      <td>0.973684</td>\n",
       "      <td>0.973684</td>\n",
       "      <td>0.973684</td>\n",
       "      <td>0.200272</td>\n",
       "      <td>0.400543</td>\n",
       "      <td>{'C': 2.0, 'kernel': 'linear', 'max_iter': 100}</td>\n",
       "      <td>20</td>\n",
       "      <td>{'mean_fit_time': [0.0009999275207519531, 0.00...</td>\n",
       "    </tr>\n",
       "    <tr>\n",
       "      <td>4</td>\n",
       "      <td>Iris</td>\n",
       "      <td>KNeighborsClassifier</td>\n",
       "      <td>0.946429</td>\n",
       "      <td>0.973684</td>\n",
       "      <td>0.973684</td>\n",
       "      <td>0.973684</td>\n",
       "      <td>1.000071</td>\n",
       "      <td>0.010132</td>\n",
       "      <td>{'algorithm': 'auto', 'n_neighbors': 5}</td>\n",
       "      <td>2</td>\n",
       "      <td>{'mean_fit_time': [0.000800180435180664, 0.000...</td>\n",
       "    </tr>\n",
       "    <tr>\n",
       "      <td>5</td>\n",
       "      <td>Voice</td>\n",
       "      <td>LogisticRegression</td>\n",
       "      <td>0.970539</td>\n",
       "      <td>0.977273</td>\n",
       "      <td>0.977273</td>\n",
       "      <td>0.977273</td>\n",
       "      <td>78.004026</td>\n",
       "      <td>4.939072</td>\n",
       "      <td>{'C': 1.0, 'max_iter': 100, 'solver': 'newton-...</td>\n",
       "      <td>1</td>\n",
       "      <td>{'mean_fit_time': [0.008799409866333008, 0.078...</td>\n",
       "    </tr>\n",
       "    <tr>\n",
       "      <td>6</td>\n",
       "      <td>Voice</td>\n",
       "      <td>DecisionTreeClassifier</td>\n",
       "      <td>0.965067</td>\n",
       "      <td>0.973485</td>\n",
       "      <td>0.973485</td>\n",
       "      <td>0.973485</td>\n",
       "      <td>19.804573</td>\n",
       "      <td>0.749373</td>\n",
       "      <td>{'max_depth': 4, 'max_features': None}</td>\n",
       "      <td>9</td>\n",
       "      <td>{'mean_fit_time': [0.03040037155151367, 0.0083...</td>\n",
       "    </tr>\n",
       "    <tr>\n",
       "      <td>7</td>\n",
       "      <td>Voice</td>\n",
       "      <td>RandomForestClassifier</td>\n",
       "      <td>0.977694</td>\n",
       "      <td>0.979798</td>\n",
       "      <td>0.979798</td>\n",
       "      <td>0.979798</td>\n",
       "      <td>66.199589</td>\n",
       "      <td>9.764994</td>\n",
       "      <td>{'max_depth': 8, 'max_features': 'sqrt'}</td>\n",
       "      <td>7</td>\n",
       "      <td>{'mean_fit_time': [0.2124000072479248, 0.06420...</td>\n",
       "    </tr>\n",
       "    <tr>\n",
       "      <td>8</td>\n",
       "      <td>Voice</td>\n",
       "      <td>SVC</td>\n",
       "      <td>0.979798</td>\n",
       "      <td>0.987374</td>\n",
       "      <td>0.987374</td>\n",
       "      <td>0.987374</td>\n",
       "      <td>40.601683</td>\n",
       "      <td>1.354254</td>\n",
       "      <td>{'C': 2.0, 'kernel': 'rbf', 'max_iter': 500}</td>\n",
       "      <td>31</td>\n",
       "      <td>{'mean_fit_time': [0.010400342941284179, 0.031...</td>\n",
       "    </tr>\n",
       "    <tr>\n",
       "      <td>9</td>\n",
       "      <td>Voice</td>\n",
       "      <td>KNeighborsClassifier</td>\n",
       "      <td>0.967593</td>\n",
       "      <td>0.982323</td>\n",
       "      <td>0.982323</td>\n",
       "      <td>0.982323</td>\n",
       "      <td>3.199911</td>\n",
       "      <td>0.400616</td>\n",
       "      <td>{'algorithm': 'auto', 'n_neighbors': 1}</td>\n",
       "      <td>0</td>\n",
       "      <td>{'mean_fit_time': [0.003199911117553711, 0.003...</td>\n",
       "    </tr>\n",
       "  </tbody>\n",
       "</table>\n",
       "</div>"
      ],
      "text/plain": [
       "  Dataset              Classifier  Best Score        F1  Precision    Recall  \\\n",
       "0    Iris      LogisticRegression    0.919643  0.947368   0.947368  0.947368   \n",
       "1    Iris  DecisionTreeClassifier    0.946429  0.947368   0.947368  0.947368   \n",
       "2    Iris  RandomForestClassifier    0.955357  0.973684   0.973684  0.973684   \n",
       "3    Iris                     SVC    0.964286  0.973684   0.973684  0.973684   \n",
       "4    Iris    KNeighborsClassifier    0.946429  0.973684   0.973684  0.973684   \n",
       "5   Voice      LogisticRegression    0.970539  0.977273   0.977273  0.977273   \n",
       "6   Voice  DecisionTreeClassifier    0.965067  0.973485   0.973485  0.973485   \n",
       "7   Voice  RandomForestClassifier    0.977694  0.979798   0.979798  0.979798   \n",
       "8   Voice                     SVC    0.979798  0.987374   0.987374  0.987374   \n",
       "9   Voice    KNeighborsClassifier    0.967593  0.982323   0.982323  0.982323   \n",
       "\n",
       "   Mean Fit Time (ms)  Std Dev Fit Time (ms)  \\\n",
       "0           17.999935               0.632636   \n",
       "1            0.400114               0.490038   \n",
       "2           18.800640               2.482848   \n",
       "3            0.200272               0.400543   \n",
       "4            1.000071               0.010132   \n",
       "5           78.004026               4.939072   \n",
       "6           19.804573               0.749373   \n",
       "7           66.199589               9.764994   \n",
       "8           40.601683               1.354254   \n",
       "9            3.199911               0.400616   \n",
       "\n",
       "                                     Best Parameters  Best Index  \\\n",
       "0  {'C': 2.0, 'max_iter': 100, 'solver': 'newton-...          26   \n",
       "1        {'max_depth': None, 'max_features': 'log2'}           2   \n",
       "2             {'max_depth': 1, 'max_features': None}          15   \n",
       "3    {'C': 2.0, 'kernel': 'linear', 'max_iter': 100}          20   \n",
       "4            {'algorithm': 'auto', 'n_neighbors': 5}           2   \n",
       "5  {'C': 1.0, 'max_iter': 100, 'solver': 'newton-...           1   \n",
       "6             {'max_depth': 4, 'max_features': None}           9   \n",
       "7           {'max_depth': 8, 'max_features': 'sqrt'}           7   \n",
       "8       {'C': 2.0, 'kernel': 'rbf', 'max_iter': 500}          31   \n",
       "9            {'algorithm': 'auto', 'n_neighbors': 1}           0   \n",
       "\n",
       "                                          CV Results  \n",
       "0  {'mean_fit_time': [0.0112060546875, 0.01900496...  \n",
       "1  {'mean_fit_time': [0.0010003089904785157, 0.00...  \n",
       "2  {'mean_fit_time': [0.021199560165405272, 0.026...  \n",
       "3  {'mean_fit_time': [0.0009999275207519531, 0.00...  \n",
       "4  {'mean_fit_time': [0.000800180435180664, 0.000...  \n",
       "5  {'mean_fit_time': [0.008799409866333008, 0.078...  \n",
       "6  {'mean_fit_time': [0.03040037155151367, 0.0083...  \n",
       "7  {'mean_fit_time': [0.2124000072479248, 0.06420...  \n",
       "8  {'mean_fit_time': [0.010400342941284179, 0.031...  \n",
       "9  {'mean_fit_time': [0.003199911117553711, 0.003...  "
      ]
     },
     "execution_count": 22,
     "metadata": {},
     "output_type": "execute_result"
    }
   ],
   "source": [
    "# Prepare a dataframe of the results\n",
    "summary_df = pd.DataFrame( model_results,\n",
    "                         columns = [ 'Dataset', 'Classifier',\n",
    "                                    'Best Score', \"F1\", 'Precision', 'Recall',\n",
    "                                    'Mean Fit Time (ms)', 'Std Dev Fit Time (ms)',\n",
    "                                    'Best Parameters',\n",
    "                                    'Best Index', 'CV Results' ])\n",
    "\n",
    "summary_df"
   ]
  },
  {
   "cell_type": "code",
   "execution_count": 23,
   "metadata": {},
   "outputs": [
    {
     "data": {
      "text/plain": [
       "Best Score                0.959283\n",
       "F1                        0.971604\n",
       "Precision                 0.971604\n",
       "Recall                    0.971604\n",
       "Mean Fit Time (ms)       24.621081\n",
       "Std Dev Fit Time (ms)     2.122451\n",
       "Best Index               11.300000\n",
       "dtype: float64"
      ]
     },
     "execution_count": 23,
     "metadata": {},
     "output_type": "execute_result"
    }
   ],
   "source": [
    "summary_df.mean()"
   ]
  },
  {
   "cell_type": "markdown",
   "metadata": {},
   "source": [
    "### Function to Plot Classifier Performance"
   ]
  },
  {
   "cell_type": "code",
   "execution_count": 38,
   "metadata": {},
   "outputs": [],
   "source": [
    "# Function: Create a plot of classifier performance\n",
    "def plot_summary(a_ax, a_df, a_plot_suboptimal = True, a_title = None, a_x_col = \"Mean Fit Time (ms)\", a_y_col = \"Best Score\"):\n",
    "    \n",
    "    # Set the title\n",
    "    if a_title is None:\n",
    "        # If no title specified, use the Dataset and Classifier values\n",
    "        # from the first data point\n",
    "        title_text = f\"Tuned Classifier Performance - {a_df['Dataset'][0]} / {a_df['Classifier'][0]}\"\n",
    "        title_text += f\"\\n( {a_y_col} vs. {a_x_col} )\"\n",
    "        a_ax.set_title( title_text )\n",
    "    else:\n",
    "        a_ax.set_title(a_title)\n",
    "          \n",
    "    # Ensure that flag controling plot of suboptimal results is valid\n",
    "    if (a_plot_suboptimal is not None) and (a_plot_suboptimal == True):\n",
    "        plot_subopt = True\n",
    "    else:\n",
    "        plot_subopt = False\n",
    "    \n",
    "    # If x and y axis limits have been provided, then use them\n",
    "    # If not, then use default limits based upon the data\n",
    "    x_min = 0.9*min(a_df[a_x_col])\n",
    "    x_max = 1.1*max(a_df[a_x_col])\n",
    "    y_min = 0.99*min(a_df[a_y_col])\n",
    "    y_max = min(1.01, 1.02*max(a_df[a_y_col]))\n",
    "        \n",
    "    # Set the y-axis range\n",
    "    a_ax.set_ylim( y_min,y_max )\n",
    "    a_ax.set_ylabel(a_y_col)\n",
    "\n",
    "    # Set the x-axis range\n",
    "    a_ax.set_xlim( x_min, x_max )\n",
    "    a_ax.set_xlabel(a_x_col)\n",
    "    \n",
    "    # Plot suboptimal values if the flag is set\n",
    "    if plot_subopt:\n",
    "\n",
    "        # Plot the results of all parameters tested for this dataset/classifier\n",
    "        # (as background for the plots of the \"best\" results below)\n",
    "        # Define a dictionary to map the overall plot dataframe headings to the CV Results dictionary headings\n",
    "        fieldmap_dict = {\n",
    "            'Best Score': { 'field': 'mean_test_score', 'scale': 1.0 },\n",
    "            'Mean Fit Time (ms)': { 'field': 'mean_fit_time', 'scale': 1000.0 },\n",
    "            'Std Dev Fit Time (ms)': { 'field': 'std_fit_time', 'scale': 1000.0 }\n",
    "        }\n",
    "\n",
    "        # If the mapped x and y fields are valid, attempt to plot them\n",
    "        try:\n",
    "            mapped_x_col = fieldmap_dict[ a_x_col ]['field']\n",
    "            mapped_y_col = fieldmap_dict[ a_y_col ]['field']\n",
    "\n",
    "            try:\n",
    "                # Readjust the max and min axis limits to consider all of the optimal and non-optimal results\n",
    "                for cv_item in a_df['CV Results']:\n",
    "                    x_min = min(x_min, 0.9 * fieldmap_dict[ a_x_col ]['scale'] * min(cv_item[mapped_x_col]) )\n",
    "                    x_max = max(x_max, 1.1 * fieldmap_dict[ a_x_col ]['scale'] * max(cv_item[mapped_x_col]) )\n",
    "                    y_min = min(y_min, 0.99 * fieldmap_dict[ a_y_col ]['scale'] * min(cv_item[mapped_y_col]) )\n",
    "                    y_max = max(y_max, min(1.01, 1.02 * fieldmap_dict[ a_y_col ]['scale'] * max(cv_item[mapped_y_col])) )\n",
    "\n",
    "                    # print(f\"Readjusting Limits - [x_min: {x_min:.4f} to x_max: {x_max:.4f}], [y_min: {y_min:.4f} to y_max: {y_max:.4f}]\")\n",
    "\n",
    "                # Set the y-axis range\n",
    "                a_ax.set_ylim( y_min,y_max )\n",
    "                a_ax.set_ylabel(a_y_col)\n",
    "\n",
    "                # Set the x-axis range\n",
    "                a_ax.set_xlim( x_min, x_max )\n",
    "                a_ax.set_xlabel(a_x_col)\n",
    "\n",
    "                # For all results in this dataframe, plot all of the optimal and non-optimal results\n",
    "                for cv_item in a_df['CV Results']:\n",
    "\n",
    "                    # Plot the set of points associated with this dataframe for this result\n",
    "                    a_ax.scatter( fieldmap_dict[ a_x_col ]['scale']*cv_item[mapped_x_col],\n",
    "                                  fieldmap_dict[ a_y_col ]['scale']*cv_item[mapped_y_col],\n",
    "                                  c=\"#D0D0D080\" )\n",
    "\n",
    "            except:\n",
    "                error_text = f\"NOTE: Could not plot optimal/non-optimal background results\"\n",
    "                error_text += f\"\\nmapped_x_col = {mapped_x_col}, mapped_y_col = {mapped_y_col}\"\n",
    "                print(error_text)\n",
    "\n",
    "        except:\n",
    "            error_text = f\"NOTE: Could not map Dataframe fields to CV Results fields\"\n",
    "            error_text += f\"\\na_x_col = {a_x_col}, a_y_col = {a_y_col}\"\n",
    "            print(error_text)\n",
    "            \n",
    "    # Plot the primary (i.e., optimized/tuned) data points in a distinctive color\n",
    "    a_ax.scatter( a_df[a_x_col], a_df[a_y_col], c=\"b\" )\n",
    "    \n",
    "    # Add grid lines\n",
    "    a_ax.grid(c='k', linestyle='-', linewidth=0.2)\n",
    "    \n",
    "    # Add text to key datapoints\n",
    "    # If the number of points is small then add a note for all of them\n",
    "    if len(a_df.index) < 8:\n",
    "        # Get the set of all indices - should already be unique since they are indices\n",
    "        # but for consistency will still make this a set\n",
    "        i_set = set(a_df.index)\n",
    "    \n",
    "    else:\n",
    "        # Otherwise, if the number of points is larger then annotate only key points\n",
    "        \n",
    "        # Find the index of the column a_y_col value with the lowest value\n",
    "        i_y_lowest = a_df[a_y_col].idxmin()\n",
    "        \n",
    "\n",
    "        # Find the index of the column a_y_col value with the highest value\n",
    "        i_y_highest = a_df[a_y_col].idxmax()\n",
    "\n",
    "        # Find the index of the column a_x_col value with the lowest value\n",
    "        i_x_lowest = a_df[a_x_col].idxmin()\n",
    "        \n",
    "\n",
    "        # Find the index of the column a_x_col value with the highest value\n",
    "        i_x_highest = a_df[a_x_col].idxmax()\n",
    "\n",
    "        # Get the unique indices for the key datapoints using a Python Set\n",
    "        # to avoid duplicate entries\n",
    "        i_set = set( [i_x_lowest, i_x_highest, i_y_lowest, i_y_highest] )\n",
    "\n",
    "    # Plot a text note for each of the key datapoints\n",
    "    for i in i_set:\n",
    "\n",
    "        # Add text to the datapoint\n",
    "        point_text = f\"({a_df[a_x_col][i]:0.4f}, {a_df[a_y_col][i]:0.4f})\"\n",
    "\n",
    "        try:\n",
    "            point_text += f\"\\n{a_df['Dataset'][i]} / {a_df['Classifier'][i]}\"\n",
    "#             point_text += f\"\\nBest Score: {a_df['Best Score'][i]:0.4f}\"\n",
    "#             point_text += f\"\\nMean Fit Time (ms): {a_df['Mean Fit Time (ms)'][i]:0.2f}\"\n",
    "#             point_text += f\"\\nStd Dev Fit Time (ms): {a_df['Std Dev Fit Time (ms)'][i]:0.2f}\"\n",
    "#             point_text += f\"\\nBest Parameters: \\n{a_df['Best Parameters'][i]}\"\n",
    "            \n",
    "        except:\n",
    "            pass\n",
    "\n",
    "        # Place the text at an offset from the datapoint\n",
    "        # x: No offset\n",
    "        x_offset = 0\n",
    "        x_offset = (x_max-x_min)/20 * (.25)\n",
    "#         x_offset = (x_max-x_min)/20 * ( 1 if i % 2 == 0 else -5 )\n",
    "        \n",
    "        # y: Offset by a fraction of the y-axis max-min range,\n",
    "        #    and positive for even indices, negative for odd indices\n",
    "        #    (to try to avoid overlap between adjacent datapoints)\n",
    "        y_offset = 0\n",
    "#         y_offset = (y_max-y_min)/20 * ( 1 if i % 2 == 0 else -6 )\n",
    "\n",
    "        # Plot the text\n",
    "        a_ax.text( a_df[a_x_col][i] + x_offset, a_df[a_y_col][i] + y_offset,\n",
    "                   point_text, c=\"#0000FFFF\" )\n"
   ]
  },
  {
   "cell_type": "markdown",
   "metadata": {},
   "source": [
    "## Plot each Dataset/Classifer combination on the same plot"
   ]
  },
  {
   "cell_type": "code",
   "execution_count": 55,
   "metadata": {},
   "outputs": [
    {
     "data": {
      "image/png": "[encoded data removed]",
      "text/plain": [
       "<Figure size 720x720 with 1 Axes>"
      ]
     },
     "metadata": {
      "needs_background": "light"
     },
     "output_type": "display_data"
    }
   ],
   "source": [
    "# Plot Classification Performance results: Best Score vs. Mean Fit Time (ms)\n",
    "fig2 = plt.figure(figsize=(8,8))\n",
    "\n",
    "# Create a single plot of all results\n",
    "ax = fig2.add_subplot( 1,1,1 )\n",
    "\n",
    "# Create the plot\n",
    "plot_summary(ax, summary_df, False, \"Tuned Classifier Performance - All Datasets/Classifiers\")\n",
    "\n",
    "# Save the image - use it for Summary of Analysis at the top of the notebook\n",
    "plt.savefig('docs/Figure-Hyper_Parameter_Tuning-Combined.png', bbox_inches='tight')"
   ]
  },
  {
   "cell_type": "code",
   "execution_count": 58,
   "metadata": {},
   "outputs": [
    {
     "data": {
      "image/png": "[encoded data removed]",
      "text/plain": [
       "<Figure size 720x720 with 1 Axes>"
      ]
     },
     "metadata": {
      "needs_background": "light"
     },
     "output_type": "display_data"
    }
   ],
   "source": [
    "# Plot Classification Performance results: Best Score vs. Mean Fit Time (ms)\n",
    "fig2 = plt.figure(figsize=(10,10))\n",
    "\n",
    "# Create a single plot of all results\n",
    "ax = fig2.add_subplot( 1,1,1 )\n",
    "\n",
    "# Create the plot\n",
    "plot_summary(ax, summary_df, True, \"Tuned Classifier Performance - All Datasets/Classifiers\")\n",
    "\n",
    "# Save the image - use it for Summary of Analysis at the top of the notebook\n",
    "plt.savefig('docs/Figure-Hyper_Parameter_Tuning-Including_Suboptimal-Combined.png', bbox_inches='tight')"
   ]
  },
  {
   "cell_type": "code",
   "execution_count": 50,
   "metadata": {},
   "outputs": [
    {
     "name": "stdout",
     "output_type": "stream",
     "text": [
      "NOTE: Could not map Dataframe fields to CV Results fields\n",
      "a_x_col = F1, a_y_col = Best Score\n"
     ]
    },
    {
     "data": {
      "image/png": "[encoded data removed]",
      "text/plain": [
       "<Figure size 576x576 with 1 Axes>"
      ]
     },
     "metadata": {
      "needs_background": "light"
     },
     "output_type": "display_data"
    }
   ],
   "source": [
    "# Plot Classification Performance: Best Score vs. F1 results\n",
    "fig3 = plt.figure(figsize=(8,8))\n",
    "\n",
    "# Create a single plot of all results\n",
    "ax = fig3.add_subplot( 1,1,1 )\n",
    "\n",
    "# Create the plot\n",
    "plot_summary(ax, summary_df, True,\n",
    "             \"Tuned Classifier Best Score vs. F1 - All Datasets/Classifiers\",\n",
    "             \"F1\", \"Best Score\")\n",
    "\n",
    "# Save the image - use it for Summary of Analysis at the top of the notebook\n",
    "plt.savefig('docs/Figure-Hyper_Parameter_Tuning-BestScore_vs_F1-Combined.png', bbox_inches='tight')"
   ]
  },
  {
   "cell_type": "code",
   "execution_count": 51,
   "metadata": {},
   "outputs": [
    {
     "name": "stdout",
     "output_type": "stream",
     "text": [
      "NOTE: Could not map Dataframe fields to CV Results fields\n",
      "a_x_col = Recall, a_y_col = Precision\n"
     ]
    },
    {
     "data": {
      "image/png": "[encoded data removed]",
      "text/plain": [
       "<Figure size 576x576 with 1 Axes>"
      ]
     },
     "metadata": {
      "needs_background": "light"
     },
     "output_type": "display_data"
    }
   ],
   "source": [
    "# Plot Classification Performance: Precision vs Recall results\n",
    "fig3 = plt.figure(figsize=(8,8))\n",
    "\n",
    "# Create a single plot of all results\n",
    "ax = fig3.add_subplot( 1,1,1 )\n",
    "\n",
    "# Create the plot\n",
    "plot_summary(ax, summary_df, True,\n",
    "             \"Tuned Classifier Precision vs. Recall - All Datasets/Classifiers\",\n",
    "             \"Recall\", \"Precision\")\n",
    "\n",
    "# Save the image - use it for Summary of Analysis at the top of the notebook\n",
    "plt.savefig('docs/Figure-Hyper_Parameter_Tuning-Precision_vs_Recall-Combined.png', bbox_inches='tight')"
   ]
  },
  {
   "cell_type": "markdown",
   "metadata": {},
   "source": [
    "## Plot each Dataset/Classifer combination on separate subplot"
   ]
  },
  {
   "cell_type": "code",
   "execution_count": 52,
   "metadata": {
    "scrolled": false
   },
   "outputs": [
    {
     "data": {
      "image/png": "[encoded data removed]",
      "text/plain": [
       "<Figure size 1080x2520 with 10 Axes>"
      ]
     },
     "metadata": {
      "needs_background": "light"
     },
     "output_type": "display_data"
    }
   ],
   "source": [
    "# Plot Classification Performance results\n",
    "fig1 = plt.figure(figsize=(15,35))\n",
    "\n",
    "# Create subplots for each Dataset/Classifier combination\n",
    "ds_list = summary_df['Dataset'].unique()\n",
    "cls_list = summary_df['Classifier'].unique()\n",
    "\n",
    "# Create subplots for (# Dataset) columns x (# Classifier) rows\n",
    "ax_list = []\n",
    "i_plot = 0\n",
    "for i_ds in range(len(ds_list)):\n",
    "    for i_cls in range(len(cls_list)):\n",
    "        \n",
    "        # Create the subplot axis and append it to the list of plots\n",
    "        # Rows: Classifiers, Columns: Datasets\n",
    "        # Position of a Plot: (Classifier index) * (size of row) + (Dataset index) + 1        \n",
    "        ax_list.append( fig1.add_subplot(len(cls_list), len(ds_list), i_cls*len(ds_list) + i_ds + 1  ) )\n",
    "\n",
    "        # Get the relevant subset of the dataframe for this subplot\n",
    "        target_df = summary_df[ (summary_df['Dataset'] == ds_list[i_ds])\n",
    "                               & (summary_df['Classifier'] == cls_list[i_cls]) ].reset_index(drop=True)\n",
    "\n",
    "        # Create the plot\n",
    "        plot_summary(ax_list[i_plot], target_df, True)\n",
    "\n",
    "        # Increment the plot counter\n",
    "        i_plot += 1\n",
    "        \n",
    "# Save the image - use it for Summary of Analysis at the top of the notebook\n",
    "plt.savefig('docs/Figure-Hyper_Parameter_Tuning-Subplots.png', bbox_inches='tight')"
   ]
  },
  {
   "cell_type": "code",
   "execution_count": 53,
   "metadata": {},
   "outputs": [
    {
     "data": {
      "text/html": [
       "<div>\n",
       "<style scoped>\n",
       "    .dataframe tbody tr th:only-of-type {\n",
       "        vertical-align: middle;\n",
       "    }\n",
       "\n",
       "    .dataframe tbody tr th {\n",
       "        vertical-align: top;\n",
       "    }\n",
       "\n",
       "    .dataframe thead th {\n",
       "        text-align: right;\n",
       "    }\n",
       "</style>\n",
       "<table border=\"1\" class=\"dataframe\">\n",
       "  <thead>\n",
       "    <tr style=\"text-align: right;\">\n",
       "      <th></th>\n",
       "      <th>Dataset</th>\n",
       "      <th>Classifier</th>\n",
       "      <th>Best Score</th>\n",
       "      <th>F1</th>\n",
       "      <th>Precision</th>\n",
       "      <th>Recall</th>\n",
       "      <th>Mean Fit Time (ms)</th>\n",
       "      <th>Std Dev Fit Time (ms)</th>\n",
       "      <th>Best Parameters</th>\n",
       "    </tr>\n",
       "  </thead>\n",
       "  <tbody>\n",
       "    <tr>\n",
       "      <td>0</td>\n",
       "      <td>Iris</td>\n",
       "      <td>SVC</td>\n",
       "      <td>0.9643</td>\n",
       "      <td>0.9737</td>\n",
       "      <td>0.9737</td>\n",
       "      <td>0.9737</td>\n",
       "      <td>0.2003</td>\n",
       "      <td>0.4005</td>\n",
       "      <td>{'C': 2.0, 'kernel': 'linear', 'max_iter': 100}</td>\n",
       "    </tr>\n",
       "    <tr>\n",
       "      <td>1</td>\n",
       "      <td>Iris</td>\n",
       "      <td>RandomForestClassifier</td>\n",
       "      <td>0.9554</td>\n",
       "      <td>0.9737</td>\n",
       "      <td>0.9737</td>\n",
       "      <td>0.9737</td>\n",
       "      <td>18.8006</td>\n",
       "      <td>2.4828</td>\n",
       "      <td>{'max_depth': 1, 'max_features': None}</td>\n",
       "    </tr>\n",
       "    <tr>\n",
       "      <td>2</td>\n",
       "      <td>Iris</td>\n",
       "      <td>KNeighborsClassifier</td>\n",
       "      <td>0.9464</td>\n",
       "      <td>0.9737</td>\n",
       "      <td>0.9737</td>\n",
       "      <td>0.9737</td>\n",
       "      <td>1.0001</td>\n",
       "      <td>0.0101</td>\n",
       "      <td>{'algorithm': 'auto', 'n_neighbors': 5}</td>\n",
       "    </tr>\n",
       "    <tr>\n",
       "      <td>3</td>\n",
       "      <td>Iris</td>\n",
       "      <td>DecisionTreeClassifier</td>\n",
       "      <td>0.9464</td>\n",
       "      <td>0.9474</td>\n",
       "      <td>0.9474</td>\n",
       "      <td>0.9474</td>\n",
       "      <td>0.4001</td>\n",
       "      <td>0.4900</td>\n",
       "      <td>{'max_depth': None, 'max_features': 'log2'}</td>\n",
       "    </tr>\n",
       "    <tr>\n",
       "      <td>4</td>\n",
       "      <td>Iris</td>\n",
       "      <td>LogisticRegression</td>\n",
       "      <td>0.9196</td>\n",
       "      <td>0.9474</td>\n",
       "      <td>0.9474</td>\n",
       "      <td>0.9474</td>\n",
       "      <td>17.9999</td>\n",
       "      <td>0.6326</td>\n",
       "      <td>{'C': 2.0, 'max_iter': 100, 'solver': 'newton-...</td>\n",
       "    </tr>\n",
       "    <tr>\n",
       "      <td>5</td>\n",
       "      <td>Voice</td>\n",
       "      <td>SVC</td>\n",
       "      <td>0.9798</td>\n",
       "      <td>0.9874</td>\n",
       "      <td>0.9874</td>\n",
       "      <td>0.9874</td>\n",
       "      <td>40.6017</td>\n",
       "      <td>1.3543</td>\n",
       "      <td>{'C': 2.0, 'kernel': 'rbf', 'max_iter': 500}</td>\n",
       "    </tr>\n",
       "    <tr>\n",
       "      <td>6</td>\n",
       "      <td>Voice</td>\n",
       "      <td>RandomForestClassifier</td>\n",
       "      <td>0.9777</td>\n",
       "      <td>0.9798</td>\n",
       "      <td>0.9798</td>\n",
       "      <td>0.9798</td>\n",
       "      <td>66.1996</td>\n",
       "      <td>9.7650</td>\n",
       "      <td>{'max_depth': 8, 'max_features': 'sqrt'}</td>\n",
       "    </tr>\n",
       "    <tr>\n",
       "      <td>7</td>\n",
       "      <td>Voice</td>\n",
       "      <td>LogisticRegression</td>\n",
       "      <td>0.9705</td>\n",
       "      <td>0.9773</td>\n",
       "      <td>0.9773</td>\n",
       "      <td>0.9773</td>\n",
       "      <td>78.0040</td>\n",
       "      <td>4.9391</td>\n",
       "      <td>{'C': 1.0, 'max_iter': 100, 'solver': 'newton-...</td>\n",
       "    </tr>\n",
       "    <tr>\n",
       "      <td>8</td>\n",
       "      <td>Voice</td>\n",
       "      <td>KNeighborsClassifier</td>\n",
       "      <td>0.9676</td>\n",
       "      <td>0.9823</td>\n",
       "      <td>0.9823</td>\n",
       "      <td>0.9823</td>\n",
       "      <td>3.1999</td>\n",
       "      <td>0.4006</td>\n",
       "      <td>{'algorithm': 'auto', 'n_neighbors': 1}</td>\n",
       "    </tr>\n",
       "    <tr>\n",
       "      <td>9</td>\n",
       "      <td>Voice</td>\n",
       "      <td>DecisionTreeClassifier</td>\n",
       "      <td>0.9651</td>\n",
       "      <td>0.9735</td>\n",
       "      <td>0.9735</td>\n",
       "      <td>0.9735</td>\n",
       "      <td>19.8046</td>\n",
       "      <td>0.7494</td>\n",
       "      <td>{'max_depth': 4, 'max_features': None}</td>\n",
       "    </tr>\n",
       "  </tbody>\n",
       "</table>\n",
       "</div>"
      ],
      "text/plain": [
       "  Dataset              Classifier  Best Score      F1  Precision  Recall  \\\n",
       "0    Iris                     SVC      0.9643  0.9737     0.9737  0.9737   \n",
       "1    Iris  RandomForestClassifier      0.9554  0.9737     0.9737  0.9737   \n",
       "2    Iris    KNeighborsClassifier      0.9464  0.9737     0.9737  0.9737   \n",
       "3    Iris  DecisionTreeClassifier      0.9464  0.9474     0.9474  0.9474   \n",
       "4    Iris      LogisticRegression      0.9196  0.9474     0.9474  0.9474   \n",
       "5   Voice                     SVC      0.9798  0.9874     0.9874  0.9874   \n",
       "6   Voice  RandomForestClassifier      0.9777  0.9798     0.9798  0.9798   \n",
       "7   Voice      LogisticRegression      0.9705  0.9773     0.9773  0.9773   \n",
       "8   Voice    KNeighborsClassifier      0.9676  0.9823     0.9823  0.9823   \n",
       "9   Voice  DecisionTreeClassifier      0.9651  0.9735     0.9735  0.9735   \n",
       "\n",
       "   Mean Fit Time (ms)  Std Dev Fit Time (ms)  \\\n",
       "0              0.2003                 0.4005   \n",
       "1             18.8006                 2.4828   \n",
       "2              1.0001                 0.0101   \n",
       "3              0.4001                 0.4900   \n",
       "4             17.9999                 0.6326   \n",
       "5             40.6017                 1.3543   \n",
       "6             66.1996                 9.7650   \n",
       "7             78.0040                 4.9391   \n",
       "8              3.1999                 0.4006   \n",
       "9             19.8046                 0.7494   \n",
       "\n",
       "                                     Best Parameters  \n",
       "0    {'C': 2.0, 'kernel': 'linear', 'max_iter': 100}  \n",
       "1             {'max_depth': 1, 'max_features': None}  \n",
       "2            {'algorithm': 'auto', 'n_neighbors': 5}  \n",
       "3        {'max_depth': None, 'max_features': 'log2'}  \n",
       "4  {'C': 2.0, 'max_iter': 100, 'solver': 'newton-...  \n",
       "5       {'C': 2.0, 'kernel': 'rbf', 'max_iter': 500}  \n",
       "6           {'max_depth': 8, 'max_features': 'sqrt'}  \n",
       "7  {'C': 1.0, 'max_iter': 100, 'solver': 'newton-...  \n",
       "8            {'algorithm': 'auto', 'n_neighbors': 1}  \n",
       "9             {'max_depth': 4, 'max_features': None}  "
      ]
     },
     "execution_count": 53,
     "metadata": {},
     "output_type": "execute_result"
    }
   ],
   "source": [
    "# Create a dataframe to summarize overall results\n",
    "table_df = summary_df[['Dataset', 'Classifier', 'Best Score', 'F1', 'Precision', 'Recall',\n",
    "                       'Mean Fit Time (ms)', 'Std Dev Fit Time (ms)',\n",
    "                       'Best Parameters']]\n",
    "\n",
    "# Sort the results by Dataset and descending Best Score results\n",
    "table_df = table_df.sort_values(\n",
    "    by=['Dataset', 'Best Score', 'F1', 'Precision', 'Recall', 'Mean Fit Time (ms)', 'Std Dev Fit Time (ms)'],\n",
    "    ascending=[True, False, False, False, False, True, True], inplace=False).reset_index(drop=True, inplace=False)\n",
    "\n",
    "# Round the numerical fields\n",
    "table_df = table_df.round( decimals = {\n",
    "    'Best Score': 4,'F1': 4, 'Precision': 4, 'Recall': 4, 'Mean Fit Time (ms)': 4, 'Std Dev Fit Time (ms)': 4\n",
    "})\n",
    "\n",
    "# Convert the Best Parameters dictionary to a string\n",
    "table_df['Best Parameters'] = table_df['Best Parameters'].map(lambda x: str(x) )\n",
    "table_df"
   ]
  },
  {
   "cell_type": "code",
   "execution_count": null,
   "metadata": {},
   "outputs": [],
   "source": []
  },
  {
   "cell_type": "code",
   "execution_count": 54,
   "metadata": {},
   "outputs": [
    {
     "data": {
      "image/png": "[encoded data removed]",
      "text/plain": [
       "<Figure size 432x288 with 1 Axes>"
      ]
     },
     "metadata": {
      "needs_background": "light"
     },
     "output_type": "display_data"
    }
   ],
   "source": [
    "# Table: Performance results\n",
    "# fig_table_1 = plt.figure(figsize=(15,12))\n",
    "# fig_table_1 = plt.figure(figsize=(15,10))\n",
    "fig_table_1 = plt.figure()\n",
    "\n",
    "# Create axes for this table, but with no visible frame\n",
    "ax_table = fig_table_1.add_subplot(111, frame_on=False)\n",
    "\n",
    "# Hide the x and y axes\n",
    "ax_table.xaxis.set_visible(False)\n",
    "ax_table.yaxis.set_visible(False)\n",
    "\n",
    "# Create the table\n",
    "results_table = plt.table(\n",
    "            cellText=table_df.values,\n",
    "#             colWidths = [0.2]*len(table_df.columns),\n",
    "#             rowLabels=table_df.index,\n",
    "            colLabels=table_df.columns,\n",
    "            cellLoc = 'center',\n",
    "            rowLoc = 'center',\n",
    "            loc='top')\n",
    "\n",
    "# Set the fontsize to something readable\n",
    "results_table.auto_set_font_size(False)\n",
    "results_table.set_fontsize(12)\n",
    "\n",
    "# Set the column widths automatically\n",
    "results_table.auto_set_column_width(True)\n",
    "\n",
    "# Scale the table\n",
    "results_table.scale(4,4)\n",
    "\n",
    "# Show the resulting table\n",
    "plt.show()\n",
    "        \n",
    "# Save the image - use it for Summary of Analysis at the top of the notebook\n",
    "fig_table_1.savefig('docs/Table-Hyper_Parameter_Tuning.png', bbox_inches='tight') "
   ]
  },
  {
   "cell_type": "code",
   "execution_count": null,
   "metadata": {},
   "outputs": [],
   "source": []
  }
 ],
 "metadata": {
  "anaconda-cloud": {},
  "kernelspec": {
   "display_name": "Python 3",
   "language": "python",
   "name": "python3"
  },
  "language_info": {
   "codemirror_mode": {
    "name": "ipython",
    "version": 3
   },
   "file_extension": ".py",
   "mimetype": "text/x-python",
   "name": "python",
   "nbconvert_exporter": "python",
   "pygments_lexer": "ipython3",
   "version": "3.6.9"
  },
  "nbpresent": {
   "slides": {
    "03210a56-863e-4749-b7ba-ed75bfceceee": {
     "id": "03210a56-863e-4749-b7ba-ed75bfceceee",
     "prev": "86b3b05f-6e9a-49dc-8a83-97f72c348c5f",
     "regions": {
      "2be9481c-cff7-4f32-b835-90f2a2cb989a": {
       "attrs": {
        "height": 0.8,
        "width": 0.8,
        "x": 0.1,
        "y": 0.1
       },
       "content": {
        "cell": "46550b81-7dd8-4efc-b710-0f10002c9f2b",
        "part": "whole"
       },
       "id": "2be9481c-cff7-4f32-b835-90f2a2cb989a"
      },
      "3f484569-30ec-4529-8d3c-ac88b8c6dbfb": {
       "attrs": {
        "height": 0.4,
        "width": 0.8,
        "x": 0.1,
        "y": 0.5
       },
       "content": {
        "cell": "2b83c32a-d7e2-4db6-b45f-afbbf028fe90",
        "part": "whole"
       },
       "id": "3f484569-30ec-4529-8d3c-ac88b8c6dbfb"
      }
     }
    },
    "22531930-3fc8-45ff-a4f1-32e94c1d1455": {
     "id": "22531930-3fc8-45ff-a4f1-32e94c1d1455",
     "prev": "8eb735f6-11af-4f77-a4ed-b637fb18ac08",
     "regions": {
      "1407c818-c9fd-470e-8260-6b6904d888de": {
       "attrs": {
        "height": 0.8,
        "width": 0.8,
        "x": 0.1,
        "y": 0.1
       },
       "content": {
        "cell": "664c64ef-5517-4725-95cb-874bbc7711c7",
        "part": "whole"
       },
       "id": "1407c818-c9fd-470e-8260-6b6904d888de"
      }
     }
    },
    "29c55765-6994-4dbf-b82f-117b4f1e0cee": {
     "id": "29c55765-6994-4dbf-b82f-117b4f1e0cee",
     "prev": "b7c25bc1-4dd7-421b-9951-0c0c403c176d",
     "regions": {
      "44583f15-ec4f-4aec-8e7c-f01652e954fc": {
       "attrs": {
        "height": 0.8,
        "width": 0.8,
        "x": 0.1,
        "y": 0.1
       },
       "content": {
        "cell": "7c23961d-86fe-4d07-bc58-6d61f03c3731",
        "part": "whole"
       },
       "id": "44583f15-ec4f-4aec-8e7c-f01652e954fc"
      }
     }
    },
    "39c5764b-ab2c-4aae-8500-dc39319e4d38": {
     "id": "39c5764b-ab2c-4aae-8500-dc39319e4d38",
     "prev": "22531930-3fc8-45ff-a4f1-32e94c1d1455",
     "regions": {
      "d0237596-8095-44dc-81c6-6d9c6b204684": {
       "attrs": {
        "height": 0.8,
        "width": 0.8,
        "x": 0.1,
        "y": 0.1
       },
       "content": {
        "cell": "348e164e-a000-4def-92c0-db93f9a617a1",
        "part": "whole"
       },
       "id": "d0237596-8095-44dc-81c6-6d9c6b204684"
      }
     }
    },
    "39e950f1-f2c4-422a-8f45-835c5c61e7e0": {
     "id": "39e950f1-f2c4-422a-8f45-835c5c61e7e0",
     "prev": "4b5f1824-db4a-4ef3-9515-a88d3f2276c1",
     "regions": {
      "0a72cc48-c38f-4e8c-94d3-3198eccde68a": {
       "attrs": {
        "height": 0.8,
        "width": 0.8,
        "x": 0.1,
        "y": 0.1
       },
       "content": {
        "cell": "c3820b22-bf55-4dca-ba8b-f08060567b6e",
        "part": "whole"
       },
       "id": "0a72cc48-c38f-4e8c-94d3-3198eccde68a"
      },
      "b49c6eca-318f-41b8-a7a5-a620d18f639c": {
       "attrs": {
        "height": 0.4,
        "width": 0.8,
        "x": 0.1,
        "y": 0.5
       },
       "content": {
        "cell": "aeeeb44d-7825-4050-b7ba-70813bd3396b",
        "part": "whole"
       },
       "id": "b49c6eca-318f-41b8-a7a5-a620d18f639c"
      }
     }
    },
    "4792c0cc-ccd4-48bf-9b0e-a3c1f0f3008d": {
     "id": "4792c0cc-ccd4-48bf-9b0e-a3c1f0f3008d",
     "prev": "39c5764b-ab2c-4aae-8500-dc39319e4d38",
     "regions": {
      "d4adae26-ff2f-4a81-ad91-fd3a9bfd965c": {
       "attrs": {
        "height": 0.4,
        "width": 0.8,
        "x": 0.1,
        "y": 0.5
       },
       "content": {
        "cell": "4d6b8af6-438e-4034-bda1-1f977cf12441",
        "part": "whole"
       },
       "id": "d4adae26-ff2f-4a81-ad91-fd3a9bfd965c"
      },
      "d75a8261-ee89-4f4d-b388-2f429e112f44": {
       "attrs": {
        "height": 0.8,
        "width": 0.8,
        "x": 0.1,
        "y": 0.1
       },
       "content": {
        "cell": "a3b6e99c-2c85-47da-b29b-3b53c3c309b8",
        "part": "whole"
       },
       "id": "d75a8261-ee89-4f4d-b388-2f429e112f44"
      }
     }
    },
    "4b5f1824-db4a-4ef3-9515-a88d3f2276c1": {
     "id": "4b5f1824-db4a-4ef3-9515-a88d3f2276c1",
     "prev": "e92a9020-6631-400a-aa50-46c1fa0a5f0c",
     "regions": {
      "2bd81133-11e3-48df-bf12-2d0a57949bca": {
       "attrs": {
        "height": 0.8,
        "width": 0.8,
        "x": 0.1,
        "y": 0.1
       },
       "content": {
        "cell": "69fab88f-0864-47cc-933b-eaffb638cbf3",
        "part": "whole"
       },
       "id": "2bd81133-11e3-48df-bf12-2d0a57949bca"
      },
      "d3322861-28ab-4f1e-8a1f-3a7f4d3da8c1": {
       "attrs": {
        "height": 0.4,
        "width": 0.8,
        "x": 0.1,
        "y": 0.5
       },
       "content": {
        "cell": "3810c2af-fdbe-4f01-bc9f-2bb1a8ae70c6",
        "part": "whole"
       },
       "id": "d3322861-28ab-4f1e-8a1f-3a7f4d3da8c1"
      }
     }
    },
    "57992fb9-2f74-4e8e-8772-7b9f04606a56": {
     "id": "57992fb9-2f74-4e8e-8772-7b9f04606a56",
     "prev": "595093b4-3f86-406c-abb5-aea78e1241b3",
     "regions": {
      "3b3c8191-9f7e-4ab2-afac-b2b47008484a": {
       "attrs": {
        "height": 0.8,
        "width": 0.8,
        "x": 0.1,
        "y": 0.1
       },
       "content": {
        "cell": "a6d0bdff-9bba-472e-b354-da47b8761dbe",
        "part": "whole"
       },
       "id": "3b3c8191-9f7e-4ab2-afac-b2b47008484a"
      }
     }
    },
    "5907f515-df93-4e86-82c6-b8721b6e6346": {
     "id": "5907f515-df93-4e86-82c6-b8721b6e6346",
     "prev": "39e950f1-f2c4-422a-8f45-835c5c61e7e0",
     "regions": {
      "22f9005a-ed7a-4399-b501-497565ada2da": {
       "attrs": {
        "height": 0.8,
        "width": 0.8,
        "x": 0.1,
        "y": 0.1
       },
       "content": {
        "cell": "2e255efc-6ae1-4554-b32f-9400b47007c9",
        "part": "whole"
       },
       "id": "22f9005a-ed7a-4399-b501-497565ada2da"
      },
      "82d64cef-48f7-413c-ad01-e7fa2921f7c0": {
       "attrs": {
        "height": 0.4,
        "width": 0.8,
        "x": 0.1,
        "y": 0.5
       },
       "content": {
        "cell": "711a40c8-c479-448b-a3bc-5c7ff8369838",
        "part": "whole"
       },
       "id": "82d64cef-48f7-413c-ad01-e7fa2921f7c0"
      },
      "d943d3ea-6cd3-4d4a-8914-7fea0231efda": {
       "attrs": {
        "height": 0.4,
        "width": 0.8,
        "x": 0.1,
        "y": 0.5
       },
       "content": {
        "cell": "9bfbb27b-cae0-4feb-809a-77718bb2e6a3",
        "part": "whole"
       },
       "id": "d943d3ea-6cd3-4d4a-8914-7fea0231efda"
      }
     }
    },
    "595093b4-3f86-406c-abb5-aea78e1241b3": {
     "id": "595093b4-3f86-406c-abb5-aea78e1241b3",
     "prev": "5907f515-df93-4e86-82c6-b8721b6e6346",
     "regions": {
      "3366a1dc-6c33-45f0-a97f-a2744ed0587f": {
       "attrs": {
        "height": 0.8,
        "width": 0.8,
        "x": 0.1,
        "y": 0.1
       },
       "content": {
        "cell": "e54b79a1-316d-4fd1-ad5f-6cd580b51f99",
        "part": "whole"
       },
       "id": "3366a1dc-6c33-45f0-a97f-a2744ed0587f"
      },
      "40b6dba8-5994-4fd0-9ce5-9d36f3bb9f93": {
       "attrs": {
        "height": 0.4,
        "width": 0.8,
        "x": 0.1,
        "y": 0.5
       },
       "content": {
        "cell": "3d860568-b048-40f2-a64d-f585211d6c1c",
        "part": "whole"
       },
       "id": "40b6dba8-5994-4fd0-9ce5-9d36f3bb9f93"
      }
     }
    },
    "76838eab-c2c3-4ff3-b09f-854a7c74c6d4": {
     "id": "76838eab-c2c3-4ff3-b09f-854a7c74c6d4",
     "prev": null,
     "regions": {
      "b0032c00-1d89-4c94-a7a0-488f243c381e": {
       "attrs": {
        "height": 0.8,
        "width": 0.8,
        "x": 0.1,
        "y": 0.1
       },
       "content": {
        "cell": "0dc0cdcb-d8df-4a29-a0d2-a3cf6cc889ce",
        "part": "whole"
       },
       "id": "b0032c00-1d89-4c94-a7a0-488f243c381e"
      }
     }
    },
    "7a25817a-e5bc-4021-9c6b-61bc74dbdb92": {
     "id": "7a25817a-e5bc-4021-9c6b-61bc74dbdb92",
     "prev": "b04719fc-934a-404b-a642-dc732a3d1589",
     "regions": {
      "38d56409-500a-45cf-8e79-722d68d8fc38": {
       "attrs": {
        "height": 0.8,
        "width": 0.8,
        "x": 0.1,
        "y": 0.1
       },
       "content": {
        "cell": "335f050d-99af-43b3-a5ec-69fe896e48e2",
        "part": "whole"
       },
       "id": "38d56409-500a-45cf-8e79-722d68d8fc38"
      },
      "c838cb6d-409c-4c17-a1eb-3d7dc6aab32b": {
       "attrs": {
        "height": 0.4,
        "width": 0.8,
        "x": 0.1,
        "y": 0.5
       },
       "content": {
        "cell": "19ca6a7e-4b5d-4b0f-88c5-e68634abb65d",
        "part": "whole"
       },
       "id": "c838cb6d-409c-4c17-a1eb-3d7dc6aab32b"
      }
     }
    },
    "86b3b05f-6e9a-49dc-8a83-97f72c348c5f": {
     "id": "86b3b05f-6e9a-49dc-8a83-97f72c348c5f",
     "prev": "57992fb9-2f74-4e8e-8772-7b9f04606a56",
     "regions": {
      "49a41ef6-224d-46c1-bb81-254b8a4cee88": {
       "attrs": {
        "height": 0.8,
        "width": 0.8,
        "x": 0.1,
        "y": 0.1
       },
       "content": {
        "cell": "d7df6fa0-ce96-4073-b95d-ce78b3f4fdf1",
        "part": "whole"
       },
       "id": "49a41ef6-224d-46c1-bb81-254b8a4cee88"
      },
      "7ce316ab-4799-4e15-b095-374da21bc1aa": {
       "attrs": {
        "height": 0.4,
        "width": 0.8,
        "x": 0.1,
        "y": 0.5
       },
       "content": {
        "cell": "4a5226b5-d431-4cbe-86a6-291952a45a37",
        "part": "whole"
       },
       "id": "7ce316ab-4799-4e15-b095-374da21bc1aa"
      },
      "a7d701c6-61e3-48e3-8e0d-a4b318aef7d8": {
       "attrs": {
        "height": 0.4,
        "width": 0.8,
        "x": 0.1,
        "y": 0.5
       },
       "content": {
        "cell": "5e425283-82de-4c48-b2ae-31a1d6983849",
        "part": "whole"
       },
       "id": "a7d701c6-61e3-48e3-8e0d-a4b318aef7d8"
      },
      "e180cf23-71a7-46a8-8598-86a079bd7d78": {
       "attrs": {
        "height": 0.4,
        "width": 0.8,
        "x": 0.1,
        "y": 0.5
       },
       "content": {
        "cell": "28aaab45-1e14-4db5-9d2c-63b239cafe13",
        "part": "whole"
       },
       "id": "e180cf23-71a7-46a8-8598-86a079bd7d78"
      }
     }
    },
    "8eb735f6-11af-4f77-a4ed-b637fb18ac08": {
     "id": "8eb735f6-11af-4f77-a4ed-b637fb18ac08",
     "prev": "7a25817a-e5bc-4021-9c6b-61bc74dbdb92",
     "regions": {
      "ca38ef02-01f9-42cb-9e35-d67f8d665597": {
       "attrs": {
        "height": 0.4,
        "width": 0.8,
        "x": 0.1,
        "y": 0.5
       },
       "content": {
        "cell": "69b638ed-ed32-4824-bb81-df958c215a33",
        "part": "whole"
       },
       "id": "ca38ef02-01f9-42cb-9e35-d67f8d665597"
      },
      "fc52547b-a8f8-40e2-9397-5b18ca2b71b3": {
       "attrs": {
        "height": 0.8,
        "width": 0.8,
        "x": 0.1,
        "y": 0.1
       },
       "content": {
        "cell": "7317e4f2-150e-4336-ac48-d82641441aa8",
        "part": "whole"
       },
       "id": "fc52547b-a8f8-40e2-9397-5b18ca2b71b3"
      }
     }
    },
    "af2f5933-b31d-4d30-b08a-e4c09432b9bb": {
     "id": "af2f5933-b31d-4d30-b08a-e4c09432b9bb",
     "prev": "29c55765-6994-4dbf-b82f-117b4f1e0cee",
     "regions": {
      "479b436f-50bb-4c3a-9a4e-748e85eacde6": {
       "attrs": {
        "height": 0.8,
        "width": 0.8,
        "x": 0.1,
        "y": 0.1
       },
       "content": {
        "cell": "6d53481c-69ff-41a0-937e-4e8a39e2b2b5",
        "part": "whole"
       },
       "id": "479b436f-50bb-4c3a-9a4e-748e85eacde6"
      },
      "a02a5bdc-cab5-4ddc-aa9d-8ee5e0db6bd4": {
       "attrs": {
        "height": 0.4,
        "width": 0.8,
        "x": 0.1,
        "y": 0.5
       },
       "content": {
        "cell": "b0f8400f-71e1-4892-9012-88e54c053a36",
        "part": "whole"
       },
       "id": "a02a5bdc-cab5-4ddc-aa9d-8ee5e0db6bd4"
      }
     }
    },
    "b04719fc-934a-404b-a642-dc732a3d1589": {
     "id": "b04719fc-934a-404b-a642-dc732a3d1589",
     "prev": "af2f5933-b31d-4d30-b08a-e4c09432b9bb",
     "regions": {
      "701cdc94-3399-40dc-8e45-10d6edbf0959": {
       "attrs": {
        "height": 0.4,
        "width": 0.8,
        "x": 0.1,
        "y": 0.5
       },
       "content": {
        "cell": "fa78fa75-54cf-40d3-b52c-4b51c5070d9a",
        "part": "whole"
       },
       "id": "701cdc94-3399-40dc-8e45-10d6edbf0959"
      },
      "81f01069-a0c6-4ab1-98d1-d465e96aac6d": {
       "attrs": {
        "height": 0.8,
        "width": 0.8,
        "x": 0.1,
        "y": 0.1
       },
       "content": {
        "cell": "fb58a52c-71e9-402d-af86-eab194cf8050",
        "part": "whole"
       },
       "id": "81f01069-a0c6-4ab1-98d1-d465e96aac6d"
      },
      "ae73fc9b-89cf-4405-ab54-34e6c8b73a19": {
       "attrs": {
        "height": 0.4,
        "width": 0.8,
        "x": 0.1,
        "y": 0.5
       },
       "content": {
        "cell": "241f356d-567a-421d-b27c-7ce2d146d1bb",
        "part": "whole"
       },
       "id": "ae73fc9b-89cf-4405-ab54-34e6c8b73a19"
      }
     }
    },
    "b7c25bc1-4dd7-421b-9951-0c0c403c176d": {
     "id": "b7c25bc1-4dd7-421b-9951-0c0c403c176d",
     "prev": "76838eab-c2c3-4ff3-b09f-854a7c74c6d4",
     "regions": {
      "47f524f5-68f8-49df-9a61-61eab6cab03c": {
       "attrs": {
        "height": 0.4,
        "width": 0.8,
        "x": 0.1,
        "y": 0.5
       },
       "content": {
        "cell": "966e050d-5739-4ef9-a2ae-9a4957e14f3e",
        "part": "whole"
       },
       "id": "47f524f5-68f8-49df-9a61-61eab6cab03c"
      },
      "4b3ba01a-29e7-4e67-ac78-988162f7dde9": {
       "attrs": {
        "height": 0.8,
        "width": 0.8,
        "x": 0.1,
        "y": 0.1
       },
       "content": {
        "cell": "91401f60-44eb-42b2-86ea-c82b5e955ace",
        "part": "whole"
       },
       "id": "4b3ba01a-29e7-4e67-ac78-988162f7dde9"
      },
      "a47d9662-0a49-4b84-aae0-908067552ebd": {
       "attrs": {
        "height": 0.4,
        "width": 0.8,
        "x": 0.1,
        "y": 0.5
       },
       "content": {
        "cell": "6de4dae8-c949-4927-89a3-9741aba83e8d",
        "part": "whole"
       },
       "id": "a47d9662-0a49-4b84-aae0-908067552ebd"
      },
      "e64668fe-aafe-4e24-a46d-6a6266eeee77": {
       "attrs": {
        "height": 0.4,
        "width": 0.8,
        "x": 0.1,
        "y": 0.5
       },
       "content": {
        "cell": "7068c96d-f8f0-42bb-bdfd-dcbf9335323c",
        "part": "whole"
       },
       "id": "e64668fe-aafe-4e24-a46d-6a6266eeee77"
      }
     }
    },
    "d3ecec0a-67fe-4558-a268-50695fd7fe1c": {
     "id": "d3ecec0a-67fe-4558-a268-50695fd7fe1c",
     "prev": "fcda7de6-cb93-4b63-9dea-d5f23fecd968",
     "regions": {
      "b268bb57-2543-4b91-b9c0-84aa3cf09d5c": {
       "attrs": {
        "height": 0.8,
        "width": 0.8,
        "x": 0.1,
        "y": 0.1
       },
       "content": {
        "cell": "67aab8fa-45cd-4ede-8285-e3dad22d8b16",
        "part": "whole"
       },
       "id": "b268bb57-2543-4b91-b9c0-84aa3cf09d5c"
      }
     }
    },
    "e92a9020-6631-400a-aa50-46c1fa0a5f0c": {
     "id": "e92a9020-6631-400a-aa50-46c1fa0a5f0c",
     "prev": "ee94ae9b-9e13-414c-a017-db1d8913aaa8",
     "regions": {
      "bb15b4ea-132f-4146-ab77-93a4969c2904": {
       "attrs": {
        "height": 0.8,
        "width": 0.8,
        "x": 0.1,
        "y": 0.1
       },
       "content": {
        "cell": "7d5d2002-5cae-4d5f-8e2e-d5eaf5cd17da",
        "part": "whole"
       },
       "id": "bb15b4ea-132f-4146-ab77-93a4969c2904"
      }
     }
    },
    "ee94ae9b-9e13-414c-a017-db1d8913aaa8": {
     "id": "ee94ae9b-9e13-414c-a017-db1d8913aaa8",
     "prev": "f8fce519-927e-4fd0-88d8-23ece4403794",
     "regions": {
      "0b578bb1-2cd1-480b-8d65-dde0861851cb": {
       "attrs": {
        "height": 0.8,
        "width": 0.8,
        "x": 0.1,
        "y": 0.1
       },
       "content": {
        "cell": "f1c699bc-6717-4eb9-8e6d-66d433ba4618",
        "part": "whole"
       },
       "id": "0b578bb1-2cd1-480b-8d65-dde0861851cb"
      }
     }
    },
    "f8fce519-927e-4fd0-88d8-23ece4403794": {
     "id": "f8fce519-927e-4fd0-88d8-23ece4403794",
     "prev": "4792c0cc-ccd4-48bf-9b0e-a3c1f0f3008d",
     "regions": {
      "7510ae01-fe22-48b0-92cb-29b880cc85fc": {
       "attrs": {
        "height": 0.8,
        "width": 0.8,
        "x": 0.1,
        "y": 0.1
       },
       "content": {
        "cell": "e61ba538-5828-4a5a-a2c5-4fcceac35889",
        "part": "whole"
       },
       "id": "7510ae01-fe22-48b0-92cb-29b880cc85fc"
      }
     }
    },
    "fcda7de6-cb93-4b63-9dea-d5f23fecd968": {
     "id": "fcda7de6-cb93-4b63-9dea-d5f23fecd968",
     "prev": "03210a56-863e-4749-b7ba-ed75bfceceee",
     "regions": {
      "43f5b3bd-9e0c-4a98-a18c-1b9f7beaa3b8": {
       "attrs": {
        "height": 0.8,
        "width": 0.8,
        "x": 0.1,
        "y": 0.1
       },
       "content": {
        "cell": "318099ba-93dd-4c2c-a3ee-fc6622c472c8",
        "part": "whole"
       },
       "id": "43f5b3bd-9e0c-4a98-a18c-1b9f7beaa3b8"
      },
      "dbab9920-f08a-457a-949d-2c8289707798": {
       "attrs": {
        "height": 0.4,
        "width": 0.8,
        "x": 0.1,
        "y": 0.5
       },
       "content": {
        "cell": "8bb35ef7-00cc-4ad9-9dd4-6fac480df38e",
        "part": "whole"
       },
       "id": "dbab9920-f08a-457a-949d-2c8289707798"
      }
     }
    }
   },
   "themes": {}
  },
  "varInspector": {
   "cols": {
    "lenName": 16,
    "lenType": 16,
    "lenVar": 40
   },
   "kernels_config": {
    "python": {
     "delete_cmd_postfix": "",
     "delete_cmd_prefix": "del ",
     "library": "var_list.py",
     "varRefreshCmd": "print(var_dic_list())"
    },
    "r": {
     "delete_cmd_postfix": ") ",
     "delete_cmd_prefix": "rm(",
     "library": "var_list.r",
     "varRefreshCmd": "cat(var_dic_list()) "
    }
   },
   "types_to_exclude": [
    "module",
    "function",
    "builtin_function_or_method",
    "instance",
    "_Feature"
   ],
   "window_display": false
  }
 },
 "nbformat": 4,
 "nbformat_minor": 2
}
