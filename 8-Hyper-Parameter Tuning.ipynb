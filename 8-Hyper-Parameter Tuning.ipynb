{
 "cells": [
  {
   "cell_type": "markdown",
   "metadata": {},
   "source": [
    "# Hyper-Parameter Tuning (with Decision Trees and Logistic Regression)"
   ]
  },
  {
   "cell_type": "markdown",
   "metadata": {},
   "source": [
    "This Jupyter Notebook uses hyper-parameter tuning to optimize model performance, with Logistic Regression and Decision Tree models used for classification and performance evaluated using cross-validation scoring.  Parameters were tuned using a GridSearch estimator.\n",
    "\n",
    "## Approach\n",
    "* Evaluations of classification performed were performed using 2 sample datasets:\n",
    "    * sklearn's Iris sample dataset, consisting of 150 sample data points for 3 varieties of iris flowers\n",
    "    * voice dataset, containing 3168 sample data points of male and female speakers\n",
    "\n",
    "* Hyper-parameter tuning was performed using a GridSearch estimator for each classification model:\n",
    "    \n",
    "* Parameters providing the best scores and associated scores were plotted\n",
    "    \n",
    "## Results\n",
    "* Refer to the Figure and Table of results provided below\n",
    "* TBD...\n",
    "\n",
    "<!-- \n",
    "* The Logistic Regression classifier showed little variation between model scores with similar model parameters when scoring was performed with or without cross-validation.  The \"inflation\" of the direct score vs. cross-validation score was less than 1.6% for this classifier, and less than 0.4% with the Voice dataset.\n",
    "* For the Decision Tree classifier, model performance was scored up to 9.4% higher using the direct model score vs. a cross-validation score.\n",
    "* Additional investigation comparing (cross validation score - testing data score) vs. (training data score - testing data score) would provide a view of which scoring approach provides an estimate closest to the testing data score.\n",
    "-->"
   ]
  },
  {
   "cell_type": "markdown",
   "metadata": {},
   "source": [
    "\n",
    "| Figure: Cross-Validation Scoring for Decision Tree and Logistic Regression |\n",
    "| :----------: |\n",
    "| ![Figure: Cross-Validation Scoring for Decision Tree and Logistic Regression is Loading...](docs/Figure-Cross_Validation_vs_Direct.png \"Figure: Cross-Validation Scoring for Decision Tree and Logistic Regression\") |\n",
    "\n",
    "| Table: Cross-Validation Scoring for Decision Tree and Logistic Regression |\n",
    "| :----------: |\n",
    "| ![Table: Cross-Validation Model Performance for Decision Tree and Logistic Regression is Loading...](docs/Table-Cross_Validation_vs_Direct.png \"Table: Cross-Validation Scoring for Decision Tree and Logistic Regression\") |\n"
   ]
  },
  {
   "cell_type": "markdown",
   "metadata": {},
   "source": [
    "# Dependencies"
   ]
  },
  {
   "cell_type": "code",
   "execution_count": 1,
   "metadata": {
    "nbpresent": {
     "id": "828c2e12-b1c6-4994-8f55-ce86373b6c97"
    },
    "scrolled": true,
    "slideshow": {
     "slide_type": "fragment"
    }
   },
   "outputs": [
    {
     "name": "stderr",
     "output_type": "stream",
     "text": [
      "C:\\Users\\Jeff\\AppData\\Local\\conda\\conda\\envs\\PythonData\\lib\\site-packages\\sklearn\\ensemble\\weight_boosting.py:29: DeprecationWarning: numpy.core.umath_tests is an internal NumPy module and should not be imported. It will be removed in a future NumPy release.\n",
      "  from numpy.core.umath_tests import inner1d\n"
     ]
    }
   ],
   "source": [
    "%matplotlib inline\n",
    "# %matplotlib notebook\n",
    "import matplotlib.pyplot as plt\n",
    "from mpl_toolkits.mplot3d import Axes3D    # Support 3D graphing\n",
    "\n",
    "import numpy as np\n",
    "import pandas as pd\n",
    "from pandas.plotting import table\n",
    "import math\n",
    "\n",
    "from pprint import pprint\n",
    "\n",
    "# Visualization\n",
    "import graphviz\n",
    "import pydotplus\n",
    "from IPython.display import Image\n",
    "\n",
    "# Machine Learning - Linear Models - Regression\n",
    "from sklearn.linear_model import LinearRegression  # TBD\n",
    "from sklearn.linear_model import Lasso             # TBD\n",
    "from sklearn.linear_model import Ridge             # TBD\n",
    "from sklearn.linear_model import ElasticNet        # TBD\n",
    "\n",
    "# Machine Learning - Linear Models - Classification\n",
    "from sklearn.linear_model import LogisticRegression   # Logistic Regression Classifier\n",
    "\n",
    "# Machine Learning - Decision Trees and Random Forests - Classification\n",
    "from sklearn import tree                             # Decision Tree Classifier\n",
    "from sklearn.ensemble import RandomForestClassifier  # Random Forest Classifier\n",
    "\n",
    "# Machine Learning - Support Vector Machines - Classification\n",
    "from sklearn import svm                              # Support Vector Machine Classifier\n",
    "\n",
    "# Machine Learning - GridSearch for hyper-parameter tuning\n",
    "from sklearn.model_selection import GridSearchCV\n",
    "\n",
    "\n",
    "# Machine Learning - Data Preparation and Pre-Processing\n",
    "from sklearn.model_selection import train_test_split # Split data into training and testing samples\n",
    "from sklearn.model_selection import cross_val_score  # Score a model using k-fold or other cross validation\n",
    "\n",
    "from sklearn.preprocessing import OneHotEncoder   # Convert categorical integer features (X) to One-Hot encoded values\n",
    "from sklearn.preprocessing import LabelEncoder    # Convert categorical labeled values to categorical integer values\n",
    "from sklearn.preprocessing import LabelBinarizer  # Convert categorical labeled values to Binary encoded values\n",
    "\n",
    "from sklearn.preprocessing import StandardScaler  # Scale numerical features to standard normal distribution\n",
    "from sklearn.preprocessing import MinMaxScaler    # Scale numerical values based upon mix/max values\n",
    "\n",
    "# Machine Learning - Quantify Model Performance\n",
    "from sklearn.metrics import mean_squared_error   # Mean Squared Error (MSE) metric\n",
    "from sklearn.metrics import r2_score             # R-squared (Coefficient of Determination) metric\n",
    "from sklearn.metrics import confusion_matrix     # Generate a confusion matrix (actual vs. predicted counts)\n",
    "from sklearn.metrics import classification_report # Calculate metrics for prediction performance\n",
    "\n",
    "# Machine Learning - Dataset Generation\n",
    "from sklearn.datasets import make_regression     # Generate linear data\n",
    "from sklearn.datasets import make_s_curve        # Generate nonlinear data\n",
    "from sklearn.datasets import make_blobs          # Generate blobs for classification\n",
    "from sklearn.datasets import make_circles        # Generate circles for classification\n",
    "from sklearn.datasets import load_iris           # Sample multi-class dataset for classification"
   ]
  },
  {
   "cell_type": "code",
   "execution_count": null,
   "metadata": {},
   "outputs": [],
   "source": []
  },
  {
   "cell_type": "markdown",
   "metadata": {},
   "source": [
    "# Cross-Validation using Decision Trees and Logistic Regression (with Scaling)"
   ]
  },
  {
   "cell_type": "code",
   "execution_count": null,
   "metadata": {},
   "outputs": [],
   "source": []
  },
  {
   "cell_type": "markdown",
   "metadata": {},
   "source": [
    "# Iris Dataset"
   ]
  },
  {
   "cell_type": "code",
   "execution_count": 2,
   "metadata": {},
   "outputs": [
    {
     "name": "stdout",
     "output_type": "stream",
     "text": [
      "Iris dict_keys(['data', 'target', 'target_names', 'DESCR', 'feature_names'])\n",
      "Feature Names: ['sepal length (cm)', 'sepal width (cm)', 'petal length (cm)', 'petal width (cm)']\n",
      "Target Names: ['setosa' 'versicolor' 'virginica']\n"
     ]
    }
   ],
   "source": [
    "# Import the Iris sample dataset as a dictionary\n",
    "iris = load_iris()\n",
    "\n",
    "print( f\"Iris {iris.keys()}\" )\n",
    "print( f\"Feature Names: {iris.feature_names}\" )\n",
    "print( f\"Target Names: {iris.target_names}\" )"
   ]
  },
  {
   "cell_type": "code",
   "execution_count": 3,
   "metadata": {},
   "outputs": [
    {
     "name": "stdout",
     "output_type": "stream",
     "text": [
      "(150, 4) (150,)\n"
     ]
    }
   ],
   "source": [
    "# Assign data and target variables\n",
    "X = iris.data\n",
    "y = iris.target\n",
    "print( X.shape, y.shape )"
   ]
  },
  {
   "cell_type": "code",
   "execution_count": 4,
   "metadata": {},
   "outputs": [],
   "source": [
    "# Split the data using train_test_split\n",
    "X_train, X_test, y_train, y_test = train_test_split(X, y, random_state=1, stratify=y)"
   ]
  },
  {
   "cell_type": "code",
   "execution_count": 5,
   "metadata": {},
   "outputs": [
    {
     "name": "stdout",
     "output_type": "stream",
     "text": [
      "(112, 1) (38, 1)\n"
     ]
    }
   ],
   "source": [
    "# Reshape the outputs to provide a N by 1 vector (vs. array of size N)\n",
    "y_train = y_train.reshape(-1,1)\n",
    "y_test = y_test.reshape(-1,1)\n",
    "print(y_train.shape, y_test.shape)"
   ]
  },
  {
   "cell_type": "code",
   "execution_count": 6,
   "metadata": {},
   "outputs": [
    {
     "name": "stderr",
     "output_type": "stream",
     "text": [
      "C:\\Users\\Jeff\\AppData\\Local\\conda\\conda\\envs\\PythonData\\lib\\site-packages\\sklearn\\utils\\validation.py:475: DataConversionWarning: Data with input dtype int32 was converted to float64 by StandardScaler.\n",
      "  warnings.warn(msg, DataConversionWarning)\n"
     ]
    }
   ],
   "source": [
    "# Use the training data to create a scaler to standard normal distributions for each numerical feature and output\n",
    "X_scaler = StandardScaler().fit(X_train)\n",
    "y_scaler = StandardScaler().fit(y_train)"
   ]
  },
  {
   "cell_type": "code",
   "execution_count": 7,
   "metadata": {},
   "outputs": [
    {
     "name": "stderr",
     "output_type": "stream",
     "text": [
      "C:\\Users\\Jeff\\AppData\\Local\\conda\\conda\\envs\\PythonData\\lib\\site-packages\\sklearn\\utils\\validation.py:475: DataConversionWarning: Data with input dtype int32 was converted to float64 by StandardScaler.\n",
      "  warnings.warn(msg, DataConversionWarning)\n"
     ]
    }
   ],
   "source": [
    "# Scale the training and test data\n",
    "X_train_scaled = X_scaler.transform(X_train)\n",
    "X_test_scaled = X_scaler.transform(X_test)\n",
    "\n",
    "y_train_scaled = y_scaler.transform(y_train)\n",
    "y_test_scaled = y_scaler.transform(y_test)"
   ]
  },
  {
   "cell_type": "code",
   "execution_count": null,
   "metadata": {},
   "outputs": [],
   "source": []
  },
  {
   "cell_type": "markdown",
   "metadata": {},
   "source": [
    "### Function to Fit Model, Evaluate Performance"
   ]
  },
  {
   "cell_type": "code",
   "execution_count": 8,
   "metadata": {},
   "outputs": [],
   "source": [
    "# Function to tune and evaluate a model, calculate predictions, and create a residuals chart\n",
    "def tune_eval_classifier(a_model, a_param_grid):\n",
    "    # Get the model information\n",
    "    m_info = str(a_model)\n",
    "    \n",
    "    # Get the name of this model\n",
    "    m_name = m_info.split(\"(\",1)[0]    \n",
    "    \n",
    "    # Get the GridSearch estimator using the specified classifier model\n",
    "    # and parameter grid and score the results uging using 5-fold cross-validation\n",
    "    tuning_classifier = GridSearchCV( a_model, param_grid=a_param_grid, cv=5, return_train_score=True)\n",
    "    \n",
    "    # Find the parameters providing the best performance \n",
    "    tuning_classifier.fit(X_train_scaled, y_train.reshape(-1) )\n",
    "\n",
    "    # Print a separator\n",
    "    print(\"*\"*80)\n",
    "    \n",
    "    print(f\"\\nModel: {m_name}, Best Score: {tuning_classifier.best_score_}\")\n",
    "    print(f\"Best Parameters: {tuning_classifier.best_params_}\")\n",
    "        \n",
    "    # Return the results      \n",
    "    a_result = {\n",
    "        'model': m_name,\n",
    "        'best_score': tuning_classifier.best_score_,\n",
    "        'best_params': tuning_classifier.best_params_,\n",
    "        'best_index': tuning_classifier.best_index_,\n",
    "        'cv_results': tuning_classifier.cv_results_,\n",
    "    }\n",
    "    return a_result\n"
   ]
  },
  {
   "cell_type": "code",
   "execution_count": null,
   "metadata": {},
   "outputs": [],
   "source": []
  },
  {
   "cell_type": "markdown",
   "metadata": {},
   "source": [
    "# Iris Dataset"
   ]
  },
  {
   "cell_type": "markdown",
   "metadata": {},
   "source": [
    "### Logistic Regression - Iris Dataset"
   ]
  },
  {
   "cell_type": "code",
   "execution_count": 9,
   "metadata": {},
   "outputs": [
    {
     "name": "stdout",
     "output_type": "stream",
     "text": [
      "********************************************************************************\n",
      "\n",
      "Model: LogisticRegression, Best Score: 0.8928571428571429\n",
      "Best Parameters: {'max_iter': 1000, 'solver': 'newton-cg'}\n",
      "{'Best Parameters': {'max_iter': 1000, 'solver': 'newton-cg'},\n",
      " 'Best Score': 0.8928571428571429,\n",
      " 'Classifier': 'LogisticRegression',\n",
      " 'Dataset': 'Iris',\n",
      " 'Mean Fit Time (ms)': 11.199235916137695,\n",
      " 'Std Dev Fit Time (ms)': 0.9810305085679535}\n"
     ]
    }
   ],
   "source": [
    "# Create a classifier model\n",
    "classifier = LogisticRegression()\n",
    "\n",
    "# Define parameter grid to use for hyperparameter tuning\n",
    "classifier_param_grid = {'solver': [\"liblinear\", \"newton-cg\", \"lbfgs\", \"sag\", \"saga\"],\n",
    "                         'max_iter': [ 1000, 5000, 10000 ] }\n",
    "\n",
    "# Evaluate the classifer performance, create a plot    \n",
    "r = tune_eval_classifier(classifier, classifier_param_grid)\n",
    "\n",
    "model_result_item = {\n",
    "    'Dataset': 'Iris',\n",
    "    'Classifier': str(classifier).split(\"(\",1)[0],\n",
    "    'Best Score': r['best_score'],\n",
    "    'Best Parameters': r['best_params'],\n",
    "    'Mean Fit Time (ms)': 1000.0*r['cv_results']['mean_fit_time'][ r['best_index'] ],\n",
    "    'Std Dev Fit Time (ms)': 1000.0*r['cv_results']['std_fit_time'][ r['best_index'] ]\n",
    "    # 'Cross Validation Results': r['cv_results']\n",
    "    }\n",
    "\n",
    "pprint(model_result_item)"
   ]
  },
  {
   "cell_type": "code",
   "execution_count": 10,
   "metadata": {},
   "outputs": [],
   "source": [
    "# Initialize list of dictionary of results for summary in a dataframe later\n",
    "model_results = []\n",
    "\n",
    "# Add results for this dataset and model\n",
    "model_results.append( model_result_item )"
   ]
  },
  {
   "cell_type": "markdown",
   "metadata": {},
   "source": [
    "### Decision Tree - Iris Dataset"
   ]
  },
  {
   "cell_type": "code",
   "execution_count": 11,
   "metadata": {},
   "outputs": [
    {
     "name": "stdout",
     "output_type": "stream",
     "text": [
      "********************************************************************************\n",
      "\n",
      "Model: DecisionTreeClassifier, Best Score: 0.9285714285714286\n",
      "Best Parameters: {'max_depth': 4}\n",
      "{'Best Parameters': {'max_depth': 4},\n",
      " 'Best Score': 0.9285714285714286,\n",
      " 'Classifier': 'DecisionTreeClassifier',\n",
      " 'Dataset': 'Iris',\n",
      " 'Mean Fit Time (ms)': 0.6003856658935547,\n",
      " 'Std Dev Fit Time (ms)': 0.49021293620538164}\n"
     ]
    }
   ],
   "source": [
    "# Create a classifier model\n",
    "classifier = tree.DecisionTreeClassifier()\n",
    "\n",
    "# Define parameter grid to use for hyperparameter tuning\n",
    "classifier_param_grid = {'max_depth': [ None, 16, 8, 4, 2, 1 ] }\n",
    "\n",
    "# Evaluate the classifer performance, create a plot    \n",
    "r = tune_eval_classifier(classifier, classifier_param_grid)\n",
    "\n",
    "model_result_item = {\n",
    "    'Dataset': 'Iris',\n",
    "    'Classifier': str(classifier).split(\"(\",1)[0],\n",
    "    'Best Score': r['best_score'],\n",
    "    'Best Parameters': r['best_params'],\n",
    "    'Mean Fit Time (ms)': 1000.0*r['cv_results']['mean_fit_time'][ r['best_index'] ],\n",
    "    'Std Dev Fit Time (ms)': 1000.0*r['cv_results']['std_fit_time'][ r['best_index'] ]\n",
    "    }\n",
    "\n",
    "pprint(model_result_item)"
   ]
  },
  {
   "cell_type": "code",
   "execution_count": 12,
   "metadata": {},
   "outputs": [],
   "source": [
    "# Add results for this dataset and model\n",
    "model_results.append( model_result_item )"
   ]
  },
  {
   "cell_type": "markdown",
   "metadata": {},
   "source": [
    "### Summary - Iris Dataset"
   ]
  },
  {
   "cell_type": "code",
   "execution_count": 13,
   "metadata": {},
   "outputs": [
    {
     "name": "stdout",
     "output_type": "stream",
     "text": [
      "[{'Best Parameters': {'max_iter': 1000, 'solver': 'newton-cg'},\n",
      "  'Best Score': 0.8928571428571429,\n",
      "  'Classifier': 'LogisticRegression',\n",
      "  'Dataset': 'Iris',\n",
      "  'Mean Fit Time (ms)': 11.199235916137695,\n",
      "  'Std Dev Fit Time (ms)': 0.9810305085679535},\n",
      " {'Best Parameters': {'max_depth': 4},\n",
      "  'Best Score': 0.9285714285714286,\n",
      "  'Classifier': 'DecisionTreeClassifier',\n",
      "  'Dataset': 'Iris',\n",
      "  'Mean Fit Time (ms)': 0.6003856658935547,\n",
      "  'Std Dev Fit Time (ms)': 0.49021293620538164}]\n"
     ]
    }
   ],
   "source": [
    "pprint(model_results)"
   ]
  },
  {
   "cell_type": "code",
   "execution_count": 14,
   "metadata": {},
   "outputs": [
    {
     "data": {
      "text/html": [
       "<div>\n",
       "<style scoped>\n",
       "    .dataframe tbody tr th:only-of-type {\n",
       "        vertical-align: middle;\n",
       "    }\n",
       "\n",
       "    .dataframe tbody tr th {\n",
       "        vertical-align: top;\n",
       "    }\n",
       "\n",
       "    .dataframe thead th {\n",
       "        text-align: right;\n",
       "    }\n",
       "</style>\n",
       "<table border=\"1\" class=\"dataframe\">\n",
       "  <thead>\n",
       "    <tr style=\"text-align: right;\">\n",
       "      <th></th>\n",
       "      <th>Dataset</th>\n",
       "      <th>Classifier</th>\n",
       "      <th>Best Score</th>\n",
       "      <th>Mean Fit Time (ms)</th>\n",
       "      <th>Std Dev Fit Time (ms)</th>\n",
       "      <th>Best Parameters</th>\n",
       "    </tr>\n",
       "  </thead>\n",
       "  <tbody>\n",
       "    <tr>\n",
       "      <th>0</th>\n",
       "      <td>Iris</td>\n",
       "      <td>LogisticRegression</td>\n",
       "      <td>0.892857</td>\n",
       "      <td>11.199236</td>\n",
       "      <td>0.981031</td>\n",
       "      <td>{'max_iter': 1000, 'solver': 'newton-cg'}</td>\n",
       "    </tr>\n",
       "    <tr>\n",
       "      <th>1</th>\n",
       "      <td>Iris</td>\n",
       "      <td>DecisionTreeClassifier</td>\n",
       "      <td>0.928571</td>\n",
       "      <td>0.600386</td>\n",
       "      <td>0.490213</td>\n",
       "      <td>{'max_depth': 4}</td>\n",
       "    </tr>\n",
       "  </tbody>\n",
       "</table>\n",
       "</div>"
      ],
      "text/plain": [
       "  Dataset              Classifier  Best Score  Mean Fit Time (ms)  \\\n",
       "0    Iris      LogisticRegression    0.892857           11.199236   \n",
       "1    Iris  DecisionTreeClassifier    0.928571            0.600386   \n",
       "\n",
       "   Std Dev Fit Time (ms)                            Best Parameters  \n",
       "0               0.981031  {'max_iter': 1000, 'solver': 'newton-cg'}  \n",
       "1               0.490213                           {'max_depth': 4}  "
      ]
     },
     "execution_count": 14,
     "metadata": {},
     "output_type": "execute_result"
    }
   ],
   "source": [
    "summary_df = pd.DataFrame( model_results,\n",
    "          columns=['Dataset', 'Classifier', 'Best Score',\n",
    "                   'Mean Fit Time (ms)', 'Std Dev Fit Time (ms)', 'Best Parameters' ])\n",
    "\n",
    "summary_df"
   ]
  },
  {
   "cell_type": "code",
   "execution_count": 15,
   "metadata": {},
   "outputs": [
    {
     "data": {
      "text/plain": [
       "Best Score               0.910714\n",
       "Mean Fit Time (ms)       5.899811\n",
       "Std Dev Fit Time (ms)    0.735622\n",
       "dtype: float64"
      ]
     },
     "execution_count": 15,
     "metadata": {},
     "output_type": "execute_result"
    }
   ],
   "source": [
    "summary_df.mean()"
   ]
  },
  {
   "cell_type": "code",
   "execution_count": null,
   "metadata": {},
   "outputs": [],
   "source": []
  },
  {
   "cell_type": "code",
   "execution_count": null,
   "metadata": {},
   "outputs": [],
   "source": []
  },
  {
   "cell_type": "markdown",
   "metadata": {},
   "source": [
    "# Voice Dataset"
   ]
  },
  {
   "cell_type": "code",
   "execution_count": 16,
   "metadata": {},
   "outputs": [
    {
     "data": {
      "text/html": [
       "<div>\n",
       "<style scoped>\n",
       "    .dataframe tbody tr th:only-of-type {\n",
       "        vertical-align: middle;\n",
       "    }\n",
       "\n",
       "    .dataframe tbody tr th {\n",
       "        vertical-align: top;\n",
       "    }\n",
       "\n",
       "    .dataframe thead th {\n",
       "        text-align: right;\n",
       "    }\n",
       "</style>\n",
       "<table border=\"1\" class=\"dataframe\">\n",
       "  <thead>\n",
       "    <tr style=\"text-align: right;\">\n",
       "      <th></th>\n",
       "      <th>meanfreq</th>\n",
       "      <th>sd</th>\n",
       "      <th>median</th>\n",
       "      <th>Q25</th>\n",
       "      <th>Q75</th>\n",
       "      <th>IQR</th>\n",
       "      <th>skew</th>\n",
       "      <th>kurt</th>\n",
       "      <th>sp.ent</th>\n",
       "      <th>sfm</th>\n",
       "      <th>...</th>\n",
       "      <th>centroid</th>\n",
       "      <th>meanfun</th>\n",
       "      <th>minfun</th>\n",
       "      <th>maxfun</th>\n",
       "      <th>meandom</th>\n",
       "      <th>mindom</th>\n",
       "      <th>maxdom</th>\n",
       "      <th>dfrange</th>\n",
       "      <th>modindx</th>\n",
       "      <th>label</th>\n",
       "    </tr>\n",
       "  </thead>\n",
       "  <tbody>\n",
       "    <tr>\n",
       "      <th>0</th>\n",
       "      <td>0.059781</td>\n",
       "      <td>0.064241</td>\n",
       "      <td>0.032027</td>\n",
       "      <td>0.015071</td>\n",
       "      <td>0.090193</td>\n",
       "      <td>0.075122</td>\n",
       "      <td>12.863462</td>\n",
       "      <td>274.402906</td>\n",
       "      <td>0.893369</td>\n",
       "      <td>0.491918</td>\n",
       "      <td>...</td>\n",
       "      <td>0.059781</td>\n",
       "      <td>0.084279</td>\n",
       "      <td>0.015702</td>\n",
       "      <td>0.275862</td>\n",
       "      <td>0.007812</td>\n",
       "      <td>0.007812</td>\n",
       "      <td>0.007812</td>\n",
       "      <td>0.000000</td>\n",
       "      <td>0.000000</td>\n",
       "      <td>male</td>\n",
       "    </tr>\n",
       "    <tr>\n",
       "      <th>1</th>\n",
       "      <td>0.066009</td>\n",
       "      <td>0.067310</td>\n",
       "      <td>0.040229</td>\n",
       "      <td>0.019414</td>\n",
       "      <td>0.092666</td>\n",
       "      <td>0.073252</td>\n",
       "      <td>22.423285</td>\n",
       "      <td>634.613855</td>\n",
       "      <td>0.892193</td>\n",
       "      <td>0.513724</td>\n",
       "      <td>...</td>\n",
       "      <td>0.066009</td>\n",
       "      <td>0.107937</td>\n",
       "      <td>0.015826</td>\n",
       "      <td>0.250000</td>\n",
       "      <td>0.009014</td>\n",
       "      <td>0.007812</td>\n",
       "      <td>0.054688</td>\n",
       "      <td>0.046875</td>\n",
       "      <td>0.052632</td>\n",
       "      <td>male</td>\n",
       "    </tr>\n",
       "    <tr>\n",
       "      <th>2</th>\n",
       "      <td>0.077316</td>\n",
       "      <td>0.083829</td>\n",
       "      <td>0.036718</td>\n",
       "      <td>0.008701</td>\n",
       "      <td>0.131908</td>\n",
       "      <td>0.123207</td>\n",
       "      <td>30.757155</td>\n",
       "      <td>1024.927705</td>\n",
       "      <td>0.846389</td>\n",
       "      <td>0.478905</td>\n",
       "      <td>...</td>\n",
       "      <td>0.077316</td>\n",
       "      <td>0.098706</td>\n",
       "      <td>0.015656</td>\n",
       "      <td>0.271186</td>\n",
       "      <td>0.007990</td>\n",
       "      <td>0.007812</td>\n",
       "      <td>0.015625</td>\n",
       "      <td>0.007812</td>\n",
       "      <td>0.046512</td>\n",
       "      <td>male</td>\n",
       "    </tr>\n",
       "    <tr>\n",
       "      <th>3</th>\n",
       "      <td>0.151228</td>\n",
       "      <td>0.072111</td>\n",
       "      <td>0.158011</td>\n",
       "      <td>0.096582</td>\n",
       "      <td>0.207955</td>\n",
       "      <td>0.111374</td>\n",
       "      <td>1.232831</td>\n",
       "      <td>4.177296</td>\n",
       "      <td>0.963322</td>\n",
       "      <td>0.727232</td>\n",
       "      <td>...</td>\n",
       "      <td>0.151228</td>\n",
       "      <td>0.088965</td>\n",
       "      <td>0.017798</td>\n",
       "      <td>0.250000</td>\n",
       "      <td>0.201497</td>\n",
       "      <td>0.007812</td>\n",
       "      <td>0.562500</td>\n",
       "      <td>0.554688</td>\n",
       "      <td>0.247119</td>\n",
       "      <td>male</td>\n",
       "    </tr>\n",
       "    <tr>\n",
       "      <th>4</th>\n",
       "      <td>0.135120</td>\n",
       "      <td>0.079146</td>\n",
       "      <td>0.124656</td>\n",
       "      <td>0.078720</td>\n",
       "      <td>0.206045</td>\n",
       "      <td>0.127325</td>\n",
       "      <td>1.101174</td>\n",
       "      <td>4.333713</td>\n",
       "      <td>0.971955</td>\n",
       "      <td>0.783568</td>\n",
       "      <td>...</td>\n",
       "      <td>0.135120</td>\n",
       "      <td>0.106398</td>\n",
       "      <td>0.016931</td>\n",
       "      <td>0.266667</td>\n",
       "      <td>0.712812</td>\n",
       "      <td>0.007812</td>\n",
       "      <td>5.484375</td>\n",
       "      <td>5.476562</td>\n",
       "      <td>0.208274</td>\n",
       "      <td>male</td>\n",
       "    </tr>\n",
       "  </tbody>\n",
       "</table>\n",
       "<p>5 rows × 21 columns</p>\n",
       "</div>"
      ],
      "text/plain": [
       "   meanfreq        sd    median       Q25       Q75       IQR       skew  \\\n",
       "0  0.059781  0.064241  0.032027  0.015071  0.090193  0.075122  12.863462   \n",
       "1  0.066009  0.067310  0.040229  0.019414  0.092666  0.073252  22.423285   \n",
       "2  0.077316  0.083829  0.036718  0.008701  0.131908  0.123207  30.757155   \n",
       "3  0.151228  0.072111  0.158011  0.096582  0.207955  0.111374   1.232831   \n",
       "4  0.135120  0.079146  0.124656  0.078720  0.206045  0.127325   1.101174   \n",
       "\n",
       "          kurt    sp.ent       sfm  ...  centroid   meanfun    minfun  \\\n",
       "0   274.402906  0.893369  0.491918  ...  0.059781  0.084279  0.015702   \n",
       "1   634.613855  0.892193  0.513724  ...  0.066009  0.107937  0.015826   \n",
       "2  1024.927705  0.846389  0.478905  ...  0.077316  0.098706  0.015656   \n",
       "3     4.177296  0.963322  0.727232  ...  0.151228  0.088965  0.017798   \n",
       "4     4.333713  0.971955  0.783568  ...  0.135120  0.106398  0.016931   \n",
       "\n",
       "     maxfun   meandom    mindom    maxdom   dfrange   modindx  label  \n",
       "0  0.275862  0.007812  0.007812  0.007812  0.000000  0.000000   male  \n",
       "1  0.250000  0.009014  0.007812  0.054688  0.046875  0.052632   male  \n",
       "2  0.271186  0.007990  0.007812  0.015625  0.007812  0.046512   male  \n",
       "3  0.250000  0.201497  0.007812  0.562500  0.554688  0.247119   male  \n",
       "4  0.266667  0.712812  0.007812  5.484375  5.476562  0.208274   male  \n",
       "\n",
       "[5 rows x 21 columns]"
      ]
     },
     "execution_count": 16,
     "metadata": {},
     "output_type": "execute_result"
    }
   ],
   "source": [
    "## Import Data and Pre-Process: Voice Dataset\n",
    "voice = pd.read_csv('resources/voice.csv')\n",
    "voice.head()"
   ]
  },
  {
   "cell_type": "code",
   "execution_count": 17,
   "metadata": {},
   "outputs": [],
   "source": [
    "# Check datatypes to ensure numerical values are floats vs. objects -- CONFIRMED\n",
    "# voice.dtypes"
   ]
  },
  {
   "cell_type": "code",
   "execution_count": 18,
   "metadata": {},
   "outputs": [
    {
     "name": "stdout",
     "output_type": "stream",
     "text": [
      "(3168, 20) (3168,)\n"
     ]
    }
   ],
   "source": [
    "# Assign X (data) and y (target)\n",
    "X = voice.drop(\"label\", axis=1)\n",
    "y = voice[\"label\"]\n",
    "print(X.shape, y.shape)"
   ]
  },
  {
   "cell_type": "code",
   "execution_count": null,
   "metadata": {},
   "outputs": [],
   "source": []
  },
  {
   "cell_type": "code",
   "execution_count": 19,
   "metadata": {},
   "outputs": [],
   "source": [
    "# Encode the output strings using a Categorical Binarizer\n",
    "label_encoder = LabelBinarizer()\n",
    "y_encoded = label_encoder.fit_transform(y)"
   ]
  },
  {
   "cell_type": "code",
   "execution_count": 20,
   "metadata": {},
   "outputs": [],
   "source": [
    "# Split the data using train_test_split\n",
    "X_train, X_test, y_train, y_test = train_test_split(X, y_encoded, random_state=1, stratify=y_encoded)"
   ]
  },
  {
   "cell_type": "code",
   "execution_count": 21,
   "metadata": {},
   "outputs": [],
   "source": [
    "# Reshape the outputs to provide a N by 1 vector (vs. array of size N)\n",
    "# y_train = y_train.reshape(-1,1)\n",
    "# y_test = y_test.reshape(-1,1)\n",
    "# print(y_train.shape, y_test.shape)"
   ]
  },
  {
   "cell_type": "code",
   "execution_count": 22,
   "metadata": {},
   "outputs": [
    {
     "name": "stderr",
     "output_type": "stream",
     "text": [
      "C:\\Users\\Jeff\\AppData\\Local\\conda\\conda\\envs\\PythonData\\lib\\site-packages\\sklearn\\utils\\validation.py:475: DataConversionWarning: Data with input dtype int32 was converted to float64 by StandardScaler.\n",
      "  warnings.warn(msg, DataConversionWarning)\n"
     ]
    }
   ],
   "source": [
    "# Use the training data to create a scaler to standard normal distributions for each numerical feature and output\n",
    "X_scaler = StandardScaler().fit(X_train)\n",
    "y_scaler = StandardScaler().fit(y_train)"
   ]
  },
  {
   "cell_type": "code",
   "execution_count": 23,
   "metadata": {},
   "outputs": [
    {
     "name": "stderr",
     "output_type": "stream",
     "text": [
      "C:\\Users\\Jeff\\AppData\\Local\\conda\\conda\\envs\\PythonData\\lib\\site-packages\\sklearn\\utils\\validation.py:475: DataConversionWarning: Data with input dtype int32 was converted to float64 by StandardScaler.\n",
      "  warnings.warn(msg, DataConversionWarning)\n"
     ]
    }
   ],
   "source": [
    "# Scale the training and test data\n",
    "X_train_scaled = X_scaler.transform(X_train)\n",
    "X_test_scaled = X_scaler.transform(X_test)\n",
    "\n",
    "y_train_scaled = y_scaler.transform(y_train)\n",
    "y_test_scaled = y_scaler.transform(y_test)"
   ]
  },
  {
   "cell_type": "code",
   "execution_count": null,
   "metadata": {},
   "outputs": [],
   "source": []
  },
  {
   "cell_type": "code",
   "execution_count": null,
   "metadata": {},
   "outputs": [],
   "source": []
  },
  {
   "cell_type": "markdown",
   "metadata": {},
   "source": [
    "# Voice Dataset"
   ]
  },
  {
   "cell_type": "markdown",
   "metadata": {},
   "source": [
    "### Logistic Regression - Voice Dataset"
   ]
  },
  {
   "cell_type": "code",
   "execution_count": 24,
   "metadata": {},
   "outputs": [
    {
     "name": "stdout",
     "output_type": "stream",
     "text": [
      "********************************************************************************\n",
      "\n",
      "Model: LogisticRegression, Best Score: 0.9705387205387206\n",
      "Best Parameters: {'max_iter': 1000, 'solver': 'newton-cg'}\n",
      "{'Best Parameters': {'max_iter': 1000, 'solver': 'newton-cg'},\n",
      " 'Best Score': 0.9705387205387206,\n",
      " 'Classifier': 'LogisticRegression',\n",
      " 'Dataset': 'Voice',\n",
      " 'Mean Fit Time (ms)': 29.599714279174805,\n",
      " 'Std Dev Fit Time (ms)': 1.8545790378494746}\n"
     ]
    }
   ],
   "source": [
    "# Create a classifier model\n",
    "classifier = LogisticRegression()\n",
    "\n",
    "# Define parameter grid to use for hyperparameter tuning\n",
    "classifier_param_grid = {'solver': [\"liblinear\", \"newton-cg\", \"lbfgs\", \"sag\", \"saga\"],\n",
    "                         'max_iter': [ 1000, 5000, 10000 ] }\n",
    "\n",
    "# Evaluate the classifer performance, create a plot    \n",
    "r = tune_eval_classifier(classifier, classifier_param_grid)\n",
    "\n",
    "model_result_item = {\n",
    "    'Dataset': 'Voice',\n",
    "    'Classifier': str(classifier).split(\"(\",1)[0],\n",
    "    'Best Score': r['best_score'],\n",
    "    'Best Parameters': r['best_params'],\n",
    "    'Mean Fit Time (ms)': 1000.0*r['cv_results']['mean_fit_time'][ r['best_index'] ],\n",
    "    'Std Dev Fit Time (ms)': 1000.0*r['cv_results']['std_fit_time'][ r['best_index'] ]\n",
    "    # 'Cross Validation Results': r['cv_results']\n",
    "    }\n",
    "\n",
    "pprint(model_result_item)"
   ]
  },
  {
   "cell_type": "code",
   "execution_count": 25,
   "metadata": {},
   "outputs": [],
   "source": [
    "# Add results for this dataset and model\n",
    "model_results.append( model_result_item )"
   ]
  },
  {
   "cell_type": "markdown",
   "metadata": {},
   "source": [
    "### Decision Tree - Voice Dataset"
   ]
  },
  {
   "cell_type": "code",
   "execution_count": 26,
   "metadata": {},
   "outputs": [
    {
     "name": "stdout",
     "output_type": "stream",
     "text": [
      "********************************************************************************\n",
      "\n",
      "Model: DecisionTreeClassifier, Best Score: 0.9654882154882155\n",
      "Best Parameters: {'max_depth': 4}\n",
      "{'Best Parameters': {'max_depth': 4},\n",
      " 'Best Score': 0.9654882154882155,\n",
      " 'Classifier': 'DecisionTreeClassifier',\n",
      " 'Dataset': 'Voice',\n",
      " 'Mean Fit Time (ms)': 17.989253997802734,\n",
      " 'Std Dev Fit Time (ms)': 0.6505745832580534}\n"
     ]
    }
   ],
   "source": [
    "# Create a classifier model\n",
    "classifier = tree.DecisionTreeClassifier()\n",
    "\n",
    "# Define parameter grid to use for hyperparameter tuning\n",
    "classifier_param_grid = {'max_depth': [ None, 16, 8, 4, 2, 1 ] }\n",
    "\n",
    "# Evaluate the classifer performance, create a plot    \n",
    "r = tune_eval_classifier(classifier, classifier_param_grid)\n",
    "\n",
    "model_result_item = {\n",
    "    'Dataset': 'Voice',\n",
    "    'Classifier': str(classifier).split(\"(\",1)[0],\n",
    "    'Best Score': r['best_score'],\n",
    "    'Best Parameters': r['best_params'],\n",
    "    'Mean Fit Time (ms)': 1000.0*r['cv_results']['mean_fit_time'][ r['best_index'] ],\n",
    "    'Std Dev Fit Time (ms)': 1000.0*r['cv_results']['std_fit_time'][ r['best_index'] ]\n",
    "    }\n",
    "\n",
    "pprint(model_result_item)"
   ]
  },
  {
   "cell_type": "code",
   "execution_count": 27,
   "metadata": {},
   "outputs": [],
   "source": [
    "# Add results for this dataset and model\n",
    "model_results.append( model_result_item )"
   ]
  },
  {
   "cell_type": "markdown",
   "metadata": {},
   "source": [
    "### Summary - Iris and Voice Datasets"
   ]
  },
  {
   "cell_type": "code",
   "execution_count": 28,
   "metadata": {},
   "outputs": [
    {
     "name": "stdout",
     "output_type": "stream",
     "text": [
      "[{'Best Parameters': {'max_iter': 1000, 'solver': 'newton-cg'},\n",
      "  'Best Score': 0.8928571428571429,\n",
      "  'Classifier': 'LogisticRegression',\n",
      "  'Dataset': 'Iris',\n",
      "  'Mean Fit Time (ms)': 11.199235916137695,\n",
      "  'Std Dev Fit Time (ms)': 0.9810305085679535},\n",
      " {'Best Parameters': {'max_depth': 4},\n",
      "  'Best Score': 0.9285714285714286,\n",
      "  'Classifier': 'DecisionTreeClassifier',\n",
      "  'Dataset': 'Iris',\n",
      "  'Mean Fit Time (ms)': 0.6003856658935547,\n",
      "  'Std Dev Fit Time (ms)': 0.49021293620538164},\n",
      " {'Best Parameters': {'max_iter': 1000, 'solver': 'newton-cg'},\n",
      "  'Best Score': 0.9705387205387206,\n",
      "  'Classifier': 'LogisticRegression',\n",
      "  'Dataset': 'Voice',\n",
      "  'Mean Fit Time (ms)': 29.599714279174805,\n",
      "  'Std Dev Fit Time (ms)': 1.8545790378494746},\n",
      " {'Best Parameters': {'max_depth': 4},\n",
      "  'Best Score': 0.9654882154882155,\n",
      "  'Classifier': 'DecisionTreeClassifier',\n",
      "  'Dataset': 'Voice',\n",
      "  'Mean Fit Time (ms)': 17.989253997802734,\n",
      "  'Std Dev Fit Time (ms)': 0.6505745832580534}]\n"
     ]
    }
   ],
   "source": [
    "pprint(model_results)"
   ]
  },
  {
   "cell_type": "code",
   "execution_count": 29,
   "metadata": {},
   "outputs": [
    {
     "data": {
      "text/html": [
       "<div>\n",
       "<style scoped>\n",
       "    .dataframe tbody tr th:only-of-type {\n",
       "        vertical-align: middle;\n",
       "    }\n",
       "\n",
       "    .dataframe tbody tr th {\n",
       "        vertical-align: top;\n",
       "    }\n",
       "\n",
       "    .dataframe thead th {\n",
       "        text-align: right;\n",
       "    }\n",
       "</style>\n",
       "<table border=\"1\" class=\"dataframe\">\n",
       "  <thead>\n",
       "    <tr style=\"text-align: right;\">\n",
       "      <th></th>\n",
       "      <th>Dataset</th>\n",
       "      <th>Classifier</th>\n",
       "      <th>Best Score</th>\n",
       "      <th>Mean Fit Time (ms)</th>\n",
       "      <th>Std Dev Fit Time (ms)</th>\n",
       "      <th>Best Parameters</th>\n",
       "    </tr>\n",
       "  </thead>\n",
       "  <tbody>\n",
       "    <tr>\n",
       "      <th>0</th>\n",
       "      <td>Iris</td>\n",
       "      <td>LogisticRegression</td>\n",
       "      <td>0.892857</td>\n",
       "      <td>11.199236</td>\n",
       "      <td>0.981031</td>\n",
       "      <td>{'max_iter': 1000, 'solver': 'newton-cg'}</td>\n",
       "    </tr>\n",
       "    <tr>\n",
       "      <th>1</th>\n",
       "      <td>Iris</td>\n",
       "      <td>DecisionTreeClassifier</td>\n",
       "      <td>0.928571</td>\n",
       "      <td>0.600386</td>\n",
       "      <td>0.490213</td>\n",
       "      <td>{'max_depth': 4}</td>\n",
       "    </tr>\n",
       "    <tr>\n",
       "      <th>2</th>\n",
       "      <td>Voice</td>\n",
       "      <td>LogisticRegression</td>\n",
       "      <td>0.970539</td>\n",
       "      <td>29.599714</td>\n",
       "      <td>1.854579</td>\n",
       "      <td>{'max_iter': 1000, 'solver': 'newton-cg'}</td>\n",
       "    </tr>\n",
       "    <tr>\n",
       "      <th>3</th>\n",
       "      <td>Voice</td>\n",
       "      <td>DecisionTreeClassifier</td>\n",
       "      <td>0.965488</td>\n",
       "      <td>17.989254</td>\n",
       "      <td>0.650575</td>\n",
       "      <td>{'max_depth': 4}</td>\n",
       "    </tr>\n",
       "  </tbody>\n",
       "</table>\n",
       "</div>"
      ],
      "text/plain": [
       "  Dataset              Classifier  Best Score  Mean Fit Time (ms)  \\\n",
       "0    Iris      LogisticRegression    0.892857           11.199236   \n",
       "1    Iris  DecisionTreeClassifier    0.928571            0.600386   \n",
       "2   Voice      LogisticRegression    0.970539           29.599714   \n",
       "3   Voice  DecisionTreeClassifier    0.965488           17.989254   \n",
       "\n",
       "   Std Dev Fit Time (ms)                            Best Parameters  \n",
       "0               0.981031  {'max_iter': 1000, 'solver': 'newton-cg'}  \n",
       "1               0.490213                           {'max_depth': 4}  \n",
       "2               1.854579  {'max_iter': 1000, 'solver': 'newton-cg'}  \n",
       "3               0.650575                           {'max_depth': 4}  "
      ]
     },
     "execution_count": 29,
     "metadata": {},
     "output_type": "execute_result"
    }
   ],
   "source": [
    "summary_df = pd.DataFrame( model_results,\n",
    "          columns=['Dataset', 'Classifier', 'Best Score',\n",
    "                   'Mean Fit Time (ms)', 'Std Dev Fit Time (ms)', 'Best Parameters' ])\n",
    "\n",
    "summary_df"
   ]
  },
  {
   "cell_type": "code",
   "execution_count": 30,
   "metadata": {},
   "outputs": [
    {
     "data": {
      "text/plain": [
       "Best Score                0.939364\n",
       "Mean Fit Time (ms)       14.847147\n",
       "Std Dev Fit Time (ms)     0.994099\n",
       "dtype: float64"
      ]
     },
     "execution_count": 30,
     "metadata": {},
     "output_type": "execute_result"
    }
   ],
   "source": [
    "summary_df.mean()"
   ]
  },
  {
   "cell_type": "code",
   "execution_count": null,
   "metadata": {},
   "outputs": [],
   "source": []
  },
  {
   "cell_type": "markdown",
   "metadata": {},
   "source": [
    "## Overall Results"
   ]
  },
  {
   "cell_type": "code",
   "execution_count": null,
   "metadata": {},
   "outputs": [],
   "source": []
  },
  {
   "cell_type": "code",
   "execution_count": null,
   "metadata": {},
   "outputs": [],
   "source": [
    "# Function: Gather data needed for plots for each Dataset and Classifier\n",
    "def get_plot_data(a_x_col, a_y_col):\n",
    "    \n",
    "    # Sort the dataframe in ascending order by the column a_x_col\n",
    "    sorted_df = overall_df.sort_values(by=a_x_col, ascending=True)\n",
    "    \n",
    "    plt_list = []\n",
    "    plt_i = 0\n",
    "    for ds in sorted_df['Dataset'].unique():\n",
    "        for cls in sorted_df['Classifier'].unique():\n",
    "            \n",
    "            \n",
    "\n",
    "            x_val = list(sorted_df[a_x_col]\n",
    "                             [ (sorted_df['Dataset']==ds) & (sorted_df['Classifier']==cls) ])\n",
    "\n",
    "            y_val = list(sorted_df[a_y_col]\n",
    "                             [ (sorted_df['Dataset']==ds) & (sorted_df['Classifier']==cls) ])\n",
    "            \n",
    "            solver_val = list(sorted_df['Solver']\n",
    "                             [ (sorted_df['Dataset']==ds) & (sorted_df['Classifier']==cls) \n",
    "                                & sorted_df['Solver'].notnull() ])\n",
    "\n",
    "            tot_iter_val = list(sorted_df['Total Iterations']\n",
    "                             [ (sorted_df['Dataset']==ds) & (sorted_df['Classifier']==cls) \n",
    "                                & sorted_df['Total Iterations'].notnull() ])\n",
    "\n",
    "            max_depth_val = list(sorted_df['Max Tree Depth']\n",
    "                             [ (sorted_df['Dataset']==ds) & (sorted_df['Classifier']==cls) \n",
    "                                & sorted_df['Max Tree Depth'].notnull() ])\n",
    "\n",
    "            plt_info = {\n",
    "                'title': f\"Dataset {ds}/Classifer {cls}\",\n",
    "                'x_column': a_x_col,\n",
    "                'x': x_val,\n",
    "                'y_column': a_y_col,\n",
    "                'y': y_val,\n",
    "                'solver': solver_val,\n",
    "                'tot_iter': tot_iter_val,\n",
    "                'max_depth': max_depth_val\n",
    "            }\n",
    "\n",
    "            plt_list.append(plt_info)\n",
    "            plt_i += 1\n",
    "    return plt_list"
   ]
  },
  {
   "cell_type": "code",
   "execution_count": null,
   "metadata": {},
   "outputs": [],
   "source": [
    "# Function: Setup the axes and plots\n",
    "def create_plot(a_ax, a_plt_info, a_limits = None):\n",
    "    \n",
    "    # Set the title\n",
    "    a_ax.set_title(a_plt_info['title'])\n",
    "    \n",
    "    # If x and y axis limits have been provided, then use them\n",
    "    # If not, then use default limits based upon the data\n",
    "    try:\n",
    "        x_min = a_limits['x_min']\n",
    "    except:\n",
    "        x_min = 0.5*min(a_plt_info['x'])\n",
    "\n",
    "    try:\n",
    "        x_max = a_limits['x_max']\n",
    "    except:\n",
    "        x_max = 1.15*max(a_plt_info['x'])\n",
    "\n",
    "    try:\n",
    "        y_min = a_limits['y_min']\n",
    "    except:\n",
    "#         y_min = min(0.6, 0.8*min(a_plt_info['y']) )\n",
    "        y_min = 0.5*min(a_plt_info['y'])\n",
    "    \n",
    "    try:\n",
    "        y_max = a_limits['y_max']\n",
    "    except:\n",
    "        y_max = 1.15*max(a_plt_info['y'])\n",
    "    \n",
    "    # Set the y-axis range to (0,1), normal range for model scores\n",
    "    a_ax.set_ylim( y_min,y_max)\n",
    "    a_ax.set_ylabel(a_plt_info['y_column'])\n",
    "\n",
    "    # Set the x-axis minimum to 0 and maximum to the max Fit Time overall\n",
    "    a_ax.set_xlim(x_min, x_max)\n",
    "    a_ax.set_xlabel(a_plt_info['x_column'])\n",
    "    \n",
    "    # Plot the data\n",
    "    a_ax.scatter( a_plt_info['x'], a_plt_info['y'], c=\"b\" )\n",
    "    \n",
    "    # Plot a linear trend line\n",
    "    z = np.polyfit(a_plt_info['x'], a_plt_info['y'], 1)\n",
    "    p = np.poly1d(z)\n",
    "    a_ax.plot( a_plt_info['x'], p(a_plt_info['x']), c=\"r\", linestyle='-', linewidth=0.5 )\n",
    "    \n",
    "    # Add grid lines\n",
    "    a_ax.grid(c='k', linestyle='-', linewidth=0.2)\n",
    "    \n",
    "    # Add text to key datapoints\n",
    "    # Find the index of the value with the highest score\n",
    "    i_highest = a_plt_info['y'].index( max(a_plt_info['y']) )\n",
    "    \n",
    "    # Find the index of the value with the lowest score\n",
    "    i_lowest = a_plt_info['y'].index( min(a_plt_info['y']) )\n",
    "\n",
    "    # Get the unique indices for the key datapoints using a Python Set\n",
    "    # 0: First datapoint (i.e., lowest Fit Time)\n",
    "    # -1: Last datapoint (i.e., highest Fit Time)\n",
    "    i_set = set( [0, -1, i_lowest, i_highest] )\n",
    "    \n",
    "    # Plot a text note for each of the key datapoints\n",
    "    for i in i_set:\n",
    "\n",
    "        # Add text to the datapoint\n",
    "        point_text = f\"{a_plt_info['x_column']}: {a_plt_info['x'][i]:0.2f}\\n{a_plt_info['y_column']}: {a_plt_info['y'][i]:0.2f}\"\n",
    "\n",
    "        try:\n",
    "            point_text += f\"\\nSolver: {a_plt_info['solver'][i]}\"\n",
    "            point_text += f\", Total Iterations: {a_plt_info['tot_iter'][i]}\"\n",
    "\n",
    "        except:\n",
    "            pass\n",
    "\n",
    "        try:\n",
    "            point_text += f\"\\nMax Depth: {a_plt_info['max_depth'][i]}\"\n",
    "        except:\n",
    "            pass\n",
    "\n",
    "        # Place the text at an offset from the datapoint\n",
    "        # x: No offset\n",
    "        x_offset = 0\n",
    "        \n",
    "        # y: Offset by a fraction of the y-axis max-min range,\n",
    "        #    and positive for even indices, negative for odd indices\n",
    "        #    (to try to avoid overlap between adjacent datapoints)\n",
    "        y_offset = (y_max-y_min)/20 * ( 1 if i % 2 == 0 else -2.5 )\n",
    "        a_ax.text( a_plt_info['x'][i] + x_offset, a_plt_info['y'][i] + y_offset,\n",
    "                   point_text, c=\"#0000FFFF\" )\n",
    "        "
   ]
  },
  {
   "cell_type": "code",
   "execution_count": null,
   "metadata": {},
   "outputs": [],
   "source": [
    "# Plot: Cross Validation Score on Test data vs. Fit Time\n",
    "x_column = 'Fit Time (ms)'\n",
    "# y_column = 'Score-Testing Data'\n",
    "y_column = 'Score-CV-Training Data-Avg'\n",
    "\n",
    "p_info_list = get_plot_data(x_column, y_column)\n",
    "# pprint(p_info_list)\n",
    "\n",
    "# Plot Classification Performance results\n",
    "fig1 = plt.figure(figsize=(15,12))\n",
    "ax_list = []\n",
    "p_i = 0\n",
    "\n",
    "for p_info in p_info_list:\n",
    "    ax_list.append( fig1.add_subplot(2, math.ceil(len(p_info_list)/2), p_i+1) )\n",
    "    create_plot(ax_list[p_i], p_info)\n",
    "    p_i += 1\n",
    "        \n",
    "# Save the image - use it for Summary of Analysis at the top of the notebook\n",
    "plt.savefig('docs/Figure-Hyper_Parameter_Tuning_A.png', bbox_inches='tight')"
   ]
  },
  {
   "cell_type": "code",
   "execution_count": null,
   "metadata": {},
   "outputs": [],
   "source": [
    "# Plot: Direct Scoring vs. Cross-Validation Avg score\n",
    "x_column = 'Score-CV-Training Data-Avg'\n",
    "y_column = 'Score-Training Data'\n",
    "\n",
    "p_info_list = get_plot_data(x_column, y_column)\n",
    "# pprint(p_info_list)\n",
    "\n",
    "# Plot Classification Performance results\n",
    "fig1 = plt.figure(figsize=(15,12))\n",
    "ax_list = []\n",
    "p_i = 0\n",
    "\n",
    "for p_info in p_info_list:\n",
    "    ax_list.append( fig1.add_subplot(2, math.ceil(len(p_info_list)/2), p_i+1) )\n",
    "    create_plot(ax_list[p_i], p_info)\n",
    "    p_i += 1\n",
    "        \n",
    "# Save the image - use it for Summary of Analysis at the top of the notebook\n",
    "plt.savefig('docs/Figure-Hyper_Parameter_Tuning_B.png', bbox_inches='tight')"
   ]
  },
  {
   "cell_type": "code",
   "execution_count": null,
   "metadata": {},
   "outputs": [],
   "source": [
    "# Plot: Cross Validation score vs. Inflation of [Training score vs. cross-validation avg]\n",
    "x_column = 'Score-CV-Training Data-Avg'\n",
    "# y_column = 'Score-CV-Training Data-Avg'\n",
    "y_column = 'Score-Training-Inflation %'\n",
    "\n",
    "p_info_list = get_plot_data(x_column, y_column)\n",
    "# pprint(p_info_list)\n",
    "\n",
    "# Plot Classification Performance results\n",
    "fig1 = plt.figure(figsize=(15,12))\n",
    "ax_list = []\n",
    "p_i = 0\n",
    "\n",
    "for p_info in p_info_list:\n",
    "    ax_list.append( fig1.add_subplot(2, math.ceil(len(p_info_list)/2), p_i+1) )\n",
    "    create_plot(ax_list[p_i], p_info,\n",
    "               {\n",
    "                   'x_min': 0.6,\n",
    "                   'x_max': 1.15,\n",
    "                   'y_min': -0.1,\n",
    "                   'y_max': 10.0\n",
    "               })\n",
    "    p_i += 1\n",
    "        \n",
    "# Save the image - use it for Summary of Analysis at the top of the notebook\n",
    "plt.savefig('docs/Figure-Hyper_Parameter_Tuning_C.png', bbox_inches='tight')"
   ]
  },
  {
   "cell_type": "code",
   "execution_count": null,
   "metadata": {
    "scrolled": false
   },
   "outputs": [],
   "source": [
    "table_df = overall_df[['Dataset', 'Classifier', 'Solver', 'Iterations', 'Total Iterations',\n",
    "       'Max Tree Depth', 'Score-Testing Data',\n",
    "       'Score-Training Data', 'Score-CV-Training Data-Avg',\n",
    "       'Score-Training-Inflation %']] \\\n",
    "        .sort_values(by=['Score-Testing Data','Score-CV-Training Data-Avg'], ascending=[False, True])\n",
    "\n",
    "table_df = table_df.round(4)\n",
    "table_df"
   ]
  },
  {
   "cell_type": "code",
   "execution_count": null,
   "metadata": {},
   "outputs": [],
   "source": [
    "# Table: Performance results\n",
    "# fig_table_1 = plt.figure(figsize=(15,12))\n",
    "fig_table_1 = plt.figure(figsize=(15,10))\n",
    "\n",
    "# Create axes for this table, but with no visible frame\n",
    "ax_table = fig_table_1.add_subplot(111, frame_on=False)\n",
    "\n",
    "# Hide the x and y axes\n",
    "ax_table.xaxis.set_visible(False)\n",
    "ax_table.yaxis.set_visible(False)\n",
    "\n",
    "plt.table(cellText=table_df.values,\n",
    "          colWidths = [0.15]*len(table_df.columns),\n",
    "#           rowLabels=table_df.index,\n",
    "          colLabels=table_df.columns,\n",
    "          cellLoc = 'center', rowLoc = 'center',\n",
    "          loc='top')\n",
    "\n",
    "# Show the resulting table\n",
    "plt.show()\n",
    "        \n",
    "# Save the image - use it for Summary of Analysis at the top of the notebook\n",
    "fig_table_1.savefig('docs/Table-Hyper_Parameter_Tuning.png', bbox_inches='tight') "
   ]
  },
  {
   "cell_type": "code",
   "execution_count": null,
   "metadata": {},
   "outputs": [],
   "source": []
  },
  {
   "cell_type": "code",
   "execution_count": null,
   "metadata": {},
   "outputs": [],
   "source": []
  },
  {
   "cell_type": "code",
   "execution_count": null,
   "metadata": {},
   "outputs": [],
   "source": []
  },
  {
   "cell_type": "code",
   "execution_count": null,
   "metadata": {},
   "outputs": [],
   "source": []
  },
  {
   "cell_type": "code",
   "execution_count": null,
   "metadata": {},
   "outputs": [],
   "source": []
  }
 ],
 "metadata": {
  "anaconda-cloud": {},
  "kernelspec": {
   "display_name": "Python 3",
   "language": "python",
   "name": "python3"
  },
  "language_info": {
   "codemirror_mode": {
    "name": "ipython",
    "version": 3
   },
   "file_extension": ".py",
   "mimetype": "text/x-python",
   "name": "python",
   "nbconvert_exporter": "python",
   "pygments_lexer": "ipython3",
   "version": "3.6.6"
  },
  "nbpresent": {
   "slides": {
    "03210a56-863e-4749-b7ba-ed75bfceceee": {
     "id": "03210a56-863e-4749-b7ba-ed75bfceceee",
     "prev": "86b3b05f-6e9a-49dc-8a83-97f72c348c5f",
     "regions": {
      "2be9481c-cff7-4f32-b835-90f2a2cb989a": {
       "attrs": {
        "height": 0.8,
        "width": 0.8,
        "x": 0.1,
        "y": 0.1
       },
       "content": {
        "cell": "46550b81-7dd8-4efc-b710-0f10002c9f2b",
        "part": "whole"
       },
       "id": "2be9481c-cff7-4f32-b835-90f2a2cb989a"
      },
      "3f484569-30ec-4529-8d3c-ac88b8c6dbfb": {
       "attrs": {
        "height": 0.4,
        "width": 0.8,
        "x": 0.1,
        "y": 0.5
       },
       "content": {
        "cell": "2b83c32a-d7e2-4db6-b45f-afbbf028fe90",
        "part": "whole"
       },
       "id": "3f484569-30ec-4529-8d3c-ac88b8c6dbfb"
      }
     }
    },
    "22531930-3fc8-45ff-a4f1-32e94c1d1455": {
     "id": "22531930-3fc8-45ff-a4f1-32e94c1d1455",
     "prev": "8eb735f6-11af-4f77-a4ed-b637fb18ac08",
     "regions": {
      "1407c818-c9fd-470e-8260-6b6904d888de": {
       "attrs": {
        "height": 0.8,
        "width": 0.8,
        "x": 0.1,
        "y": 0.1
       },
       "content": {
        "cell": "664c64ef-5517-4725-95cb-874bbc7711c7",
        "part": "whole"
       },
       "id": "1407c818-c9fd-470e-8260-6b6904d888de"
      }
     }
    },
    "29c55765-6994-4dbf-b82f-117b4f1e0cee": {
     "id": "29c55765-6994-4dbf-b82f-117b4f1e0cee",
     "prev": "b7c25bc1-4dd7-421b-9951-0c0c403c176d",
     "regions": {
      "44583f15-ec4f-4aec-8e7c-f01652e954fc": {
       "attrs": {
        "height": 0.8,
        "width": 0.8,
        "x": 0.1,
        "y": 0.1
       },
       "content": {
        "cell": "7c23961d-86fe-4d07-bc58-6d61f03c3731",
        "part": "whole"
       },
       "id": "44583f15-ec4f-4aec-8e7c-f01652e954fc"
      }
     }
    },
    "39c5764b-ab2c-4aae-8500-dc39319e4d38": {
     "id": "39c5764b-ab2c-4aae-8500-dc39319e4d38",
     "prev": "22531930-3fc8-45ff-a4f1-32e94c1d1455",
     "regions": {
      "d0237596-8095-44dc-81c6-6d9c6b204684": {
       "attrs": {
        "height": 0.8,
        "width": 0.8,
        "x": 0.1,
        "y": 0.1
       },
       "content": {
        "cell": "348e164e-a000-4def-92c0-db93f9a617a1",
        "part": "whole"
       },
       "id": "d0237596-8095-44dc-81c6-6d9c6b204684"
      }
     }
    },
    "39e950f1-f2c4-422a-8f45-835c5c61e7e0": {
     "id": "39e950f1-f2c4-422a-8f45-835c5c61e7e0",
     "prev": "4b5f1824-db4a-4ef3-9515-a88d3f2276c1",
     "regions": {
      "0a72cc48-c38f-4e8c-94d3-3198eccde68a": {
       "attrs": {
        "height": 0.8,
        "width": 0.8,
        "x": 0.1,
        "y": 0.1
       },
       "content": {
        "cell": "c3820b22-bf55-4dca-ba8b-f08060567b6e",
        "part": "whole"
       },
       "id": "0a72cc48-c38f-4e8c-94d3-3198eccde68a"
      },
      "b49c6eca-318f-41b8-a7a5-a620d18f639c": {
       "attrs": {
        "height": 0.4,
        "width": 0.8,
        "x": 0.1,
        "y": 0.5
       },
       "content": {
        "cell": "aeeeb44d-7825-4050-b7ba-70813bd3396b",
        "part": "whole"
       },
       "id": "b49c6eca-318f-41b8-a7a5-a620d18f639c"
      }
     }
    },
    "4792c0cc-ccd4-48bf-9b0e-a3c1f0f3008d": {
     "id": "4792c0cc-ccd4-48bf-9b0e-a3c1f0f3008d",
     "prev": "39c5764b-ab2c-4aae-8500-dc39319e4d38",
     "regions": {
      "d4adae26-ff2f-4a81-ad91-fd3a9bfd965c": {
       "attrs": {
        "height": 0.4,
        "width": 0.8,
        "x": 0.1,
        "y": 0.5
       },
       "content": {
        "cell": "4d6b8af6-438e-4034-bda1-1f977cf12441",
        "part": "whole"
       },
       "id": "d4adae26-ff2f-4a81-ad91-fd3a9bfd965c"
      },
      "d75a8261-ee89-4f4d-b388-2f429e112f44": {
       "attrs": {
        "height": 0.8,
        "width": 0.8,
        "x": 0.1,
        "y": 0.1
       },
       "content": {
        "cell": "a3b6e99c-2c85-47da-b29b-3b53c3c309b8",
        "part": "whole"
       },
       "id": "d75a8261-ee89-4f4d-b388-2f429e112f44"
      }
     }
    },
    "4b5f1824-db4a-4ef3-9515-a88d3f2276c1": {
     "id": "4b5f1824-db4a-4ef3-9515-a88d3f2276c1",
     "prev": "e92a9020-6631-400a-aa50-46c1fa0a5f0c",
     "regions": {
      "2bd81133-11e3-48df-bf12-2d0a57949bca": {
       "attrs": {
        "height": 0.8,
        "width": 0.8,
        "x": 0.1,
        "y": 0.1
       },
       "content": {
        "cell": "69fab88f-0864-47cc-933b-eaffb638cbf3",
        "part": "whole"
       },
       "id": "2bd81133-11e3-48df-bf12-2d0a57949bca"
      },
      "d3322861-28ab-4f1e-8a1f-3a7f4d3da8c1": {
       "attrs": {
        "height": 0.4,
        "width": 0.8,
        "x": 0.1,
        "y": 0.5
       },
       "content": {
        "cell": "3810c2af-fdbe-4f01-bc9f-2bb1a8ae70c6",
        "part": "whole"
       },
       "id": "d3322861-28ab-4f1e-8a1f-3a7f4d3da8c1"
      }
     }
    },
    "57992fb9-2f74-4e8e-8772-7b9f04606a56": {
     "id": "57992fb9-2f74-4e8e-8772-7b9f04606a56",
     "prev": "595093b4-3f86-406c-abb5-aea78e1241b3",
     "regions": {
      "3b3c8191-9f7e-4ab2-afac-b2b47008484a": {
       "attrs": {
        "height": 0.8,
        "width": 0.8,
        "x": 0.1,
        "y": 0.1
       },
       "content": {
        "cell": "a6d0bdff-9bba-472e-b354-da47b8761dbe",
        "part": "whole"
       },
       "id": "3b3c8191-9f7e-4ab2-afac-b2b47008484a"
      }
     }
    },
    "5907f515-df93-4e86-82c6-b8721b6e6346": {
     "id": "5907f515-df93-4e86-82c6-b8721b6e6346",
     "prev": "39e950f1-f2c4-422a-8f45-835c5c61e7e0",
     "regions": {
      "22f9005a-ed7a-4399-b501-497565ada2da": {
       "attrs": {
        "height": 0.8,
        "width": 0.8,
        "x": 0.1,
        "y": 0.1
       },
       "content": {
        "cell": "2e255efc-6ae1-4554-b32f-9400b47007c9",
        "part": "whole"
       },
       "id": "22f9005a-ed7a-4399-b501-497565ada2da"
      },
      "82d64cef-48f7-413c-ad01-e7fa2921f7c0": {
       "attrs": {
        "height": 0.4,
        "width": 0.8,
        "x": 0.1,
        "y": 0.5
       },
       "content": {
        "cell": "711a40c8-c479-448b-a3bc-5c7ff8369838",
        "part": "whole"
       },
       "id": "82d64cef-48f7-413c-ad01-e7fa2921f7c0"
      },
      "d943d3ea-6cd3-4d4a-8914-7fea0231efda": {
       "attrs": {
        "height": 0.4,
        "width": 0.8,
        "x": 0.1,
        "y": 0.5
       },
       "content": {
        "cell": "9bfbb27b-cae0-4feb-809a-77718bb2e6a3",
        "part": "whole"
       },
       "id": "d943d3ea-6cd3-4d4a-8914-7fea0231efda"
      }
     }
    },
    "595093b4-3f86-406c-abb5-aea78e1241b3": {
     "id": "595093b4-3f86-406c-abb5-aea78e1241b3",
     "prev": "5907f515-df93-4e86-82c6-b8721b6e6346",
     "regions": {
      "3366a1dc-6c33-45f0-a97f-a2744ed0587f": {
       "attrs": {
        "height": 0.8,
        "width": 0.8,
        "x": 0.1,
        "y": 0.1
       },
       "content": {
        "cell": "e54b79a1-316d-4fd1-ad5f-6cd580b51f99",
        "part": "whole"
       },
       "id": "3366a1dc-6c33-45f0-a97f-a2744ed0587f"
      },
      "40b6dba8-5994-4fd0-9ce5-9d36f3bb9f93": {
       "attrs": {
        "height": 0.4,
        "width": 0.8,
        "x": 0.1,
        "y": 0.5
       },
       "content": {
        "cell": "3d860568-b048-40f2-a64d-f585211d6c1c",
        "part": "whole"
       },
       "id": "40b6dba8-5994-4fd0-9ce5-9d36f3bb9f93"
      }
     }
    },
    "76838eab-c2c3-4ff3-b09f-854a7c74c6d4": {
     "id": "76838eab-c2c3-4ff3-b09f-854a7c74c6d4",
     "prev": null,
     "regions": {
      "b0032c00-1d89-4c94-a7a0-488f243c381e": {
       "attrs": {
        "height": 0.8,
        "width": 0.8,
        "x": 0.1,
        "y": 0.1
       },
       "content": {
        "cell": "0dc0cdcb-d8df-4a29-a0d2-a3cf6cc889ce",
        "part": "whole"
       },
       "id": "b0032c00-1d89-4c94-a7a0-488f243c381e"
      }
     }
    },
    "7a25817a-e5bc-4021-9c6b-61bc74dbdb92": {
     "id": "7a25817a-e5bc-4021-9c6b-61bc74dbdb92",
     "prev": "b04719fc-934a-404b-a642-dc732a3d1589",
     "regions": {
      "38d56409-500a-45cf-8e79-722d68d8fc38": {
       "attrs": {
        "height": 0.8,
        "width": 0.8,
        "x": 0.1,
        "y": 0.1
       },
       "content": {
        "cell": "335f050d-99af-43b3-a5ec-69fe896e48e2",
        "part": "whole"
       },
       "id": "38d56409-500a-45cf-8e79-722d68d8fc38"
      },
      "c838cb6d-409c-4c17-a1eb-3d7dc6aab32b": {
       "attrs": {
        "height": 0.4,
        "width": 0.8,
        "x": 0.1,
        "y": 0.5
       },
       "content": {
        "cell": "19ca6a7e-4b5d-4b0f-88c5-e68634abb65d",
        "part": "whole"
       },
       "id": "c838cb6d-409c-4c17-a1eb-3d7dc6aab32b"
      }
     }
    },
    "86b3b05f-6e9a-49dc-8a83-97f72c348c5f": {
     "id": "86b3b05f-6e9a-49dc-8a83-97f72c348c5f",
     "prev": "57992fb9-2f74-4e8e-8772-7b9f04606a56",
     "regions": {
      "49a41ef6-224d-46c1-bb81-254b8a4cee88": {
       "attrs": {
        "height": 0.8,
        "width": 0.8,
        "x": 0.1,
        "y": 0.1
       },
       "content": {
        "cell": "d7df6fa0-ce96-4073-b95d-ce78b3f4fdf1",
        "part": "whole"
       },
       "id": "49a41ef6-224d-46c1-bb81-254b8a4cee88"
      },
      "7ce316ab-4799-4e15-b095-374da21bc1aa": {
       "attrs": {
        "height": 0.4,
        "width": 0.8,
        "x": 0.1,
        "y": 0.5
       },
       "content": {
        "cell": "4a5226b5-d431-4cbe-86a6-291952a45a37",
        "part": "whole"
       },
       "id": "7ce316ab-4799-4e15-b095-374da21bc1aa"
      },
      "a7d701c6-61e3-48e3-8e0d-a4b318aef7d8": {
       "attrs": {
        "height": 0.4,
        "width": 0.8,
        "x": 0.1,
        "y": 0.5
       },
       "content": {
        "cell": "5e425283-82de-4c48-b2ae-31a1d6983849",
        "part": "whole"
       },
       "id": "a7d701c6-61e3-48e3-8e0d-a4b318aef7d8"
      },
      "e180cf23-71a7-46a8-8598-86a079bd7d78": {
       "attrs": {
        "height": 0.4,
        "width": 0.8,
        "x": 0.1,
        "y": 0.5
       },
       "content": {
        "cell": "28aaab45-1e14-4db5-9d2c-63b239cafe13",
        "part": "whole"
       },
       "id": "e180cf23-71a7-46a8-8598-86a079bd7d78"
      }
     }
    },
    "8eb735f6-11af-4f77-a4ed-b637fb18ac08": {
     "id": "8eb735f6-11af-4f77-a4ed-b637fb18ac08",
     "prev": "7a25817a-e5bc-4021-9c6b-61bc74dbdb92",
     "regions": {
      "ca38ef02-01f9-42cb-9e35-d67f8d665597": {
       "attrs": {
        "height": 0.4,
        "width": 0.8,
        "x": 0.1,
        "y": 0.5
       },
       "content": {
        "cell": "69b638ed-ed32-4824-bb81-df958c215a33",
        "part": "whole"
       },
       "id": "ca38ef02-01f9-42cb-9e35-d67f8d665597"
      },
      "fc52547b-a8f8-40e2-9397-5b18ca2b71b3": {
       "attrs": {
        "height": 0.8,
        "width": 0.8,
        "x": 0.1,
        "y": 0.1
       },
       "content": {
        "cell": "7317e4f2-150e-4336-ac48-d82641441aa8",
        "part": "whole"
       },
       "id": "fc52547b-a8f8-40e2-9397-5b18ca2b71b3"
      }
     }
    },
    "af2f5933-b31d-4d30-b08a-e4c09432b9bb": {
     "id": "af2f5933-b31d-4d30-b08a-e4c09432b9bb",
     "prev": "29c55765-6994-4dbf-b82f-117b4f1e0cee",
     "regions": {
      "479b436f-50bb-4c3a-9a4e-748e85eacde6": {
       "attrs": {
        "height": 0.8,
        "width": 0.8,
        "x": 0.1,
        "y": 0.1
       },
       "content": {
        "cell": "6d53481c-69ff-41a0-937e-4e8a39e2b2b5",
        "part": "whole"
       },
       "id": "479b436f-50bb-4c3a-9a4e-748e85eacde6"
      },
      "a02a5bdc-cab5-4ddc-aa9d-8ee5e0db6bd4": {
       "attrs": {
        "height": 0.4,
        "width": 0.8,
        "x": 0.1,
        "y": 0.5
       },
       "content": {
        "cell": "b0f8400f-71e1-4892-9012-88e54c053a36",
        "part": "whole"
       },
       "id": "a02a5bdc-cab5-4ddc-aa9d-8ee5e0db6bd4"
      }
     }
    },
    "b04719fc-934a-404b-a642-dc732a3d1589": {
     "id": "b04719fc-934a-404b-a642-dc732a3d1589",
     "prev": "af2f5933-b31d-4d30-b08a-e4c09432b9bb",
     "regions": {
      "701cdc94-3399-40dc-8e45-10d6edbf0959": {
       "attrs": {
        "height": 0.4,
        "width": 0.8,
        "x": 0.1,
        "y": 0.5
       },
       "content": {
        "cell": "fa78fa75-54cf-40d3-b52c-4b51c5070d9a",
        "part": "whole"
       },
       "id": "701cdc94-3399-40dc-8e45-10d6edbf0959"
      },
      "81f01069-a0c6-4ab1-98d1-d465e96aac6d": {
       "attrs": {
        "height": 0.8,
        "width": 0.8,
        "x": 0.1,
        "y": 0.1
       },
       "content": {
        "cell": "fb58a52c-71e9-402d-af86-eab194cf8050",
        "part": "whole"
       },
       "id": "81f01069-a0c6-4ab1-98d1-d465e96aac6d"
      },
      "ae73fc9b-89cf-4405-ab54-34e6c8b73a19": {
       "attrs": {
        "height": 0.4,
        "width": 0.8,
        "x": 0.1,
        "y": 0.5
       },
       "content": {
        "cell": "241f356d-567a-421d-b27c-7ce2d146d1bb",
        "part": "whole"
       },
       "id": "ae73fc9b-89cf-4405-ab54-34e6c8b73a19"
      }
     }
    },
    "b7c25bc1-4dd7-421b-9951-0c0c403c176d": {
     "id": "b7c25bc1-4dd7-421b-9951-0c0c403c176d",
     "prev": "76838eab-c2c3-4ff3-b09f-854a7c74c6d4",
     "regions": {
      "47f524f5-68f8-49df-9a61-61eab6cab03c": {
       "attrs": {
        "height": 0.4,
        "width": 0.8,
        "x": 0.1,
        "y": 0.5
       },
       "content": {
        "cell": "966e050d-5739-4ef9-a2ae-9a4957e14f3e",
        "part": "whole"
       },
       "id": "47f524f5-68f8-49df-9a61-61eab6cab03c"
      },
      "4b3ba01a-29e7-4e67-ac78-988162f7dde9": {
       "attrs": {
        "height": 0.8,
        "width": 0.8,
        "x": 0.1,
        "y": 0.1
       },
       "content": {
        "cell": "91401f60-44eb-42b2-86ea-c82b5e955ace",
        "part": "whole"
       },
       "id": "4b3ba01a-29e7-4e67-ac78-988162f7dde9"
      },
      "a47d9662-0a49-4b84-aae0-908067552ebd": {
       "attrs": {
        "height": 0.4,
        "width": 0.8,
        "x": 0.1,
        "y": 0.5
       },
       "content": {
        "cell": "6de4dae8-c949-4927-89a3-9741aba83e8d",
        "part": "whole"
       },
       "id": "a47d9662-0a49-4b84-aae0-908067552ebd"
      },
      "e64668fe-aafe-4e24-a46d-6a6266eeee77": {
       "attrs": {
        "height": 0.4,
        "width": 0.8,
        "x": 0.1,
        "y": 0.5
       },
       "content": {
        "cell": "7068c96d-f8f0-42bb-bdfd-dcbf9335323c",
        "part": "whole"
       },
       "id": "e64668fe-aafe-4e24-a46d-6a6266eeee77"
      }
     }
    },
    "d3ecec0a-67fe-4558-a268-50695fd7fe1c": {
     "id": "d3ecec0a-67fe-4558-a268-50695fd7fe1c",
     "prev": "fcda7de6-cb93-4b63-9dea-d5f23fecd968",
     "regions": {
      "b268bb57-2543-4b91-b9c0-84aa3cf09d5c": {
       "attrs": {
        "height": 0.8,
        "width": 0.8,
        "x": 0.1,
        "y": 0.1
       },
       "content": {
        "cell": "67aab8fa-45cd-4ede-8285-e3dad22d8b16",
        "part": "whole"
       },
       "id": "b268bb57-2543-4b91-b9c0-84aa3cf09d5c"
      }
     }
    },
    "e92a9020-6631-400a-aa50-46c1fa0a5f0c": {
     "id": "e92a9020-6631-400a-aa50-46c1fa0a5f0c",
     "prev": "ee94ae9b-9e13-414c-a017-db1d8913aaa8",
     "regions": {
      "bb15b4ea-132f-4146-ab77-93a4969c2904": {
       "attrs": {
        "height": 0.8,
        "width": 0.8,
        "x": 0.1,
        "y": 0.1
       },
       "content": {
        "cell": "7d5d2002-5cae-4d5f-8e2e-d5eaf5cd17da",
        "part": "whole"
       },
       "id": "bb15b4ea-132f-4146-ab77-93a4969c2904"
      }
     }
    },
    "ee94ae9b-9e13-414c-a017-db1d8913aaa8": {
     "id": "ee94ae9b-9e13-414c-a017-db1d8913aaa8",
     "prev": "f8fce519-927e-4fd0-88d8-23ece4403794",
     "regions": {
      "0b578bb1-2cd1-480b-8d65-dde0861851cb": {
       "attrs": {
        "height": 0.8,
        "width": 0.8,
        "x": 0.1,
        "y": 0.1
       },
       "content": {
        "cell": "f1c699bc-6717-4eb9-8e6d-66d433ba4618",
        "part": "whole"
       },
       "id": "0b578bb1-2cd1-480b-8d65-dde0861851cb"
      }
     }
    },
    "f8fce519-927e-4fd0-88d8-23ece4403794": {
     "id": "f8fce519-927e-4fd0-88d8-23ece4403794",
     "prev": "4792c0cc-ccd4-48bf-9b0e-a3c1f0f3008d",
     "regions": {
      "7510ae01-fe22-48b0-92cb-29b880cc85fc": {
       "attrs": {
        "height": 0.8,
        "width": 0.8,
        "x": 0.1,
        "y": 0.1
       },
       "content": {
        "cell": "e61ba538-5828-4a5a-a2c5-4fcceac35889",
        "part": "whole"
       },
       "id": "7510ae01-fe22-48b0-92cb-29b880cc85fc"
      }
     }
    },
    "fcda7de6-cb93-4b63-9dea-d5f23fecd968": {
     "id": "fcda7de6-cb93-4b63-9dea-d5f23fecd968",
     "prev": "03210a56-863e-4749-b7ba-ed75bfceceee",
     "regions": {
      "43f5b3bd-9e0c-4a98-a18c-1b9f7beaa3b8": {
       "attrs": {
        "height": 0.8,
        "width": 0.8,
        "x": 0.1,
        "y": 0.1
       },
       "content": {
        "cell": "318099ba-93dd-4c2c-a3ee-fc6622c472c8",
        "part": "whole"
       },
       "id": "43f5b3bd-9e0c-4a98-a18c-1b9f7beaa3b8"
      },
      "dbab9920-f08a-457a-949d-2c8289707798": {
       "attrs": {
        "height": 0.4,
        "width": 0.8,
        "x": 0.1,
        "y": 0.5
       },
       "content": {
        "cell": "8bb35ef7-00cc-4ad9-9dd4-6fac480df38e",
        "part": "whole"
       },
       "id": "dbab9920-f08a-457a-949d-2c8289707798"
      }
     }
    }
   },
   "themes": {}
  },
  "varInspector": {
   "cols": {
    "lenName": 16,
    "lenType": 16,
    "lenVar": 40
   },
   "kernels_config": {
    "python": {
     "delete_cmd_postfix": "",
     "delete_cmd_prefix": "del ",
     "library": "var_list.py",
     "varRefreshCmd": "print(var_dic_list())"
    },
    "r": {
     "delete_cmd_postfix": ") ",
     "delete_cmd_prefix": "rm(",
     "library": "var_list.r",
     "varRefreshCmd": "cat(var_dic_list()) "
    }
   },
   "types_to_exclude": [
    "module",
    "function",
    "builtin_function_or_method",
    "instance",
    "_Feature"
   ],
   "window_display": false
  }
 },
 "nbformat": 4,
 "nbformat_minor": 2
}
